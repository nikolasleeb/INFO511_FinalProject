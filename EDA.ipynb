{
 "cells": [
  {
   "cell_type": "markdown",
   "id": "878c97b8",
   "metadata": {},
   "source": [
    "# Import Libraries and Data"
   ]
  },
  {
   "cell_type": "code",
   "execution_count": 430,
   "id": "09ab046b",
   "metadata": {},
   "outputs": [],
   "source": [
    "import pandas as pd\n",
    "import plotly.express as px\n",
    "import matplotlib.pyplot as plt\n",
    "import plotly.express as px\n",
    "import plotly.graph_objects as go\n",
    "import pandas_datareader.data as web\n",
    "from plotly.subplots import make_subplots\n",
    "from datetime import datetime\n",
    "import numpy as np\n",
    "import statsmodels.api as sm\n",
    "\n",
    "import warnings\n",
    "warnings.filterwarnings(\"ignore\", category=FutureWarning)"
   ]
  },
  {
   "cell_type": "code",
   "execution_count": 431,
   "id": "726ad418",
   "metadata": {},
   "outputs": [],
   "source": [
    "''' Load the consumption and prices data from Excel files, skip first 2 rows '''\n",
    "\n",
    "consumption = pd.read_excel(\"Data/ConsumptionData.xlsx\", skiprows=2)\n",
    "prices = pd.read_excel(\"Data/MonthlyRetailPrices.xlsx\", skiprows=2)"
   ]
  },
  {
   "cell_type": "markdown",
   "id": "b3638503",
   "metadata": {},
   "source": [
    "------------------------------------------------------------------------------------------------------------"
   ]
  },
  {
   "cell_type": "markdown",
   "id": "ab204433",
   "metadata": {},
   "source": [
    "# Consumption Data"
   ]
  },
  {
   "cell_type": "markdown",
   "id": "d9e1993c",
   "metadata": {},
   "source": [
    "## Cleaning and Transforming Consumption Data"
   ]
  },
  {
   "cell_type": "code",
   "execution_count": 432,
   "id": "02dab008",
   "metadata": {},
   "outputs": [
    {
     "data": {
      "application/vnd.microsoft.datawrangler.viewer.v0+json": {
       "columns": [
        {
         "name": "index",
         "rawType": "int64",
         "type": "integer"
        },
        {
         "name": "Date",
         "rawType": "datetime64[ns]",
         "type": "datetime"
        },
        {
         "name": "U.S. Product Supplied of Finished Motor Gasoline (Thousand Barrels)",
         "rawType": "int64",
         "type": "integer"
        },
        {
         "name": "East Coast (PADD 1) Product Supplied of Finished Motor Gasoline (Thousand Barrels)",
         "rawType": "float64",
         "type": "float"
        },
        {
         "name": "Midwest (PADD 2) Product Supplied of Finished Motor Gasoline (Thousand Barrels)",
         "rawType": "float64",
         "type": "float"
        },
        {
         "name": "Gulf Coast (PADD 3) Product Supplied of Finished Motor Gasoline (Thousand Barrels)",
         "rawType": "float64",
         "type": "float"
        },
        {
         "name": "Rocky Mountain (PADD 4) Product Supplied of Finished Motor Gasoline (Thousand Barrels)",
         "rawType": "float64",
         "type": "float"
        },
        {
         "name": "West Coast (PADD 5) Product Supplied of Finished Motor Gasoline (Thousand Barrels)",
         "rawType": "float64",
         "type": "float"
        }
       ],
       "ref": "5c954c45-da5d-4162-b4b4-7c115e8468fe",
       "rows": [
        [
         "0",
         "1945-01-15 00:00:00",
         "40310",
         null,
         null,
         null,
         null,
         null
        ],
        [
         "1",
         "1945-02-15 00:00:00",
         "38690",
         null,
         null,
         null,
         null,
         null
        ],
        [
         "2",
         "1945-03-15 00:00:00",
         "42511",
         null,
         null,
         null,
         null,
         null
        ],
        [
         "3",
         "1945-04-15 00:00:00",
         "45351",
         null,
         null,
         null,
         null,
         null
        ],
        [
         "4",
         "1945-05-15 00:00:00",
         "47515",
         null,
         null,
         null,
         null,
         null
        ],
        [
         "5",
         "1945-06-15 00:00:00",
         "47091",
         null,
         null,
         null,
         null,
         null
        ],
        [
         "6",
         "1945-07-15 00:00:00",
         "51409",
         null,
         null,
         null,
         null,
         null
        ],
        [
         "7",
         "1945-08-15 00:00:00",
         "56974",
         null,
         null,
         null,
         null,
         null
        ],
        [
         "8",
         "1945-09-15 00:00:00",
         "54943",
         null,
         null,
         null,
         null,
         null
        ],
        [
         "9",
         "1945-10-15 00:00:00",
         "53309",
         null,
         null,
         null,
         null,
         null
        ]
       ],
       "shape": {
        "columns": 7,
        "rows": 10
       }
      },
      "text/html": [
       "<div>\n",
       "<style scoped>\n",
       "    .dataframe tbody tr th:only-of-type {\n",
       "        vertical-align: middle;\n",
       "    }\n",
       "\n",
       "    .dataframe tbody tr th {\n",
       "        vertical-align: top;\n",
       "    }\n",
       "\n",
       "    .dataframe thead th {\n",
       "        text-align: right;\n",
       "    }\n",
       "</style>\n",
       "<table border=\"1\" class=\"dataframe\">\n",
       "  <thead>\n",
       "    <tr style=\"text-align: right;\">\n",
       "      <th></th>\n",
       "      <th>Date</th>\n",
       "      <th>U.S. Product Supplied of Finished Motor Gasoline (Thousand Barrels)</th>\n",
       "      <th>East Coast (PADD 1) Product Supplied of Finished Motor Gasoline (Thousand Barrels)</th>\n",
       "      <th>Midwest (PADD 2) Product Supplied of Finished Motor Gasoline (Thousand Barrels)</th>\n",
       "      <th>Gulf Coast (PADD 3) Product Supplied of Finished Motor Gasoline (Thousand Barrels)</th>\n",
       "      <th>Rocky Mountain (PADD 4) Product Supplied of Finished Motor Gasoline (Thousand Barrels)</th>\n",
       "      <th>West Coast (PADD 5) Product Supplied of Finished Motor Gasoline (Thousand Barrels)</th>\n",
       "    </tr>\n",
       "  </thead>\n",
       "  <tbody>\n",
       "    <tr>\n",
       "      <th>0</th>\n",
       "      <td>1945-01-15</td>\n",
       "      <td>40310</td>\n",
       "      <td>NaN</td>\n",
       "      <td>NaN</td>\n",
       "      <td>NaN</td>\n",
       "      <td>NaN</td>\n",
       "      <td>NaN</td>\n",
       "    </tr>\n",
       "    <tr>\n",
       "      <th>1</th>\n",
       "      <td>1945-02-15</td>\n",
       "      <td>38690</td>\n",
       "      <td>NaN</td>\n",
       "      <td>NaN</td>\n",
       "      <td>NaN</td>\n",
       "      <td>NaN</td>\n",
       "      <td>NaN</td>\n",
       "    </tr>\n",
       "    <tr>\n",
       "      <th>2</th>\n",
       "      <td>1945-03-15</td>\n",
       "      <td>42511</td>\n",
       "      <td>NaN</td>\n",
       "      <td>NaN</td>\n",
       "      <td>NaN</td>\n",
       "      <td>NaN</td>\n",
       "      <td>NaN</td>\n",
       "    </tr>\n",
       "    <tr>\n",
       "      <th>3</th>\n",
       "      <td>1945-04-15</td>\n",
       "      <td>45351</td>\n",
       "      <td>NaN</td>\n",
       "      <td>NaN</td>\n",
       "      <td>NaN</td>\n",
       "      <td>NaN</td>\n",
       "      <td>NaN</td>\n",
       "    </tr>\n",
       "    <tr>\n",
       "      <th>4</th>\n",
       "      <td>1945-05-15</td>\n",
       "      <td>47515</td>\n",
       "      <td>NaN</td>\n",
       "      <td>NaN</td>\n",
       "      <td>NaN</td>\n",
       "      <td>NaN</td>\n",
       "      <td>NaN</td>\n",
       "    </tr>\n",
       "    <tr>\n",
       "      <th>5</th>\n",
       "      <td>1945-06-15</td>\n",
       "      <td>47091</td>\n",
       "      <td>NaN</td>\n",
       "      <td>NaN</td>\n",
       "      <td>NaN</td>\n",
       "      <td>NaN</td>\n",
       "      <td>NaN</td>\n",
       "    </tr>\n",
       "    <tr>\n",
       "      <th>6</th>\n",
       "      <td>1945-07-15</td>\n",
       "      <td>51409</td>\n",
       "      <td>NaN</td>\n",
       "      <td>NaN</td>\n",
       "      <td>NaN</td>\n",
       "      <td>NaN</td>\n",
       "      <td>NaN</td>\n",
       "    </tr>\n",
       "    <tr>\n",
       "      <th>7</th>\n",
       "      <td>1945-08-15</td>\n",
       "      <td>56974</td>\n",
       "      <td>NaN</td>\n",
       "      <td>NaN</td>\n",
       "      <td>NaN</td>\n",
       "      <td>NaN</td>\n",
       "      <td>NaN</td>\n",
       "    </tr>\n",
       "    <tr>\n",
       "      <th>8</th>\n",
       "      <td>1945-09-15</td>\n",
       "      <td>54943</td>\n",
       "      <td>NaN</td>\n",
       "      <td>NaN</td>\n",
       "      <td>NaN</td>\n",
       "      <td>NaN</td>\n",
       "      <td>NaN</td>\n",
       "    </tr>\n",
       "    <tr>\n",
       "      <th>9</th>\n",
       "      <td>1945-10-15</td>\n",
       "      <td>53309</td>\n",
       "      <td>NaN</td>\n",
       "      <td>NaN</td>\n",
       "      <td>NaN</td>\n",
       "      <td>NaN</td>\n",
       "      <td>NaN</td>\n",
       "    </tr>\n",
       "  </tbody>\n",
       "</table>\n",
       "</div>"
      ],
      "text/plain": [
       "        Date  \\\n",
       "0 1945-01-15   \n",
       "1 1945-02-15   \n",
       "2 1945-03-15   \n",
       "3 1945-04-15   \n",
       "4 1945-05-15   \n",
       "5 1945-06-15   \n",
       "6 1945-07-15   \n",
       "7 1945-08-15   \n",
       "8 1945-09-15   \n",
       "9 1945-10-15   \n",
       "\n",
       "   U.S. Product Supplied of Finished Motor Gasoline (Thousand Barrels)  \\\n",
       "0                                              40310                     \n",
       "1                                              38690                     \n",
       "2                                              42511                     \n",
       "3                                              45351                     \n",
       "4                                              47515                     \n",
       "5                                              47091                     \n",
       "6                                              51409                     \n",
       "7                                              56974                     \n",
       "8                                              54943                     \n",
       "9                                              53309                     \n",
       "\n",
       "   East Coast (PADD 1) Product Supplied of Finished Motor Gasoline (Thousand Barrels)  \\\n",
       "0                                                NaN                                    \n",
       "1                                                NaN                                    \n",
       "2                                                NaN                                    \n",
       "3                                                NaN                                    \n",
       "4                                                NaN                                    \n",
       "5                                                NaN                                    \n",
       "6                                                NaN                                    \n",
       "7                                                NaN                                    \n",
       "8                                                NaN                                    \n",
       "9                                                NaN                                    \n",
       "\n",
       "   Midwest (PADD 2) Product Supplied of Finished Motor Gasoline (Thousand Barrels)  \\\n",
       "0                                                NaN                                 \n",
       "1                                                NaN                                 \n",
       "2                                                NaN                                 \n",
       "3                                                NaN                                 \n",
       "4                                                NaN                                 \n",
       "5                                                NaN                                 \n",
       "6                                                NaN                                 \n",
       "7                                                NaN                                 \n",
       "8                                                NaN                                 \n",
       "9                                                NaN                                 \n",
       "\n",
       "   Gulf Coast (PADD 3) Product Supplied of Finished Motor Gasoline (Thousand Barrels)  \\\n",
       "0                                                NaN                                    \n",
       "1                                                NaN                                    \n",
       "2                                                NaN                                    \n",
       "3                                                NaN                                    \n",
       "4                                                NaN                                    \n",
       "5                                                NaN                                    \n",
       "6                                                NaN                                    \n",
       "7                                                NaN                                    \n",
       "8                                                NaN                                    \n",
       "9                                                NaN                                    \n",
       "\n",
       "   Rocky Mountain (PADD 4) Product Supplied of Finished Motor Gasoline (Thousand Barrels)  \\\n",
       "0                                                NaN                                        \n",
       "1                                                NaN                                        \n",
       "2                                                NaN                                        \n",
       "3                                                NaN                                        \n",
       "4                                                NaN                                        \n",
       "5                                                NaN                                        \n",
       "6                                                NaN                                        \n",
       "7                                                NaN                                        \n",
       "8                                                NaN                                        \n",
       "9                                                NaN                                        \n",
       "\n",
       "   West Coast (PADD 5) Product Supplied of Finished Motor Gasoline (Thousand Barrels)  \n",
       "0                                                NaN                                   \n",
       "1                                                NaN                                   \n",
       "2                                                NaN                                   \n",
       "3                                                NaN                                   \n",
       "4                                                NaN                                   \n",
       "5                                                NaN                                   \n",
       "6                                                NaN                                   \n",
       "7                                                NaN                                   \n",
       "8                                                NaN                                   \n",
       "9                                                NaN                                   "
      ]
     },
     "execution_count": 432,
     "metadata": {},
     "output_type": "execute_result"
    }
   ],
   "source": [
    "''' View Consumption data to ensure it loaded correctly'''\n",
    "\n",
    "consumption.head(10)"
   ]
  },
  {
   "cell_type": "code",
   "execution_count": 433,
   "id": "fbb23b24",
   "metadata": {},
   "outputs": [
    {
     "name": "stdout",
     "output_type": "stream",
     "text": [
      "<class 'pandas.core.frame.DataFrame'>\n",
      "RangeIndex: 967 entries, 0 to 966\n",
      "Data columns (total 7 columns):\n",
      " #   Column                                                                                  Non-Null Count  Dtype         \n",
      "---  ------                                                                                  --------------  -----         \n",
      " 0   Date                                                                                    967 non-null    datetime64[ns]\n",
      " 1   U.S. Product Supplied of Finished Motor Gasoline (Thousand Barrels)                     967 non-null    int64         \n",
      " 2   East Coast (PADD 1) Product Supplied of Finished Motor Gasoline (Thousand Barrels)      535 non-null    float64       \n",
      " 3   Midwest (PADD 2) Product Supplied of Finished Motor Gasoline (Thousand Barrels)         535 non-null    float64       \n",
      " 4   Gulf Coast (PADD 3) Product Supplied of Finished Motor Gasoline (Thousand Barrels)      535 non-null    float64       \n",
      " 5   Rocky Mountain (PADD 4) Product Supplied of Finished Motor Gasoline (Thousand Barrels)  535 non-null    float64       \n",
      " 6   West Coast (PADD 5) Product Supplied of Finished Motor Gasoline (Thousand Barrels)      535 non-null    float64       \n",
      "dtypes: datetime64[ns](1), float64(5), int64(1)\n",
      "memory usage: 53.0 KB\n"
     ]
    }
   ],
   "source": [
    "''' View Consumption data info (such as data types and non-null counts) '''\n",
    "\n",
    "consumption.info()"
   ]
  },
  {
   "cell_type": "code",
   "execution_count": 434,
   "id": "a95fff03",
   "metadata": {},
   "outputs": [
    {
     "data": {
      "application/vnd.microsoft.datawrangler.viewer.v0+json": {
       "columns": [
        {
         "name": "index",
         "rawType": "int64",
         "type": "integer"
        },
        {
         "name": "Date",
         "rawType": "datetime64[ns]",
         "type": "datetime"
        },
        {
         "name": "Gasoline_Consumption(Millions of Gallons)",
         "rawType": "float64",
         "type": "float"
        }
       ],
       "ref": "bf15e505-4de7-4743-9d60-3b7afc5a2343",
       "rows": [
        [
         "579",
         "1993-04-01 00:00:00",
         "9367.638"
        ],
        [
         "580",
         "1993-05-01 00:00:00",
         "9876.09"
        ],
        [
         "581",
         "1993-06-01 00:00:00",
         "9702.0"
        ],
        [
         "582",
         "1993-07-01 00:00:00",
         "10135.65"
        ],
        [
         "583",
         "1993-08-01 00:00:00",
         "10238.676"
        ],
        [
         "584",
         "1993-09-01 00:00:00",
         "9585.198"
        ],
        [
         "585",
         "1993-10-01 00:00:00",
         "9611.616"
        ],
        [
         "586",
         "1993-11-01 00:00:00",
         "9491.244"
        ],
        [
         "587",
         "1993-12-01 00:00:00",
         "9975.168"
        ],
        [
         "588",
         "1994-01-01 00:00:00",
         "9088.044"
        ]
       ],
       "shape": {
        "columns": 2,
        "rows": 10
       }
      },
      "text/html": [
       "<div>\n",
       "<style scoped>\n",
       "    .dataframe tbody tr th:only-of-type {\n",
       "        vertical-align: middle;\n",
       "    }\n",
       "\n",
       "    .dataframe tbody tr th {\n",
       "        vertical-align: top;\n",
       "    }\n",
       "\n",
       "    .dataframe thead th {\n",
       "        text-align: right;\n",
       "    }\n",
       "</style>\n",
       "<table border=\"1\" class=\"dataframe\">\n",
       "  <thead>\n",
       "    <tr style=\"text-align: right;\">\n",
       "      <th></th>\n",
       "      <th>Date</th>\n",
       "      <th>Gasoline_Consumption(Millions of Gallons)</th>\n",
       "    </tr>\n",
       "  </thead>\n",
       "  <tbody>\n",
       "    <tr>\n",
       "      <th>579</th>\n",
       "      <td>1993-04-01</td>\n",
       "      <td>9367.638</td>\n",
       "    </tr>\n",
       "    <tr>\n",
       "      <th>580</th>\n",
       "      <td>1993-05-01</td>\n",
       "      <td>9876.090</td>\n",
       "    </tr>\n",
       "    <tr>\n",
       "      <th>581</th>\n",
       "      <td>1993-06-01</td>\n",
       "      <td>9702.000</td>\n",
       "    </tr>\n",
       "    <tr>\n",
       "      <th>582</th>\n",
       "      <td>1993-07-01</td>\n",
       "      <td>10135.650</td>\n",
       "    </tr>\n",
       "    <tr>\n",
       "      <th>583</th>\n",
       "      <td>1993-08-01</td>\n",
       "      <td>10238.676</td>\n",
       "    </tr>\n",
       "    <tr>\n",
       "      <th>584</th>\n",
       "      <td>1993-09-01</td>\n",
       "      <td>9585.198</td>\n",
       "    </tr>\n",
       "    <tr>\n",
       "      <th>585</th>\n",
       "      <td>1993-10-01</td>\n",
       "      <td>9611.616</td>\n",
       "    </tr>\n",
       "    <tr>\n",
       "      <th>586</th>\n",
       "      <td>1993-11-01</td>\n",
       "      <td>9491.244</td>\n",
       "    </tr>\n",
       "    <tr>\n",
       "      <th>587</th>\n",
       "      <td>1993-12-01</td>\n",
       "      <td>9975.168</td>\n",
       "    </tr>\n",
       "    <tr>\n",
       "      <th>588</th>\n",
       "      <td>1994-01-01</td>\n",
       "      <td>9088.044</td>\n",
       "    </tr>\n",
       "  </tbody>\n",
       "</table>\n",
       "</div>"
      ],
      "text/plain": [
       "          Date  Gasoline_Consumption(Millions of Gallons)\n",
       "579 1993-04-01                                   9367.638\n",
       "580 1993-05-01                                   9876.090\n",
       "581 1993-06-01                                   9702.000\n",
       "582 1993-07-01                                  10135.650\n",
       "583 1993-08-01                                  10238.676\n",
       "584 1993-09-01                                   9585.198\n",
       "585 1993-10-01                                   9611.616\n",
       "586 1993-11-01                                   9491.244\n",
       "587 1993-12-01                                   9975.168\n",
       "588 1994-01-01                                   9088.044"
      ]
     },
     "execution_count": 434,
     "metadata": {},
     "output_type": "execute_result"
    }
   ],
   "source": [
    "''' Data Cleaning for Consumption Data '''\n",
    "\n",
    "# Keep only needed columns and rename\n",
    "consumption = consumption.iloc[:, :2]\n",
    "consumption.columns = [\"Date\", \"Gasoline_Consumption_Thousand_Barrels\"]\n",
    "\n",
    "# Convert Date column to datetime and filter\n",
    "consumption[\"Date\"] = pd.to_datetime(consumption[\"Date\"]).dt.to_period(\"M\").dt.to_timestamp()\n",
    "\n",
    "# Filter to keep data between April 1993 and December 2024\n",
    "consumption = consumption[\n",
    "    (consumption[\"Date\"] >= \"1993-04-01\") &\n",
    "    (consumption[\"Date\"] <= \"2024-12-31\")\n",
    "]\n",
    "\n",
    "# Convert to Millions of Gallons\n",
    "consumption[\"Gasoline_Consumption(Millions of Gallons)\"] = (\n",
    "    consumption[\"Gasoline_Consumption_Thousand_Barrels\"] * 1000 * 42 / 1_000_000\n",
    ")\n",
    "\n",
    "# Drop the old column\n",
    "consumption.drop(columns=[\"Gasoline_Consumption_Thousand_Barrels\"], inplace=True)\n",
    "\n",
    "# Preview\n",
    "consumption.head(10)"
   ]
  },
  {
   "cell_type": "markdown",
   "id": "ba4482d3",
   "metadata": {},
   "source": [
    "## Statistics of Consumption Data"
   ]
  },
  {
   "cell_type": "code",
   "execution_count": 435,
   "id": "bf905e27",
   "metadata": {},
   "outputs": [
    {
     "data": {
      "application/vnd.microsoft.datawrangler.viewer.v0+json": {
       "columns": [
        {
         "name": "index",
         "rawType": "object",
         "type": "string"
        },
        {
         "name": "Date",
         "rawType": "object",
         "type": "unknown"
        },
        {
         "name": "Gasoline_Consumption(Millions of Gallons)",
         "rawType": "float64",
         "type": "float"
        }
       ],
       "ref": "23d1288f-441d-4c46-b6a9-cca28142db1e",
       "rows": [
        [
         "count",
         "381",
         "381.0"
        ],
        [
         "mean",
         "2009-01-30 08:37:47.716535552",
         "11177.734377952755"
        ],
        [
         "min",
         "1993-04-01 00:00:00",
         "7390.866"
        ],
        [
         "25%",
         "2001-03-01 00:00:00",
         "10631.208"
        ],
        [
         "50%",
         "2009-02-01 00:00:00",
         "11305.77"
        ],
        [
         "75%",
         "2017-01-01 00:00:00",
         "11795.7"
        ],
        [
         "max",
         "2024-12-01 00:00:00",
         "12803.448"
        ],
        [
         "std",
         null,
         "840.7250865408625"
        ]
       ],
       "shape": {
        "columns": 2,
        "rows": 8
       }
      },
      "text/html": [
       "<div>\n",
       "<style scoped>\n",
       "    .dataframe tbody tr th:only-of-type {\n",
       "        vertical-align: middle;\n",
       "    }\n",
       "\n",
       "    .dataframe tbody tr th {\n",
       "        vertical-align: top;\n",
       "    }\n",
       "\n",
       "    .dataframe thead th {\n",
       "        text-align: right;\n",
       "    }\n",
       "</style>\n",
       "<table border=\"1\" class=\"dataframe\">\n",
       "  <thead>\n",
       "    <tr style=\"text-align: right;\">\n",
       "      <th></th>\n",
       "      <th>Date</th>\n",
       "      <th>Gasoline_Consumption(Millions of Gallons)</th>\n",
       "    </tr>\n",
       "  </thead>\n",
       "  <tbody>\n",
       "    <tr>\n",
       "      <th>count</th>\n",
       "      <td>381</td>\n",
       "      <td>381.000000</td>\n",
       "    </tr>\n",
       "    <tr>\n",
       "      <th>mean</th>\n",
       "      <td>2009-01-30 08:37:47.716535552</td>\n",
       "      <td>11177.734378</td>\n",
       "    </tr>\n",
       "    <tr>\n",
       "      <th>min</th>\n",
       "      <td>1993-04-01 00:00:00</td>\n",
       "      <td>7390.866000</td>\n",
       "    </tr>\n",
       "    <tr>\n",
       "      <th>25%</th>\n",
       "      <td>2001-03-01 00:00:00</td>\n",
       "      <td>10631.208000</td>\n",
       "    </tr>\n",
       "    <tr>\n",
       "      <th>50%</th>\n",
       "      <td>2009-02-01 00:00:00</td>\n",
       "      <td>11305.770000</td>\n",
       "    </tr>\n",
       "    <tr>\n",
       "      <th>75%</th>\n",
       "      <td>2017-01-01 00:00:00</td>\n",
       "      <td>11795.700000</td>\n",
       "    </tr>\n",
       "    <tr>\n",
       "      <th>max</th>\n",
       "      <td>2024-12-01 00:00:00</td>\n",
       "      <td>12803.448000</td>\n",
       "    </tr>\n",
       "    <tr>\n",
       "      <th>std</th>\n",
       "      <td>NaN</td>\n",
       "      <td>840.725087</td>\n",
       "    </tr>\n",
       "  </tbody>\n",
       "</table>\n",
       "</div>"
      ],
      "text/plain": [
       "                                Date  \\\n",
       "count                            381   \n",
       "mean   2009-01-30 08:37:47.716535552   \n",
       "min              1993-04-01 00:00:00   \n",
       "25%              2001-03-01 00:00:00   \n",
       "50%              2009-02-01 00:00:00   \n",
       "75%              2017-01-01 00:00:00   \n",
       "max              2024-12-01 00:00:00   \n",
       "std                              NaN   \n",
       "\n",
       "       Gasoline_Consumption(Millions of Gallons)  \n",
       "count                                 381.000000  \n",
       "mean                                11177.734378  \n",
       "min                                  7390.866000  \n",
       "25%                                 10631.208000  \n",
       "50%                                 11305.770000  \n",
       "75%                                 11795.700000  \n",
       "max                                 12803.448000  \n",
       "std                                   840.725087  "
      ]
     },
     "execution_count": 435,
     "metadata": {},
     "output_type": "execute_result"
    }
   ],
   "source": [
    "''' View summary statistics of cleaned consumption data '''\n",
    "\n",
    "consumption.describe()"
   ]
  },
  {
   "cell_type": "code",
   "execution_count": 436,
   "id": "af45e519",
   "metadata": {},
   "outputs": [
    {
     "name": "stdout",
     "output_type": "stream",
     "text": [
      "Earliest date: 1993-04-01 00:00:00\n",
      "Latest date: 2024-12-01 00:00:00\n",
      "Total months of data: 381\n"
     ]
    }
   ],
   "source": [
    "''' View consumption date range and total months of data '''\n",
    "\n",
    "print(\"Earliest date:\", consumption[\"Date\"].min()) # Confirming data starts at Apr 1993 to match Prices data\n",
    "print(\"Latest date:\", consumption[\"Date\"].max()) # Confirming data ends at Dec 2024 to match Prices data\n",
    "print(\"Total months of data:\", len(consumption)) "
   ]
  },
  {
   "cell_type": "code",
   "execution_count": 437,
   "id": "ec2fc1fc",
   "metadata": {},
   "outputs": [
    {
     "name": "stdout",
     "output_type": "stream",
     "text": [
      "Average monthly consumption: 11,177.73 million gallons\n",
      "Standard deviation: 840.73 million gallons\n",
      "Coefficient of variation: 7.52%\n"
     ]
    }
   ],
   "source": [
    "''' Calculate and print average monthly consumption, standard deviation, and coefficient of variation '''\n",
    "\n",
    "mean = consumption[\"Gasoline_Consumption(Millions of Gallons)\"].mean()\n",
    "std = consumption[\"Gasoline_Consumption(Millions of Gallons)\"].std()\n",
    "cv = (std / mean) * 100     # coefficient of variation (%)\n",
    "                            # CV means how consistent the data is relative to the mean\n",
    "                            # 7.5% means the standard deviation is 7.5% of the mean value\n",
    "\n",
    "print(f\"Average monthly consumption: {mean:,.2f} million gallons\")\n",
    "print(f\"Standard deviation: {std:,.2f} million gallons\")\n",
    "print(f\"Coefficient of variation: {cv:.2f}%\")"
   ]
  },
  {
   "cell_type": "code",
   "execution_count": 438,
   "id": "4d36a63a",
   "metadata": {},
   "outputs": [
    {
     "data": {
      "application/vnd.plotly.v1+json": {
       "config": {
        "plotlyServerURL": "https://plot.ly"
       },
       "data": [
        {
         "bingroup": "x",
         "hovertemplate": "Millions of Gallons=%{x}<br>count=%{y}<extra></extra>",
         "legendgroup": "",
         "marker": {
          "color": "teal",
          "line": {
           "color": "black",
           "width": 1
          },
          "pattern": {
           "shape": ""
          }
         },
         "name": "",
         "nbinsx": 25,
         "opacity": 0.7,
         "orientation": "v",
         "showlegend": false,
         "type": "histogram",
         "x": {
          "bdata": "bef7qdFLwkBSuB6FC0rDQAAAAAAA88JAMzMzM9PLw0AMAiuHVv/DQE5iEFiZuMJAK4cW2c7FwkAdWmQ7n4nCQN0kBoGVe8NAg8DKoQXAwUCNl24So7XAQH0/NV4azsJAIbByaBGdwkAIrBxahHDDQG3n+6nxfsNAgZVDi8wMxECTGARWbkfEQMuhRbazvcJAi2zn+6kxw0CWQ4tsZ17CQBSuR+E6JsRAvp8aLz03wkCTGARWri7BQDVeukmszcNApHA9ClfUwkB/arx00xLEQMP1KFzPOsRABoGVQ8sOxEAEVg4t0tHEQEjhehQuKcNAtvP91FjJw0CamZmZeVvDQNejcD3Kr8NA+FPjpVt9wkBvEoPA6hPCQF66SQyC0MNAeekmMQhgw0D8qfHSLYbEQHWTGAR258NAyXa+n5rDxEDjpZvEgDfFQEa28/0028JAwcqhRdaUxEDTTWIQOHrDQN0kBoE10sNAcT0K1yORwkBCYOXQgpzBQPCnxksX08NAbef7qTHYw0CHFtnOd7LEQGDl0CJbZcRA+n5qvJSaxUAIrBxaxO/EQARWDi0yvsNA7FG4HsWzxEDTTWIQuJnDQD0K16NQgsRAGy/dJAZfw0AhsHJoEbbBQIts5/tJWsRAw/UoXI90xEBmZmZmpg3FQDEIrBza98RAqMZLN+kSxkCR7Xw/FcrFQOF6FK5nc8RAYhBYOTROxUA3iUFgBRnEQE5iEFhZfcVA16NwPYqVw0B9PzVeOnLCQLbz/dQYq8RA2/l+anzuxEC6SQwCK2nFQBBYObQo3sVA001iEPi8xkA5tMh2PtHFQGZmZmYmcMRA/tR46Ya4xUDZzvdTQ0fEQBSuR+E6h8ZAw/UoXO91w0DTTWIQOLnDQDm0yHa+HsVAI9v5fiqcxEAdWmQ7HwbGQMP1KFxvt8VAsp3vpwb6xUCkcD0KV6/GQJ7vp8YL9sRASgwCK0dnxUDjpZvE4KHEQD0K16MQDMZAokW2852YxEA1XrpJTOnCQCPb+X5qssVAbxKDwEoaxUCDwMqhhSPGQOf7qfGSYsVAObTIdv7xxkA730+Nl8TGQBfZzvcTD8VAgZVDiywCxkCq8dJNYlrFQAaBlUPr1MVAbef7qdHrxEAOLbKdz8TDQB+F61G4AsZAvHSTGGSSxUCHFtnOFxbHQBBYObRIfsZACtejcD1Ax0CcxCCwcq7HQLx0kxiEYMVA0SLb+b5pxkBU46WbBLrFQB+F61GYncZA5/up8TJlxUACK4cW+ZTDQNV46Sax38VAdZMYBPa/xUCBlUOLLP7GQK5H4Xo0kcZAeekmMchfx0AUrkfh2u7HQGZmZmZG98VAkxgEVg4px0AOLbKdrwPGQDm0yHYe6sZArkfhevQixkA1XrpJDAbFQOxRuB6l8sZA1XjpJlF1xkBkO99PzVfHQESLbOe78MZAf2q8dLPLx0AAAAAAoLfHQDm0yHa+L8ZAbxKDwAoix0BEi2znu0jGQFpkO9/PaMdACtejcP1oxkDsUbgehVrEQARWDi3S3sZAokW28112xkCmm8QgMJjHQHNoke28EMdAXrpJDII+yECe76fGq0DIQBBYObSI8MVAI9v5for6xkCiRbbzfW7GQMdLN4lho8dAiUFg5XB6xkCsHFpk23fEQNNNYhB4BsdAtMh2vv+GxkCPwvUoPKvHQJqZmZlZU8dAjZduEkNuyEDRItv5/lHIQI2XbhKDusZAPQrXo5CQx0B/arx087/GQD81XroJv8dAarx0k3iYxkDhehSux6/EQEw3iUGgVsdAAiuHFrmtxkACK4cWuf3HQA4tsp2PW8dAokW2812DyEDb+X5q3F3IQG8Sg8AqxsZAsHJoka18x0A3iUFgZbbGQNV46SZRhsdA5dAi2zlnxkDsUbgehRfFQHNoke0cDsdARrbz/bRsxkBYObTIdobHQNv5fmoca8ZA46WbxIBEx0DHSzeJYTrHQNv5fmo86cRAN4lBYMXyxkDXo3A9aunFQJHtfD+1s8ZALbKd74ftxUAnMQis3EvEQMP1KFyvo8ZAke18P1U4xkA/NV66qRnHQFK4HoVLl8ZAxSCwcoiMx0AGgZVD66LHQLByaJGt7cVAokW28x3axkCBlUOLjOrFQA4tsp0vtsZA5dAi2zmqxUD0/dR4qbTDQNnO91MjXMZAi2zn++lpxkD+1HjpxkzHQBBYObTo6cZAokW2892mx0BKDAIrR4nHQH0/NV66bMZAi2zn+yntxkA/NV66CbLFQPp+arz0qMZAmpmZmflIxUA1XrpJLMPDQLpJDALrX8ZAz/dT46WlxUBcj8L1CGzGQGDl0CI7UMZAF9nO91P3xkC+nxovXbLGQHnpJjGohMVA5dAi2zn+xUCgGi/dZALFQPYoXI/iFMZADAIrh/bTxEBcj8L1CHTEQIGVQ4vs0sVAqMZLN4mCxUCuR+F6dNXGQA4tsp0vI8ZAtMh2vn9nxkAbL90kJkfHQDMzMzNTEcVAK4cW2S4gxkA/NV66CeDEQOF6FK4nVcVABoGVQ4svxUAfhetReEjDQB1aZDv/+MVAx0s3ieHKxUDHSzeJwfjGQGq8dJPYVsZAexSuRyFCx0DRItv53jPHQBsv3SRGBMZAYOXQInu+xkC+nxovXfXFQBSuR+HaC8ZACKwcWgQKxUBU46WbRNzDQPT91HiJHcZARIts57sJxkC28/3U2PHGQBkEVg7NPsZAJQaBleOEx0DjpZvEgK3HQPhT46WbtcVAXI/C9UhDx0ApXI/CVfTFQG3n+6lxvMZAZDvfTw34xUAzMzMzM0fEQKabxCDQB8dAvp8aL12dxkBg5dAi243HQJhuEoPALMdAEFg5tCgVyEDP91PjhQ7IQCGwcmjR28ZAXI/C9UiCx0BiEFg5VGzGQDMzMzMTQ8dAbxKDwEoBxkASg8DKwe/FQLByaJHt1cdAdZMYBJaUxkCWQ4tsZ/LHQGiR7Xz/pMdAexSuRwFbyEDNzMzMTKLIQJhuEoPAVsdA46WbxMAfx0BaZDvf77jGQESLbOdbm8dA7nw/Nd6hxUDfT42XjrDEQO58PzW+tsdArkfhevTfxkCBlUOL7EjIQEoMAiuHDMhAokW2831myEBzaJHtXMzIQKJFtvPdE8dAVg4tsn3Lx0DTTWIQmGvGQOOlm8SAg8dApHA9CrdYxkASg8DKITTEQJ7vp8ZrEchAqvHSTcKnxkArhxbZbjLIQMdLN4khHMhACKwcWuSDyECR7Xw/ld3IQKJFtvMdhsZAi2zn+0mix0DLoUW289zGQI/C9Sg8V8dAFK5H4bpSxkBg5dAiO9bEQH9qvHTTWsdAsHJoka0ox0C4HoXr0SbIQGIQWDkU4cdAwcqhRfY9yEBOYhBYuQHJQM3MzMxsosZAqvHSTaKrx0DByqFFtqnGQFTjpZtE0MZA4XoUrgcvxkACK4cWuYfFQC/dJAYhyMNAVg4tst3evEDP91Pj5U3CQCPb+X6qZ8RAGy/dJKaDxUBaZDvfL63FQFTjpZvkBMVAvp8aL/0lxUDb+X5q3LDDQOOlm8Tg+cNAXrpJDOKjw0D2KFyPQvjBQPhT46UbwMVAGQRWDs3AxUDdJAaBlRfHQJqZmZnZCcdAJQaBlWOkx0DVeOkmsVnHQGIQWDl0+8VAXI/C9Yj0xkCDwMqhRTPGQJhuEoOAlMZASgwCK0eAxEBI4XoUTt7DQFg5tMhW5sZAy6FFtjOnxUB56SYxiDDHQKabxCBQVcZAIbByaFFoxkBqvHSTGC7HQC/dJAZhxcVAYOXQIjtlxkDhehSu57jFQCuHFtnu28VAwcqhRXYVxUC28/3UmPjDQClcj8IVFcdAjZduEsMCxkDRItv5/hbHQPT91HhpDMdAYhBYOVTVxkAQWDm0KILHQEoMAisnw8VAhetRuP4jx0C4HoXrMe3FQCcxCKwcXsZAN4lBYAUVxUAOLbKdb5nEQJZDi2wHusZA2c73U6PTxUC0yHa+f+HHQB1aZDufo8ZA9P3UeMmxx0C8dJMYZIrHQDeJQWCFG8ZApHA9CncQx0CF61G4XrzFQGq8dJP4TsZA",
          "dtype": "f8"
         },
         "xaxis": "x",
         "yaxis": "y"
        }
       ],
       "layout": {
        "barmode": "relative",
        "height": 500,
        "hovermode": "x unified",
        "legend": {
         "tracegroupgap": 0
        },
        "template": {
         "data": {
          "bar": [
           {
            "error_x": {
             "color": "#2a3f5f"
            },
            "error_y": {
             "color": "#2a3f5f"
            },
            "marker": {
             "line": {
              "color": "white",
              "width": 0.5
             },
             "pattern": {
              "fillmode": "overlay",
              "size": 10,
              "solidity": 0.2
             }
            },
            "type": "bar"
           }
          ],
          "barpolar": [
           {
            "marker": {
             "line": {
              "color": "white",
              "width": 0.5
             },
             "pattern": {
              "fillmode": "overlay",
              "size": 10,
              "solidity": 0.2
             }
            },
            "type": "barpolar"
           }
          ],
          "carpet": [
           {
            "aaxis": {
             "endlinecolor": "#2a3f5f",
             "gridcolor": "#C8D4E3",
             "linecolor": "#C8D4E3",
             "minorgridcolor": "#C8D4E3",
             "startlinecolor": "#2a3f5f"
            },
            "baxis": {
             "endlinecolor": "#2a3f5f",
             "gridcolor": "#C8D4E3",
             "linecolor": "#C8D4E3",
             "minorgridcolor": "#C8D4E3",
             "startlinecolor": "#2a3f5f"
            },
            "type": "carpet"
           }
          ],
          "choropleth": [
           {
            "colorbar": {
             "outlinewidth": 0,
             "ticks": ""
            },
            "type": "choropleth"
           }
          ],
          "contour": [
           {
            "colorbar": {
             "outlinewidth": 0,
             "ticks": ""
            },
            "colorscale": [
             [
              0,
              "#0d0887"
             ],
             [
              0.1111111111111111,
              "#46039f"
             ],
             [
              0.2222222222222222,
              "#7201a8"
             ],
             [
              0.3333333333333333,
              "#9c179e"
             ],
             [
              0.4444444444444444,
              "#bd3786"
             ],
             [
              0.5555555555555556,
              "#d8576b"
             ],
             [
              0.6666666666666666,
              "#ed7953"
             ],
             [
              0.7777777777777778,
              "#fb9f3a"
             ],
             [
              0.8888888888888888,
              "#fdca26"
             ],
             [
              1,
              "#f0f921"
             ]
            ],
            "type": "contour"
           }
          ],
          "contourcarpet": [
           {
            "colorbar": {
             "outlinewidth": 0,
             "ticks": ""
            },
            "type": "contourcarpet"
           }
          ],
          "heatmap": [
           {
            "colorbar": {
             "outlinewidth": 0,
             "ticks": ""
            },
            "colorscale": [
             [
              0,
              "#0d0887"
             ],
             [
              0.1111111111111111,
              "#46039f"
             ],
             [
              0.2222222222222222,
              "#7201a8"
             ],
             [
              0.3333333333333333,
              "#9c179e"
             ],
             [
              0.4444444444444444,
              "#bd3786"
             ],
             [
              0.5555555555555556,
              "#d8576b"
             ],
             [
              0.6666666666666666,
              "#ed7953"
             ],
             [
              0.7777777777777778,
              "#fb9f3a"
             ],
             [
              0.8888888888888888,
              "#fdca26"
             ],
             [
              1,
              "#f0f921"
             ]
            ],
            "type": "heatmap"
           }
          ],
          "histogram": [
           {
            "marker": {
             "pattern": {
              "fillmode": "overlay",
              "size": 10,
              "solidity": 0.2
             }
            },
            "type": "histogram"
           }
          ],
          "histogram2d": [
           {
            "colorbar": {
             "outlinewidth": 0,
             "ticks": ""
            },
            "colorscale": [
             [
              0,
              "#0d0887"
             ],
             [
              0.1111111111111111,
              "#46039f"
             ],
             [
              0.2222222222222222,
              "#7201a8"
             ],
             [
              0.3333333333333333,
              "#9c179e"
             ],
             [
              0.4444444444444444,
              "#bd3786"
             ],
             [
              0.5555555555555556,
              "#d8576b"
             ],
             [
              0.6666666666666666,
              "#ed7953"
             ],
             [
              0.7777777777777778,
              "#fb9f3a"
             ],
             [
              0.8888888888888888,
              "#fdca26"
             ],
             [
              1,
              "#f0f921"
             ]
            ],
            "type": "histogram2d"
           }
          ],
          "histogram2dcontour": [
           {
            "colorbar": {
             "outlinewidth": 0,
             "ticks": ""
            },
            "colorscale": [
             [
              0,
              "#0d0887"
             ],
             [
              0.1111111111111111,
              "#46039f"
             ],
             [
              0.2222222222222222,
              "#7201a8"
             ],
             [
              0.3333333333333333,
              "#9c179e"
             ],
             [
              0.4444444444444444,
              "#bd3786"
             ],
             [
              0.5555555555555556,
              "#d8576b"
             ],
             [
              0.6666666666666666,
              "#ed7953"
             ],
             [
              0.7777777777777778,
              "#fb9f3a"
             ],
             [
              0.8888888888888888,
              "#fdca26"
             ],
             [
              1,
              "#f0f921"
             ]
            ],
            "type": "histogram2dcontour"
           }
          ],
          "mesh3d": [
           {
            "colorbar": {
             "outlinewidth": 0,
             "ticks": ""
            },
            "type": "mesh3d"
           }
          ],
          "parcoords": [
           {
            "line": {
             "colorbar": {
              "outlinewidth": 0,
              "ticks": ""
             }
            },
            "type": "parcoords"
           }
          ],
          "pie": [
           {
            "automargin": true,
            "type": "pie"
           }
          ],
          "scatter": [
           {
            "fillpattern": {
             "fillmode": "overlay",
             "size": 10,
             "solidity": 0.2
            },
            "type": "scatter"
           }
          ],
          "scatter3d": [
           {
            "line": {
             "colorbar": {
              "outlinewidth": 0,
              "ticks": ""
             }
            },
            "marker": {
             "colorbar": {
              "outlinewidth": 0,
              "ticks": ""
             }
            },
            "type": "scatter3d"
           }
          ],
          "scattercarpet": [
           {
            "marker": {
             "colorbar": {
              "outlinewidth": 0,
              "ticks": ""
             }
            },
            "type": "scattercarpet"
           }
          ],
          "scattergeo": [
           {
            "marker": {
             "colorbar": {
              "outlinewidth": 0,
              "ticks": ""
             }
            },
            "type": "scattergeo"
           }
          ],
          "scattergl": [
           {
            "marker": {
             "colorbar": {
              "outlinewidth": 0,
              "ticks": ""
             }
            },
            "type": "scattergl"
           }
          ],
          "scattermap": [
           {
            "marker": {
             "colorbar": {
              "outlinewidth": 0,
              "ticks": ""
             }
            },
            "type": "scattermap"
           }
          ],
          "scattermapbox": [
           {
            "marker": {
             "colorbar": {
              "outlinewidth": 0,
              "ticks": ""
             }
            },
            "type": "scattermapbox"
           }
          ],
          "scatterpolar": [
           {
            "marker": {
             "colorbar": {
              "outlinewidth": 0,
              "ticks": ""
             }
            },
            "type": "scatterpolar"
           }
          ],
          "scatterpolargl": [
           {
            "marker": {
             "colorbar": {
              "outlinewidth": 0,
              "ticks": ""
             }
            },
            "type": "scatterpolargl"
           }
          ],
          "scatterternary": [
           {
            "marker": {
             "colorbar": {
              "outlinewidth": 0,
              "ticks": ""
             }
            },
            "type": "scatterternary"
           }
          ],
          "surface": [
           {
            "colorbar": {
             "outlinewidth": 0,
             "ticks": ""
            },
            "colorscale": [
             [
              0,
              "#0d0887"
             ],
             [
              0.1111111111111111,
              "#46039f"
             ],
             [
              0.2222222222222222,
              "#7201a8"
             ],
             [
              0.3333333333333333,
              "#9c179e"
             ],
             [
              0.4444444444444444,
              "#bd3786"
             ],
             [
              0.5555555555555556,
              "#d8576b"
             ],
             [
              0.6666666666666666,
              "#ed7953"
             ],
             [
              0.7777777777777778,
              "#fb9f3a"
             ],
             [
              0.8888888888888888,
              "#fdca26"
             ],
             [
              1,
              "#f0f921"
             ]
            ],
            "type": "surface"
           }
          ],
          "table": [
           {
            "cells": {
             "fill": {
              "color": "#EBF0F8"
             },
             "line": {
              "color": "white"
             }
            },
            "header": {
             "fill": {
              "color": "#C8D4E3"
             },
             "line": {
              "color": "white"
             }
            },
            "type": "table"
           }
          ]
         },
         "layout": {
          "annotationdefaults": {
           "arrowcolor": "#2a3f5f",
           "arrowhead": 0,
           "arrowwidth": 1
          },
          "autotypenumbers": "strict",
          "coloraxis": {
           "colorbar": {
            "outlinewidth": 0,
            "ticks": ""
           }
          },
          "colorscale": {
           "diverging": [
            [
             0,
             "#8e0152"
            ],
            [
             0.1,
             "#c51b7d"
            ],
            [
             0.2,
             "#de77ae"
            ],
            [
             0.3,
             "#f1b6da"
            ],
            [
             0.4,
             "#fde0ef"
            ],
            [
             0.5,
             "#f7f7f7"
            ],
            [
             0.6,
             "#e6f5d0"
            ],
            [
             0.7,
             "#b8e186"
            ],
            [
             0.8,
             "#7fbc41"
            ],
            [
             0.9,
             "#4d9221"
            ],
            [
             1,
             "#276419"
            ]
           ],
           "sequential": [
            [
             0,
             "#0d0887"
            ],
            [
             0.1111111111111111,
             "#46039f"
            ],
            [
             0.2222222222222222,
             "#7201a8"
            ],
            [
             0.3333333333333333,
             "#9c179e"
            ],
            [
             0.4444444444444444,
             "#bd3786"
            ],
            [
             0.5555555555555556,
             "#d8576b"
            ],
            [
             0.6666666666666666,
             "#ed7953"
            ],
            [
             0.7777777777777778,
             "#fb9f3a"
            ],
            [
             0.8888888888888888,
             "#fdca26"
            ],
            [
             1,
             "#f0f921"
            ]
           ],
           "sequentialminus": [
            [
             0,
             "#0d0887"
            ],
            [
             0.1111111111111111,
             "#46039f"
            ],
            [
             0.2222222222222222,
             "#7201a8"
            ],
            [
             0.3333333333333333,
             "#9c179e"
            ],
            [
             0.4444444444444444,
             "#bd3786"
            ],
            [
             0.5555555555555556,
             "#d8576b"
            ],
            [
             0.6666666666666666,
             "#ed7953"
            ],
            [
             0.7777777777777778,
             "#fb9f3a"
            ],
            [
             0.8888888888888888,
             "#fdca26"
            ],
            [
             1,
             "#f0f921"
            ]
           ]
          },
          "colorway": [
           "#636efa",
           "#EF553B",
           "#00cc96",
           "#ab63fa",
           "#FFA15A",
           "#19d3f3",
           "#FF6692",
           "#B6E880",
           "#FF97FF",
           "#FECB52"
          ],
          "font": {
           "color": "#2a3f5f"
          },
          "geo": {
           "bgcolor": "white",
           "lakecolor": "white",
           "landcolor": "white",
           "showlakes": true,
           "showland": true,
           "subunitcolor": "#C8D4E3"
          },
          "hoverlabel": {
           "align": "left"
          },
          "hovermode": "closest",
          "mapbox": {
           "style": "light"
          },
          "paper_bgcolor": "white",
          "plot_bgcolor": "white",
          "polar": {
           "angularaxis": {
            "gridcolor": "#EBF0F8",
            "linecolor": "#EBF0F8",
            "ticks": ""
           },
           "bgcolor": "white",
           "radialaxis": {
            "gridcolor": "#EBF0F8",
            "linecolor": "#EBF0F8",
            "ticks": ""
           }
          },
          "scene": {
           "xaxis": {
            "backgroundcolor": "white",
            "gridcolor": "#DFE8F3",
            "gridwidth": 2,
            "linecolor": "#EBF0F8",
            "showbackground": true,
            "ticks": "",
            "zerolinecolor": "#EBF0F8"
           },
           "yaxis": {
            "backgroundcolor": "white",
            "gridcolor": "#DFE8F3",
            "gridwidth": 2,
            "linecolor": "#EBF0F8",
            "showbackground": true,
            "ticks": "",
            "zerolinecolor": "#EBF0F8"
           },
           "zaxis": {
            "backgroundcolor": "white",
            "gridcolor": "#DFE8F3",
            "gridwidth": 2,
            "linecolor": "#EBF0F8",
            "showbackground": true,
            "ticks": "",
            "zerolinecolor": "#EBF0F8"
           }
          },
          "shapedefaults": {
           "line": {
            "color": "#2a3f5f"
           }
          },
          "ternary": {
           "aaxis": {
            "gridcolor": "#DFE8F3",
            "linecolor": "#A2B1C6",
            "ticks": ""
           },
           "baxis": {
            "gridcolor": "#DFE8F3",
            "linecolor": "#A2B1C6",
            "ticks": ""
           },
           "bgcolor": "white",
           "caxis": {
            "gridcolor": "#DFE8F3",
            "linecolor": "#A2B1C6",
            "ticks": ""
           }
          },
          "title": {
           "x": 0.05
          },
          "xaxis": {
           "automargin": true,
           "gridcolor": "#EBF0F8",
           "linecolor": "#EBF0F8",
           "ticks": "",
           "title": {
            "standoff": 15
           },
           "zerolinecolor": "#EBF0F8",
           "zerolinewidth": 2
          },
          "yaxis": {
           "automargin": true,
           "gridcolor": "#EBF0F8",
           "linecolor": "#EBF0F8",
           "ticks": "",
           "title": {
            "standoff": 15
           },
           "zerolinecolor": "#EBF0F8",
           "zerolinewidth": 2
          }
         }
        },
        "title": {
         "text": "Distribution of Monthly Gasoline Consumption",
         "x": 0.5
        },
        "xaxis": {
         "anchor": "y",
         "domain": [
          0,
          1
         ],
         "gridcolor": "lightgray",
         "showgrid": true,
         "title": {
          "text": "Millions of Gallons"
         }
        },
        "yaxis": {
         "anchor": "x",
         "domain": [
          0,
          1
         ],
         "gridcolor": "lightgray",
         "showgrid": true,
         "title": {
          "text": "Frequency"
         }
        }
       }
      }
     },
     "metadata": {},
     "output_type": "display_data"
    }
   ],
   "source": [
    "''' Create a histogram to visualize the distribution of monthly gasoline consumption '''\n",
    "\n",
    "# Create histogram\n",
    "fig = px.histogram(\n",
    "    consumption,\n",
    "    x=\"Gasoline_Consumption(Millions of Gallons)\",\n",
    "    nbins=25,\n",
    "    title=\"Distribution of Monthly Gasoline Consumption\",\n",
    "    labels={\"Gasoline_Consumption(Millions of Gallons)\": \"Millions of Gallons\"},\n",
    "    color_discrete_sequence=[\"teal\"]\n",
    ")\n",
    "\n",
    "# Customize layout\n",
    "fig.update_traces(marker_line_color=\"black\", marker_line_width=1, opacity=0.7)\n",
    "fig.update_layout(\n",
    "    template=\"plotly_white\",\n",
    "    title_x=0.5,\n",
    "    xaxis_title=\"Millions of Gallons\",\n",
    "    yaxis_title=\"Frequency\",\n",
    "    xaxis=dict(showgrid=True, gridcolor=\"lightgray\"),\n",
    "    yaxis=dict(showgrid=True, gridcolor=\"lightgray\"),\n",
    "    hovermode=\"x unified\",\n",
    "    height=500\n",
    ")\n",
    "\n",
    "fig.show()"
   ]
  },
  {
   "cell_type": "markdown",
   "id": "d235f425",
   "metadata": {},
   "source": [
    "## Visualizing Trends in Consumption Data"
   ]
  },
  {
   "cell_type": "code",
   "execution_count": 439,
   "id": "a53ad1d0",
   "metadata": {},
   "outputs": [
    {
     "data": {
      "application/vnd.plotly.v1+json": {
       "config": {
        "plotlyServerURL": "https://plot.ly"
       },
       "data": [
        {
         "hovertemplate": "Date=%{x}<br>Gasoline Consumption (Millions of Gallons)=%{y}<extra></extra>",
         "legendgroup": "",
         "line": {
          "color": "steelblue",
          "dash": "solid",
          "width": 2
         },
         "marker": {
          "symbol": "circle"
         },
         "mode": "lines",
         "name": "",
         "orientation": "v",
         "showlegend": false,
         "type": "scatter",
         "x": [
          "1993-04-01T00:00:00.000000000",
          "1993-05-01T00:00:00.000000000",
          "1993-06-01T00:00:00.000000000",
          "1993-07-01T00:00:00.000000000",
          "1993-08-01T00:00:00.000000000",
          "1993-09-01T00:00:00.000000000",
          "1993-10-01T00:00:00.000000000",
          "1993-11-01T00:00:00.000000000",
          "1993-12-01T00:00:00.000000000",
          "1994-01-01T00:00:00.000000000",
          "1994-02-01T00:00:00.000000000",
          "1994-03-01T00:00:00.000000000",
          "1994-04-01T00:00:00.000000000",
          "1994-05-01T00:00:00.000000000",
          "1994-06-01T00:00:00.000000000",
          "1994-07-01T00:00:00.000000000",
          "1994-08-01T00:00:00.000000000",
          "1994-09-01T00:00:00.000000000",
          "1994-10-01T00:00:00.000000000",
          "1994-11-01T00:00:00.000000000",
          "1994-12-01T00:00:00.000000000",
          "1995-01-01T00:00:00.000000000",
          "1995-02-01T00:00:00.000000000",
          "1995-03-01T00:00:00.000000000",
          "1995-04-01T00:00:00.000000000",
          "1995-05-01T00:00:00.000000000",
          "1995-06-01T00:00:00.000000000",
          "1995-07-01T00:00:00.000000000",
          "1995-08-01T00:00:00.000000000",
          "1995-09-01T00:00:00.000000000",
          "1995-10-01T00:00:00.000000000",
          "1995-11-01T00:00:00.000000000",
          "1995-12-01T00:00:00.000000000",
          "1996-01-01T00:00:00.000000000",
          "1996-02-01T00:00:00.000000000",
          "1996-03-01T00:00:00.000000000",
          "1996-04-01T00:00:00.000000000",
          "1996-05-01T00:00:00.000000000",
          "1996-06-01T00:00:00.000000000",
          "1996-07-01T00:00:00.000000000",
          "1996-08-01T00:00:00.000000000",
          "1996-09-01T00:00:00.000000000",
          "1996-10-01T00:00:00.000000000",
          "1996-11-01T00:00:00.000000000",
          "1996-12-01T00:00:00.000000000",
          "1997-01-01T00:00:00.000000000",
          "1997-02-01T00:00:00.000000000",
          "1997-03-01T00:00:00.000000000",
          "1997-04-01T00:00:00.000000000",
          "1997-05-01T00:00:00.000000000",
          "1997-06-01T00:00:00.000000000",
          "1997-07-01T00:00:00.000000000",
          "1997-08-01T00:00:00.000000000",
          "1997-09-01T00:00:00.000000000",
          "1997-10-01T00:00:00.000000000",
          "1997-11-01T00:00:00.000000000",
          "1997-12-01T00:00:00.000000000",
          "1998-01-01T00:00:00.000000000",
          "1998-02-01T00:00:00.000000000",
          "1998-03-01T00:00:00.000000000",
          "1998-04-01T00:00:00.000000000",
          "1998-05-01T00:00:00.000000000",
          "1998-06-01T00:00:00.000000000",
          "1998-07-01T00:00:00.000000000",
          "1998-08-01T00:00:00.000000000",
          "1998-09-01T00:00:00.000000000",
          "1998-10-01T00:00:00.000000000",
          "1998-11-01T00:00:00.000000000",
          "1998-12-01T00:00:00.000000000",
          "1999-01-01T00:00:00.000000000",
          "1999-02-01T00:00:00.000000000",
          "1999-03-01T00:00:00.000000000",
          "1999-04-01T00:00:00.000000000",
          "1999-05-01T00:00:00.000000000",
          "1999-06-01T00:00:00.000000000",
          "1999-07-01T00:00:00.000000000",
          "1999-08-01T00:00:00.000000000",
          "1999-09-01T00:00:00.000000000",
          "1999-10-01T00:00:00.000000000",
          "1999-11-01T00:00:00.000000000",
          "1999-12-01T00:00:00.000000000",
          "2000-01-01T00:00:00.000000000",
          "2000-02-01T00:00:00.000000000",
          "2000-03-01T00:00:00.000000000",
          "2000-04-01T00:00:00.000000000",
          "2000-05-01T00:00:00.000000000",
          "2000-06-01T00:00:00.000000000",
          "2000-07-01T00:00:00.000000000",
          "2000-08-01T00:00:00.000000000",
          "2000-09-01T00:00:00.000000000",
          "2000-10-01T00:00:00.000000000",
          "2000-11-01T00:00:00.000000000",
          "2000-12-01T00:00:00.000000000",
          "2001-01-01T00:00:00.000000000",
          "2001-02-01T00:00:00.000000000",
          "2001-03-01T00:00:00.000000000",
          "2001-04-01T00:00:00.000000000",
          "2001-05-01T00:00:00.000000000",
          "2001-06-01T00:00:00.000000000",
          "2001-07-01T00:00:00.000000000",
          "2001-08-01T00:00:00.000000000",
          "2001-09-01T00:00:00.000000000",
          "2001-10-01T00:00:00.000000000",
          "2001-11-01T00:00:00.000000000",
          "2001-12-01T00:00:00.000000000",
          "2002-01-01T00:00:00.000000000",
          "2002-02-01T00:00:00.000000000",
          "2002-03-01T00:00:00.000000000",
          "2002-04-01T00:00:00.000000000",
          "2002-05-01T00:00:00.000000000",
          "2002-06-01T00:00:00.000000000",
          "2002-07-01T00:00:00.000000000",
          "2002-08-01T00:00:00.000000000",
          "2002-09-01T00:00:00.000000000",
          "2002-10-01T00:00:00.000000000",
          "2002-11-01T00:00:00.000000000",
          "2002-12-01T00:00:00.000000000",
          "2003-01-01T00:00:00.000000000",
          "2003-02-01T00:00:00.000000000",
          "2003-03-01T00:00:00.000000000",
          "2003-04-01T00:00:00.000000000",
          "2003-05-01T00:00:00.000000000",
          "2003-06-01T00:00:00.000000000",
          "2003-07-01T00:00:00.000000000",
          "2003-08-01T00:00:00.000000000",
          "2003-09-01T00:00:00.000000000",
          "2003-10-01T00:00:00.000000000",
          "2003-11-01T00:00:00.000000000",
          "2003-12-01T00:00:00.000000000",
          "2004-01-01T00:00:00.000000000",
          "2004-02-01T00:00:00.000000000",
          "2004-03-01T00:00:00.000000000",
          "2004-04-01T00:00:00.000000000",
          "2004-05-01T00:00:00.000000000",
          "2004-06-01T00:00:00.000000000",
          "2004-07-01T00:00:00.000000000",
          "2004-08-01T00:00:00.000000000",
          "2004-09-01T00:00:00.000000000",
          "2004-10-01T00:00:00.000000000",
          "2004-11-01T00:00:00.000000000",
          "2004-12-01T00:00:00.000000000",
          "2005-01-01T00:00:00.000000000",
          "2005-02-01T00:00:00.000000000",
          "2005-03-01T00:00:00.000000000",
          "2005-04-01T00:00:00.000000000",
          "2005-05-01T00:00:00.000000000",
          "2005-06-01T00:00:00.000000000",
          "2005-07-01T00:00:00.000000000",
          "2005-08-01T00:00:00.000000000",
          "2005-09-01T00:00:00.000000000",
          "2005-10-01T00:00:00.000000000",
          "2005-11-01T00:00:00.000000000",
          "2005-12-01T00:00:00.000000000",
          "2006-01-01T00:00:00.000000000",
          "2006-02-01T00:00:00.000000000",
          "2006-03-01T00:00:00.000000000",
          "2006-04-01T00:00:00.000000000",
          "2006-05-01T00:00:00.000000000",
          "2006-06-01T00:00:00.000000000",
          "2006-07-01T00:00:00.000000000",
          "2006-08-01T00:00:00.000000000",
          "2006-09-01T00:00:00.000000000",
          "2006-10-01T00:00:00.000000000",
          "2006-11-01T00:00:00.000000000",
          "2006-12-01T00:00:00.000000000",
          "2007-01-01T00:00:00.000000000",
          "2007-02-01T00:00:00.000000000",
          "2007-03-01T00:00:00.000000000",
          "2007-04-01T00:00:00.000000000",
          "2007-05-01T00:00:00.000000000",
          "2007-06-01T00:00:00.000000000",
          "2007-07-01T00:00:00.000000000",
          "2007-08-01T00:00:00.000000000",
          "2007-09-01T00:00:00.000000000",
          "2007-10-01T00:00:00.000000000",
          "2007-11-01T00:00:00.000000000",
          "2007-12-01T00:00:00.000000000",
          "2008-01-01T00:00:00.000000000",
          "2008-02-01T00:00:00.000000000",
          "2008-03-01T00:00:00.000000000",
          "2008-04-01T00:00:00.000000000",
          "2008-05-01T00:00:00.000000000",
          "2008-06-01T00:00:00.000000000",
          "2008-07-01T00:00:00.000000000",
          "2008-08-01T00:00:00.000000000",
          "2008-09-01T00:00:00.000000000",
          "2008-10-01T00:00:00.000000000",
          "2008-11-01T00:00:00.000000000",
          "2008-12-01T00:00:00.000000000",
          "2009-01-01T00:00:00.000000000",
          "2009-02-01T00:00:00.000000000",
          "2009-03-01T00:00:00.000000000",
          "2009-04-01T00:00:00.000000000",
          "2009-05-01T00:00:00.000000000",
          "2009-06-01T00:00:00.000000000",
          "2009-07-01T00:00:00.000000000",
          "2009-08-01T00:00:00.000000000",
          "2009-09-01T00:00:00.000000000",
          "2009-10-01T00:00:00.000000000",
          "2009-11-01T00:00:00.000000000",
          "2009-12-01T00:00:00.000000000",
          "2010-01-01T00:00:00.000000000",
          "2010-02-01T00:00:00.000000000",
          "2010-03-01T00:00:00.000000000",
          "2010-04-01T00:00:00.000000000",
          "2010-05-01T00:00:00.000000000",
          "2010-06-01T00:00:00.000000000",
          "2010-07-01T00:00:00.000000000",
          "2010-08-01T00:00:00.000000000",
          "2010-09-01T00:00:00.000000000",
          "2010-10-01T00:00:00.000000000",
          "2010-11-01T00:00:00.000000000",
          "2010-12-01T00:00:00.000000000",
          "2011-01-01T00:00:00.000000000",
          "2011-02-01T00:00:00.000000000",
          "2011-03-01T00:00:00.000000000",
          "2011-04-01T00:00:00.000000000",
          "2011-05-01T00:00:00.000000000",
          "2011-06-01T00:00:00.000000000",
          "2011-07-01T00:00:00.000000000",
          "2011-08-01T00:00:00.000000000",
          "2011-09-01T00:00:00.000000000",
          "2011-10-01T00:00:00.000000000",
          "2011-11-01T00:00:00.000000000",
          "2011-12-01T00:00:00.000000000",
          "2012-01-01T00:00:00.000000000",
          "2012-02-01T00:00:00.000000000",
          "2012-03-01T00:00:00.000000000",
          "2012-04-01T00:00:00.000000000",
          "2012-05-01T00:00:00.000000000",
          "2012-06-01T00:00:00.000000000",
          "2012-07-01T00:00:00.000000000",
          "2012-08-01T00:00:00.000000000",
          "2012-09-01T00:00:00.000000000",
          "2012-10-01T00:00:00.000000000",
          "2012-11-01T00:00:00.000000000",
          "2012-12-01T00:00:00.000000000",
          "2013-01-01T00:00:00.000000000",
          "2013-02-01T00:00:00.000000000",
          "2013-03-01T00:00:00.000000000",
          "2013-04-01T00:00:00.000000000",
          "2013-05-01T00:00:00.000000000",
          "2013-06-01T00:00:00.000000000",
          "2013-07-01T00:00:00.000000000",
          "2013-08-01T00:00:00.000000000",
          "2013-09-01T00:00:00.000000000",
          "2013-10-01T00:00:00.000000000",
          "2013-11-01T00:00:00.000000000",
          "2013-12-01T00:00:00.000000000",
          "2014-01-01T00:00:00.000000000",
          "2014-02-01T00:00:00.000000000",
          "2014-03-01T00:00:00.000000000",
          "2014-04-01T00:00:00.000000000",
          "2014-05-01T00:00:00.000000000",
          "2014-06-01T00:00:00.000000000",
          "2014-07-01T00:00:00.000000000",
          "2014-08-01T00:00:00.000000000",
          "2014-09-01T00:00:00.000000000",
          "2014-10-01T00:00:00.000000000",
          "2014-11-01T00:00:00.000000000",
          "2014-12-01T00:00:00.000000000",
          "2015-01-01T00:00:00.000000000",
          "2015-02-01T00:00:00.000000000",
          "2015-03-01T00:00:00.000000000",
          "2015-04-01T00:00:00.000000000",
          "2015-05-01T00:00:00.000000000",
          "2015-06-01T00:00:00.000000000",
          "2015-07-01T00:00:00.000000000",
          "2015-08-01T00:00:00.000000000",
          "2015-09-01T00:00:00.000000000",
          "2015-10-01T00:00:00.000000000",
          "2015-11-01T00:00:00.000000000",
          "2015-12-01T00:00:00.000000000",
          "2016-01-01T00:00:00.000000000",
          "2016-02-01T00:00:00.000000000",
          "2016-03-01T00:00:00.000000000",
          "2016-04-01T00:00:00.000000000",
          "2016-05-01T00:00:00.000000000",
          "2016-06-01T00:00:00.000000000",
          "2016-07-01T00:00:00.000000000",
          "2016-08-01T00:00:00.000000000",
          "2016-09-01T00:00:00.000000000",
          "2016-10-01T00:00:00.000000000",
          "2016-11-01T00:00:00.000000000",
          "2016-12-01T00:00:00.000000000",
          "2017-01-01T00:00:00.000000000",
          "2017-02-01T00:00:00.000000000",
          "2017-03-01T00:00:00.000000000",
          "2017-04-01T00:00:00.000000000",
          "2017-05-01T00:00:00.000000000",
          "2017-06-01T00:00:00.000000000",
          "2017-07-01T00:00:00.000000000",
          "2017-08-01T00:00:00.000000000",
          "2017-09-01T00:00:00.000000000",
          "2017-10-01T00:00:00.000000000",
          "2017-11-01T00:00:00.000000000",
          "2017-12-01T00:00:00.000000000",
          "2018-01-01T00:00:00.000000000",
          "2018-02-01T00:00:00.000000000",
          "2018-03-01T00:00:00.000000000",
          "2018-04-01T00:00:00.000000000",
          "2018-05-01T00:00:00.000000000",
          "2018-06-01T00:00:00.000000000",
          "2018-07-01T00:00:00.000000000",
          "2018-08-01T00:00:00.000000000",
          "2018-09-01T00:00:00.000000000",
          "2018-10-01T00:00:00.000000000",
          "2018-11-01T00:00:00.000000000",
          "2018-12-01T00:00:00.000000000",
          "2019-01-01T00:00:00.000000000",
          "2019-02-01T00:00:00.000000000",
          "2019-03-01T00:00:00.000000000",
          "2019-04-01T00:00:00.000000000",
          "2019-05-01T00:00:00.000000000",
          "2019-06-01T00:00:00.000000000",
          "2019-07-01T00:00:00.000000000",
          "2019-08-01T00:00:00.000000000",
          "2019-09-01T00:00:00.000000000",
          "2019-10-01T00:00:00.000000000",
          "2019-11-01T00:00:00.000000000",
          "2019-12-01T00:00:00.000000000",
          "2020-01-01T00:00:00.000000000",
          "2020-02-01T00:00:00.000000000",
          "2020-03-01T00:00:00.000000000",
          "2020-04-01T00:00:00.000000000",
          "2020-05-01T00:00:00.000000000",
          "2020-06-01T00:00:00.000000000",
          "2020-07-01T00:00:00.000000000",
          "2020-08-01T00:00:00.000000000",
          "2020-09-01T00:00:00.000000000",
          "2020-10-01T00:00:00.000000000",
          "2020-11-01T00:00:00.000000000",
          "2020-12-01T00:00:00.000000000",
          "2021-01-01T00:00:00.000000000",
          "2021-02-01T00:00:00.000000000",
          "2021-03-01T00:00:00.000000000",
          "2021-04-01T00:00:00.000000000",
          "2021-05-01T00:00:00.000000000",
          "2021-06-01T00:00:00.000000000",
          "2021-07-01T00:00:00.000000000",
          "2021-08-01T00:00:00.000000000",
          "2021-09-01T00:00:00.000000000",
          "2021-10-01T00:00:00.000000000",
          "2021-11-01T00:00:00.000000000",
          "2021-12-01T00:00:00.000000000",
          "2022-01-01T00:00:00.000000000",
          "2022-02-01T00:00:00.000000000",
          "2022-03-01T00:00:00.000000000",
          "2022-04-01T00:00:00.000000000",
          "2022-05-01T00:00:00.000000000",
          "2022-06-01T00:00:00.000000000",
          "2022-07-01T00:00:00.000000000",
          "2022-08-01T00:00:00.000000000",
          "2022-09-01T00:00:00.000000000",
          "2022-10-01T00:00:00.000000000",
          "2022-11-01T00:00:00.000000000",
          "2022-12-01T00:00:00.000000000",
          "2023-01-01T00:00:00.000000000",
          "2023-02-01T00:00:00.000000000",
          "2023-03-01T00:00:00.000000000",
          "2023-04-01T00:00:00.000000000",
          "2023-05-01T00:00:00.000000000",
          "2023-06-01T00:00:00.000000000",
          "2023-07-01T00:00:00.000000000",
          "2023-08-01T00:00:00.000000000",
          "2023-09-01T00:00:00.000000000",
          "2023-10-01T00:00:00.000000000",
          "2023-11-01T00:00:00.000000000",
          "2023-12-01T00:00:00.000000000",
          "2024-01-01T00:00:00.000000000",
          "2024-02-01T00:00:00.000000000",
          "2024-03-01T00:00:00.000000000",
          "2024-04-01T00:00:00.000000000",
          "2024-05-01T00:00:00.000000000",
          "2024-06-01T00:00:00.000000000",
          "2024-07-01T00:00:00.000000000",
          "2024-08-01T00:00:00.000000000",
          "2024-09-01T00:00:00.000000000",
          "2024-10-01T00:00:00.000000000",
          "2024-11-01T00:00:00.000000000",
          "2024-12-01T00:00:00.000000000"
         ],
         "xaxis": "x",
         "y": {
          "bdata": "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",
          "dtype": "f8"
         },
         "yaxis": "y"
        }
       ],
       "layout": {
        "height": 600,
        "hovermode": "x unified",
        "legend": {
         "tracegroupgap": 0
        },
        "template": {
         "data": {
          "bar": [
           {
            "error_x": {
             "color": "#2a3f5f"
            },
            "error_y": {
             "color": "#2a3f5f"
            },
            "marker": {
             "line": {
              "color": "white",
              "width": 0.5
             },
             "pattern": {
              "fillmode": "overlay",
              "size": 10,
              "solidity": 0.2
             }
            },
            "type": "bar"
           }
          ],
          "barpolar": [
           {
            "marker": {
             "line": {
              "color": "white",
              "width": 0.5
             },
             "pattern": {
              "fillmode": "overlay",
              "size": 10,
              "solidity": 0.2
             }
            },
            "type": "barpolar"
           }
          ],
          "carpet": [
           {
            "aaxis": {
             "endlinecolor": "#2a3f5f",
             "gridcolor": "#C8D4E3",
             "linecolor": "#C8D4E3",
             "minorgridcolor": "#C8D4E3",
             "startlinecolor": "#2a3f5f"
            },
            "baxis": {
             "endlinecolor": "#2a3f5f",
             "gridcolor": "#C8D4E3",
             "linecolor": "#C8D4E3",
             "minorgridcolor": "#C8D4E3",
             "startlinecolor": "#2a3f5f"
            },
            "type": "carpet"
           }
          ],
          "choropleth": [
           {
            "colorbar": {
             "outlinewidth": 0,
             "ticks": ""
            },
            "type": "choropleth"
           }
          ],
          "contour": [
           {
            "colorbar": {
             "outlinewidth": 0,
             "ticks": ""
            },
            "colorscale": [
             [
              0,
              "#0d0887"
             ],
             [
              0.1111111111111111,
              "#46039f"
             ],
             [
              0.2222222222222222,
              "#7201a8"
             ],
             [
              0.3333333333333333,
              "#9c179e"
             ],
             [
              0.4444444444444444,
              "#bd3786"
             ],
             [
              0.5555555555555556,
              "#d8576b"
             ],
             [
              0.6666666666666666,
              "#ed7953"
             ],
             [
              0.7777777777777778,
              "#fb9f3a"
             ],
             [
              0.8888888888888888,
              "#fdca26"
             ],
             [
              1,
              "#f0f921"
             ]
            ],
            "type": "contour"
           }
          ],
          "contourcarpet": [
           {
            "colorbar": {
             "outlinewidth": 0,
             "ticks": ""
            },
            "type": "contourcarpet"
           }
          ],
          "heatmap": [
           {
            "colorbar": {
             "outlinewidth": 0,
             "ticks": ""
            },
            "colorscale": [
             [
              0,
              "#0d0887"
             ],
             [
              0.1111111111111111,
              "#46039f"
             ],
             [
              0.2222222222222222,
              "#7201a8"
             ],
             [
              0.3333333333333333,
              "#9c179e"
             ],
             [
              0.4444444444444444,
              "#bd3786"
             ],
             [
              0.5555555555555556,
              "#d8576b"
             ],
             [
              0.6666666666666666,
              "#ed7953"
             ],
             [
              0.7777777777777778,
              "#fb9f3a"
             ],
             [
              0.8888888888888888,
              "#fdca26"
             ],
             [
              1,
              "#f0f921"
             ]
            ],
            "type": "heatmap"
           }
          ],
          "histogram": [
           {
            "marker": {
             "pattern": {
              "fillmode": "overlay",
              "size": 10,
              "solidity": 0.2
             }
            },
            "type": "histogram"
           }
          ],
          "histogram2d": [
           {
            "colorbar": {
             "outlinewidth": 0,
             "ticks": ""
            },
            "colorscale": [
             [
              0,
              "#0d0887"
             ],
             [
              0.1111111111111111,
              "#46039f"
             ],
             [
              0.2222222222222222,
              "#7201a8"
             ],
             [
              0.3333333333333333,
              "#9c179e"
             ],
             [
              0.4444444444444444,
              "#bd3786"
             ],
             [
              0.5555555555555556,
              "#d8576b"
             ],
             [
              0.6666666666666666,
              "#ed7953"
             ],
             [
              0.7777777777777778,
              "#fb9f3a"
             ],
             [
              0.8888888888888888,
              "#fdca26"
             ],
             [
              1,
              "#f0f921"
             ]
            ],
            "type": "histogram2d"
           }
          ],
          "histogram2dcontour": [
           {
            "colorbar": {
             "outlinewidth": 0,
             "ticks": ""
            },
            "colorscale": [
             [
              0,
              "#0d0887"
             ],
             [
              0.1111111111111111,
              "#46039f"
             ],
             [
              0.2222222222222222,
              "#7201a8"
             ],
             [
              0.3333333333333333,
              "#9c179e"
             ],
             [
              0.4444444444444444,
              "#bd3786"
             ],
             [
              0.5555555555555556,
              "#d8576b"
             ],
             [
              0.6666666666666666,
              "#ed7953"
             ],
             [
              0.7777777777777778,
              "#fb9f3a"
             ],
             [
              0.8888888888888888,
              "#fdca26"
             ],
             [
              1,
              "#f0f921"
             ]
            ],
            "type": "histogram2dcontour"
           }
          ],
          "mesh3d": [
           {
            "colorbar": {
             "outlinewidth": 0,
             "ticks": ""
            },
            "type": "mesh3d"
           }
          ],
          "parcoords": [
           {
            "line": {
             "colorbar": {
              "outlinewidth": 0,
              "ticks": ""
             }
            },
            "type": "parcoords"
           }
          ],
          "pie": [
           {
            "automargin": true,
            "type": "pie"
           }
          ],
          "scatter": [
           {
            "fillpattern": {
             "fillmode": "overlay",
             "size": 10,
             "solidity": 0.2
            },
            "type": "scatter"
           }
          ],
          "scatter3d": [
           {
            "line": {
             "colorbar": {
              "outlinewidth": 0,
              "ticks": ""
             }
            },
            "marker": {
             "colorbar": {
              "outlinewidth": 0,
              "ticks": ""
             }
            },
            "type": "scatter3d"
           }
          ],
          "scattercarpet": [
           {
            "marker": {
             "colorbar": {
              "outlinewidth": 0,
              "ticks": ""
             }
            },
            "type": "scattercarpet"
           }
          ],
          "scattergeo": [
           {
            "marker": {
             "colorbar": {
              "outlinewidth": 0,
              "ticks": ""
             }
            },
            "type": "scattergeo"
           }
          ],
          "scattergl": [
           {
            "marker": {
             "colorbar": {
              "outlinewidth": 0,
              "ticks": ""
             }
            },
            "type": "scattergl"
           }
          ],
          "scattermap": [
           {
            "marker": {
             "colorbar": {
              "outlinewidth": 0,
              "ticks": ""
             }
            },
            "type": "scattermap"
           }
          ],
          "scattermapbox": [
           {
            "marker": {
             "colorbar": {
              "outlinewidth": 0,
              "ticks": ""
             }
            },
            "type": "scattermapbox"
           }
          ],
          "scatterpolar": [
           {
            "marker": {
             "colorbar": {
              "outlinewidth": 0,
              "ticks": ""
             }
            },
            "type": "scatterpolar"
           }
          ],
          "scatterpolargl": [
           {
            "marker": {
             "colorbar": {
              "outlinewidth": 0,
              "ticks": ""
             }
            },
            "type": "scatterpolargl"
           }
          ],
          "scatterternary": [
           {
            "marker": {
             "colorbar": {
              "outlinewidth": 0,
              "ticks": ""
             }
            },
            "type": "scatterternary"
           }
          ],
          "surface": [
           {
            "colorbar": {
             "outlinewidth": 0,
             "ticks": ""
            },
            "colorscale": [
             [
              0,
              "#0d0887"
             ],
             [
              0.1111111111111111,
              "#46039f"
             ],
             [
              0.2222222222222222,
              "#7201a8"
             ],
             [
              0.3333333333333333,
              "#9c179e"
             ],
             [
              0.4444444444444444,
              "#bd3786"
             ],
             [
              0.5555555555555556,
              "#d8576b"
             ],
             [
              0.6666666666666666,
              "#ed7953"
             ],
             [
              0.7777777777777778,
              "#fb9f3a"
             ],
             [
              0.8888888888888888,
              "#fdca26"
             ],
             [
              1,
              "#f0f921"
             ]
            ],
            "type": "surface"
           }
          ],
          "table": [
           {
            "cells": {
             "fill": {
              "color": "#EBF0F8"
             },
             "line": {
              "color": "white"
             }
            },
            "header": {
             "fill": {
              "color": "#C8D4E3"
             },
             "line": {
              "color": "white"
             }
            },
            "type": "table"
           }
          ]
         },
         "layout": {
          "annotationdefaults": {
           "arrowcolor": "#2a3f5f",
           "arrowhead": 0,
           "arrowwidth": 1
          },
          "autotypenumbers": "strict",
          "coloraxis": {
           "colorbar": {
            "outlinewidth": 0,
            "ticks": ""
           }
          },
          "colorscale": {
           "diverging": [
            [
             0,
             "#8e0152"
            ],
            [
             0.1,
             "#c51b7d"
            ],
            [
             0.2,
             "#de77ae"
            ],
            [
             0.3,
             "#f1b6da"
            ],
            [
             0.4,
             "#fde0ef"
            ],
            [
             0.5,
             "#f7f7f7"
            ],
            [
             0.6,
             "#e6f5d0"
            ],
            [
             0.7,
             "#b8e186"
            ],
            [
             0.8,
             "#7fbc41"
            ],
            [
             0.9,
             "#4d9221"
            ],
            [
             1,
             "#276419"
            ]
           ],
           "sequential": [
            [
             0,
             "#0d0887"
            ],
            [
             0.1111111111111111,
             "#46039f"
            ],
            [
             0.2222222222222222,
             "#7201a8"
            ],
            [
             0.3333333333333333,
             "#9c179e"
            ],
            [
             0.4444444444444444,
             "#bd3786"
            ],
            [
             0.5555555555555556,
             "#d8576b"
            ],
            [
             0.6666666666666666,
             "#ed7953"
            ],
            [
             0.7777777777777778,
             "#fb9f3a"
            ],
            [
             0.8888888888888888,
             "#fdca26"
            ],
            [
             1,
             "#f0f921"
            ]
           ],
           "sequentialminus": [
            [
             0,
             "#0d0887"
            ],
            [
             0.1111111111111111,
             "#46039f"
            ],
            [
             0.2222222222222222,
             "#7201a8"
            ],
            [
             0.3333333333333333,
             "#9c179e"
            ],
            [
             0.4444444444444444,
             "#bd3786"
            ],
            [
             0.5555555555555556,
             "#d8576b"
            ],
            [
             0.6666666666666666,
             "#ed7953"
            ],
            [
             0.7777777777777778,
             "#fb9f3a"
            ],
            [
             0.8888888888888888,
             "#fdca26"
            ],
            [
             1,
             "#f0f921"
            ]
           ]
          },
          "colorway": [
           "#636efa",
           "#EF553B",
           "#00cc96",
           "#ab63fa",
           "#FFA15A",
           "#19d3f3",
           "#FF6692",
           "#B6E880",
           "#FF97FF",
           "#FECB52"
          ],
          "font": {
           "color": "#2a3f5f"
          },
          "geo": {
           "bgcolor": "white",
           "lakecolor": "white",
           "landcolor": "white",
           "showlakes": true,
           "showland": true,
           "subunitcolor": "#C8D4E3"
          },
          "hoverlabel": {
           "align": "left"
          },
          "hovermode": "closest",
          "mapbox": {
           "style": "light"
          },
          "paper_bgcolor": "white",
          "plot_bgcolor": "white",
          "polar": {
           "angularaxis": {
            "gridcolor": "#EBF0F8",
            "linecolor": "#EBF0F8",
            "ticks": ""
           },
           "bgcolor": "white",
           "radialaxis": {
            "gridcolor": "#EBF0F8",
            "linecolor": "#EBF0F8",
            "ticks": ""
           }
          },
          "scene": {
           "xaxis": {
            "backgroundcolor": "white",
            "gridcolor": "#DFE8F3",
            "gridwidth": 2,
            "linecolor": "#EBF0F8",
            "showbackground": true,
            "ticks": "",
            "zerolinecolor": "#EBF0F8"
           },
           "yaxis": {
            "backgroundcolor": "white",
            "gridcolor": "#DFE8F3",
            "gridwidth": 2,
            "linecolor": "#EBF0F8",
            "showbackground": true,
            "ticks": "",
            "zerolinecolor": "#EBF0F8"
           },
           "zaxis": {
            "backgroundcolor": "white",
            "gridcolor": "#DFE8F3",
            "gridwidth": 2,
            "linecolor": "#EBF0F8",
            "showbackground": true,
            "ticks": "",
            "zerolinecolor": "#EBF0F8"
           }
          },
          "shapedefaults": {
           "line": {
            "color": "#2a3f5f"
           }
          },
          "ternary": {
           "aaxis": {
            "gridcolor": "#DFE8F3",
            "linecolor": "#A2B1C6",
            "ticks": ""
           },
           "baxis": {
            "gridcolor": "#DFE8F3",
            "linecolor": "#A2B1C6",
            "ticks": ""
           },
           "bgcolor": "white",
           "caxis": {
            "gridcolor": "#DFE8F3",
            "linecolor": "#A2B1C6",
            "ticks": ""
           }
          },
          "title": {
           "x": 0.05
          },
          "xaxis": {
           "automargin": true,
           "gridcolor": "#EBF0F8",
           "linecolor": "#EBF0F8",
           "ticks": "",
           "title": {
            "standoff": 15
           },
           "zerolinecolor": "#EBF0F8",
           "zerolinewidth": 2
          },
          "yaxis": {
           "automargin": true,
           "gridcolor": "#EBF0F8",
           "linecolor": "#EBF0F8",
           "ticks": "",
           "title": {
            "standoff": 15
           },
           "zerolinecolor": "#EBF0F8",
           "zerolinewidth": 2
          }
         }
        },
        "title": {
         "text": "U.S. Monthly Gasoline Consumption (Millions of Gallons)",
         "x": 0.5
        },
        "xaxis": {
         "anchor": "y",
         "domain": [
          0,
          1
         ],
         "gridcolor": "lightgray",
         "showgrid": true,
         "title": {
          "text": "Date"
         }
        },
        "yaxis": {
         "anchor": "x",
         "domain": [
          0,
          1
         ],
         "gridcolor": "lightgray",
         "showgrid": true,
         "title": {
          "text": "Gasoline Consumption (Millions of Gallons)"
         }
        }
       }
      }
     },
     "metadata": {},
     "output_type": "display_data"
    }
   ],
   "source": [
    "''' Create a line plot of monthly gasoline consumption over time '''\n",
    "\n",
    "# Create line plot\n",
    "fig = px.line(\n",
    "    consumption,\n",
    "    x=\"Date\",\n",
    "    y=\"Gasoline_Consumption(Millions of Gallons)\",\n",
    "    title=\"U.S. Monthly Gasoline Consumption (Millions of Gallons)\",\n",
    "    labels={\n",
    "        \"Date\": \"Date\",\n",
    "        \"Gasoline_Consumption(Millions of Gallons)\": \"Gasoline Consumption (Millions of Gallons)\"\n",
    "    }\n",
    ")\n",
    "\n",
    "# Customize appearance\n",
    "fig.update_traces(line=dict(color=\"steelblue\", width=2))\n",
    "fig.update_layout(\n",
    "    template=\"plotly_white\",\n",
    "    title_x=0.5,\n",
    "    xaxis=dict(showgrid=True, gridcolor=\"lightgray\"),\n",
    "    yaxis=dict(showgrid=True, gridcolor=\"lightgray\"),\n",
    "    hovermode=\"x unified\",\n",
    "    height=600\n",
    ")\n",
    "\n",
    "fig.show()"
   ]
  },
  {
   "cell_type": "code",
   "execution_count": 440,
   "id": "e92dd65d",
   "metadata": {},
   "outputs": [
    {
     "data": {
      "application/vnd.plotly.v1+json": {
       "config": {
        "plotlyServerURL": "https://plot.ly"
       },
       "data": [
        {
         "line": {
          "color": "lightgray",
          "width": 1
         },
         "mode": "lines",
         "name": "Monthly Data",
         "type": "scatter",
         "x": [
          "1993-04-01T00:00:00.000000000",
          "1993-05-01T00:00:00.000000000",
          "1993-06-01T00:00:00.000000000",
          "1993-07-01T00:00:00.000000000",
          "1993-08-01T00:00:00.000000000",
          "1993-09-01T00:00:00.000000000",
          "1993-10-01T00:00:00.000000000",
          "1993-11-01T00:00:00.000000000",
          "1993-12-01T00:00:00.000000000",
          "1994-01-01T00:00:00.000000000",
          "1994-02-01T00:00:00.000000000",
          "1994-03-01T00:00:00.000000000",
          "1994-04-01T00:00:00.000000000",
          "1994-05-01T00:00:00.000000000",
          "1994-06-01T00:00:00.000000000",
          "1994-07-01T00:00:00.000000000",
          "1994-08-01T00:00:00.000000000",
          "1994-09-01T00:00:00.000000000",
          "1994-10-01T00:00:00.000000000",
          "1994-11-01T00:00:00.000000000",
          "1994-12-01T00:00:00.000000000",
          "1995-01-01T00:00:00.000000000",
          "1995-02-01T00:00:00.000000000",
          "1995-03-01T00:00:00.000000000",
          "1995-04-01T00:00:00.000000000",
          "1995-05-01T00:00:00.000000000",
          "1995-06-01T00:00:00.000000000",
          "1995-07-01T00:00:00.000000000",
          "1995-08-01T00:00:00.000000000",
          "1995-09-01T00:00:00.000000000",
          "1995-10-01T00:00:00.000000000",
          "1995-11-01T00:00:00.000000000",
          "1995-12-01T00:00:00.000000000",
          "1996-01-01T00:00:00.000000000",
          "1996-02-01T00:00:00.000000000",
          "1996-03-01T00:00:00.000000000",
          "1996-04-01T00:00:00.000000000",
          "1996-05-01T00:00:00.000000000",
          "1996-06-01T00:00:00.000000000",
          "1996-07-01T00:00:00.000000000",
          "1996-08-01T00:00:00.000000000",
          "1996-09-01T00:00:00.000000000",
          "1996-10-01T00:00:00.000000000",
          "1996-11-01T00:00:00.000000000",
          "1996-12-01T00:00:00.000000000",
          "1997-01-01T00:00:00.000000000",
          "1997-02-01T00:00:00.000000000",
          "1997-03-01T00:00:00.000000000",
          "1997-04-01T00:00:00.000000000",
          "1997-05-01T00:00:00.000000000",
          "1997-06-01T00:00:00.000000000",
          "1997-07-01T00:00:00.000000000",
          "1997-08-01T00:00:00.000000000",
          "1997-09-01T00:00:00.000000000",
          "1997-10-01T00:00:00.000000000",
          "1997-11-01T00:00:00.000000000",
          "1997-12-01T00:00:00.000000000",
          "1998-01-01T00:00:00.000000000",
          "1998-02-01T00:00:00.000000000",
          "1998-03-01T00:00:00.000000000",
          "1998-04-01T00:00:00.000000000",
          "1998-05-01T00:00:00.000000000",
          "1998-06-01T00:00:00.000000000",
          "1998-07-01T00:00:00.000000000",
          "1998-08-01T00:00:00.000000000",
          "1998-09-01T00:00:00.000000000",
          "1998-10-01T00:00:00.000000000",
          "1998-11-01T00:00:00.000000000",
          "1998-12-01T00:00:00.000000000",
          "1999-01-01T00:00:00.000000000",
          "1999-02-01T00:00:00.000000000",
          "1999-03-01T00:00:00.000000000",
          "1999-04-01T00:00:00.000000000",
          "1999-05-01T00:00:00.000000000",
          "1999-06-01T00:00:00.000000000",
          "1999-07-01T00:00:00.000000000",
          "1999-08-01T00:00:00.000000000",
          "1999-09-01T00:00:00.000000000",
          "1999-10-01T00:00:00.000000000",
          "1999-11-01T00:00:00.000000000",
          "1999-12-01T00:00:00.000000000",
          "2000-01-01T00:00:00.000000000",
          "2000-02-01T00:00:00.000000000",
          "2000-03-01T00:00:00.000000000",
          "2000-04-01T00:00:00.000000000",
          "2000-05-01T00:00:00.000000000",
          "2000-06-01T00:00:00.000000000",
          "2000-07-01T00:00:00.000000000",
          "2000-08-01T00:00:00.000000000",
          "2000-09-01T00:00:00.000000000",
          "2000-10-01T00:00:00.000000000",
          "2000-11-01T00:00:00.000000000",
          "2000-12-01T00:00:00.000000000",
          "2001-01-01T00:00:00.000000000",
          "2001-02-01T00:00:00.000000000",
          "2001-03-01T00:00:00.000000000",
          "2001-04-01T00:00:00.000000000",
          "2001-05-01T00:00:00.000000000",
          "2001-06-01T00:00:00.000000000",
          "2001-07-01T00:00:00.000000000",
          "2001-08-01T00:00:00.000000000",
          "2001-09-01T00:00:00.000000000",
          "2001-10-01T00:00:00.000000000",
          "2001-11-01T00:00:00.000000000",
          "2001-12-01T00:00:00.000000000",
          "2002-01-01T00:00:00.000000000",
          "2002-02-01T00:00:00.000000000",
          "2002-03-01T00:00:00.000000000",
          "2002-04-01T00:00:00.000000000",
          "2002-05-01T00:00:00.000000000",
          "2002-06-01T00:00:00.000000000",
          "2002-07-01T00:00:00.000000000",
          "2002-08-01T00:00:00.000000000",
          "2002-09-01T00:00:00.000000000",
          "2002-10-01T00:00:00.000000000",
          "2002-11-01T00:00:00.000000000",
          "2002-12-01T00:00:00.000000000",
          "2003-01-01T00:00:00.000000000",
          "2003-02-01T00:00:00.000000000",
          "2003-03-01T00:00:00.000000000",
          "2003-04-01T00:00:00.000000000",
          "2003-05-01T00:00:00.000000000",
          "2003-06-01T00:00:00.000000000",
          "2003-07-01T00:00:00.000000000",
          "2003-08-01T00:00:00.000000000",
          "2003-09-01T00:00:00.000000000",
          "2003-10-01T00:00:00.000000000",
          "2003-11-01T00:00:00.000000000",
          "2003-12-01T00:00:00.000000000",
          "2004-01-01T00:00:00.000000000",
          "2004-02-01T00:00:00.000000000",
          "2004-03-01T00:00:00.000000000",
          "2004-04-01T00:00:00.000000000",
          "2004-05-01T00:00:00.000000000",
          "2004-06-01T00:00:00.000000000",
          "2004-07-01T00:00:00.000000000",
          "2004-08-01T00:00:00.000000000",
          "2004-09-01T00:00:00.000000000",
          "2004-10-01T00:00:00.000000000",
          "2004-11-01T00:00:00.000000000",
          "2004-12-01T00:00:00.000000000",
          "2005-01-01T00:00:00.000000000",
          "2005-02-01T00:00:00.000000000",
          "2005-03-01T00:00:00.000000000",
          "2005-04-01T00:00:00.000000000",
          "2005-05-01T00:00:00.000000000",
          "2005-06-01T00:00:00.000000000",
          "2005-07-01T00:00:00.000000000",
          "2005-08-01T00:00:00.000000000",
          "2005-09-01T00:00:00.000000000",
          "2005-10-01T00:00:00.000000000",
          "2005-11-01T00:00:00.000000000",
          "2005-12-01T00:00:00.000000000",
          "2006-01-01T00:00:00.000000000",
          "2006-02-01T00:00:00.000000000",
          "2006-03-01T00:00:00.000000000",
          "2006-04-01T00:00:00.000000000",
          "2006-05-01T00:00:00.000000000",
          "2006-06-01T00:00:00.000000000",
          "2006-07-01T00:00:00.000000000",
          "2006-08-01T00:00:00.000000000",
          "2006-09-01T00:00:00.000000000",
          "2006-10-01T00:00:00.000000000",
          "2006-11-01T00:00:00.000000000",
          "2006-12-01T00:00:00.000000000",
          "2007-01-01T00:00:00.000000000",
          "2007-02-01T00:00:00.000000000",
          "2007-03-01T00:00:00.000000000",
          "2007-04-01T00:00:00.000000000",
          "2007-05-01T00:00:00.000000000",
          "2007-06-01T00:00:00.000000000",
          "2007-07-01T00:00:00.000000000",
          "2007-08-01T00:00:00.000000000",
          "2007-09-01T00:00:00.000000000",
          "2007-10-01T00:00:00.000000000",
          "2007-11-01T00:00:00.000000000",
          "2007-12-01T00:00:00.000000000",
          "2008-01-01T00:00:00.000000000",
          "2008-02-01T00:00:00.000000000",
          "2008-03-01T00:00:00.000000000",
          "2008-04-01T00:00:00.000000000",
          "2008-05-01T00:00:00.000000000",
          "2008-06-01T00:00:00.000000000",
          "2008-07-01T00:00:00.000000000",
          "2008-08-01T00:00:00.000000000",
          "2008-09-01T00:00:00.000000000",
          "2008-10-01T00:00:00.000000000",
          "2008-11-01T00:00:00.000000000",
          "2008-12-01T00:00:00.000000000",
          "2009-01-01T00:00:00.000000000",
          "2009-02-01T00:00:00.000000000",
          "2009-03-01T00:00:00.000000000",
          "2009-04-01T00:00:00.000000000",
          "2009-05-01T00:00:00.000000000",
          "2009-06-01T00:00:00.000000000",
          "2009-07-01T00:00:00.000000000",
          "2009-08-01T00:00:00.000000000",
          "2009-09-01T00:00:00.000000000",
          "2009-10-01T00:00:00.000000000",
          "2009-11-01T00:00:00.000000000",
          "2009-12-01T00:00:00.000000000",
          "2010-01-01T00:00:00.000000000",
          "2010-02-01T00:00:00.000000000",
          "2010-03-01T00:00:00.000000000",
          "2010-04-01T00:00:00.000000000",
          "2010-05-01T00:00:00.000000000",
          "2010-06-01T00:00:00.000000000",
          "2010-07-01T00:00:00.000000000",
          "2010-08-01T00:00:00.000000000",
          "2010-09-01T00:00:00.000000000",
          "2010-10-01T00:00:00.000000000",
          "2010-11-01T00:00:00.000000000",
          "2010-12-01T00:00:00.000000000",
          "2011-01-01T00:00:00.000000000",
          "2011-02-01T00:00:00.000000000",
          "2011-03-01T00:00:00.000000000",
          "2011-04-01T00:00:00.000000000",
          "2011-05-01T00:00:00.000000000",
          "2011-06-01T00:00:00.000000000",
          "2011-07-01T00:00:00.000000000",
          "2011-08-01T00:00:00.000000000",
          "2011-09-01T00:00:00.000000000",
          "2011-10-01T00:00:00.000000000",
          "2011-11-01T00:00:00.000000000",
          "2011-12-01T00:00:00.000000000",
          "2012-01-01T00:00:00.000000000",
          "2012-02-01T00:00:00.000000000",
          "2012-03-01T00:00:00.000000000",
          "2012-04-01T00:00:00.000000000",
          "2012-05-01T00:00:00.000000000",
          "2012-06-01T00:00:00.000000000",
          "2012-07-01T00:00:00.000000000",
          "2012-08-01T00:00:00.000000000",
          "2012-09-01T00:00:00.000000000",
          "2012-10-01T00:00:00.000000000",
          "2012-11-01T00:00:00.000000000",
          "2012-12-01T00:00:00.000000000",
          "2013-01-01T00:00:00.000000000",
          "2013-02-01T00:00:00.000000000",
          "2013-03-01T00:00:00.000000000",
          "2013-04-01T00:00:00.000000000",
          "2013-05-01T00:00:00.000000000",
          "2013-06-01T00:00:00.000000000",
          "2013-07-01T00:00:00.000000000",
          "2013-08-01T00:00:00.000000000",
          "2013-09-01T00:00:00.000000000",
          "2013-10-01T00:00:00.000000000",
          "2013-11-01T00:00:00.000000000",
          "2013-12-01T00:00:00.000000000",
          "2014-01-01T00:00:00.000000000",
          "2014-02-01T00:00:00.000000000",
          "2014-03-01T00:00:00.000000000",
          "2014-04-01T00:00:00.000000000",
          "2014-05-01T00:00:00.000000000",
          "2014-06-01T00:00:00.000000000",
          "2014-07-01T00:00:00.000000000",
          "2014-08-01T00:00:00.000000000",
          "2014-09-01T00:00:00.000000000",
          "2014-10-01T00:00:00.000000000",
          "2014-11-01T00:00:00.000000000",
          "2014-12-01T00:00:00.000000000",
          "2015-01-01T00:00:00.000000000",
          "2015-02-01T00:00:00.000000000",
          "2015-03-01T00:00:00.000000000",
          "2015-04-01T00:00:00.000000000",
          "2015-05-01T00:00:00.000000000",
          "2015-06-01T00:00:00.000000000",
          "2015-07-01T00:00:00.000000000",
          "2015-08-01T00:00:00.000000000",
          "2015-09-01T00:00:00.000000000",
          "2015-10-01T00:00:00.000000000",
          "2015-11-01T00:00:00.000000000",
          "2015-12-01T00:00:00.000000000",
          "2016-01-01T00:00:00.000000000",
          "2016-02-01T00:00:00.000000000",
          "2016-03-01T00:00:00.000000000",
          "2016-04-01T00:00:00.000000000",
          "2016-05-01T00:00:00.000000000",
          "2016-06-01T00:00:00.000000000",
          "2016-07-01T00:00:00.000000000",
          "2016-08-01T00:00:00.000000000",
          "2016-09-01T00:00:00.000000000",
          "2016-10-01T00:00:00.000000000",
          "2016-11-01T00:00:00.000000000",
          "2016-12-01T00:00:00.000000000",
          "2017-01-01T00:00:00.000000000",
          "2017-02-01T00:00:00.000000000",
          "2017-03-01T00:00:00.000000000",
          "2017-04-01T00:00:00.000000000",
          "2017-05-01T00:00:00.000000000",
          "2017-06-01T00:00:00.000000000",
          "2017-07-01T00:00:00.000000000",
          "2017-08-01T00:00:00.000000000",
          "2017-09-01T00:00:00.000000000",
          "2017-10-01T00:00:00.000000000",
          "2017-11-01T00:00:00.000000000",
          "2017-12-01T00:00:00.000000000",
          "2018-01-01T00:00:00.000000000",
          "2018-02-01T00:00:00.000000000",
          "2018-03-01T00:00:00.000000000",
          "2018-04-01T00:00:00.000000000",
          "2018-05-01T00:00:00.000000000",
          "2018-06-01T00:00:00.000000000",
          "2018-07-01T00:00:00.000000000",
          "2018-08-01T00:00:00.000000000",
          "2018-09-01T00:00:00.000000000",
          "2018-10-01T00:00:00.000000000",
          "2018-11-01T00:00:00.000000000",
          "2018-12-01T00:00:00.000000000",
          "2019-01-01T00:00:00.000000000",
          "2019-02-01T00:00:00.000000000",
          "2019-03-01T00:00:00.000000000",
          "2019-04-01T00:00:00.000000000",
          "2019-05-01T00:00:00.000000000",
          "2019-06-01T00:00:00.000000000",
          "2019-07-01T00:00:00.000000000",
          "2019-08-01T00:00:00.000000000",
          "2019-09-01T00:00:00.000000000",
          "2019-10-01T00:00:00.000000000",
          "2019-11-01T00:00:00.000000000",
          "2019-12-01T00:00:00.000000000",
          "2020-01-01T00:00:00.000000000",
          "2020-02-01T00:00:00.000000000",
          "2020-03-01T00:00:00.000000000",
          "2020-04-01T00:00:00.000000000",
          "2020-05-01T00:00:00.000000000",
          "2020-06-01T00:00:00.000000000",
          "2020-07-01T00:00:00.000000000",
          "2020-08-01T00:00:00.000000000",
          "2020-09-01T00:00:00.000000000",
          "2020-10-01T00:00:00.000000000",
          "2020-11-01T00:00:00.000000000",
          "2020-12-01T00:00:00.000000000",
          "2021-01-01T00:00:00.000000000",
          "2021-02-01T00:00:00.000000000",
          "2021-03-01T00:00:00.000000000",
          "2021-04-01T00:00:00.000000000",
          "2021-05-01T00:00:00.000000000",
          "2021-06-01T00:00:00.000000000",
          "2021-07-01T00:00:00.000000000",
          "2021-08-01T00:00:00.000000000",
          "2021-09-01T00:00:00.000000000",
          "2021-10-01T00:00:00.000000000",
          "2021-11-01T00:00:00.000000000",
          "2021-12-01T00:00:00.000000000",
          "2022-01-01T00:00:00.000000000",
          "2022-02-01T00:00:00.000000000",
          "2022-03-01T00:00:00.000000000",
          "2022-04-01T00:00:00.000000000",
          "2022-05-01T00:00:00.000000000",
          "2022-06-01T00:00:00.000000000",
          "2022-07-01T00:00:00.000000000",
          "2022-08-01T00:00:00.000000000",
          "2022-09-01T00:00:00.000000000",
          "2022-10-01T00:00:00.000000000",
          "2022-11-01T00:00:00.000000000",
          "2022-12-01T00:00:00.000000000",
          "2023-01-01T00:00:00.000000000",
          "2023-02-01T00:00:00.000000000",
          "2023-03-01T00:00:00.000000000",
          "2023-04-01T00:00:00.000000000",
          "2023-05-01T00:00:00.000000000",
          "2023-06-01T00:00:00.000000000",
          "2023-07-01T00:00:00.000000000",
          "2023-08-01T00:00:00.000000000",
          "2023-09-01T00:00:00.000000000",
          "2023-10-01T00:00:00.000000000",
          "2023-11-01T00:00:00.000000000",
          "2023-12-01T00:00:00.000000000",
          "2024-01-01T00:00:00.000000000",
          "2024-02-01T00:00:00.000000000",
          "2024-03-01T00:00:00.000000000",
          "2024-04-01T00:00:00.000000000",
          "2024-05-01T00:00:00.000000000",
          "2024-06-01T00:00:00.000000000",
          "2024-07-01T00:00:00.000000000",
          "2024-08-01T00:00:00.000000000",
          "2024-09-01T00:00:00.000000000",
          "2024-10-01T00:00:00.000000000",
          "2024-11-01T00:00:00.000000000",
          "2024-12-01T00:00:00.000000000"
         ],
         "y": {
          "bdata": "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",
          "dtype": "f8"
         }
        },
        {
         "line": {
          "color": "steelblue",
          "width": 3
         },
         "mode": "lines",
         "name": "12-Month Rolling Average",
         "type": "scatter",
         "x": [
          "1993-04-01T00:00:00.000000000",
          "1993-05-01T00:00:00.000000000",
          "1993-06-01T00:00:00.000000000",
          "1993-07-01T00:00:00.000000000",
          "1993-08-01T00:00:00.000000000",
          "1993-09-01T00:00:00.000000000",
          "1993-10-01T00:00:00.000000000",
          "1993-11-01T00:00:00.000000000",
          "1993-12-01T00:00:00.000000000",
          "1994-01-01T00:00:00.000000000",
          "1994-02-01T00:00:00.000000000",
          "1994-03-01T00:00:00.000000000",
          "1994-04-01T00:00:00.000000000",
          "1994-05-01T00:00:00.000000000",
          "1994-06-01T00:00:00.000000000",
          "1994-07-01T00:00:00.000000000",
          "1994-08-01T00:00:00.000000000",
          "1994-09-01T00:00:00.000000000",
          "1994-10-01T00:00:00.000000000",
          "1994-11-01T00:00:00.000000000",
          "1994-12-01T00:00:00.000000000",
          "1995-01-01T00:00:00.000000000",
          "1995-02-01T00:00:00.000000000",
          "1995-03-01T00:00:00.000000000",
          "1995-04-01T00:00:00.000000000",
          "1995-05-01T00:00:00.000000000",
          "1995-06-01T00:00:00.000000000",
          "1995-07-01T00:00:00.000000000",
          "1995-08-01T00:00:00.000000000",
          "1995-09-01T00:00:00.000000000",
          "1995-10-01T00:00:00.000000000",
          "1995-11-01T00:00:00.000000000",
          "1995-12-01T00:00:00.000000000",
          "1996-01-01T00:00:00.000000000",
          "1996-02-01T00:00:00.000000000",
          "1996-03-01T00:00:00.000000000",
          "1996-04-01T00:00:00.000000000",
          "1996-05-01T00:00:00.000000000",
          "1996-06-01T00:00:00.000000000",
          "1996-07-01T00:00:00.000000000",
          "1996-08-01T00:00:00.000000000",
          "1996-09-01T00:00:00.000000000",
          "1996-10-01T00:00:00.000000000",
          "1996-11-01T00:00:00.000000000",
          "1996-12-01T00:00:00.000000000",
          "1997-01-01T00:00:00.000000000",
          "1997-02-01T00:00:00.000000000",
          "1997-03-01T00:00:00.000000000",
          "1997-04-01T00:00:00.000000000",
          "1997-05-01T00:00:00.000000000",
          "1997-06-01T00:00:00.000000000",
          "1997-07-01T00:00:00.000000000",
          "1997-08-01T00:00:00.000000000",
          "1997-09-01T00:00:00.000000000",
          "1997-10-01T00:00:00.000000000",
          "1997-11-01T00:00:00.000000000",
          "1997-12-01T00:00:00.000000000",
          "1998-01-01T00:00:00.000000000",
          "1998-02-01T00:00:00.000000000",
          "1998-03-01T00:00:00.000000000",
          "1998-04-01T00:00:00.000000000",
          "1998-05-01T00:00:00.000000000",
          "1998-06-01T00:00:00.000000000",
          "1998-07-01T00:00:00.000000000",
          "1998-08-01T00:00:00.000000000",
          "1998-09-01T00:00:00.000000000",
          "1998-10-01T00:00:00.000000000",
          "1998-11-01T00:00:00.000000000",
          "1998-12-01T00:00:00.000000000",
          "1999-01-01T00:00:00.000000000",
          "1999-02-01T00:00:00.000000000",
          "1999-03-01T00:00:00.000000000",
          "1999-04-01T00:00:00.000000000",
          "1999-05-01T00:00:00.000000000",
          "1999-06-01T00:00:00.000000000",
          "1999-07-01T00:00:00.000000000",
          "1999-08-01T00:00:00.000000000",
          "1999-09-01T00:00:00.000000000",
          "1999-10-01T00:00:00.000000000",
          "1999-11-01T00:00:00.000000000",
          "1999-12-01T00:00:00.000000000",
          "2000-01-01T00:00:00.000000000",
          "2000-02-01T00:00:00.000000000",
          "2000-03-01T00:00:00.000000000",
          "2000-04-01T00:00:00.000000000",
          "2000-05-01T00:00:00.000000000",
          "2000-06-01T00:00:00.000000000",
          "2000-07-01T00:00:00.000000000",
          "2000-08-01T00:00:00.000000000",
          "2000-09-01T00:00:00.000000000",
          "2000-10-01T00:00:00.000000000",
          "2000-11-01T00:00:00.000000000",
          "2000-12-01T00:00:00.000000000",
          "2001-01-01T00:00:00.000000000",
          "2001-02-01T00:00:00.000000000",
          "2001-03-01T00:00:00.000000000",
          "2001-04-01T00:00:00.000000000",
          "2001-05-01T00:00:00.000000000",
          "2001-06-01T00:00:00.000000000",
          "2001-07-01T00:00:00.000000000",
          "2001-08-01T00:00:00.000000000",
          "2001-09-01T00:00:00.000000000",
          "2001-10-01T00:00:00.000000000",
          "2001-11-01T00:00:00.000000000",
          "2001-12-01T00:00:00.000000000",
          "2002-01-01T00:00:00.000000000",
          "2002-02-01T00:00:00.000000000",
          "2002-03-01T00:00:00.000000000",
          "2002-04-01T00:00:00.000000000",
          "2002-05-01T00:00:00.000000000",
          "2002-06-01T00:00:00.000000000",
          "2002-07-01T00:00:00.000000000",
          "2002-08-01T00:00:00.000000000",
          "2002-09-01T00:00:00.000000000",
          "2002-10-01T00:00:00.000000000",
          "2002-11-01T00:00:00.000000000",
          "2002-12-01T00:00:00.000000000",
          "2003-01-01T00:00:00.000000000",
          "2003-02-01T00:00:00.000000000",
          "2003-03-01T00:00:00.000000000",
          "2003-04-01T00:00:00.000000000",
          "2003-05-01T00:00:00.000000000",
          "2003-06-01T00:00:00.000000000",
          "2003-07-01T00:00:00.000000000",
          "2003-08-01T00:00:00.000000000",
          "2003-09-01T00:00:00.000000000",
          "2003-10-01T00:00:00.000000000",
          "2003-11-01T00:00:00.000000000",
          "2003-12-01T00:00:00.000000000",
          "2004-01-01T00:00:00.000000000",
          "2004-02-01T00:00:00.000000000",
          "2004-03-01T00:00:00.000000000",
          "2004-04-01T00:00:00.000000000",
          "2004-05-01T00:00:00.000000000",
          "2004-06-01T00:00:00.000000000",
          "2004-07-01T00:00:00.000000000",
          "2004-08-01T00:00:00.000000000",
          "2004-09-01T00:00:00.000000000",
          "2004-10-01T00:00:00.000000000",
          "2004-11-01T00:00:00.000000000",
          "2004-12-01T00:00:00.000000000",
          "2005-01-01T00:00:00.000000000",
          "2005-02-01T00:00:00.000000000",
          "2005-03-01T00:00:00.000000000",
          "2005-04-01T00:00:00.000000000",
          "2005-05-01T00:00:00.000000000",
          "2005-06-01T00:00:00.000000000",
          "2005-07-01T00:00:00.000000000",
          "2005-08-01T00:00:00.000000000",
          "2005-09-01T00:00:00.000000000",
          "2005-10-01T00:00:00.000000000",
          "2005-11-01T00:00:00.000000000",
          "2005-12-01T00:00:00.000000000",
          "2006-01-01T00:00:00.000000000",
          "2006-02-01T00:00:00.000000000",
          "2006-03-01T00:00:00.000000000",
          "2006-04-01T00:00:00.000000000",
          "2006-05-01T00:00:00.000000000",
          "2006-06-01T00:00:00.000000000",
          "2006-07-01T00:00:00.000000000",
          "2006-08-01T00:00:00.000000000",
          "2006-09-01T00:00:00.000000000",
          "2006-10-01T00:00:00.000000000",
          "2006-11-01T00:00:00.000000000",
          "2006-12-01T00:00:00.000000000",
          "2007-01-01T00:00:00.000000000",
          "2007-02-01T00:00:00.000000000",
          "2007-03-01T00:00:00.000000000",
          "2007-04-01T00:00:00.000000000",
          "2007-05-01T00:00:00.000000000",
          "2007-06-01T00:00:00.000000000",
          "2007-07-01T00:00:00.000000000",
          "2007-08-01T00:00:00.000000000",
          "2007-09-01T00:00:00.000000000",
          "2007-10-01T00:00:00.000000000",
          "2007-11-01T00:00:00.000000000",
          "2007-12-01T00:00:00.000000000",
          "2008-01-01T00:00:00.000000000",
          "2008-02-01T00:00:00.000000000",
          "2008-03-01T00:00:00.000000000",
          "2008-04-01T00:00:00.000000000",
          "2008-05-01T00:00:00.000000000",
          "2008-06-01T00:00:00.000000000",
          "2008-07-01T00:00:00.000000000",
          "2008-08-01T00:00:00.000000000",
          "2008-09-01T00:00:00.000000000",
          "2008-10-01T00:00:00.000000000",
          "2008-11-01T00:00:00.000000000",
          "2008-12-01T00:00:00.000000000",
          "2009-01-01T00:00:00.000000000",
          "2009-02-01T00:00:00.000000000",
          "2009-03-01T00:00:00.000000000",
          "2009-04-01T00:00:00.000000000",
          "2009-05-01T00:00:00.000000000",
          "2009-06-01T00:00:00.000000000",
          "2009-07-01T00:00:00.000000000",
          "2009-08-01T00:00:00.000000000",
          "2009-09-01T00:00:00.000000000",
          "2009-10-01T00:00:00.000000000",
          "2009-11-01T00:00:00.000000000",
          "2009-12-01T00:00:00.000000000",
          "2010-01-01T00:00:00.000000000",
          "2010-02-01T00:00:00.000000000",
          "2010-03-01T00:00:00.000000000",
          "2010-04-01T00:00:00.000000000",
          "2010-05-01T00:00:00.000000000",
          "2010-06-01T00:00:00.000000000",
          "2010-07-01T00:00:00.000000000",
          "2010-08-01T00:00:00.000000000",
          "2010-09-01T00:00:00.000000000",
          "2010-10-01T00:00:00.000000000",
          "2010-11-01T00:00:00.000000000",
          "2010-12-01T00:00:00.000000000",
          "2011-01-01T00:00:00.000000000",
          "2011-02-01T00:00:00.000000000",
          "2011-03-01T00:00:00.000000000",
          "2011-04-01T00:00:00.000000000",
          "2011-05-01T00:00:00.000000000",
          "2011-06-01T00:00:00.000000000",
          "2011-07-01T00:00:00.000000000",
          "2011-08-01T00:00:00.000000000",
          "2011-09-01T00:00:00.000000000",
          "2011-10-01T00:00:00.000000000",
          "2011-11-01T00:00:00.000000000",
          "2011-12-01T00:00:00.000000000",
          "2012-01-01T00:00:00.000000000",
          "2012-02-01T00:00:00.000000000",
          "2012-03-01T00:00:00.000000000",
          "2012-04-01T00:00:00.000000000",
          "2012-05-01T00:00:00.000000000",
          "2012-06-01T00:00:00.000000000",
          "2012-07-01T00:00:00.000000000",
          "2012-08-01T00:00:00.000000000",
          "2012-09-01T00:00:00.000000000",
          "2012-10-01T00:00:00.000000000",
          "2012-11-01T00:00:00.000000000",
          "2012-12-01T00:00:00.000000000",
          "2013-01-01T00:00:00.000000000",
          "2013-02-01T00:00:00.000000000",
          "2013-03-01T00:00:00.000000000",
          "2013-04-01T00:00:00.000000000",
          "2013-05-01T00:00:00.000000000",
          "2013-06-01T00:00:00.000000000",
          "2013-07-01T00:00:00.000000000",
          "2013-08-01T00:00:00.000000000",
          "2013-09-01T00:00:00.000000000",
          "2013-10-01T00:00:00.000000000",
          "2013-11-01T00:00:00.000000000",
          "2013-12-01T00:00:00.000000000",
          "2014-01-01T00:00:00.000000000",
          "2014-02-01T00:00:00.000000000",
          "2014-03-01T00:00:00.000000000",
          "2014-04-01T00:00:00.000000000",
          "2014-05-01T00:00:00.000000000",
          "2014-06-01T00:00:00.000000000",
          "2014-07-01T00:00:00.000000000",
          "2014-08-01T00:00:00.000000000",
          "2014-09-01T00:00:00.000000000",
          "2014-10-01T00:00:00.000000000",
          "2014-11-01T00:00:00.000000000",
          "2014-12-01T00:00:00.000000000",
          "2015-01-01T00:00:00.000000000",
          "2015-02-01T00:00:00.000000000",
          "2015-03-01T00:00:00.000000000",
          "2015-04-01T00:00:00.000000000",
          "2015-05-01T00:00:00.000000000",
          "2015-06-01T00:00:00.000000000",
          "2015-07-01T00:00:00.000000000",
          "2015-08-01T00:00:00.000000000",
          "2015-09-01T00:00:00.000000000",
          "2015-10-01T00:00:00.000000000",
          "2015-11-01T00:00:00.000000000",
          "2015-12-01T00:00:00.000000000",
          "2016-01-01T00:00:00.000000000",
          "2016-02-01T00:00:00.000000000",
          "2016-03-01T00:00:00.000000000",
          "2016-04-01T00:00:00.000000000",
          "2016-05-01T00:00:00.000000000",
          "2016-06-01T00:00:00.000000000",
          "2016-07-01T00:00:00.000000000",
          "2016-08-01T00:00:00.000000000",
          "2016-09-01T00:00:00.000000000",
          "2016-10-01T00:00:00.000000000",
          "2016-11-01T00:00:00.000000000",
          "2016-12-01T00:00:00.000000000",
          "2017-01-01T00:00:00.000000000",
          "2017-02-01T00:00:00.000000000",
          "2017-03-01T00:00:00.000000000",
          "2017-04-01T00:00:00.000000000",
          "2017-05-01T00:00:00.000000000",
          "2017-06-01T00:00:00.000000000",
          "2017-07-01T00:00:00.000000000",
          "2017-08-01T00:00:00.000000000",
          "2017-09-01T00:00:00.000000000",
          "2017-10-01T00:00:00.000000000",
          "2017-11-01T00:00:00.000000000",
          "2017-12-01T00:00:00.000000000",
          "2018-01-01T00:00:00.000000000",
          "2018-02-01T00:00:00.000000000",
          "2018-03-01T00:00:00.000000000",
          "2018-04-01T00:00:00.000000000",
          "2018-05-01T00:00:00.000000000",
          "2018-06-01T00:00:00.000000000",
          "2018-07-01T00:00:00.000000000",
          "2018-08-01T00:00:00.000000000",
          "2018-09-01T00:00:00.000000000",
          "2018-10-01T00:00:00.000000000",
          "2018-11-01T00:00:00.000000000",
          "2018-12-01T00:00:00.000000000",
          "2019-01-01T00:00:00.000000000",
          "2019-02-01T00:00:00.000000000",
          "2019-03-01T00:00:00.000000000",
          "2019-04-01T00:00:00.000000000",
          "2019-05-01T00:00:00.000000000",
          "2019-06-01T00:00:00.000000000",
          "2019-07-01T00:00:00.000000000",
          "2019-08-01T00:00:00.000000000",
          "2019-09-01T00:00:00.000000000",
          "2019-10-01T00:00:00.000000000",
          "2019-11-01T00:00:00.000000000",
          "2019-12-01T00:00:00.000000000",
          "2020-01-01T00:00:00.000000000",
          "2020-02-01T00:00:00.000000000",
          "2020-03-01T00:00:00.000000000",
          "2020-04-01T00:00:00.000000000",
          "2020-05-01T00:00:00.000000000",
          "2020-06-01T00:00:00.000000000",
          "2020-07-01T00:00:00.000000000",
          "2020-08-01T00:00:00.000000000",
          "2020-09-01T00:00:00.000000000",
          "2020-10-01T00:00:00.000000000",
          "2020-11-01T00:00:00.000000000",
          "2020-12-01T00:00:00.000000000",
          "2021-01-01T00:00:00.000000000",
          "2021-02-01T00:00:00.000000000",
          "2021-03-01T00:00:00.000000000",
          "2021-04-01T00:00:00.000000000",
          "2021-05-01T00:00:00.000000000",
          "2021-06-01T00:00:00.000000000",
          "2021-07-01T00:00:00.000000000",
          "2021-08-01T00:00:00.000000000",
          "2021-09-01T00:00:00.000000000",
          "2021-10-01T00:00:00.000000000",
          "2021-11-01T00:00:00.000000000",
          "2021-12-01T00:00:00.000000000",
          "2022-01-01T00:00:00.000000000",
          "2022-02-01T00:00:00.000000000",
          "2022-03-01T00:00:00.000000000",
          "2022-04-01T00:00:00.000000000",
          "2022-05-01T00:00:00.000000000",
          "2022-06-01T00:00:00.000000000",
          "2022-07-01T00:00:00.000000000",
          "2022-08-01T00:00:00.000000000",
          "2022-09-01T00:00:00.000000000",
          "2022-10-01T00:00:00.000000000",
          "2022-11-01T00:00:00.000000000",
          "2022-12-01T00:00:00.000000000",
          "2023-01-01T00:00:00.000000000",
          "2023-02-01T00:00:00.000000000",
          "2023-03-01T00:00:00.000000000",
          "2023-04-01T00:00:00.000000000",
          "2023-05-01T00:00:00.000000000",
          "2023-06-01T00:00:00.000000000",
          "2023-07-01T00:00:00.000000000",
          "2023-08-01T00:00:00.000000000",
          "2023-09-01T00:00:00.000000000",
          "2023-10-01T00:00:00.000000000",
          "2023-11-01T00:00:00.000000000",
          "2023-12-01T00:00:00.000000000",
          "2024-01-01T00:00:00.000000000",
          "2024-02-01T00:00:00.000000000",
          "2024-03-01T00:00:00.000000000",
          "2024-04-01T00:00:00.000000000",
          "2024-05-01T00:00:00.000000000",
          "2024-06-01T00:00:00.000000000",
          "2024-07-01T00:00:00.000000000",
          "2024-08-01T00:00:00.000000000",
          "2024-09-01T00:00:00.000000000",
          "2024-10-01T00:00:00.000000000",
          "2024-11-01T00:00:00.000000000",
          "2024-12-01T00:00:00.000000000"
         ],
         "y": {
          "bdata": "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",
          "dtype": "f8"
         }
        }
       ],
       "layout": {
        "height": 600,
        "hovermode": "x unified",
        "legend": {
         "bgcolor": "rgba(255,255,255,0.7)",
         "bordercolor": "lightgray",
         "borderwidth": 1,
         "x": 0.02,
         "y": 0.98
        },
        "template": {
         "data": {
          "bar": [
           {
            "error_x": {
             "color": "#2a3f5f"
            },
            "error_y": {
             "color": "#2a3f5f"
            },
            "marker": {
             "line": {
              "color": "white",
              "width": 0.5
             },
             "pattern": {
              "fillmode": "overlay",
              "size": 10,
              "solidity": 0.2
             }
            },
            "type": "bar"
           }
          ],
          "barpolar": [
           {
            "marker": {
             "line": {
              "color": "white",
              "width": 0.5
             },
             "pattern": {
              "fillmode": "overlay",
              "size": 10,
              "solidity": 0.2
             }
            },
            "type": "barpolar"
           }
          ],
          "carpet": [
           {
            "aaxis": {
             "endlinecolor": "#2a3f5f",
             "gridcolor": "#C8D4E3",
             "linecolor": "#C8D4E3",
             "minorgridcolor": "#C8D4E3",
             "startlinecolor": "#2a3f5f"
            },
            "baxis": {
             "endlinecolor": "#2a3f5f",
             "gridcolor": "#C8D4E3",
             "linecolor": "#C8D4E3",
             "minorgridcolor": "#C8D4E3",
             "startlinecolor": "#2a3f5f"
            },
            "type": "carpet"
           }
          ],
          "choropleth": [
           {
            "colorbar": {
             "outlinewidth": 0,
             "ticks": ""
            },
            "type": "choropleth"
           }
          ],
          "contour": [
           {
            "colorbar": {
             "outlinewidth": 0,
             "ticks": ""
            },
            "colorscale": [
             [
              0,
              "#0d0887"
             ],
             [
              0.1111111111111111,
              "#46039f"
             ],
             [
              0.2222222222222222,
              "#7201a8"
             ],
             [
              0.3333333333333333,
              "#9c179e"
             ],
             [
              0.4444444444444444,
              "#bd3786"
             ],
             [
              0.5555555555555556,
              "#d8576b"
             ],
             [
              0.6666666666666666,
              "#ed7953"
             ],
             [
              0.7777777777777778,
              "#fb9f3a"
             ],
             [
              0.8888888888888888,
              "#fdca26"
             ],
             [
              1,
              "#f0f921"
             ]
            ],
            "type": "contour"
           }
          ],
          "contourcarpet": [
           {
            "colorbar": {
             "outlinewidth": 0,
             "ticks": ""
            },
            "type": "contourcarpet"
           }
          ],
          "heatmap": [
           {
            "colorbar": {
             "outlinewidth": 0,
             "ticks": ""
            },
            "colorscale": [
             [
              0,
              "#0d0887"
             ],
             [
              0.1111111111111111,
              "#46039f"
             ],
             [
              0.2222222222222222,
              "#7201a8"
             ],
             [
              0.3333333333333333,
              "#9c179e"
             ],
             [
              0.4444444444444444,
              "#bd3786"
             ],
             [
              0.5555555555555556,
              "#d8576b"
             ],
             [
              0.6666666666666666,
              "#ed7953"
             ],
             [
              0.7777777777777778,
              "#fb9f3a"
             ],
             [
              0.8888888888888888,
              "#fdca26"
             ],
             [
              1,
              "#f0f921"
             ]
            ],
            "type": "heatmap"
           }
          ],
          "histogram": [
           {
            "marker": {
             "pattern": {
              "fillmode": "overlay",
              "size": 10,
              "solidity": 0.2
             }
            },
            "type": "histogram"
           }
          ],
          "histogram2d": [
           {
            "colorbar": {
             "outlinewidth": 0,
             "ticks": ""
            },
            "colorscale": [
             [
              0,
              "#0d0887"
             ],
             [
              0.1111111111111111,
              "#46039f"
             ],
             [
              0.2222222222222222,
              "#7201a8"
             ],
             [
              0.3333333333333333,
              "#9c179e"
             ],
             [
              0.4444444444444444,
              "#bd3786"
             ],
             [
              0.5555555555555556,
              "#d8576b"
             ],
             [
              0.6666666666666666,
              "#ed7953"
             ],
             [
              0.7777777777777778,
              "#fb9f3a"
             ],
             [
              0.8888888888888888,
              "#fdca26"
             ],
             [
              1,
              "#f0f921"
             ]
            ],
            "type": "histogram2d"
           }
          ],
          "histogram2dcontour": [
           {
            "colorbar": {
             "outlinewidth": 0,
             "ticks": ""
            },
            "colorscale": [
             [
              0,
              "#0d0887"
             ],
             [
              0.1111111111111111,
              "#46039f"
             ],
             [
              0.2222222222222222,
              "#7201a8"
             ],
             [
              0.3333333333333333,
              "#9c179e"
             ],
             [
              0.4444444444444444,
              "#bd3786"
             ],
             [
              0.5555555555555556,
              "#d8576b"
             ],
             [
              0.6666666666666666,
              "#ed7953"
             ],
             [
              0.7777777777777778,
              "#fb9f3a"
             ],
             [
              0.8888888888888888,
              "#fdca26"
             ],
             [
              1,
              "#f0f921"
             ]
            ],
            "type": "histogram2dcontour"
           }
          ],
          "mesh3d": [
           {
            "colorbar": {
             "outlinewidth": 0,
             "ticks": ""
            },
            "type": "mesh3d"
           }
          ],
          "parcoords": [
           {
            "line": {
             "colorbar": {
              "outlinewidth": 0,
              "ticks": ""
             }
            },
            "type": "parcoords"
           }
          ],
          "pie": [
           {
            "automargin": true,
            "type": "pie"
           }
          ],
          "scatter": [
           {
            "fillpattern": {
             "fillmode": "overlay",
             "size": 10,
             "solidity": 0.2
            },
            "type": "scatter"
           }
          ],
          "scatter3d": [
           {
            "line": {
             "colorbar": {
              "outlinewidth": 0,
              "ticks": ""
             }
            },
            "marker": {
             "colorbar": {
              "outlinewidth": 0,
              "ticks": ""
             }
            },
            "type": "scatter3d"
           }
          ],
          "scattercarpet": [
           {
            "marker": {
             "colorbar": {
              "outlinewidth": 0,
              "ticks": ""
             }
            },
            "type": "scattercarpet"
           }
          ],
          "scattergeo": [
           {
            "marker": {
             "colorbar": {
              "outlinewidth": 0,
              "ticks": ""
             }
            },
            "type": "scattergeo"
           }
          ],
          "scattergl": [
           {
            "marker": {
             "colorbar": {
              "outlinewidth": 0,
              "ticks": ""
             }
            },
            "type": "scattergl"
           }
          ],
          "scattermap": [
           {
            "marker": {
             "colorbar": {
              "outlinewidth": 0,
              "ticks": ""
             }
            },
            "type": "scattermap"
           }
          ],
          "scattermapbox": [
           {
            "marker": {
             "colorbar": {
              "outlinewidth": 0,
              "ticks": ""
             }
            },
            "type": "scattermapbox"
           }
          ],
          "scatterpolar": [
           {
            "marker": {
             "colorbar": {
              "outlinewidth": 0,
              "ticks": ""
             }
            },
            "type": "scatterpolar"
           }
          ],
          "scatterpolargl": [
           {
            "marker": {
             "colorbar": {
              "outlinewidth": 0,
              "ticks": ""
             }
            },
            "type": "scatterpolargl"
           }
          ],
          "scatterternary": [
           {
            "marker": {
             "colorbar": {
              "outlinewidth": 0,
              "ticks": ""
             }
            },
            "type": "scatterternary"
           }
          ],
          "surface": [
           {
            "colorbar": {
             "outlinewidth": 0,
             "ticks": ""
            },
            "colorscale": [
             [
              0,
              "#0d0887"
             ],
             [
              0.1111111111111111,
              "#46039f"
             ],
             [
              0.2222222222222222,
              "#7201a8"
             ],
             [
              0.3333333333333333,
              "#9c179e"
             ],
             [
              0.4444444444444444,
              "#bd3786"
             ],
             [
              0.5555555555555556,
              "#d8576b"
             ],
             [
              0.6666666666666666,
              "#ed7953"
             ],
             [
              0.7777777777777778,
              "#fb9f3a"
             ],
             [
              0.8888888888888888,
              "#fdca26"
             ],
             [
              1,
              "#f0f921"
             ]
            ],
            "type": "surface"
           }
          ],
          "table": [
           {
            "cells": {
             "fill": {
              "color": "#EBF0F8"
             },
             "line": {
              "color": "white"
             }
            },
            "header": {
             "fill": {
              "color": "#C8D4E3"
             },
             "line": {
              "color": "white"
             }
            },
            "type": "table"
           }
          ]
         },
         "layout": {
          "annotationdefaults": {
           "arrowcolor": "#2a3f5f",
           "arrowhead": 0,
           "arrowwidth": 1
          },
          "autotypenumbers": "strict",
          "coloraxis": {
           "colorbar": {
            "outlinewidth": 0,
            "ticks": ""
           }
          },
          "colorscale": {
           "diverging": [
            [
             0,
             "#8e0152"
            ],
            [
             0.1,
             "#c51b7d"
            ],
            [
             0.2,
             "#de77ae"
            ],
            [
             0.3,
             "#f1b6da"
            ],
            [
             0.4,
             "#fde0ef"
            ],
            [
             0.5,
             "#f7f7f7"
            ],
            [
             0.6,
             "#e6f5d0"
            ],
            [
             0.7,
             "#b8e186"
            ],
            [
             0.8,
             "#7fbc41"
            ],
            [
             0.9,
             "#4d9221"
            ],
            [
             1,
             "#276419"
            ]
           ],
           "sequential": [
            [
             0,
             "#0d0887"
            ],
            [
             0.1111111111111111,
             "#46039f"
            ],
            [
             0.2222222222222222,
             "#7201a8"
            ],
            [
             0.3333333333333333,
             "#9c179e"
            ],
            [
             0.4444444444444444,
             "#bd3786"
            ],
            [
             0.5555555555555556,
             "#d8576b"
            ],
            [
             0.6666666666666666,
             "#ed7953"
            ],
            [
             0.7777777777777778,
             "#fb9f3a"
            ],
            [
             0.8888888888888888,
             "#fdca26"
            ],
            [
             1,
             "#f0f921"
            ]
           ],
           "sequentialminus": [
            [
             0,
             "#0d0887"
            ],
            [
             0.1111111111111111,
             "#46039f"
            ],
            [
             0.2222222222222222,
             "#7201a8"
            ],
            [
             0.3333333333333333,
             "#9c179e"
            ],
            [
             0.4444444444444444,
             "#bd3786"
            ],
            [
             0.5555555555555556,
             "#d8576b"
            ],
            [
             0.6666666666666666,
             "#ed7953"
            ],
            [
             0.7777777777777778,
             "#fb9f3a"
            ],
            [
             0.8888888888888888,
             "#fdca26"
            ],
            [
             1,
             "#f0f921"
            ]
           ]
          },
          "colorway": [
           "#636efa",
           "#EF553B",
           "#00cc96",
           "#ab63fa",
           "#FFA15A",
           "#19d3f3",
           "#FF6692",
           "#B6E880",
           "#FF97FF",
           "#FECB52"
          ],
          "font": {
           "color": "#2a3f5f"
          },
          "geo": {
           "bgcolor": "white",
           "lakecolor": "white",
           "landcolor": "white",
           "showlakes": true,
           "showland": true,
           "subunitcolor": "#C8D4E3"
          },
          "hoverlabel": {
           "align": "left"
          },
          "hovermode": "closest",
          "mapbox": {
           "style": "light"
          },
          "paper_bgcolor": "white",
          "plot_bgcolor": "white",
          "polar": {
           "angularaxis": {
            "gridcolor": "#EBF0F8",
            "linecolor": "#EBF0F8",
            "ticks": ""
           },
           "bgcolor": "white",
           "radialaxis": {
            "gridcolor": "#EBF0F8",
            "linecolor": "#EBF0F8",
            "ticks": ""
           }
          },
          "scene": {
           "xaxis": {
            "backgroundcolor": "white",
            "gridcolor": "#DFE8F3",
            "gridwidth": 2,
            "linecolor": "#EBF0F8",
            "showbackground": true,
            "ticks": "",
            "zerolinecolor": "#EBF0F8"
           },
           "yaxis": {
            "backgroundcolor": "white",
            "gridcolor": "#DFE8F3",
            "gridwidth": 2,
            "linecolor": "#EBF0F8",
            "showbackground": true,
            "ticks": "",
            "zerolinecolor": "#EBF0F8"
           },
           "zaxis": {
            "backgroundcolor": "white",
            "gridcolor": "#DFE8F3",
            "gridwidth": 2,
            "linecolor": "#EBF0F8",
            "showbackground": true,
            "ticks": "",
            "zerolinecolor": "#EBF0F8"
           }
          },
          "shapedefaults": {
           "line": {
            "color": "#2a3f5f"
           }
          },
          "ternary": {
           "aaxis": {
            "gridcolor": "#DFE8F3",
            "linecolor": "#A2B1C6",
            "ticks": ""
           },
           "baxis": {
            "gridcolor": "#DFE8F3",
            "linecolor": "#A2B1C6",
            "ticks": ""
           },
           "bgcolor": "white",
           "caxis": {
            "gridcolor": "#DFE8F3",
            "linecolor": "#A2B1C6",
            "ticks": ""
           }
          },
          "title": {
           "x": 0.05
          },
          "xaxis": {
           "automargin": true,
           "gridcolor": "#EBF0F8",
           "linecolor": "#EBF0F8",
           "ticks": "",
           "title": {
            "standoff": 15
           },
           "zerolinecolor": "#EBF0F8",
           "zerolinewidth": 2
          },
          "yaxis": {
           "automargin": true,
           "gridcolor": "#EBF0F8",
           "linecolor": "#EBF0F8",
           "ticks": "",
           "title": {
            "standoff": 15
           },
           "zerolinecolor": "#EBF0F8",
           "zerolinewidth": 2
          }
         }
        },
        "title": {
         "text": "Smoothed U.S. Gasoline Consumption (12-Month Rolling Average)",
         "x": 0.5
        },
        "xaxis": {
         "gridcolor": "lightgray",
         "showgrid": true,
         "title": {
          "text": "Date"
         }
        },
        "yaxis": {
         "gridcolor": "lightgray",
         "showgrid": true,
         "title": {
          "text": "Gasoline Consumption (Millions of Gallons)"
         }
        }
       }
      }
     },
     "metadata": {},
     "output_type": "display_data"
    }
   ],
   "source": [
    "''' Create a smoothed line plot using a 12-month rolling average '''\n",
    "\n",
    "# Create 12-month rolling average\n",
    "consumption[\"Rolling_Avg\"] = consumption[\"Gasoline_Consumption(Millions of Gallons)\"].rolling(window=12).mean()\n",
    "\n",
    "# Create interactive figure\n",
    "fig = go.Figure()\n",
    "\n",
    "# Monthly data (light gray)\n",
    "fig.add_trace(go.Scatter(\n",
    "    x=consumption[\"Date\"],\n",
    "    y=consumption[\"Gasoline_Consumption(Millions of Gallons)\"],\n",
    "    mode=\"lines\",\n",
    "    name=\"Monthly Data\",\n",
    "    line=dict(color=\"lightgray\", width=1)\n",
    "))\n",
    "\n",
    "# 12-month rolling average (steel blue)\n",
    "fig.add_trace(go.Scatter(\n",
    "    x=consumption[\"Date\"],\n",
    "    y=consumption[\"Rolling_Avg\"],\n",
    "    mode=\"lines\",\n",
    "    name=\"12-Month Rolling Average\",\n",
    "    line=dict(color=\"steelblue\", width=3)\n",
    "))\n",
    "\n",
    "# Layout customization\n",
    "fig.update_layout(\n",
    "    title=\"Smoothed U.S. Gasoline Consumption (12-Month Rolling Average)\",\n",
    "    xaxis_title=\"Date\",\n",
    "    yaxis_title=\"Gasoline Consumption (Millions of Gallons)\",\n",
    "    template=\"plotly_white\",\n",
    "    legend=dict(\n",
    "        x=0.02, y=0.98,\n",
    "        bgcolor=\"rgba(255,255,255,0.7)\",\n",
    "        bordercolor=\"lightgray\",\n",
    "        borderwidth=1\n",
    "    ),\n",
    "    xaxis=dict(showgrid=True, gridcolor=\"lightgray\"),\n",
    "    yaxis=dict(showgrid=True, gridcolor=\"lightgray\"),\n",
    "    title_x=0.5,\n",
    "    hovermode=\"x unified\",\n",
    "    height=600\n",
    ")\n",
    "\n",
    "fig.show()"
   ]
  },
  {
   "cell_type": "code",
   "execution_count": 441,
   "id": "e49e0599",
   "metadata": {},
   "outputs": [
    {
     "data": {
      "application/vnd.plotly.v1+json": {
       "config": {
        "plotlyServerURL": "https://plot.ly"
       },
       "data": [
        {
         "hovertemplate": "Year=%{x}<br>Average Monthly Consumption (Millions of Gallons)=%{y}<extra></extra>",
         "legendgroup": "",
         "line": {
          "color": "navy",
          "dash": "solid",
          "width": 2
         },
         "marker": {
          "color": "navy",
          "line": {
           "color": "white",
           "width": 1
          },
          "size": 6,
          "symbol": "circle"
         },
         "mode": "lines+markers",
         "name": "",
         "orientation": "v",
         "showlegend": false,
         "type": "scatter",
         "x": {
          "bdata": "yQcAAMoHAADLBwAAzAcAAM0HAADOBwAAzwcAANAHAADRBwAA0gcAANMHAADUBwAA1QcAANYHAADXBwAA2AcAANkHAADaBwAA2wcAANwHAADdBwAA3gcAAN8HAADgBwAA4QcAAOIHAADjBwAA5AcAAOUHAADmBwAA5wcAAOgHAAA=",
          "dtype": "i4"
         },
         "xaxis": "x",
         "y": {
          "bdata": "KVyPwvUXw0DFILByYPfCQGmR7Xz/bsNArBxaZOu9w0Cq8dJNwgDEQO18PzXel8RAF9nO9ysJxUBvEoPAWjLFQOF6FK6ne8VADAIrh44TxkAEVg4tKkvGQKwcWmQDyMZAnMQgsHraxkBnZmZmDhbHQFyPwvU4K8dAPQrXo5h9xkBoke18h3LGQHWTGAQOcMZAE4PAytHWxUBjEFg59LjFQCcxCKx0EMZA8dJNYjBCxkBoke18r+bGQCuHFtmWT8dAFK5H4VJFx0CsHFpk40bHQB1aZDtXOsdASQwCK4cjxECkcD0KB//FQEA1XrpR+8VAQWDl0JpRxkAAAAAAEG/GQA==",
          "dtype": "f8"
         },
         "yaxis": "y"
        }
       ],
       "layout": {
        "hovermode": "x unified",
        "legend": {
         "tracegroupgap": 0
        },
        "template": {
         "data": {
          "bar": [
           {
            "error_x": {
             "color": "#2a3f5f"
            },
            "error_y": {
             "color": "#2a3f5f"
            },
            "marker": {
             "line": {
              "color": "white",
              "width": 0.5
             },
             "pattern": {
              "fillmode": "overlay",
              "size": 10,
              "solidity": 0.2
             }
            },
            "type": "bar"
           }
          ],
          "barpolar": [
           {
            "marker": {
             "line": {
              "color": "white",
              "width": 0.5
             },
             "pattern": {
              "fillmode": "overlay",
              "size": 10,
              "solidity": 0.2
             }
            },
            "type": "barpolar"
           }
          ],
          "carpet": [
           {
            "aaxis": {
             "endlinecolor": "#2a3f5f",
             "gridcolor": "#C8D4E3",
             "linecolor": "#C8D4E3",
             "minorgridcolor": "#C8D4E3",
             "startlinecolor": "#2a3f5f"
            },
            "baxis": {
             "endlinecolor": "#2a3f5f",
             "gridcolor": "#C8D4E3",
             "linecolor": "#C8D4E3",
             "minorgridcolor": "#C8D4E3",
             "startlinecolor": "#2a3f5f"
            },
            "type": "carpet"
           }
          ],
          "choropleth": [
           {
            "colorbar": {
             "outlinewidth": 0,
             "ticks": ""
            },
            "type": "choropleth"
           }
          ],
          "contour": [
           {
            "colorbar": {
             "outlinewidth": 0,
             "ticks": ""
            },
            "colorscale": [
             [
              0,
              "#0d0887"
             ],
             [
              0.1111111111111111,
              "#46039f"
             ],
             [
              0.2222222222222222,
              "#7201a8"
             ],
             [
              0.3333333333333333,
              "#9c179e"
             ],
             [
              0.4444444444444444,
              "#bd3786"
             ],
             [
              0.5555555555555556,
              "#d8576b"
             ],
             [
              0.6666666666666666,
              "#ed7953"
             ],
             [
              0.7777777777777778,
              "#fb9f3a"
             ],
             [
              0.8888888888888888,
              "#fdca26"
             ],
             [
              1,
              "#f0f921"
             ]
            ],
            "type": "contour"
           }
          ],
          "contourcarpet": [
           {
            "colorbar": {
             "outlinewidth": 0,
             "ticks": ""
            },
            "type": "contourcarpet"
           }
          ],
          "heatmap": [
           {
            "colorbar": {
             "outlinewidth": 0,
             "ticks": ""
            },
            "colorscale": [
             [
              0,
              "#0d0887"
             ],
             [
              0.1111111111111111,
              "#46039f"
             ],
             [
              0.2222222222222222,
              "#7201a8"
             ],
             [
              0.3333333333333333,
              "#9c179e"
             ],
             [
              0.4444444444444444,
              "#bd3786"
             ],
             [
              0.5555555555555556,
              "#d8576b"
             ],
             [
              0.6666666666666666,
              "#ed7953"
             ],
             [
              0.7777777777777778,
              "#fb9f3a"
             ],
             [
              0.8888888888888888,
              "#fdca26"
             ],
             [
              1,
              "#f0f921"
             ]
            ],
            "type": "heatmap"
           }
          ],
          "histogram": [
           {
            "marker": {
             "pattern": {
              "fillmode": "overlay",
              "size": 10,
              "solidity": 0.2
             }
            },
            "type": "histogram"
           }
          ],
          "histogram2d": [
           {
            "colorbar": {
             "outlinewidth": 0,
             "ticks": ""
            },
            "colorscale": [
             [
              0,
              "#0d0887"
             ],
             [
              0.1111111111111111,
              "#46039f"
             ],
             [
              0.2222222222222222,
              "#7201a8"
             ],
             [
              0.3333333333333333,
              "#9c179e"
             ],
             [
              0.4444444444444444,
              "#bd3786"
             ],
             [
              0.5555555555555556,
              "#d8576b"
             ],
             [
              0.6666666666666666,
              "#ed7953"
             ],
             [
              0.7777777777777778,
              "#fb9f3a"
             ],
             [
              0.8888888888888888,
              "#fdca26"
             ],
             [
              1,
              "#f0f921"
             ]
            ],
            "type": "histogram2d"
           }
          ],
          "histogram2dcontour": [
           {
            "colorbar": {
             "outlinewidth": 0,
             "ticks": ""
            },
            "colorscale": [
             [
              0,
              "#0d0887"
             ],
             [
              0.1111111111111111,
              "#46039f"
             ],
             [
              0.2222222222222222,
              "#7201a8"
             ],
             [
              0.3333333333333333,
              "#9c179e"
             ],
             [
              0.4444444444444444,
              "#bd3786"
             ],
             [
              0.5555555555555556,
              "#d8576b"
             ],
             [
              0.6666666666666666,
              "#ed7953"
             ],
             [
              0.7777777777777778,
              "#fb9f3a"
             ],
             [
              0.8888888888888888,
              "#fdca26"
             ],
             [
              1,
              "#f0f921"
             ]
            ],
            "type": "histogram2dcontour"
           }
          ],
          "mesh3d": [
           {
            "colorbar": {
             "outlinewidth": 0,
             "ticks": ""
            },
            "type": "mesh3d"
           }
          ],
          "parcoords": [
           {
            "line": {
             "colorbar": {
              "outlinewidth": 0,
              "ticks": ""
             }
            },
            "type": "parcoords"
           }
          ],
          "pie": [
           {
            "automargin": true,
            "type": "pie"
           }
          ],
          "scatter": [
           {
            "fillpattern": {
             "fillmode": "overlay",
             "size": 10,
             "solidity": 0.2
            },
            "type": "scatter"
           }
          ],
          "scatter3d": [
           {
            "line": {
             "colorbar": {
              "outlinewidth": 0,
              "ticks": ""
             }
            },
            "marker": {
             "colorbar": {
              "outlinewidth": 0,
              "ticks": ""
             }
            },
            "type": "scatter3d"
           }
          ],
          "scattercarpet": [
           {
            "marker": {
             "colorbar": {
              "outlinewidth": 0,
              "ticks": ""
             }
            },
            "type": "scattercarpet"
           }
          ],
          "scattergeo": [
           {
            "marker": {
             "colorbar": {
              "outlinewidth": 0,
              "ticks": ""
             }
            },
            "type": "scattergeo"
           }
          ],
          "scattergl": [
           {
            "marker": {
             "colorbar": {
              "outlinewidth": 0,
              "ticks": ""
             }
            },
            "type": "scattergl"
           }
          ],
          "scattermap": [
           {
            "marker": {
             "colorbar": {
              "outlinewidth": 0,
              "ticks": ""
             }
            },
            "type": "scattermap"
           }
          ],
          "scattermapbox": [
           {
            "marker": {
             "colorbar": {
              "outlinewidth": 0,
              "ticks": ""
             }
            },
            "type": "scattermapbox"
           }
          ],
          "scatterpolar": [
           {
            "marker": {
             "colorbar": {
              "outlinewidth": 0,
              "ticks": ""
             }
            },
            "type": "scatterpolar"
           }
          ],
          "scatterpolargl": [
           {
            "marker": {
             "colorbar": {
              "outlinewidth": 0,
              "ticks": ""
             }
            },
            "type": "scatterpolargl"
           }
          ],
          "scatterternary": [
           {
            "marker": {
             "colorbar": {
              "outlinewidth": 0,
              "ticks": ""
             }
            },
            "type": "scatterternary"
           }
          ],
          "surface": [
           {
            "colorbar": {
             "outlinewidth": 0,
             "ticks": ""
            },
            "colorscale": [
             [
              0,
              "#0d0887"
             ],
             [
              0.1111111111111111,
              "#46039f"
             ],
             [
              0.2222222222222222,
              "#7201a8"
             ],
             [
              0.3333333333333333,
              "#9c179e"
             ],
             [
              0.4444444444444444,
              "#bd3786"
             ],
             [
              0.5555555555555556,
              "#d8576b"
             ],
             [
              0.6666666666666666,
              "#ed7953"
             ],
             [
              0.7777777777777778,
              "#fb9f3a"
             ],
             [
              0.8888888888888888,
              "#fdca26"
             ],
             [
              1,
              "#f0f921"
             ]
            ],
            "type": "surface"
           }
          ],
          "table": [
           {
            "cells": {
             "fill": {
              "color": "#EBF0F8"
             },
             "line": {
              "color": "white"
             }
            },
            "header": {
             "fill": {
              "color": "#C8D4E3"
             },
             "line": {
              "color": "white"
             }
            },
            "type": "table"
           }
          ]
         },
         "layout": {
          "annotationdefaults": {
           "arrowcolor": "#2a3f5f",
           "arrowhead": 0,
           "arrowwidth": 1
          },
          "autotypenumbers": "strict",
          "coloraxis": {
           "colorbar": {
            "outlinewidth": 0,
            "ticks": ""
           }
          },
          "colorscale": {
           "diverging": [
            [
             0,
             "#8e0152"
            ],
            [
             0.1,
             "#c51b7d"
            ],
            [
             0.2,
             "#de77ae"
            ],
            [
             0.3,
             "#f1b6da"
            ],
            [
             0.4,
             "#fde0ef"
            ],
            [
             0.5,
             "#f7f7f7"
            ],
            [
             0.6,
             "#e6f5d0"
            ],
            [
             0.7,
             "#b8e186"
            ],
            [
             0.8,
             "#7fbc41"
            ],
            [
             0.9,
             "#4d9221"
            ],
            [
             1,
             "#276419"
            ]
           ],
           "sequential": [
            [
             0,
             "#0d0887"
            ],
            [
             0.1111111111111111,
             "#46039f"
            ],
            [
             0.2222222222222222,
             "#7201a8"
            ],
            [
             0.3333333333333333,
             "#9c179e"
            ],
            [
             0.4444444444444444,
             "#bd3786"
            ],
            [
             0.5555555555555556,
             "#d8576b"
            ],
            [
             0.6666666666666666,
             "#ed7953"
            ],
            [
             0.7777777777777778,
             "#fb9f3a"
            ],
            [
             0.8888888888888888,
             "#fdca26"
            ],
            [
             1,
             "#f0f921"
            ]
           ],
           "sequentialminus": [
            [
             0,
             "#0d0887"
            ],
            [
             0.1111111111111111,
             "#46039f"
            ],
            [
             0.2222222222222222,
             "#7201a8"
            ],
            [
             0.3333333333333333,
             "#9c179e"
            ],
            [
             0.4444444444444444,
             "#bd3786"
            ],
            [
             0.5555555555555556,
             "#d8576b"
            ],
            [
             0.6666666666666666,
             "#ed7953"
            ],
            [
             0.7777777777777778,
             "#fb9f3a"
            ],
            [
             0.8888888888888888,
             "#fdca26"
            ],
            [
             1,
             "#f0f921"
            ]
           ]
          },
          "colorway": [
           "#636efa",
           "#EF553B",
           "#00cc96",
           "#ab63fa",
           "#FFA15A",
           "#19d3f3",
           "#FF6692",
           "#B6E880",
           "#FF97FF",
           "#FECB52"
          ],
          "font": {
           "color": "#2a3f5f"
          },
          "geo": {
           "bgcolor": "white",
           "lakecolor": "white",
           "landcolor": "white",
           "showlakes": true,
           "showland": true,
           "subunitcolor": "#C8D4E3"
          },
          "hoverlabel": {
           "align": "left"
          },
          "hovermode": "closest",
          "mapbox": {
           "style": "light"
          },
          "paper_bgcolor": "white",
          "plot_bgcolor": "white",
          "polar": {
           "angularaxis": {
            "gridcolor": "#EBF0F8",
            "linecolor": "#EBF0F8",
            "ticks": ""
           },
           "bgcolor": "white",
           "radialaxis": {
            "gridcolor": "#EBF0F8",
            "linecolor": "#EBF0F8",
            "ticks": ""
           }
          },
          "scene": {
           "xaxis": {
            "backgroundcolor": "white",
            "gridcolor": "#DFE8F3",
            "gridwidth": 2,
            "linecolor": "#EBF0F8",
            "showbackground": true,
            "ticks": "",
            "zerolinecolor": "#EBF0F8"
           },
           "yaxis": {
            "backgroundcolor": "white",
            "gridcolor": "#DFE8F3",
            "gridwidth": 2,
            "linecolor": "#EBF0F8",
            "showbackground": true,
            "ticks": "",
            "zerolinecolor": "#EBF0F8"
           },
           "zaxis": {
            "backgroundcolor": "white",
            "gridcolor": "#DFE8F3",
            "gridwidth": 2,
            "linecolor": "#EBF0F8",
            "showbackground": true,
            "ticks": "",
            "zerolinecolor": "#EBF0F8"
           }
          },
          "shapedefaults": {
           "line": {
            "color": "#2a3f5f"
           }
          },
          "ternary": {
           "aaxis": {
            "gridcolor": "#DFE8F3",
            "linecolor": "#A2B1C6",
            "ticks": ""
           },
           "baxis": {
            "gridcolor": "#DFE8F3",
            "linecolor": "#A2B1C6",
            "ticks": ""
           },
           "bgcolor": "white",
           "caxis": {
            "gridcolor": "#DFE8F3",
            "linecolor": "#A2B1C6",
            "ticks": ""
           }
          },
          "title": {
           "x": 0.05
          },
          "xaxis": {
           "automargin": true,
           "gridcolor": "#EBF0F8",
           "linecolor": "#EBF0F8",
           "ticks": "",
           "title": {
            "standoff": 15
           },
           "zerolinecolor": "#EBF0F8",
           "zerolinewidth": 2
          },
          "yaxis": {
           "automargin": true,
           "gridcolor": "#EBF0F8",
           "linecolor": "#EBF0F8",
           "ticks": "",
           "title": {
            "standoff": 15
           },
           "zerolinecolor": "#EBF0F8",
           "zerolinewidth": 2
          }
         }
        },
        "title": {
         "text": "Average Yearly Gasoline Consumption",
         "x": 0.5
        },
        "xaxis": {
         "anchor": "y",
         "domain": [
          0,
          1
         ],
         "gridcolor": "lightgray",
         "showgrid": true,
         "title": {
          "text": "Year"
         }
        },
        "yaxis": {
         "anchor": "x",
         "domain": [
          0,
          1
         ],
         "gridcolor": "lightgray",
         "showgrid": true,
         "title": {
          "text": "Average Monthly Consumption (Millions of Gallons)"
         }
        }
       }
      }
     },
     "metadata": {},
     "output_type": "display_data"
    }
   ],
   "source": [
    "''' Create a line plot to visualize average yearly gasoline consumption '''\n",
    "\n",
    "# Extract the Year from the Date column\n",
    "consumption[\"Year\"] = consumption[\"Date\"].dt.year\n",
    "yearly_avg = consumption.groupby(\"Year\")[\"Gasoline_Consumption(Millions of Gallons)\"].mean().reset_index()\n",
    "\n",
    "# Create line plot\n",
    "fig = px.line(\n",
    "    yearly_avg,\n",
    "    x=\"Year\",\n",
    "    y=\"Gasoline_Consumption(Millions of Gallons)\",\n",
    "    title=\"Average Yearly Gasoline Consumption\",\n",
    "    labels={\n",
    "        \"Year\": \"Year\",\n",
    "        \"Gasoline_Consumption(Millions of Gallons)\": \"Average Monthly Consumption (Millions of Gallons)\"\n",
    "    },\n",
    ")\n",
    "\n",
    "# Customize the appearance\n",
    "fig.update_traces(\n",
    "    mode=\"lines+markers\",\n",
    "    line=dict(color=\"navy\", width=2),\n",
    "    marker=dict(size=6, color=\"navy\", line=dict(width=1, color=\"white\"))\n",
    ")\n",
    "\n",
    "# Update layout\n",
    "fig.update_layout(\n",
    "    template=\"plotly_white\",\n",
    "    hovermode=\"x unified\",\n",
    "    title_x=0.5,\n",
    "    xaxis=dict(showgrid=True, gridcolor=\"lightgray\"),\n",
    "    yaxis=dict(showgrid=True, gridcolor=\"lightgray\"),\n",
    ")\n",
    "\n",
    "fig.show()"
   ]
  },
  {
   "cell_type": "code",
   "execution_count": 442,
   "id": "5d5c90a3",
   "metadata": {},
   "outputs": [
    {
     "data": {
      "application/vnd.plotly.v1+json": {
       "config": {
        "plotlyServerURL": "https://plot.ly"
       },
       "data": [
        {
         "hovertemplate": "Year=%{x}<br>Total Annual Consumption (Millions of Gallons)=%{y}<extra></extra>",
         "legendgroup": "",
         "line": {
          "color": "darkgreen",
          "dash": "solid",
          "width": 2
         },
         "marker": {
          "color": "darkgreen",
          "line": {
           "color": "white",
           "width": 1
          },
          "size": 6,
          "symbol": "circle"
         },
         "mode": "lines+markers",
         "name": "",
         "orientation": "v",
         "showlegend": false,
         "type": "scatter",
         "x": {
          "bdata": "yQcAAMoHAADLBwAAzAcAAM0HAADOBwAAzwcAANAHAADRBwAA0gcAANMHAADUBwAA1QcAANYHAADXBwAA2AcAANkHAADaBwAA2wcAANwHAADdBwAA3gcAAN8HAADgBwAA4QcAAOIHAADjBwAA5AcAAOUHAADmBwAA5wcAAOgHAAA=",
          "dtype": "i4"
         },
         "xaxis": "x",
         "y": {
          "bdata": "rkfhevR69UAnMQisEHP8QB1aZDt/Jv1AAiuHFuGc/UB/arx0IwH+QGQ730/N4/5AokW288GN/0Cmm8QgiMv/QClcj8K9HABBiUFg5aqOAEGDwMqhX7gAQYGVQ4sCFgFBdZMYBNwjAUHNzMzMilABQYXrUbhqYAFBrkfhejLeAEEOLbKd5dUAQZhuEoMK1ABBTmIQWB1hAEFKDAIrt0oAQd0kBoFXjABBNV66SaSxAEEOLbKdAy0BQWDl0CKxewFBj8L1KP5zAUGBlUOLKnUBQZZDi2zBawFBbhKDwEo1/kB7FK5HRX8AQfCnxkt9fABBMQisHDS9AEEAAAAATNMAQQ==",
          "dtype": "f8"
         },
         "yaxis": "y"
        }
       ],
       "layout": {
        "hovermode": "x unified",
        "legend": {
         "tracegroupgap": 0
        },
        "template": {
         "data": {
          "bar": [
           {
            "error_x": {
             "color": "#2a3f5f"
            },
            "error_y": {
             "color": "#2a3f5f"
            },
            "marker": {
             "line": {
              "color": "white",
              "width": 0.5
             },
             "pattern": {
              "fillmode": "overlay",
              "size": 10,
              "solidity": 0.2
             }
            },
            "type": "bar"
           }
          ],
          "barpolar": [
           {
            "marker": {
             "line": {
              "color": "white",
              "width": 0.5
             },
             "pattern": {
              "fillmode": "overlay",
              "size": 10,
              "solidity": 0.2
             }
            },
            "type": "barpolar"
           }
          ],
          "carpet": [
           {
            "aaxis": {
             "endlinecolor": "#2a3f5f",
             "gridcolor": "#C8D4E3",
             "linecolor": "#C8D4E3",
             "minorgridcolor": "#C8D4E3",
             "startlinecolor": "#2a3f5f"
            },
            "baxis": {
             "endlinecolor": "#2a3f5f",
             "gridcolor": "#C8D4E3",
             "linecolor": "#C8D4E3",
             "minorgridcolor": "#C8D4E3",
             "startlinecolor": "#2a3f5f"
            },
            "type": "carpet"
           }
          ],
          "choropleth": [
           {
            "colorbar": {
             "outlinewidth": 0,
             "ticks": ""
            },
            "type": "choropleth"
           }
          ],
          "contour": [
           {
            "colorbar": {
             "outlinewidth": 0,
             "ticks": ""
            },
            "colorscale": [
             [
              0,
              "#0d0887"
             ],
             [
              0.1111111111111111,
              "#46039f"
             ],
             [
              0.2222222222222222,
              "#7201a8"
             ],
             [
              0.3333333333333333,
              "#9c179e"
             ],
             [
              0.4444444444444444,
              "#bd3786"
             ],
             [
              0.5555555555555556,
              "#d8576b"
             ],
             [
              0.6666666666666666,
              "#ed7953"
             ],
             [
              0.7777777777777778,
              "#fb9f3a"
             ],
             [
              0.8888888888888888,
              "#fdca26"
             ],
             [
              1,
              "#f0f921"
             ]
            ],
            "type": "contour"
           }
          ],
          "contourcarpet": [
           {
            "colorbar": {
             "outlinewidth": 0,
             "ticks": ""
            },
            "type": "contourcarpet"
           }
          ],
          "heatmap": [
           {
            "colorbar": {
             "outlinewidth": 0,
             "ticks": ""
            },
            "colorscale": [
             [
              0,
              "#0d0887"
             ],
             [
              0.1111111111111111,
              "#46039f"
             ],
             [
              0.2222222222222222,
              "#7201a8"
             ],
             [
              0.3333333333333333,
              "#9c179e"
             ],
             [
              0.4444444444444444,
              "#bd3786"
             ],
             [
              0.5555555555555556,
              "#d8576b"
             ],
             [
              0.6666666666666666,
              "#ed7953"
             ],
             [
              0.7777777777777778,
              "#fb9f3a"
             ],
             [
              0.8888888888888888,
              "#fdca26"
             ],
             [
              1,
              "#f0f921"
             ]
            ],
            "type": "heatmap"
           }
          ],
          "histogram": [
           {
            "marker": {
             "pattern": {
              "fillmode": "overlay",
              "size": 10,
              "solidity": 0.2
             }
            },
            "type": "histogram"
           }
          ],
          "histogram2d": [
           {
            "colorbar": {
             "outlinewidth": 0,
             "ticks": ""
            },
            "colorscale": [
             [
              0,
              "#0d0887"
             ],
             [
              0.1111111111111111,
              "#46039f"
             ],
             [
              0.2222222222222222,
              "#7201a8"
             ],
             [
              0.3333333333333333,
              "#9c179e"
             ],
             [
              0.4444444444444444,
              "#bd3786"
             ],
             [
              0.5555555555555556,
              "#d8576b"
             ],
             [
              0.6666666666666666,
              "#ed7953"
             ],
             [
              0.7777777777777778,
              "#fb9f3a"
             ],
             [
              0.8888888888888888,
              "#fdca26"
             ],
             [
              1,
              "#f0f921"
             ]
            ],
            "type": "histogram2d"
           }
          ],
          "histogram2dcontour": [
           {
            "colorbar": {
             "outlinewidth": 0,
             "ticks": ""
            },
            "colorscale": [
             [
              0,
              "#0d0887"
             ],
             [
              0.1111111111111111,
              "#46039f"
             ],
             [
              0.2222222222222222,
              "#7201a8"
             ],
             [
              0.3333333333333333,
              "#9c179e"
             ],
             [
              0.4444444444444444,
              "#bd3786"
             ],
             [
              0.5555555555555556,
              "#d8576b"
             ],
             [
              0.6666666666666666,
              "#ed7953"
             ],
             [
              0.7777777777777778,
              "#fb9f3a"
             ],
             [
              0.8888888888888888,
              "#fdca26"
             ],
             [
              1,
              "#f0f921"
             ]
            ],
            "type": "histogram2dcontour"
           }
          ],
          "mesh3d": [
           {
            "colorbar": {
             "outlinewidth": 0,
             "ticks": ""
            },
            "type": "mesh3d"
           }
          ],
          "parcoords": [
           {
            "line": {
             "colorbar": {
              "outlinewidth": 0,
              "ticks": ""
             }
            },
            "type": "parcoords"
           }
          ],
          "pie": [
           {
            "automargin": true,
            "type": "pie"
           }
          ],
          "scatter": [
           {
            "fillpattern": {
             "fillmode": "overlay",
             "size": 10,
             "solidity": 0.2
            },
            "type": "scatter"
           }
          ],
          "scatter3d": [
           {
            "line": {
             "colorbar": {
              "outlinewidth": 0,
              "ticks": ""
             }
            },
            "marker": {
             "colorbar": {
              "outlinewidth": 0,
              "ticks": ""
             }
            },
            "type": "scatter3d"
           }
          ],
          "scattercarpet": [
           {
            "marker": {
             "colorbar": {
              "outlinewidth": 0,
              "ticks": ""
             }
            },
            "type": "scattercarpet"
           }
          ],
          "scattergeo": [
           {
            "marker": {
             "colorbar": {
              "outlinewidth": 0,
              "ticks": ""
             }
            },
            "type": "scattergeo"
           }
          ],
          "scattergl": [
           {
            "marker": {
             "colorbar": {
              "outlinewidth": 0,
              "ticks": ""
             }
            },
            "type": "scattergl"
           }
          ],
          "scattermap": [
           {
            "marker": {
             "colorbar": {
              "outlinewidth": 0,
              "ticks": ""
             }
            },
            "type": "scattermap"
           }
          ],
          "scattermapbox": [
           {
            "marker": {
             "colorbar": {
              "outlinewidth": 0,
              "ticks": ""
             }
            },
            "type": "scattermapbox"
           }
          ],
          "scatterpolar": [
           {
            "marker": {
             "colorbar": {
              "outlinewidth": 0,
              "ticks": ""
             }
            },
            "type": "scatterpolar"
           }
          ],
          "scatterpolargl": [
           {
            "marker": {
             "colorbar": {
              "outlinewidth": 0,
              "ticks": ""
             }
            },
            "type": "scatterpolargl"
           }
          ],
          "scatterternary": [
           {
            "marker": {
             "colorbar": {
              "outlinewidth": 0,
              "ticks": ""
             }
            },
            "type": "scatterternary"
           }
          ],
          "surface": [
           {
            "colorbar": {
             "outlinewidth": 0,
             "ticks": ""
            },
            "colorscale": [
             [
              0,
              "#0d0887"
             ],
             [
              0.1111111111111111,
              "#46039f"
             ],
             [
              0.2222222222222222,
              "#7201a8"
             ],
             [
              0.3333333333333333,
              "#9c179e"
             ],
             [
              0.4444444444444444,
              "#bd3786"
             ],
             [
              0.5555555555555556,
              "#d8576b"
             ],
             [
              0.6666666666666666,
              "#ed7953"
             ],
             [
              0.7777777777777778,
              "#fb9f3a"
             ],
             [
              0.8888888888888888,
              "#fdca26"
             ],
             [
              1,
              "#f0f921"
             ]
            ],
            "type": "surface"
           }
          ],
          "table": [
           {
            "cells": {
             "fill": {
              "color": "#EBF0F8"
             },
             "line": {
              "color": "white"
             }
            },
            "header": {
             "fill": {
              "color": "#C8D4E3"
             },
             "line": {
              "color": "white"
             }
            },
            "type": "table"
           }
          ]
         },
         "layout": {
          "annotationdefaults": {
           "arrowcolor": "#2a3f5f",
           "arrowhead": 0,
           "arrowwidth": 1
          },
          "autotypenumbers": "strict",
          "coloraxis": {
           "colorbar": {
            "outlinewidth": 0,
            "ticks": ""
           }
          },
          "colorscale": {
           "diverging": [
            [
             0,
             "#8e0152"
            ],
            [
             0.1,
             "#c51b7d"
            ],
            [
             0.2,
             "#de77ae"
            ],
            [
             0.3,
             "#f1b6da"
            ],
            [
             0.4,
             "#fde0ef"
            ],
            [
             0.5,
             "#f7f7f7"
            ],
            [
             0.6,
             "#e6f5d0"
            ],
            [
             0.7,
             "#b8e186"
            ],
            [
             0.8,
             "#7fbc41"
            ],
            [
             0.9,
             "#4d9221"
            ],
            [
             1,
             "#276419"
            ]
           ],
           "sequential": [
            [
             0,
             "#0d0887"
            ],
            [
             0.1111111111111111,
             "#46039f"
            ],
            [
             0.2222222222222222,
             "#7201a8"
            ],
            [
             0.3333333333333333,
             "#9c179e"
            ],
            [
             0.4444444444444444,
             "#bd3786"
            ],
            [
             0.5555555555555556,
             "#d8576b"
            ],
            [
             0.6666666666666666,
             "#ed7953"
            ],
            [
             0.7777777777777778,
             "#fb9f3a"
            ],
            [
             0.8888888888888888,
             "#fdca26"
            ],
            [
             1,
             "#f0f921"
            ]
           ],
           "sequentialminus": [
            [
             0,
             "#0d0887"
            ],
            [
             0.1111111111111111,
             "#46039f"
            ],
            [
             0.2222222222222222,
             "#7201a8"
            ],
            [
             0.3333333333333333,
             "#9c179e"
            ],
            [
             0.4444444444444444,
             "#bd3786"
            ],
            [
             0.5555555555555556,
             "#d8576b"
            ],
            [
             0.6666666666666666,
             "#ed7953"
            ],
            [
             0.7777777777777778,
             "#fb9f3a"
            ],
            [
             0.8888888888888888,
             "#fdca26"
            ],
            [
             1,
             "#f0f921"
            ]
           ]
          },
          "colorway": [
           "#636efa",
           "#EF553B",
           "#00cc96",
           "#ab63fa",
           "#FFA15A",
           "#19d3f3",
           "#FF6692",
           "#B6E880",
           "#FF97FF",
           "#FECB52"
          ],
          "font": {
           "color": "#2a3f5f"
          },
          "geo": {
           "bgcolor": "white",
           "lakecolor": "white",
           "landcolor": "white",
           "showlakes": true,
           "showland": true,
           "subunitcolor": "#C8D4E3"
          },
          "hoverlabel": {
           "align": "left"
          },
          "hovermode": "closest",
          "mapbox": {
           "style": "light"
          },
          "paper_bgcolor": "white",
          "plot_bgcolor": "white",
          "polar": {
           "angularaxis": {
            "gridcolor": "#EBF0F8",
            "linecolor": "#EBF0F8",
            "ticks": ""
           },
           "bgcolor": "white",
           "radialaxis": {
            "gridcolor": "#EBF0F8",
            "linecolor": "#EBF0F8",
            "ticks": ""
           }
          },
          "scene": {
           "xaxis": {
            "backgroundcolor": "white",
            "gridcolor": "#DFE8F3",
            "gridwidth": 2,
            "linecolor": "#EBF0F8",
            "showbackground": true,
            "ticks": "",
            "zerolinecolor": "#EBF0F8"
           },
           "yaxis": {
            "backgroundcolor": "white",
            "gridcolor": "#DFE8F3",
            "gridwidth": 2,
            "linecolor": "#EBF0F8",
            "showbackground": true,
            "ticks": "",
            "zerolinecolor": "#EBF0F8"
           },
           "zaxis": {
            "backgroundcolor": "white",
            "gridcolor": "#DFE8F3",
            "gridwidth": 2,
            "linecolor": "#EBF0F8",
            "showbackground": true,
            "ticks": "",
            "zerolinecolor": "#EBF0F8"
           }
          },
          "shapedefaults": {
           "line": {
            "color": "#2a3f5f"
           }
          },
          "ternary": {
           "aaxis": {
            "gridcolor": "#DFE8F3",
            "linecolor": "#A2B1C6",
            "ticks": ""
           },
           "baxis": {
            "gridcolor": "#DFE8F3",
            "linecolor": "#A2B1C6",
            "ticks": ""
           },
           "bgcolor": "white",
           "caxis": {
            "gridcolor": "#DFE8F3",
            "linecolor": "#A2B1C6",
            "ticks": ""
           }
          },
          "title": {
           "x": 0.05
          },
          "xaxis": {
           "automargin": true,
           "gridcolor": "#EBF0F8",
           "linecolor": "#EBF0F8",
           "ticks": "",
           "title": {
            "standoff": 15
           },
           "zerolinecolor": "#EBF0F8",
           "zerolinewidth": 2
          },
          "yaxis": {
           "automargin": true,
           "gridcolor": "#EBF0F8",
           "linecolor": "#EBF0F8",
           "ticks": "",
           "title": {
            "standoff": 15
           },
           "zerolinecolor": "#EBF0F8",
           "zerolinewidth": 2
          }
         }
        },
        "title": {
         "text": "Total U.S. Gasoline Consumption per Year",
         "x": 0.5
        },
        "xaxis": {
         "anchor": "y",
         "domain": [
          0,
          1
         ],
         "gridcolor": "lightgray",
         "showgrid": true,
         "title": {
          "text": "Year"
         }
        },
        "yaxis": {
         "anchor": "x",
         "domain": [
          0,
          1
         ],
         "gridcolor": "lightgray",
         "showgrid": true,
         "title": {
          "text": "Total Annual Consumption (Millions of Gallons)"
         }
        }
       }
      }
     },
     "metadata": {},
     "output_type": "display_data"
    }
   ],
   "source": [
    "''' Create a line plot to visualize total yearly gasoline consumption '''\n",
    "\n",
    "# Extract the Year from the Date column\n",
    "yearly_total = (\n",
    "    consumption.groupby(\"Year\")[\"Gasoline_Consumption(Millions of Gallons)\"]\n",
    "    .sum()\n",
    "    .reset_index()\n",
    ")\n",
    "\n",
    "# Create line plot\n",
    "fig = px.line(\n",
    "    yearly_total,\n",
    "    x=\"Year\",\n",
    "    y=\"Gasoline_Consumption(Millions of Gallons)\",\n",
    "    title=\"Total U.S. Gasoline Consumption per Year\",\n",
    "    labels={\n",
    "        \"Year\": \"Year\",\n",
    "        \"Gasoline_Consumption(Millions of Gallons)\": \"Total Annual Consumption (Millions of Gallons)\"\n",
    "    },\n",
    ")\n",
    "\n",
    "# Customize appearance\n",
    "fig.update_traces(\n",
    "    mode=\"lines+markers\",\n",
    "    line=dict(color=\"darkgreen\", width=2),\n",
    "    marker=dict(size=6, color=\"darkgreen\", line=dict(width=1, color=\"white\"))\n",
    ")\n",
    "\n",
    "# Update layout\n",
    "fig.update_layout(\n",
    "    template=\"plotly_white\",\n",
    "    hovermode=\"x unified\",\n",
    "    title_x=0.5,\n",
    "    xaxis=dict(showgrid=True, gridcolor=\"lightgray\"),\n",
    "    yaxis=dict(showgrid=True, gridcolor=\"lightgray\"),\n",
    ")\n",
    "\n",
    "fig.show()"
   ]
  },
  {
   "cell_type": "markdown",
   "id": "3bb833b7",
   "metadata": {},
   "source": [
    "# Can we use imputation to make up missing first 3 months of 1993?"
   ]
  },
  {
   "cell_type": "code",
   "execution_count": 443,
   "id": "be7a1076",
   "metadata": {},
   "outputs": [],
   "source": [
    "consumption.set_index(\"Date\", inplace=True)\n",
    "consumption[\"Gasoline_Consumption(Millions of Gallons)\"] = (\n",
    "    consumption[\"Gasoline_Consumption(Millions of Gallons)\"].interpolate(method=\"linear\")\n",
    ")\n",
    "consumption.reset_index(inplace=True)\n",
    "# need to rearrange the order of stuff "
   ]
  },
  {
   "cell_type": "code",
   "execution_count": 444,
   "id": "f9021b23",
   "metadata": {},
   "outputs": [
    {
     "data": {
      "application/vnd.plotly.v1+json": {
       "config": {
        "plotlyServerURL": "https://plot.ly"
       },
       "data": [
        {
         "line": {
          "color": "steelblue",
          "width": 2
         },
         "mode": "lines",
         "name": "Monthly Consumption",
         "type": "scatter",
         "x": [
          "1993-04-01T00:00:00.000000000",
          "1993-05-01T00:00:00.000000000",
          "1993-06-01T00:00:00.000000000",
          "1993-07-01T00:00:00.000000000",
          "1993-08-01T00:00:00.000000000",
          "1993-09-01T00:00:00.000000000",
          "1993-10-01T00:00:00.000000000",
          "1993-11-01T00:00:00.000000000",
          "1993-12-01T00:00:00.000000000",
          "1994-01-01T00:00:00.000000000",
          "1994-02-01T00:00:00.000000000",
          "1994-03-01T00:00:00.000000000",
          "1994-04-01T00:00:00.000000000",
          "1994-05-01T00:00:00.000000000",
          "1994-06-01T00:00:00.000000000",
          "1994-07-01T00:00:00.000000000",
          "1994-08-01T00:00:00.000000000",
          "1994-09-01T00:00:00.000000000",
          "1994-10-01T00:00:00.000000000",
          "1994-11-01T00:00:00.000000000",
          "1994-12-01T00:00:00.000000000",
          "1995-01-01T00:00:00.000000000",
          "1995-02-01T00:00:00.000000000",
          "1995-03-01T00:00:00.000000000",
          "1995-04-01T00:00:00.000000000",
          "1995-05-01T00:00:00.000000000",
          "1995-06-01T00:00:00.000000000",
          "1995-07-01T00:00:00.000000000",
          "1995-08-01T00:00:00.000000000",
          "1995-09-01T00:00:00.000000000",
          "1995-10-01T00:00:00.000000000",
          "1995-11-01T00:00:00.000000000",
          "1995-12-01T00:00:00.000000000",
          "1996-01-01T00:00:00.000000000",
          "1996-02-01T00:00:00.000000000",
          "1996-03-01T00:00:00.000000000",
          "1996-04-01T00:00:00.000000000",
          "1996-05-01T00:00:00.000000000",
          "1996-06-01T00:00:00.000000000",
          "1996-07-01T00:00:00.000000000",
          "1996-08-01T00:00:00.000000000",
          "1996-09-01T00:00:00.000000000",
          "1996-10-01T00:00:00.000000000",
          "1996-11-01T00:00:00.000000000",
          "1996-12-01T00:00:00.000000000",
          "1997-01-01T00:00:00.000000000",
          "1997-02-01T00:00:00.000000000",
          "1997-03-01T00:00:00.000000000",
          "1997-04-01T00:00:00.000000000",
          "1997-05-01T00:00:00.000000000",
          "1997-06-01T00:00:00.000000000",
          "1997-07-01T00:00:00.000000000",
          "1997-08-01T00:00:00.000000000",
          "1997-09-01T00:00:00.000000000",
          "1997-10-01T00:00:00.000000000",
          "1997-11-01T00:00:00.000000000",
          "1997-12-01T00:00:00.000000000",
          "1998-01-01T00:00:00.000000000",
          "1998-02-01T00:00:00.000000000",
          "1998-03-01T00:00:00.000000000",
          "1998-04-01T00:00:00.000000000",
          "1998-05-01T00:00:00.000000000",
          "1998-06-01T00:00:00.000000000",
          "1998-07-01T00:00:00.000000000",
          "1998-08-01T00:00:00.000000000",
          "1998-09-01T00:00:00.000000000",
          "1998-10-01T00:00:00.000000000",
          "1998-11-01T00:00:00.000000000",
          "1998-12-01T00:00:00.000000000",
          "1999-01-01T00:00:00.000000000",
          "1999-02-01T00:00:00.000000000",
          "1999-03-01T00:00:00.000000000",
          "1999-04-01T00:00:00.000000000",
          "1999-05-01T00:00:00.000000000",
          "1999-06-01T00:00:00.000000000",
          "1999-07-01T00:00:00.000000000",
          "1999-08-01T00:00:00.000000000",
          "1999-09-01T00:00:00.000000000",
          "1999-10-01T00:00:00.000000000",
          "1999-11-01T00:00:00.000000000",
          "1999-12-01T00:00:00.000000000",
          "2000-01-01T00:00:00.000000000",
          "2000-02-01T00:00:00.000000000",
          "2000-03-01T00:00:00.000000000",
          "2000-04-01T00:00:00.000000000",
          "2000-05-01T00:00:00.000000000",
          "2000-06-01T00:00:00.000000000",
          "2000-07-01T00:00:00.000000000",
          "2000-08-01T00:00:00.000000000",
          "2000-09-01T00:00:00.000000000",
          "2000-10-01T00:00:00.000000000",
          "2000-11-01T00:00:00.000000000",
          "2000-12-01T00:00:00.000000000",
          "2001-01-01T00:00:00.000000000",
          "2001-02-01T00:00:00.000000000",
          "2001-03-01T00:00:00.000000000",
          "2001-04-01T00:00:00.000000000",
          "2001-05-01T00:00:00.000000000",
          "2001-06-01T00:00:00.000000000",
          "2001-07-01T00:00:00.000000000",
          "2001-08-01T00:00:00.000000000",
          "2001-09-01T00:00:00.000000000",
          "2001-10-01T00:00:00.000000000",
          "2001-11-01T00:00:00.000000000",
          "2001-12-01T00:00:00.000000000",
          "2002-01-01T00:00:00.000000000",
          "2002-02-01T00:00:00.000000000",
          "2002-03-01T00:00:00.000000000",
          "2002-04-01T00:00:00.000000000",
          "2002-05-01T00:00:00.000000000",
          "2002-06-01T00:00:00.000000000",
          "2002-07-01T00:00:00.000000000",
          "2002-08-01T00:00:00.000000000",
          "2002-09-01T00:00:00.000000000",
          "2002-10-01T00:00:00.000000000",
          "2002-11-01T00:00:00.000000000",
          "2002-12-01T00:00:00.000000000",
          "2003-01-01T00:00:00.000000000",
          "2003-02-01T00:00:00.000000000",
          "2003-03-01T00:00:00.000000000",
          "2003-04-01T00:00:00.000000000",
          "2003-05-01T00:00:00.000000000",
          "2003-06-01T00:00:00.000000000",
          "2003-07-01T00:00:00.000000000",
          "2003-08-01T00:00:00.000000000",
          "2003-09-01T00:00:00.000000000",
          "2003-10-01T00:00:00.000000000",
          "2003-11-01T00:00:00.000000000",
          "2003-12-01T00:00:00.000000000",
          "2004-01-01T00:00:00.000000000",
          "2004-02-01T00:00:00.000000000",
          "2004-03-01T00:00:00.000000000",
          "2004-04-01T00:00:00.000000000",
          "2004-05-01T00:00:00.000000000",
          "2004-06-01T00:00:00.000000000",
          "2004-07-01T00:00:00.000000000",
          "2004-08-01T00:00:00.000000000",
          "2004-09-01T00:00:00.000000000",
          "2004-10-01T00:00:00.000000000",
          "2004-11-01T00:00:00.000000000",
          "2004-12-01T00:00:00.000000000",
          "2005-01-01T00:00:00.000000000",
          "2005-02-01T00:00:00.000000000",
          "2005-03-01T00:00:00.000000000",
          "2005-04-01T00:00:00.000000000",
          "2005-05-01T00:00:00.000000000",
          "2005-06-01T00:00:00.000000000",
          "2005-07-01T00:00:00.000000000",
          "2005-08-01T00:00:00.000000000",
          "2005-09-01T00:00:00.000000000",
          "2005-10-01T00:00:00.000000000",
          "2005-11-01T00:00:00.000000000",
          "2005-12-01T00:00:00.000000000",
          "2006-01-01T00:00:00.000000000",
          "2006-02-01T00:00:00.000000000",
          "2006-03-01T00:00:00.000000000",
          "2006-04-01T00:00:00.000000000",
          "2006-05-01T00:00:00.000000000",
          "2006-06-01T00:00:00.000000000",
          "2006-07-01T00:00:00.000000000",
          "2006-08-01T00:00:00.000000000",
          "2006-09-01T00:00:00.000000000",
          "2006-10-01T00:00:00.000000000",
          "2006-11-01T00:00:00.000000000",
          "2006-12-01T00:00:00.000000000",
          "2007-01-01T00:00:00.000000000",
          "2007-02-01T00:00:00.000000000",
          "2007-03-01T00:00:00.000000000",
          "2007-04-01T00:00:00.000000000",
          "2007-05-01T00:00:00.000000000",
          "2007-06-01T00:00:00.000000000",
          "2007-07-01T00:00:00.000000000",
          "2007-08-01T00:00:00.000000000",
          "2007-09-01T00:00:00.000000000",
          "2007-10-01T00:00:00.000000000",
          "2007-11-01T00:00:00.000000000",
          "2007-12-01T00:00:00.000000000",
          "2008-01-01T00:00:00.000000000",
          "2008-02-01T00:00:00.000000000",
          "2008-03-01T00:00:00.000000000",
          "2008-04-01T00:00:00.000000000",
          "2008-05-01T00:00:00.000000000",
          "2008-06-01T00:00:00.000000000",
          "2008-07-01T00:00:00.000000000",
          "2008-08-01T00:00:00.000000000",
          "2008-09-01T00:00:00.000000000",
          "2008-10-01T00:00:00.000000000",
          "2008-11-01T00:00:00.000000000",
          "2008-12-01T00:00:00.000000000",
          "2009-01-01T00:00:00.000000000",
          "2009-02-01T00:00:00.000000000",
          "2009-03-01T00:00:00.000000000",
          "2009-04-01T00:00:00.000000000",
          "2009-05-01T00:00:00.000000000",
          "2009-06-01T00:00:00.000000000",
          "2009-07-01T00:00:00.000000000",
          "2009-08-01T00:00:00.000000000",
          "2009-09-01T00:00:00.000000000",
          "2009-10-01T00:00:00.000000000",
          "2009-11-01T00:00:00.000000000",
          "2009-12-01T00:00:00.000000000",
          "2010-01-01T00:00:00.000000000",
          "2010-02-01T00:00:00.000000000",
          "2010-03-01T00:00:00.000000000",
          "2010-04-01T00:00:00.000000000",
          "2010-05-01T00:00:00.000000000",
          "2010-06-01T00:00:00.000000000",
          "2010-07-01T00:00:00.000000000",
          "2010-08-01T00:00:00.000000000",
          "2010-09-01T00:00:00.000000000",
          "2010-10-01T00:00:00.000000000",
          "2010-11-01T00:00:00.000000000",
          "2010-12-01T00:00:00.000000000",
          "2011-01-01T00:00:00.000000000",
          "2011-02-01T00:00:00.000000000",
          "2011-03-01T00:00:00.000000000",
          "2011-04-01T00:00:00.000000000",
          "2011-05-01T00:00:00.000000000",
          "2011-06-01T00:00:00.000000000",
          "2011-07-01T00:00:00.000000000",
          "2011-08-01T00:00:00.000000000",
          "2011-09-01T00:00:00.000000000",
          "2011-10-01T00:00:00.000000000",
          "2011-11-01T00:00:00.000000000",
          "2011-12-01T00:00:00.000000000",
          "2012-01-01T00:00:00.000000000",
          "2012-02-01T00:00:00.000000000",
          "2012-03-01T00:00:00.000000000",
          "2012-04-01T00:00:00.000000000",
          "2012-05-01T00:00:00.000000000",
          "2012-06-01T00:00:00.000000000",
          "2012-07-01T00:00:00.000000000",
          "2012-08-01T00:00:00.000000000",
          "2012-09-01T00:00:00.000000000",
          "2012-10-01T00:00:00.000000000",
          "2012-11-01T00:00:00.000000000",
          "2012-12-01T00:00:00.000000000",
          "2013-01-01T00:00:00.000000000",
          "2013-02-01T00:00:00.000000000",
          "2013-03-01T00:00:00.000000000",
          "2013-04-01T00:00:00.000000000",
          "2013-05-01T00:00:00.000000000",
          "2013-06-01T00:00:00.000000000",
          "2013-07-01T00:00:00.000000000",
          "2013-08-01T00:00:00.000000000",
          "2013-09-01T00:00:00.000000000",
          "2013-10-01T00:00:00.000000000",
          "2013-11-01T00:00:00.000000000",
          "2013-12-01T00:00:00.000000000",
          "2014-01-01T00:00:00.000000000",
          "2014-02-01T00:00:00.000000000",
          "2014-03-01T00:00:00.000000000",
          "2014-04-01T00:00:00.000000000",
          "2014-05-01T00:00:00.000000000",
          "2014-06-01T00:00:00.000000000",
          "2014-07-01T00:00:00.000000000",
          "2014-08-01T00:00:00.000000000",
          "2014-09-01T00:00:00.000000000",
          "2014-10-01T00:00:00.000000000",
          "2014-11-01T00:00:00.000000000",
          "2014-12-01T00:00:00.000000000",
          "2015-01-01T00:00:00.000000000",
          "2015-02-01T00:00:00.000000000",
          "2015-03-01T00:00:00.000000000",
          "2015-04-01T00:00:00.000000000",
          "2015-05-01T00:00:00.000000000",
          "2015-06-01T00:00:00.000000000",
          "2015-07-01T00:00:00.000000000",
          "2015-08-01T00:00:00.000000000",
          "2015-09-01T00:00:00.000000000",
          "2015-10-01T00:00:00.000000000",
          "2015-11-01T00:00:00.000000000",
          "2015-12-01T00:00:00.000000000",
          "2016-01-01T00:00:00.000000000",
          "2016-02-01T00:00:00.000000000",
          "2016-03-01T00:00:00.000000000",
          "2016-04-01T00:00:00.000000000",
          "2016-05-01T00:00:00.000000000",
          "2016-06-01T00:00:00.000000000",
          "2016-07-01T00:00:00.000000000",
          "2016-08-01T00:00:00.000000000",
          "2016-09-01T00:00:00.000000000",
          "2016-10-01T00:00:00.000000000",
          "2016-11-01T00:00:00.000000000",
          "2016-12-01T00:00:00.000000000",
          "2017-01-01T00:00:00.000000000",
          "2017-02-01T00:00:00.000000000",
          "2017-03-01T00:00:00.000000000",
          "2017-04-01T00:00:00.000000000",
          "2017-05-01T00:00:00.000000000",
          "2017-06-01T00:00:00.000000000",
          "2017-07-01T00:00:00.000000000",
          "2017-08-01T00:00:00.000000000",
          "2017-09-01T00:00:00.000000000",
          "2017-10-01T00:00:00.000000000",
          "2017-11-01T00:00:00.000000000",
          "2017-12-01T00:00:00.000000000",
          "2018-01-01T00:00:00.000000000",
          "2018-02-01T00:00:00.000000000",
          "2018-03-01T00:00:00.000000000",
          "2018-04-01T00:00:00.000000000",
          "2018-05-01T00:00:00.000000000",
          "2018-06-01T00:00:00.000000000",
          "2018-07-01T00:00:00.000000000",
          "2018-08-01T00:00:00.000000000",
          "2018-09-01T00:00:00.000000000",
          "2018-10-01T00:00:00.000000000",
          "2018-11-01T00:00:00.000000000",
          "2018-12-01T00:00:00.000000000",
          "2019-01-01T00:00:00.000000000",
          "2019-02-01T00:00:00.000000000",
          "2019-03-01T00:00:00.000000000",
          "2019-04-01T00:00:00.000000000",
          "2019-05-01T00:00:00.000000000",
          "2019-06-01T00:00:00.000000000",
          "2019-07-01T00:00:00.000000000",
          "2019-08-01T00:00:00.000000000",
          "2019-09-01T00:00:00.000000000",
          "2019-10-01T00:00:00.000000000",
          "2019-11-01T00:00:00.000000000",
          "2019-12-01T00:00:00.000000000",
          "2020-01-01T00:00:00.000000000",
          "2020-02-01T00:00:00.000000000",
          "2020-03-01T00:00:00.000000000",
          "2020-04-01T00:00:00.000000000",
          "2020-05-01T00:00:00.000000000",
          "2020-06-01T00:00:00.000000000",
          "2020-07-01T00:00:00.000000000",
          "2020-08-01T00:00:00.000000000",
          "2020-09-01T00:00:00.000000000",
          "2020-10-01T00:00:00.000000000",
          "2020-11-01T00:00:00.000000000",
          "2020-12-01T00:00:00.000000000",
          "2021-01-01T00:00:00.000000000",
          "2021-02-01T00:00:00.000000000",
          "2021-03-01T00:00:00.000000000",
          "2021-04-01T00:00:00.000000000",
          "2021-05-01T00:00:00.000000000",
          "2021-06-01T00:00:00.000000000",
          "2021-07-01T00:00:00.000000000",
          "2021-08-01T00:00:00.000000000",
          "2021-09-01T00:00:00.000000000",
          "2021-10-01T00:00:00.000000000",
          "2021-11-01T00:00:00.000000000",
          "2021-12-01T00:00:00.000000000",
          "2022-01-01T00:00:00.000000000",
          "2022-02-01T00:00:00.000000000",
          "2022-03-01T00:00:00.000000000",
          "2022-04-01T00:00:00.000000000",
          "2022-05-01T00:00:00.000000000",
          "2022-06-01T00:00:00.000000000",
          "2022-07-01T00:00:00.000000000",
          "2022-08-01T00:00:00.000000000",
          "2022-09-01T00:00:00.000000000",
          "2022-10-01T00:00:00.000000000",
          "2022-11-01T00:00:00.000000000",
          "2022-12-01T00:00:00.000000000",
          "2023-01-01T00:00:00.000000000",
          "2023-02-01T00:00:00.000000000",
          "2023-03-01T00:00:00.000000000",
          "2023-04-01T00:00:00.000000000",
          "2023-05-01T00:00:00.000000000",
          "2023-06-01T00:00:00.000000000",
          "2023-07-01T00:00:00.000000000",
          "2023-08-01T00:00:00.000000000",
          "2023-09-01T00:00:00.000000000",
          "2023-10-01T00:00:00.000000000",
          "2023-11-01T00:00:00.000000000",
          "2023-12-01T00:00:00.000000000",
          "2024-01-01T00:00:00.000000000",
          "2024-02-01T00:00:00.000000000",
          "2024-03-01T00:00:00.000000000",
          "2024-04-01T00:00:00.000000000",
          "2024-05-01T00:00:00.000000000",
          "2024-06-01T00:00:00.000000000",
          "2024-07-01T00:00:00.000000000",
          "2024-08-01T00:00:00.000000000",
          "2024-09-01T00:00:00.000000000",
          "2024-10-01T00:00:00.000000000",
          "2024-11-01T00:00:00.000000000",
          "2024-12-01T00:00:00.000000000"
         ],
         "y": {
          "bdata": "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",
          "dtype": "f8"
         }
        },
        {
         "line": {
          "color": "firebrick",
          "width": 2
         },
         "mode": "lines",
         "name": "12-Month Rolling Average",
         "type": "scatter",
         "x": [
          "1993-04-01T00:00:00.000000000",
          "1993-05-01T00:00:00.000000000",
          "1993-06-01T00:00:00.000000000",
          "1993-07-01T00:00:00.000000000",
          "1993-08-01T00:00:00.000000000",
          "1993-09-01T00:00:00.000000000",
          "1993-10-01T00:00:00.000000000",
          "1993-11-01T00:00:00.000000000",
          "1993-12-01T00:00:00.000000000",
          "1994-01-01T00:00:00.000000000",
          "1994-02-01T00:00:00.000000000",
          "1994-03-01T00:00:00.000000000",
          "1994-04-01T00:00:00.000000000",
          "1994-05-01T00:00:00.000000000",
          "1994-06-01T00:00:00.000000000",
          "1994-07-01T00:00:00.000000000",
          "1994-08-01T00:00:00.000000000",
          "1994-09-01T00:00:00.000000000",
          "1994-10-01T00:00:00.000000000",
          "1994-11-01T00:00:00.000000000",
          "1994-12-01T00:00:00.000000000",
          "1995-01-01T00:00:00.000000000",
          "1995-02-01T00:00:00.000000000",
          "1995-03-01T00:00:00.000000000",
          "1995-04-01T00:00:00.000000000",
          "1995-05-01T00:00:00.000000000",
          "1995-06-01T00:00:00.000000000",
          "1995-07-01T00:00:00.000000000",
          "1995-08-01T00:00:00.000000000",
          "1995-09-01T00:00:00.000000000",
          "1995-10-01T00:00:00.000000000",
          "1995-11-01T00:00:00.000000000",
          "1995-12-01T00:00:00.000000000",
          "1996-01-01T00:00:00.000000000",
          "1996-02-01T00:00:00.000000000",
          "1996-03-01T00:00:00.000000000",
          "1996-04-01T00:00:00.000000000",
          "1996-05-01T00:00:00.000000000",
          "1996-06-01T00:00:00.000000000",
          "1996-07-01T00:00:00.000000000",
          "1996-08-01T00:00:00.000000000",
          "1996-09-01T00:00:00.000000000",
          "1996-10-01T00:00:00.000000000",
          "1996-11-01T00:00:00.000000000",
          "1996-12-01T00:00:00.000000000",
          "1997-01-01T00:00:00.000000000",
          "1997-02-01T00:00:00.000000000",
          "1997-03-01T00:00:00.000000000",
          "1997-04-01T00:00:00.000000000",
          "1997-05-01T00:00:00.000000000",
          "1997-06-01T00:00:00.000000000",
          "1997-07-01T00:00:00.000000000",
          "1997-08-01T00:00:00.000000000",
          "1997-09-01T00:00:00.000000000",
          "1997-10-01T00:00:00.000000000",
          "1997-11-01T00:00:00.000000000",
          "1997-12-01T00:00:00.000000000",
          "1998-01-01T00:00:00.000000000",
          "1998-02-01T00:00:00.000000000",
          "1998-03-01T00:00:00.000000000",
          "1998-04-01T00:00:00.000000000",
          "1998-05-01T00:00:00.000000000",
          "1998-06-01T00:00:00.000000000",
          "1998-07-01T00:00:00.000000000",
          "1998-08-01T00:00:00.000000000",
          "1998-09-01T00:00:00.000000000",
          "1998-10-01T00:00:00.000000000",
          "1998-11-01T00:00:00.000000000",
          "1998-12-01T00:00:00.000000000",
          "1999-01-01T00:00:00.000000000",
          "1999-02-01T00:00:00.000000000",
          "1999-03-01T00:00:00.000000000",
          "1999-04-01T00:00:00.000000000",
          "1999-05-01T00:00:00.000000000",
          "1999-06-01T00:00:00.000000000",
          "1999-07-01T00:00:00.000000000",
          "1999-08-01T00:00:00.000000000",
          "1999-09-01T00:00:00.000000000",
          "1999-10-01T00:00:00.000000000",
          "1999-11-01T00:00:00.000000000",
          "1999-12-01T00:00:00.000000000",
          "2000-01-01T00:00:00.000000000",
          "2000-02-01T00:00:00.000000000",
          "2000-03-01T00:00:00.000000000",
          "2000-04-01T00:00:00.000000000",
          "2000-05-01T00:00:00.000000000",
          "2000-06-01T00:00:00.000000000",
          "2000-07-01T00:00:00.000000000",
          "2000-08-01T00:00:00.000000000",
          "2000-09-01T00:00:00.000000000",
          "2000-10-01T00:00:00.000000000",
          "2000-11-01T00:00:00.000000000",
          "2000-12-01T00:00:00.000000000",
          "2001-01-01T00:00:00.000000000",
          "2001-02-01T00:00:00.000000000",
          "2001-03-01T00:00:00.000000000",
          "2001-04-01T00:00:00.000000000",
          "2001-05-01T00:00:00.000000000",
          "2001-06-01T00:00:00.000000000",
          "2001-07-01T00:00:00.000000000",
          "2001-08-01T00:00:00.000000000",
          "2001-09-01T00:00:00.000000000",
          "2001-10-01T00:00:00.000000000",
          "2001-11-01T00:00:00.000000000",
          "2001-12-01T00:00:00.000000000",
          "2002-01-01T00:00:00.000000000",
          "2002-02-01T00:00:00.000000000",
          "2002-03-01T00:00:00.000000000",
          "2002-04-01T00:00:00.000000000",
          "2002-05-01T00:00:00.000000000",
          "2002-06-01T00:00:00.000000000",
          "2002-07-01T00:00:00.000000000",
          "2002-08-01T00:00:00.000000000",
          "2002-09-01T00:00:00.000000000",
          "2002-10-01T00:00:00.000000000",
          "2002-11-01T00:00:00.000000000",
          "2002-12-01T00:00:00.000000000",
          "2003-01-01T00:00:00.000000000",
          "2003-02-01T00:00:00.000000000",
          "2003-03-01T00:00:00.000000000",
          "2003-04-01T00:00:00.000000000",
          "2003-05-01T00:00:00.000000000",
          "2003-06-01T00:00:00.000000000",
          "2003-07-01T00:00:00.000000000",
          "2003-08-01T00:00:00.000000000",
          "2003-09-01T00:00:00.000000000",
          "2003-10-01T00:00:00.000000000",
          "2003-11-01T00:00:00.000000000",
          "2003-12-01T00:00:00.000000000",
          "2004-01-01T00:00:00.000000000",
          "2004-02-01T00:00:00.000000000",
          "2004-03-01T00:00:00.000000000",
          "2004-04-01T00:00:00.000000000",
          "2004-05-01T00:00:00.000000000",
          "2004-06-01T00:00:00.000000000",
          "2004-07-01T00:00:00.000000000",
          "2004-08-01T00:00:00.000000000",
          "2004-09-01T00:00:00.000000000",
          "2004-10-01T00:00:00.000000000",
          "2004-11-01T00:00:00.000000000",
          "2004-12-01T00:00:00.000000000",
          "2005-01-01T00:00:00.000000000",
          "2005-02-01T00:00:00.000000000",
          "2005-03-01T00:00:00.000000000",
          "2005-04-01T00:00:00.000000000",
          "2005-05-01T00:00:00.000000000",
          "2005-06-01T00:00:00.000000000",
          "2005-07-01T00:00:00.000000000",
          "2005-08-01T00:00:00.000000000",
          "2005-09-01T00:00:00.000000000",
          "2005-10-01T00:00:00.000000000",
          "2005-11-01T00:00:00.000000000",
          "2005-12-01T00:00:00.000000000",
          "2006-01-01T00:00:00.000000000",
          "2006-02-01T00:00:00.000000000",
          "2006-03-01T00:00:00.000000000",
          "2006-04-01T00:00:00.000000000",
          "2006-05-01T00:00:00.000000000",
          "2006-06-01T00:00:00.000000000",
          "2006-07-01T00:00:00.000000000",
          "2006-08-01T00:00:00.000000000",
          "2006-09-01T00:00:00.000000000",
          "2006-10-01T00:00:00.000000000",
          "2006-11-01T00:00:00.000000000",
          "2006-12-01T00:00:00.000000000",
          "2007-01-01T00:00:00.000000000",
          "2007-02-01T00:00:00.000000000",
          "2007-03-01T00:00:00.000000000",
          "2007-04-01T00:00:00.000000000",
          "2007-05-01T00:00:00.000000000",
          "2007-06-01T00:00:00.000000000",
          "2007-07-01T00:00:00.000000000",
          "2007-08-01T00:00:00.000000000",
          "2007-09-01T00:00:00.000000000",
          "2007-10-01T00:00:00.000000000",
          "2007-11-01T00:00:00.000000000",
          "2007-12-01T00:00:00.000000000",
          "2008-01-01T00:00:00.000000000",
          "2008-02-01T00:00:00.000000000",
          "2008-03-01T00:00:00.000000000",
          "2008-04-01T00:00:00.000000000",
          "2008-05-01T00:00:00.000000000",
          "2008-06-01T00:00:00.000000000",
          "2008-07-01T00:00:00.000000000",
          "2008-08-01T00:00:00.000000000",
          "2008-09-01T00:00:00.000000000",
          "2008-10-01T00:00:00.000000000",
          "2008-11-01T00:00:00.000000000",
          "2008-12-01T00:00:00.000000000",
          "2009-01-01T00:00:00.000000000",
          "2009-02-01T00:00:00.000000000",
          "2009-03-01T00:00:00.000000000",
          "2009-04-01T00:00:00.000000000",
          "2009-05-01T00:00:00.000000000",
          "2009-06-01T00:00:00.000000000",
          "2009-07-01T00:00:00.000000000",
          "2009-08-01T00:00:00.000000000",
          "2009-09-01T00:00:00.000000000",
          "2009-10-01T00:00:00.000000000",
          "2009-11-01T00:00:00.000000000",
          "2009-12-01T00:00:00.000000000",
          "2010-01-01T00:00:00.000000000",
          "2010-02-01T00:00:00.000000000",
          "2010-03-01T00:00:00.000000000",
          "2010-04-01T00:00:00.000000000",
          "2010-05-01T00:00:00.000000000",
          "2010-06-01T00:00:00.000000000",
          "2010-07-01T00:00:00.000000000",
          "2010-08-01T00:00:00.000000000",
          "2010-09-01T00:00:00.000000000",
          "2010-10-01T00:00:00.000000000",
          "2010-11-01T00:00:00.000000000",
          "2010-12-01T00:00:00.000000000",
          "2011-01-01T00:00:00.000000000",
          "2011-02-01T00:00:00.000000000",
          "2011-03-01T00:00:00.000000000",
          "2011-04-01T00:00:00.000000000",
          "2011-05-01T00:00:00.000000000",
          "2011-06-01T00:00:00.000000000",
          "2011-07-01T00:00:00.000000000",
          "2011-08-01T00:00:00.000000000",
          "2011-09-01T00:00:00.000000000",
          "2011-10-01T00:00:00.000000000",
          "2011-11-01T00:00:00.000000000",
          "2011-12-01T00:00:00.000000000",
          "2012-01-01T00:00:00.000000000",
          "2012-02-01T00:00:00.000000000",
          "2012-03-01T00:00:00.000000000",
          "2012-04-01T00:00:00.000000000",
          "2012-05-01T00:00:00.000000000",
          "2012-06-01T00:00:00.000000000",
          "2012-07-01T00:00:00.000000000",
          "2012-08-01T00:00:00.000000000",
          "2012-09-01T00:00:00.000000000",
          "2012-10-01T00:00:00.000000000",
          "2012-11-01T00:00:00.000000000",
          "2012-12-01T00:00:00.000000000",
          "2013-01-01T00:00:00.000000000",
          "2013-02-01T00:00:00.000000000",
          "2013-03-01T00:00:00.000000000",
          "2013-04-01T00:00:00.000000000",
          "2013-05-01T00:00:00.000000000",
          "2013-06-01T00:00:00.000000000",
          "2013-07-01T00:00:00.000000000",
          "2013-08-01T00:00:00.000000000",
          "2013-09-01T00:00:00.000000000",
          "2013-10-01T00:00:00.000000000",
          "2013-11-01T00:00:00.000000000",
          "2013-12-01T00:00:00.000000000",
          "2014-01-01T00:00:00.000000000",
          "2014-02-01T00:00:00.000000000",
          "2014-03-01T00:00:00.000000000",
          "2014-04-01T00:00:00.000000000",
          "2014-05-01T00:00:00.000000000",
          "2014-06-01T00:00:00.000000000",
          "2014-07-01T00:00:00.000000000",
          "2014-08-01T00:00:00.000000000",
          "2014-09-01T00:00:00.000000000",
          "2014-10-01T00:00:00.000000000",
          "2014-11-01T00:00:00.000000000",
          "2014-12-01T00:00:00.000000000",
          "2015-01-01T00:00:00.000000000",
          "2015-02-01T00:00:00.000000000",
          "2015-03-01T00:00:00.000000000",
          "2015-04-01T00:00:00.000000000",
          "2015-05-01T00:00:00.000000000",
          "2015-06-01T00:00:00.000000000",
          "2015-07-01T00:00:00.000000000",
          "2015-08-01T00:00:00.000000000",
          "2015-09-01T00:00:00.000000000",
          "2015-10-01T00:00:00.000000000",
          "2015-11-01T00:00:00.000000000",
          "2015-12-01T00:00:00.000000000",
          "2016-01-01T00:00:00.000000000",
          "2016-02-01T00:00:00.000000000",
          "2016-03-01T00:00:00.000000000",
          "2016-04-01T00:00:00.000000000",
          "2016-05-01T00:00:00.000000000",
          "2016-06-01T00:00:00.000000000",
          "2016-07-01T00:00:00.000000000",
          "2016-08-01T00:00:00.000000000",
          "2016-09-01T00:00:00.000000000",
          "2016-10-01T00:00:00.000000000",
          "2016-11-01T00:00:00.000000000",
          "2016-12-01T00:00:00.000000000",
          "2017-01-01T00:00:00.000000000",
          "2017-02-01T00:00:00.000000000",
          "2017-03-01T00:00:00.000000000",
          "2017-04-01T00:00:00.000000000",
          "2017-05-01T00:00:00.000000000",
          "2017-06-01T00:00:00.000000000",
          "2017-07-01T00:00:00.000000000",
          "2017-08-01T00:00:00.000000000",
          "2017-09-01T00:00:00.000000000",
          "2017-10-01T00:00:00.000000000",
          "2017-11-01T00:00:00.000000000",
          "2017-12-01T00:00:00.000000000",
          "2018-01-01T00:00:00.000000000",
          "2018-02-01T00:00:00.000000000",
          "2018-03-01T00:00:00.000000000",
          "2018-04-01T00:00:00.000000000",
          "2018-05-01T00:00:00.000000000",
          "2018-06-01T00:00:00.000000000",
          "2018-07-01T00:00:00.000000000",
          "2018-08-01T00:00:00.000000000",
          "2018-09-01T00:00:00.000000000",
          "2018-10-01T00:00:00.000000000",
          "2018-11-01T00:00:00.000000000",
          "2018-12-01T00:00:00.000000000",
          "2019-01-01T00:00:00.000000000",
          "2019-02-01T00:00:00.000000000",
          "2019-03-01T00:00:00.000000000",
          "2019-04-01T00:00:00.000000000",
          "2019-05-01T00:00:00.000000000",
          "2019-06-01T00:00:00.000000000",
          "2019-07-01T00:00:00.000000000",
          "2019-08-01T00:00:00.000000000",
          "2019-09-01T00:00:00.000000000",
          "2019-10-01T00:00:00.000000000",
          "2019-11-01T00:00:00.000000000",
          "2019-12-01T00:00:00.000000000",
          "2020-01-01T00:00:00.000000000",
          "2020-02-01T00:00:00.000000000",
          "2020-03-01T00:00:00.000000000",
          "2020-04-01T00:00:00.000000000",
          "2020-05-01T00:00:00.000000000",
          "2020-06-01T00:00:00.000000000",
          "2020-07-01T00:00:00.000000000",
          "2020-08-01T00:00:00.000000000",
          "2020-09-01T00:00:00.000000000",
          "2020-10-01T00:00:00.000000000",
          "2020-11-01T00:00:00.000000000",
          "2020-12-01T00:00:00.000000000",
          "2021-01-01T00:00:00.000000000",
          "2021-02-01T00:00:00.000000000",
          "2021-03-01T00:00:00.000000000",
          "2021-04-01T00:00:00.000000000",
          "2021-05-01T00:00:00.000000000",
          "2021-06-01T00:00:00.000000000",
          "2021-07-01T00:00:00.000000000",
          "2021-08-01T00:00:00.000000000",
          "2021-09-01T00:00:00.000000000",
          "2021-10-01T00:00:00.000000000",
          "2021-11-01T00:00:00.000000000",
          "2021-12-01T00:00:00.000000000",
          "2022-01-01T00:00:00.000000000",
          "2022-02-01T00:00:00.000000000",
          "2022-03-01T00:00:00.000000000",
          "2022-04-01T00:00:00.000000000",
          "2022-05-01T00:00:00.000000000",
          "2022-06-01T00:00:00.000000000",
          "2022-07-01T00:00:00.000000000",
          "2022-08-01T00:00:00.000000000",
          "2022-09-01T00:00:00.000000000",
          "2022-10-01T00:00:00.000000000",
          "2022-11-01T00:00:00.000000000",
          "2022-12-01T00:00:00.000000000",
          "2023-01-01T00:00:00.000000000",
          "2023-02-01T00:00:00.000000000",
          "2023-03-01T00:00:00.000000000",
          "2023-04-01T00:00:00.000000000",
          "2023-05-01T00:00:00.000000000",
          "2023-06-01T00:00:00.000000000",
          "2023-07-01T00:00:00.000000000",
          "2023-08-01T00:00:00.000000000",
          "2023-09-01T00:00:00.000000000",
          "2023-10-01T00:00:00.000000000",
          "2023-11-01T00:00:00.000000000",
          "2023-12-01T00:00:00.000000000",
          "2024-01-01T00:00:00.000000000",
          "2024-02-01T00:00:00.000000000",
          "2024-03-01T00:00:00.000000000",
          "2024-04-01T00:00:00.000000000",
          "2024-05-01T00:00:00.000000000",
          "2024-06-01T00:00:00.000000000",
          "2024-07-01T00:00:00.000000000",
          "2024-08-01T00:00:00.000000000",
          "2024-09-01T00:00:00.000000000",
          "2024-10-01T00:00:00.000000000",
          "2024-11-01T00:00:00.000000000",
          "2024-12-01T00:00:00.000000000"
         ],
         "y": {
          "bdata": "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",
          "dtype": "f8"
         }
        }
       ],
       "layout": {
        "annotations": [
         {
          "font": {
           "size": 10
          },
          "showarrow": false,
          "text": "2001 Recession",
          "x": "2001-03-01",
          "xanchor": "left",
          "xref": "x",
          "y": 1,
          "yanchor": "top",
          "yref": "y domain"
         },
         {
          "font": {
           "size": 10
          },
          "showarrow": false,
          "text": "Great Recession",
          "x": "2007-12-01",
          "xanchor": "left",
          "xref": "x",
          "y": 1,
          "yanchor": "top",
          "yref": "y domain"
         },
         {
          "font": {
           "size": 10
          },
          "showarrow": false,
          "text": "COVID-19 Pandemic",
          "x": "2020-03-01",
          "xanchor": "left",
          "xref": "x",
          "y": 1,
          "yanchor": "top",
          "yref": "y domain"
         }
        ],
        "hovermode": "x unified",
        "legend": {
         "title": {
          "text": ""
         }
        },
        "shapes": [
         {
          "fillcolor": "gray",
          "line": {
           "width": 0
          },
          "opacity": 0.2,
          "type": "rect",
          "x0": "2001-03-01",
          "x1": "2001-11-01",
          "xref": "x",
          "y0": 0,
          "y1": 1,
          "yref": "y domain"
         },
         {
          "fillcolor": "gray",
          "line": {
           "width": 0
          },
          "opacity": 0.2,
          "type": "rect",
          "x0": "2007-12-01",
          "x1": "2009-06-01",
          "xref": "x",
          "y0": 0,
          "y1": 1,
          "yref": "y domain"
         },
         {
          "fillcolor": "gray",
          "line": {
           "width": 0
          },
          "opacity": 0.2,
          "type": "rect",
          "x0": "2020-03-01",
          "x1": "2021-03-01",
          "xref": "x",
          "y0": 0,
          "y1": 1,
          "yref": "y domain"
         }
        ],
        "template": {
         "data": {
          "bar": [
           {
            "error_x": {
             "color": "#2a3f5f"
            },
            "error_y": {
             "color": "#2a3f5f"
            },
            "marker": {
             "line": {
              "color": "white",
              "width": 0.5
             },
             "pattern": {
              "fillmode": "overlay",
              "size": 10,
              "solidity": 0.2
             }
            },
            "type": "bar"
           }
          ],
          "barpolar": [
           {
            "marker": {
             "line": {
              "color": "white",
              "width": 0.5
             },
             "pattern": {
              "fillmode": "overlay",
              "size": 10,
              "solidity": 0.2
             }
            },
            "type": "barpolar"
           }
          ],
          "carpet": [
           {
            "aaxis": {
             "endlinecolor": "#2a3f5f",
             "gridcolor": "#C8D4E3",
             "linecolor": "#C8D4E3",
             "minorgridcolor": "#C8D4E3",
             "startlinecolor": "#2a3f5f"
            },
            "baxis": {
             "endlinecolor": "#2a3f5f",
             "gridcolor": "#C8D4E3",
             "linecolor": "#C8D4E3",
             "minorgridcolor": "#C8D4E3",
             "startlinecolor": "#2a3f5f"
            },
            "type": "carpet"
           }
          ],
          "choropleth": [
           {
            "colorbar": {
             "outlinewidth": 0,
             "ticks": ""
            },
            "type": "choropleth"
           }
          ],
          "contour": [
           {
            "colorbar": {
             "outlinewidth": 0,
             "ticks": ""
            },
            "colorscale": [
             [
              0,
              "#0d0887"
             ],
             [
              0.1111111111111111,
              "#46039f"
             ],
             [
              0.2222222222222222,
              "#7201a8"
             ],
             [
              0.3333333333333333,
              "#9c179e"
             ],
             [
              0.4444444444444444,
              "#bd3786"
             ],
             [
              0.5555555555555556,
              "#d8576b"
             ],
             [
              0.6666666666666666,
              "#ed7953"
             ],
             [
              0.7777777777777778,
              "#fb9f3a"
             ],
             [
              0.8888888888888888,
              "#fdca26"
             ],
             [
              1,
              "#f0f921"
             ]
            ],
            "type": "contour"
           }
          ],
          "contourcarpet": [
           {
            "colorbar": {
             "outlinewidth": 0,
             "ticks": ""
            },
            "type": "contourcarpet"
           }
          ],
          "heatmap": [
           {
            "colorbar": {
             "outlinewidth": 0,
             "ticks": ""
            },
            "colorscale": [
             [
              0,
              "#0d0887"
             ],
             [
              0.1111111111111111,
              "#46039f"
             ],
             [
              0.2222222222222222,
              "#7201a8"
             ],
             [
              0.3333333333333333,
              "#9c179e"
             ],
             [
              0.4444444444444444,
              "#bd3786"
             ],
             [
              0.5555555555555556,
              "#d8576b"
             ],
             [
              0.6666666666666666,
              "#ed7953"
             ],
             [
              0.7777777777777778,
              "#fb9f3a"
             ],
             [
              0.8888888888888888,
              "#fdca26"
             ],
             [
              1,
              "#f0f921"
             ]
            ],
            "type": "heatmap"
           }
          ],
          "histogram": [
           {
            "marker": {
             "pattern": {
              "fillmode": "overlay",
              "size": 10,
              "solidity": 0.2
             }
            },
            "type": "histogram"
           }
          ],
          "histogram2d": [
           {
            "colorbar": {
             "outlinewidth": 0,
             "ticks": ""
            },
            "colorscale": [
             [
              0,
              "#0d0887"
             ],
             [
              0.1111111111111111,
              "#46039f"
             ],
             [
              0.2222222222222222,
              "#7201a8"
             ],
             [
              0.3333333333333333,
              "#9c179e"
             ],
             [
              0.4444444444444444,
              "#bd3786"
             ],
             [
              0.5555555555555556,
              "#d8576b"
             ],
             [
              0.6666666666666666,
              "#ed7953"
             ],
             [
              0.7777777777777778,
              "#fb9f3a"
             ],
             [
              0.8888888888888888,
              "#fdca26"
             ],
             [
              1,
              "#f0f921"
             ]
            ],
            "type": "histogram2d"
           }
          ],
          "histogram2dcontour": [
           {
            "colorbar": {
             "outlinewidth": 0,
             "ticks": ""
            },
            "colorscale": [
             [
              0,
              "#0d0887"
             ],
             [
              0.1111111111111111,
              "#46039f"
             ],
             [
              0.2222222222222222,
              "#7201a8"
             ],
             [
              0.3333333333333333,
              "#9c179e"
             ],
             [
              0.4444444444444444,
              "#bd3786"
             ],
             [
              0.5555555555555556,
              "#d8576b"
             ],
             [
              0.6666666666666666,
              "#ed7953"
             ],
             [
              0.7777777777777778,
              "#fb9f3a"
             ],
             [
              0.8888888888888888,
              "#fdca26"
             ],
             [
              1,
              "#f0f921"
             ]
            ],
            "type": "histogram2dcontour"
           }
          ],
          "mesh3d": [
           {
            "colorbar": {
             "outlinewidth": 0,
             "ticks": ""
            },
            "type": "mesh3d"
           }
          ],
          "parcoords": [
           {
            "line": {
             "colorbar": {
              "outlinewidth": 0,
              "ticks": ""
             }
            },
            "type": "parcoords"
           }
          ],
          "pie": [
           {
            "automargin": true,
            "type": "pie"
           }
          ],
          "scatter": [
           {
            "fillpattern": {
             "fillmode": "overlay",
             "size": 10,
             "solidity": 0.2
            },
            "type": "scatter"
           }
          ],
          "scatter3d": [
           {
            "line": {
             "colorbar": {
              "outlinewidth": 0,
              "ticks": ""
             }
            },
            "marker": {
             "colorbar": {
              "outlinewidth": 0,
              "ticks": ""
             }
            },
            "type": "scatter3d"
           }
          ],
          "scattercarpet": [
           {
            "marker": {
             "colorbar": {
              "outlinewidth": 0,
              "ticks": ""
             }
            },
            "type": "scattercarpet"
           }
          ],
          "scattergeo": [
           {
            "marker": {
             "colorbar": {
              "outlinewidth": 0,
              "ticks": ""
             }
            },
            "type": "scattergeo"
           }
          ],
          "scattergl": [
           {
            "marker": {
             "colorbar": {
              "outlinewidth": 0,
              "ticks": ""
             }
            },
            "type": "scattergl"
           }
          ],
          "scattermap": [
           {
            "marker": {
             "colorbar": {
              "outlinewidth": 0,
              "ticks": ""
             }
            },
            "type": "scattermap"
           }
          ],
          "scattermapbox": [
           {
            "marker": {
             "colorbar": {
              "outlinewidth": 0,
              "ticks": ""
             }
            },
            "type": "scattermapbox"
           }
          ],
          "scatterpolar": [
           {
            "marker": {
             "colorbar": {
              "outlinewidth": 0,
              "ticks": ""
             }
            },
            "type": "scatterpolar"
           }
          ],
          "scatterpolargl": [
           {
            "marker": {
             "colorbar": {
              "outlinewidth": 0,
              "ticks": ""
             }
            },
            "type": "scatterpolargl"
           }
          ],
          "scatterternary": [
           {
            "marker": {
             "colorbar": {
              "outlinewidth": 0,
              "ticks": ""
             }
            },
            "type": "scatterternary"
           }
          ],
          "surface": [
           {
            "colorbar": {
             "outlinewidth": 0,
             "ticks": ""
            },
            "colorscale": [
             [
              0,
              "#0d0887"
             ],
             [
              0.1111111111111111,
              "#46039f"
             ],
             [
              0.2222222222222222,
              "#7201a8"
             ],
             [
              0.3333333333333333,
              "#9c179e"
             ],
             [
              0.4444444444444444,
              "#bd3786"
             ],
             [
              0.5555555555555556,
              "#d8576b"
             ],
             [
              0.6666666666666666,
              "#ed7953"
             ],
             [
              0.7777777777777778,
              "#fb9f3a"
             ],
             [
              0.8888888888888888,
              "#fdca26"
             ],
             [
              1,
              "#f0f921"
             ]
            ],
            "type": "surface"
           }
          ],
          "table": [
           {
            "cells": {
             "fill": {
              "color": "#EBF0F8"
             },
             "line": {
              "color": "white"
             }
            },
            "header": {
             "fill": {
              "color": "#C8D4E3"
             },
             "line": {
              "color": "white"
             }
            },
            "type": "table"
           }
          ]
         },
         "layout": {
          "annotationdefaults": {
           "arrowcolor": "#2a3f5f",
           "arrowhead": 0,
           "arrowwidth": 1
          },
          "autotypenumbers": "strict",
          "coloraxis": {
           "colorbar": {
            "outlinewidth": 0,
            "ticks": ""
           }
          },
          "colorscale": {
           "diverging": [
            [
             0,
             "#8e0152"
            ],
            [
             0.1,
             "#c51b7d"
            ],
            [
             0.2,
             "#de77ae"
            ],
            [
             0.3,
             "#f1b6da"
            ],
            [
             0.4,
             "#fde0ef"
            ],
            [
             0.5,
             "#f7f7f7"
            ],
            [
             0.6,
             "#e6f5d0"
            ],
            [
             0.7,
             "#b8e186"
            ],
            [
             0.8,
             "#7fbc41"
            ],
            [
             0.9,
             "#4d9221"
            ],
            [
             1,
             "#276419"
            ]
           ],
           "sequential": [
            [
             0,
             "#0d0887"
            ],
            [
             0.1111111111111111,
             "#46039f"
            ],
            [
             0.2222222222222222,
             "#7201a8"
            ],
            [
             0.3333333333333333,
             "#9c179e"
            ],
            [
             0.4444444444444444,
             "#bd3786"
            ],
            [
             0.5555555555555556,
             "#d8576b"
            ],
            [
             0.6666666666666666,
             "#ed7953"
            ],
            [
             0.7777777777777778,
             "#fb9f3a"
            ],
            [
             0.8888888888888888,
             "#fdca26"
            ],
            [
             1,
             "#f0f921"
            ]
           ],
           "sequentialminus": [
            [
             0,
             "#0d0887"
            ],
            [
             0.1111111111111111,
             "#46039f"
            ],
            [
             0.2222222222222222,
             "#7201a8"
            ],
            [
             0.3333333333333333,
             "#9c179e"
            ],
            [
             0.4444444444444444,
             "#bd3786"
            ],
            [
             0.5555555555555556,
             "#d8576b"
            ],
            [
             0.6666666666666666,
             "#ed7953"
            ],
            [
             0.7777777777777778,
             "#fb9f3a"
            ],
            [
             0.8888888888888888,
             "#fdca26"
            ],
            [
             1,
             "#f0f921"
            ]
           ]
          },
          "colorway": [
           "#636efa",
           "#EF553B",
           "#00cc96",
           "#ab63fa",
           "#FFA15A",
           "#19d3f3",
           "#FF6692",
           "#B6E880",
           "#FF97FF",
           "#FECB52"
          ],
          "font": {
           "color": "#2a3f5f"
          },
          "geo": {
           "bgcolor": "white",
           "lakecolor": "white",
           "landcolor": "white",
           "showlakes": true,
           "showland": true,
           "subunitcolor": "#C8D4E3"
          },
          "hoverlabel": {
           "align": "left"
          },
          "hovermode": "closest",
          "mapbox": {
           "style": "light"
          },
          "paper_bgcolor": "white",
          "plot_bgcolor": "white",
          "polar": {
           "angularaxis": {
            "gridcolor": "#EBF0F8",
            "linecolor": "#EBF0F8",
            "ticks": ""
           },
           "bgcolor": "white",
           "radialaxis": {
            "gridcolor": "#EBF0F8",
            "linecolor": "#EBF0F8",
            "ticks": ""
           }
          },
          "scene": {
           "xaxis": {
            "backgroundcolor": "white",
            "gridcolor": "#DFE8F3",
            "gridwidth": 2,
            "linecolor": "#EBF0F8",
            "showbackground": true,
            "ticks": "",
            "zerolinecolor": "#EBF0F8"
           },
           "yaxis": {
            "backgroundcolor": "white",
            "gridcolor": "#DFE8F3",
            "gridwidth": 2,
            "linecolor": "#EBF0F8",
            "showbackground": true,
            "ticks": "",
            "zerolinecolor": "#EBF0F8"
           },
           "zaxis": {
            "backgroundcolor": "white",
            "gridcolor": "#DFE8F3",
            "gridwidth": 2,
            "linecolor": "#EBF0F8",
            "showbackground": true,
            "ticks": "",
            "zerolinecolor": "#EBF0F8"
           }
          },
          "shapedefaults": {
           "line": {
            "color": "#2a3f5f"
           }
          },
          "ternary": {
           "aaxis": {
            "gridcolor": "#DFE8F3",
            "linecolor": "#A2B1C6",
            "ticks": ""
           },
           "baxis": {
            "gridcolor": "#DFE8F3",
            "linecolor": "#A2B1C6",
            "ticks": ""
           },
           "bgcolor": "white",
           "caxis": {
            "gridcolor": "#DFE8F3",
            "linecolor": "#A2B1C6",
            "ticks": ""
           }
          },
          "title": {
           "x": 0.05
          },
          "xaxis": {
           "automargin": true,
           "gridcolor": "#EBF0F8",
           "linecolor": "#EBF0F8",
           "ticks": "",
           "title": {
            "standoff": 15
           },
           "zerolinecolor": "#EBF0F8",
           "zerolinewidth": 2
          },
          "yaxis": {
           "automargin": true,
           "gridcolor": "#EBF0F8",
           "linecolor": "#EBF0F8",
           "ticks": "",
           "title": {
            "standoff": 15
           },
           "zerolinecolor": "#EBF0F8",
           "zerolinewidth": 2
          }
         }
        },
        "title": {
         "text": "U.S. Monthly Gasoline Consumption with Key Economic Events",
         "x": 0.5
        },
        "xaxis": {
         "title": {
          "text": "Date"
         }
        },
        "yaxis": {
         "title": {
          "text": "Millions of Gallons"
         }
        }
       }
      }
     },
     "metadata": {},
     "output_type": "display_data"
    }
   ],
   "source": [
    "''' Create a line plot with highlighted recession/pandemic periods '''\n",
    "\n",
    "# Define recession/pandemic periods\n",
    "highlight_periods = [\n",
    "    {\"start\": \"2001-03-01\", \"end\": \"2001-11-01\", \"label\": \"2001 Recession\"},\n",
    "    {\"start\": \"2007-12-01\", \"end\": \"2009-06-01\", \"label\": \"Great Recession\"},\n",
    "    {\"start\": \"2020-03-01\", \"end\": \"2021-03-01\", \"label\": \"COVID-19 Pandemic\"},\n",
    "]\n",
    "\n",
    "# Create figure\n",
    "fig = go.Figure()\n",
    "\n",
    "# Add both lines\n",
    "fig.add_trace(go.Scatter(\n",
    "    x=consumption[\"Date\"],\n",
    "    y=consumption[\"Gasoline_Consumption(Millions of Gallons)\"],\n",
    "    mode=\"lines\",\n",
    "    name=\"Monthly Consumption\",\n",
    "    line=dict(color=\"steelblue\", width=2)\n",
    "))\n",
    "\n",
    "# 12-month rolling average\n",
    "fig.add_trace(go.Scatter(\n",
    "    x=consumption[\"Date\"],\n",
    "    y=consumption[\"Rolling_Avg\"],\n",
    "    mode=\"lines\",\n",
    "    name=\"12-Month Rolling Average\",\n",
    "    line=dict(color=\"firebrick\", width=2)\n",
    "))\n",
    "\n",
    "# Add shaded rectangles for each event\n",
    "for period in highlight_periods:\n",
    "    fig.add_vrect(\n",
    "        x0=period[\"start\"], x1=period[\"end\"],\n",
    "        fillcolor=\"gray\", opacity=0.2, line_width=0,\n",
    "        annotation_text=period[\"label\"],\n",
    "        annotation_position=\"top left\",\n",
    "        annotation_font_size=10\n",
    "    )\n",
    "\n",
    "# Layout styling\n",
    "fig.update_layout(\n",
    "    title=\"U.S. Monthly Gasoline Consumption with Key Economic Events\",\n",
    "    xaxis_title=\"Date\",\n",
    "    yaxis_title=\"Millions of Gallons\",\n",
    "    template=\"plotly_white\",\n",
    "    hovermode=\"x unified\",\n",
    "    title_x=0.5,\n",
    "    legend_title_text=\"\"\n",
    ")\n",
    "\n",
    "fig.show()"
   ]
  },
  {
   "cell_type": "code",
   "execution_count": 445,
   "id": "da1a08b8",
   "metadata": {},
   "outputs": [
    {
     "data": {
      "application/vnd.plotly.v1+json": {
       "config": {
        "plotlyServerURL": "https://plot.ly"
       },
       "data": [
        {
         "hovertemplate": "Date=%{x}<br>Change (Millions of Gallons)=%{marker.color}<extra></extra>",
         "legendgroup": "",
         "marker": {
          "color": {
           "bdata": "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",
           "dtype": "f8"
          },
          "coloraxis": "coloraxis",
          "pattern": {
           "shape": ""
          }
         },
         "name": "",
         "orientation": "v",
         "showlegend": false,
         "textposition": "auto",
         "type": "bar",
         "x": [
          "1993-04-01T00:00:00.000000000",
          "1993-05-01T00:00:00.000000000",
          "1993-06-01T00:00:00.000000000",
          "1993-07-01T00:00:00.000000000",
          "1993-08-01T00:00:00.000000000",
          "1993-09-01T00:00:00.000000000",
          "1993-10-01T00:00:00.000000000",
          "1993-11-01T00:00:00.000000000",
          "1993-12-01T00:00:00.000000000",
          "1994-01-01T00:00:00.000000000",
          "1994-02-01T00:00:00.000000000",
          "1994-03-01T00:00:00.000000000",
          "1994-04-01T00:00:00.000000000",
          "1994-05-01T00:00:00.000000000",
          "1994-06-01T00:00:00.000000000",
          "1994-07-01T00:00:00.000000000",
          "1994-08-01T00:00:00.000000000",
          "1994-09-01T00:00:00.000000000",
          "1994-10-01T00:00:00.000000000",
          "1994-11-01T00:00:00.000000000",
          "1994-12-01T00:00:00.000000000",
          "1995-01-01T00:00:00.000000000",
          "1995-02-01T00:00:00.000000000",
          "1995-03-01T00:00:00.000000000",
          "1995-04-01T00:00:00.000000000",
          "1995-05-01T00:00:00.000000000",
          "1995-06-01T00:00:00.000000000",
          "1995-07-01T00:00:00.000000000",
          "1995-08-01T00:00:00.000000000",
          "1995-09-01T00:00:00.000000000",
          "1995-10-01T00:00:00.000000000",
          "1995-11-01T00:00:00.000000000",
          "1995-12-01T00:00:00.000000000",
          "1996-01-01T00:00:00.000000000",
          "1996-02-01T00:00:00.000000000",
          "1996-03-01T00:00:00.000000000",
          "1996-04-01T00:00:00.000000000",
          "1996-05-01T00:00:00.000000000",
          "1996-06-01T00:00:00.000000000",
          "1996-07-01T00:00:00.000000000",
          "1996-08-01T00:00:00.000000000",
          "1996-09-01T00:00:00.000000000",
          "1996-10-01T00:00:00.000000000",
          "1996-11-01T00:00:00.000000000",
          "1996-12-01T00:00:00.000000000",
          "1997-01-01T00:00:00.000000000",
          "1997-02-01T00:00:00.000000000",
          "1997-03-01T00:00:00.000000000",
          "1997-04-01T00:00:00.000000000",
          "1997-05-01T00:00:00.000000000",
          "1997-06-01T00:00:00.000000000",
          "1997-07-01T00:00:00.000000000",
          "1997-08-01T00:00:00.000000000",
          "1997-09-01T00:00:00.000000000",
          "1997-10-01T00:00:00.000000000",
          "1997-11-01T00:00:00.000000000",
          "1997-12-01T00:00:00.000000000",
          "1998-01-01T00:00:00.000000000",
          "1998-02-01T00:00:00.000000000",
          "1998-03-01T00:00:00.000000000",
          "1998-04-01T00:00:00.000000000",
          "1998-05-01T00:00:00.000000000",
          "1998-06-01T00:00:00.000000000",
          "1998-07-01T00:00:00.000000000",
          "1998-08-01T00:00:00.000000000",
          "1998-09-01T00:00:00.000000000",
          "1998-10-01T00:00:00.000000000",
          "1998-11-01T00:00:00.000000000",
          "1998-12-01T00:00:00.000000000",
          "1999-01-01T00:00:00.000000000",
          "1999-02-01T00:00:00.000000000",
          "1999-03-01T00:00:00.000000000",
          "1999-04-01T00:00:00.000000000",
          "1999-05-01T00:00:00.000000000",
          "1999-06-01T00:00:00.000000000",
          "1999-07-01T00:00:00.000000000",
          "1999-08-01T00:00:00.000000000",
          "1999-09-01T00:00:00.000000000",
          "1999-10-01T00:00:00.000000000",
          "1999-11-01T00:00:00.000000000",
          "1999-12-01T00:00:00.000000000",
          "2000-01-01T00:00:00.000000000",
          "2000-02-01T00:00:00.000000000",
          "2000-03-01T00:00:00.000000000",
          "2000-04-01T00:00:00.000000000",
          "2000-05-01T00:00:00.000000000",
          "2000-06-01T00:00:00.000000000",
          "2000-07-01T00:00:00.000000000",
          "2000-08-01T00:00:00.000000000",
          "2000-09-01T00:00:00.000000000",
          "2000-10-01T00:00:00.000000000",
          "2000-11-01T00:00:00.000000000",
          "2000-12-01T00:00:00.000000000",
          "2001-01-01T00:00:00.000000000",
          "2001-02-01T00:00:00.000000000",
          "2001-03-01T00:00:00.000000000",
          "2001-04-01T00:00:00.000000000",
          "2001-05-01T00:00:00.000000000",
          "2001-06-01T00:00:00.000000000",
          "2001-07-01T00:00:00.000000000",
          "2001-08-01T00:00:00.000000000",
          "2001-09-01T00:00:00.000000000",
          "2001-10-01T00:00:00.000000000",
          "2001-11-01T00:00:00.000000000",
          "2001-12-01T00:00:00.000000000",
          "2002-01-01T00:00:00.000000000",
          "2002-02-01T00:00:00.000000000",
          "2002-03-01T00:00:00.000000000",
          "2002-04-01T00:00:00.000000000",
          "2002-05-01T00:00:00.000000000",
          "2002-06-01T00:00:00.000000000",
          "2002-07-01T00:00:00.000000000",
          "2002-08-01T00:00:00.000000000",
          "2002-09-01T00:00:00.000000000",
          "2002-10-01T00:00:00.000000000",
          "2002-11-01T00:00:00.000000000",
          "2002-12-01T00:00:00.000000000",
          "2003-01-01T00:00:00.000000000",
          "2003-02-01T00:00:00.000000000",
          "2003-03-01T00:00:00.000000000",
          "2003-04-01T00:00:00.000000000",
          "2003-05-01T00:00:00.000000000",
          "2003-06-01T00:00:00.000000000",
          "2003-07-01T00:00:00.000000000",
          "2003-08-01T00:00:00.000000000",
          "2003-09-01T00:00:00.000000000",
          "2003-10-01T00:00:00.000000000",
          "2003-11-01T00:00:00.000000000",
          "2003-12-01T00:00:00.000000000",
          "2004-01-01T00:00:00.000000000",
          "2004-02-01T00:00:00.000000000",
          "2004-03-01T00:00:00.000000000",
          "2004-04-01T00:00:00.000000000",
          "2004-05-01T00:00:00.000000000",
          "2004-06-01T00:00:00.000000000",
          "2004-07-01T00:00:00.000000000",
          "2004-08-01T00:00:00.000000000",
          "2004-09-01T00:00:00.000000000",
          "2004-10-01T00:00:00.000000000",
          "2004-11-01T00:00:00.000000000",
          "2004-12-01T00:00:00.000000000",
          "2005-01-01T00:00:00.000000000",
          "2005-02-01T00:00:00.000000000",
          "2005-03-01T00:00:00.000000000",
          "2005-04-01T00:00:00.000000000",
          "2005-05-01T00:00:00.000000000",
          "2005-06-01T00:00:00.000000000",
          "2005-07-01T00:00:00.000000000",
          "2005-08-01T00:00:00.000000000",
          "2005-09-01T00:00:00.000000000",
          "2005-10-01T00:00:00.000000000",
          "2005-11-01T00:00:00.000000000",
          "2005-12-01T00:00:00.000000000",
          "2006-01-01T00:00:00.000000000",
          "2006-02-01T00:00:00.000000000",
          "2006-03-01T00:00:00.000000000",
          "2006-04-01T00:00:00.000000000",
          "2006-05-01T00:00:00.000000000",
          "2006-06-01T00:00:00.000000000",
          "2006-07-01T00:00:00.000000000",
          "2006-08-01T00:00:00.000000000",
          "2006-09-01T00:00:00.000000000",
          "2006-10-01T00:00:00.000000000",
          "2006-11-01T00:00:00.000000000",
          "2006-12-01T00:00:00.000000000",
          "2007-01-01T00:00:00.000000000",
          "2007-02-01T00:00:00.000000000",
          "2007-03-01T00:00:00.000000000",
          "2007-04-01T00:00:00.000000000",
          "2007-05-01T00:00:00.000000000",
          "2007-06-01T00:00:00.000000000",
          "2007-07-01T00:00:00.000000000",
          "2007-08-01T00:00:00.000000000",
          "2007-09-01T00:00:00.000000000",
          "2007-10-01T00:00:00.000000000",
          "2007-11-01T00:00:00.000000000",
          "2007-12-01T00:00:00.000000000",
          "2008-01-01T00:00:00.000000000",
          "2008-02-01T00:00:00.000000000",
          "2008-03-01T00:00:00.000000000",
          "2008-04-01T00:00:00.000000000",
          "2008-05-01T00:00:00.000000000",
          "2008-06-01T00:00:00.000000000",
          "2008-07-01T00:00:00.000000000",
          "2008-08-01T00:00:00.000000000",
          "2008-09-01T00:00:00.000000000",
          "2008-10-01T00:00:00.000000000",
          "2008-11-01T00:00:00.000000000",
          "2008-12-01T00:00:00.000000000",
          "2009-01-01T00:00:00.000000000",
          "2009-02-01T00:00:00.000000000",
          "2009-03-01T00:00:00.000000000",
          "2009-04-01T00:00:00.000000000",
          "2009-05-01T00:00:00.000000000",
          "2009-06-01T00:00:00.000000000",
          "2009-07-01T00:00:00.000000000",
          "2009-08-01T00:00:00.000000000",
          "2009-09-01T00:00:00.000000000",
          "2009-10-01T00:00:00.000000000",
          "2009-11-01T00:00:00.000000000",
          "2009-12-01T00:00:00.000000000",
          "2010-01-01T00:00:00.000000000",
          "2010-02-01T00:00:00.000000000",
          "2010-03-01T00:00:00.000000000",
          "2010-04-01T00:00:00.000000000",
          "2010-05-01T00:00:00.000000000",
          "2010-06-01T00:00:00.000000000",
          "2010-07-01T00:00:00.000000000",
          "2010-08-01T00:00:00.000000000",
          "2010-09-01T00:00:00.000000000",
          "2010-10-01T00:00:00.000000000",
          "2010-11-01T00:00:00.000000000",
          "2010-12-01T00:00:00.000000000",
          "2011-01-01T00:00:00.000000000",
          "2011-02-01T00:00:00.000000000",
          "2011-03-01T00:00:00.000000000",
          "2011-04-01T00:00:00.000000000",
          "2011-05-01T00:00:00.000000000",
          "2011-06-01T00:00:00.000000000",
          "2011-07-01T00:00:00.000000000",
          "2011-08-01T00:00:00.000000000",
          "2011-09-01T00:00:00.000000000",
          "2011-10-01T00:00:00.000000000",
          "2011-11-01T00:00:00.000000000",
          "2011-12-01T00:00:00.000000000",
          "2012-01-01T00:00:00.000000000",
          "2012-02-01T00:00:00.000000000",
          "2012-03-01T00:00:00.000000000",
          "2012-04-01T00:00:00.000000000",
          "2012-05-01T00:00:00.000000000",
          "2012-06-01T00:00:00.000000000",
          "2012-07-01T00:00:00.000000000",
          "2012-08-01T00:00:00.000000000",
          "2012-09-01T00:00:00.000000000",
          "2012-10-01T00:00:00.000000000",
          "2012-11-01T00:00:00.000000000",
          "2012-12-01T00:00:00.000000000",
          "2013-01-01T00:00:00.000000000",
          "2013-02-01T00:00:00.000000000",
          "2013-03-01T00:00:00.000000000",
          "2013-04-01T00:00:00.000000000",
          "2013-05-01T00:00:00.000000000",
          "2013-06-01T00:00:00.000000000",
          "2013-07-01T00:00:00.000000000",
          "2013-08-01T00:00:00.000000000",
          "2013-09-01T00:00:00.000000000",
          "2013-10-01T00:00:00.000000000",
          "2013-11-01T00:00:00.000000000",
          "2013-12-01T00:00:00.000000000",
          "2014-01-01T00:00:00.000000000",
          "2014-02-01T00:00:00.000000000",
          "2014-03-01T00:00:00.000000000",
          "2014-04-01T00:00:00.000000000",
          "2014-05-01T00:00:00.000000000",
          "2014-06-01T00:00:00.000000000",
          "2014-07-01T00:00:00.000000000",
          "2014-08-01T00:00:00.000000000",
          "2014-09-01T00:00:00.000000000",
          "2014-10-01T00:00:00.000000000",
          "2014-11-01T00:00:00.000000000",
          "2014-12-01T00:00:00.000000000",
          "2015-01-01T00:00:00.000000000",
          "2015-02-01T00:00:00.000000000",
          "2015-03-01T00:00:00.000000000",
          "2015-04-01T00:00:00.000000000",
          "2015-05-01T00:00:00.000000000",
          "2015-06-01T00:00:00.000000000",
          "2015-07-01T00:00:00.000000000",
          "2015-08-01T00:00:00.000000000",
          "2015-09-01T00:00:00.000000000",
          "2015-10-01T00:00:00.000000000",
          "2015-11-01T00:00:00.000000000",
          "2015-12-01T00:00:00.000000000",
          "2016-01-01T00:00:00.000000000",
          "2016-02-01T00:00:00.000000000",
          "2016-03-01T00:00:00.000000000",
          "2016-04-01T00:00:00.000000000",
          "2016-05-01T00:00:00.000000000",
          "2016-06-01T00:00:00.000000000",
          "2016-07-01T00:00:00.000000000",
          "2016-08-01T00:00:00.000000000",
          "2016-09-01T00:00:00.000000000",
          "2016-10-01T00:00:00.000000000",
          "2016-11-01T00:00:00.000000000",
          "2016-12-01T00:00:00.000000000",
          "2017-01-01T00:00:00.000000000",
          "2017-02-01T00:00:00.000000000",
          "2017-03-01T00:00:00.000000000",
          "2017-04-01T00:00:00.000000000",
          "2017-05-01T00:00:00.000000000",
          "2017-06-01T00:00:00.000000000",
          "2017-07-01T00:00:00.000000000",
          "2017-08-01T00:00:00.000000000",
          "2017-09-01T00:00:00.000000000",
          "2017-10-01T00:00:00.000000000",
          "2017-11-01T00:00:00.000000000",
          "2017-12-01T00:00:00.000000000",
          "2018-01-01T00:00:00.000000000",
          "2018-02-01T00:00:00.000000000",
          "2018-03-01T00:00:00.000000000",
          "2018-04-01T00:00:00.000000000",
          "2018-05-01T00:00:00.000000000",
          "2018-06-01T00:00:00.000000000",
          "2018-07-01T00:00:00.000000000",
          "2018-08-01T00:00:00.000000000",
          "2018-09-01T00:00:00.000000000",
          "2018-10-01T00:00:00.000000000",
          "2018-11-01T00:00:00.000000000",
          "2018-12-01T00:00:00.000000000",
          "2019-01-01T00:00:00.000000000",
          "2019-02-01T00:00:00.000000000",
          "2019-03-01T00:00:00.000000000",
          "2019-04-01T00:00:00.000000000",
          "2019-05-01T00:00:00.000000000",
          "2019-06-01T00:00:00.000000000",
          "2019-07-01T00:00:00.000000000",
          "2019-08-01T00:00:00.000000000",
          "2019-09-01T00:00:00.000000000",
          "2019-10-01T00:00:00.000000000",
          "2019-11-01T00:00:00.000000000",
          "2019-12-01T00:00:00.000000000",
          "2020-01-01T00:00:00.000000000",
          "2020-02-01T00:00:00.000000000",
          "2020-03-01T00:00:00.000000000",
          "2020-04-01T00:00:00.000000000",
          "2020-05-01T00:00:00.000000000",
          "2020-06-01T00:00:00.000000000",
          "2020-07-01T00:00:00.000000000",
          "2020-08-01T00:00:00.000000000",
          "2020-09-01T00:00:00.000000000",
          "2020-10-01T00:00:00.000000000",
          "2020-11-01T00:00:00.000000000",
          "2020-12-01T00:00:00.000000000",
          "2021-01-01T00:00:00.000000000",
          "2021-02-01T00:00:00.000000000",
          "2021-03-01T00:00:00.000000000",
          "2021-04-01T00:00:00.000000000",
          "2021-05-01T00:00:00.000000000",
          "2021-06-01T00:00:00.000000000",
          "2021-07-01T00:00:00.000000000",
          "2021-08-01T00:00:00.000000000",
          "2021-09-01T00:00:00.000000000",
          "2021-10-01T00:00:00.000000000",
          "2021-11-01T00:00:00.000000000",
          "2021-12-01T00:00:00.000000000",
          "2022-01-01T00:00:00.000000000",
          "2022-02-01T00:00:00.000000000",
          "2022-03-01T00:00:00.000000000",
          "2022-04-01T00:00:00.000000000",
          "2022-05-01T00:00:00.000000000",
          "2022-06-01T00:00:00.000000000",
          "2022-07-01T00:00:00.000000000",
          "2022-08-01T00:00:00.000000000",
          "2022-09-01T00:00:00.000000000",
          "2022-10-01T00:00:00.000000000",
          "2022-11-01T00:00:00.000000000",
          "2022-12-01T00:00:00.000000000",
          "2023-01-01T00:00:00.000000000",
          "2023-02-01T00:00:00.000000000",
          "2023-03-01T00:00:00.000000000",
          "2023-04-01T00:00:00.000000000",
          "2023-05-01T00:00:00.000000000",
          "2023-06-01T00:00:00.000000000",
          "2023-07-01T00:00:00.000000000",
          "2023-08-01T00:00:00.000000000",
          "2023-09-01T00:00:00.000000000",
          "2023-10-01T00:00:00.000000000",
          "2023-11-01T00:00:00.000000000",
          "2023-12-01T00:00:00.000000000",
          "2024-01-01T00:00:00.000000000",
          "2024-02-01T00:00:00.000000000",
          "2024-03-01T00:00:00.000000000",
          "2024-04-01T00:00:00.000000000",
          "2024-05-01T00:00:00.000000000",
          "2024-06-01T00:00:00.000000000",
          "2024-07-01T00:00:00.000000000",
          "2024-08-01T00:00:00.000000000",
          "2024-09-01T00:00:00.000000000",
          "2024-10-01T00:00:00.000000000",
          "2024-11-01T00:00:00.000000000",
          "2024-12-01T00:00:00.000000000"
         ],
         "xaxis": "x",
         "y": {
          "bdata": "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",
          "dtype": "f8"
         },
         "yaxis": "y"
        }
       ],
       "layout": {
        "barmode": "relative",
        "coloraxis": {
         "colorbar": {
          "title": {
           "text": "Change (Millions of Gallons)"
          }
         },
         "colorscale": [
          [
           0,
           "rgb(103,0,31)"
          ],
          [
           0.1,
           "rgb(178,24,43)"
          ],
          [
           0.2,
           "rgb(214,96,77)"
          ],
          [
           0.3,
           "rgb(244,165,130)"
          ],
          [
           0.4,
           "rgb(253,219,199)"
          ],
          [
           0.5,
           "rgb(247,247,247)"
          ],
          [
           0.6,
           "rgb(209,229,240)"
          ],
          [
           0.7,
           "rgb(146,197,222)"
          ],
          [
           0.8,
           "rgb(67,147,195)"
          ],
          [
           0.9,
           "rgb(33,102,172)"
          ],
          [
           1,
           "rgb(5,48,97)"
          ]
         ],
         "showscale": false
        },
        "legend": {
         "tracegroupgap": 0
        },
        "shapes": [
         {
          "line": {
           "color": "black"
          },
          "opacity": 0.5,
          "type": "line",
          "x0": 0,
          "x1": 1,
          "xref": "x domain",
          "y0": 0,
          "y1": 0,
          "yref": "y"
         }
        ],
        "template": {
         "data": {
          "bar": [
           {
            "error_x": {
             "color": "#2a3f5f"
            },
            "error_y": {
             "color": "#2a3f5f"
            },
            "marker": {
             "line": {
              "color": "white",
              "width": 0.5
             },
             "pattern": {
              "fillmode": "overlay",
              "size": 10,
              "solidity": 0.2
             }
            },
            "type": "bar"
           }
          ],
          "barpolar": [
           {
            "marker": {
             "line": {
              "color": "white",
              "width": 0.5
             },
             "pattern": {
              "fillmode": "overlay",
              "size": 10,
              "solidity": 0.2
             }
            },
            "type": "barpolar"
           }
          ],
          "carpet": [
           {
            "aaxis": {
             "endlinecolor": "#2a3f5f",
             "gridcolor": "#C8D4E3",
             "linecolor": "#C8D4E3",
             "minorgridcolor": "#C8D4E3",
             "startlinecolor": "#2a3f5f"
            },
            "baxis": {
             "endlinecolor": "#2a3f5f",
             "gridcolor": "#C8D4E3",
             "linecolor": "#C8D4E3",
             "minorgridcolor": "#C8D4E3",
             "startlinecolor": "#2a3f5f"
            },
            "type": "carpet"
           }
          ],
          "choropleth": [
           {
            "colorbar": {
             "outlinewidth": 0,
             "ticks": ""
            },
            "type": "choropleth"
           }
          ],
          "contour": [
           {
            "colorbar": {
             "outlinewidth": 0,
             "ticks": ""
            },
            "colorscale": [
             [
              0,
              "#0d0887"
             ],
             [
              0.1111111111111111,
              "#46039f"
             ],
             [
              0.2222222222222222,
              "#7201a8"
             ],
             [
              0.3333333333333333,
              "#9c179e"
             ],
             [
              0.4444444444444444,
              "#bd3786"
             ],
             [
              0.5555555555555556,
              "#d8576b"
             ],
             [
              0.6666666666666666,
              "#ed7953"
             ],
             [
              0.7777777777777778,
              "#fb9f3a"
             ],
             [
              0.8888888888888888,
              "#fdca26"
             ],
             [
              1,
              "#f0f921"
             ]
            ],
            "type": "contour"
           }
          ],
          "contourcarpet": [
           {
            "colorbar": {
             "outlinewidth": 0,
             "ticks": ""
            },
            "type": "contourcarpet"
           }
          ],
          "heatmap": [
           {
            "colorbar": {
             "outlinewidth": 0,
             "ticks": ""
            },
            "colorscale": [
             [
              0,
              "#0d0887"
             ],
             [
              0.1111111111111111,
              "#46039f"
             ],
             [
              0.2222222222222222,
              "#7201a8"
             ],
             [
              0.3333333333333333,
              "#9c179e"
             ],
             [
              0.4444444444444444,
              "#bd3786"
             ],
             [
              0.5555555555555556,
              "#d8576b"
             ],
             [
              0.6666666666666666,
              "#ed7953"
             ],
             [
              0.7777777777777778,
              "#fb9f3a"
             ],
             [
              0.8888888888888888,
              "#fdca26"
             ],
             [
              1,
              "#f0f921"
             ]
            ],
            "type": "heatmap"
           }
          ],
          "histogram": [
           {
            "marker": {
             "pattern": {
              "fillmode": "overlay",
              "size": 10,
              "solidity": 0.2
             }
            },
            "type": "histogram"
           }
          ],
          "histogram2d": [
           {
            "colorbar": {
             "outlinewidth": 0,
             "ticks": ""
            },
            "colorscale": [
             [
              0,
              "#0d0887"
             ],
             [
              0.1111111111111111,
              "#46039f"
             ],
             [
              0.2222222222222222,
              "#7201a8"
             ],
             [
              0.3333333333333333,
              "#9c179e"
             ],
             [
              0.4444444444444444,
              "#bd3786"
             ],
             [
              0.5555555555555556,
              "#d8576b"
             ],
             [
              0.6666666666666666,
              "#ed7953"
             ],
             [
              0.7777777777777778,
              "#fb9f3a"
             ],
             [
              0.8888888888888888,
              "#fdca26"
             ],
             [
              1,
              "#f0f921"
             ]
            ],
            "type": "histogram2d"
           }
          ],
          "histogram2dcontour": [
           {
            "colorbar": {
             "outlinewidth": 0,
             "ticks": ""
            },
            "colorscale": [
             [
              0,
              "#0d0887"
             ],
             [
              0.1111111111111111,
              "#46039f"
             ],
             [
              0.2222222222222222,
              "#7201a8"
             ],
             [
              0.3333333333333333,
              "#9c179e"
             ],
             [
              0.4444444444444444,
              "#bd3786"
             ],
             [
              0.5555555555555556,
              "#d8576b"
             ],
             [
              0.6666666666666666,
              "#ed7953"
             ],
             [
              0.7777777777777778,
              "#fb9f3a"
             ],
             [
              0.8888888888888888,
              "#fdca26"
             ],
             [
              1,
              "#f0f921"
             ]
            ],
            "type": "histogram2dcontour"
           }
          ],
          "mesh3d": [
           {
            "colorbar": {
             "outlinewidth": 0,
             "ticks": ""
            },
            "type": "mesh3d"
           }
          ],
          "parcoords": [
           {
            "line": {
             "colorbar": {
              "outlinewidth": 0,
              "ticks": ""
             }
            },
            "type": "parcoords"
           }
          ],
          "pie": [
           {
            "automargin": true,
            "type": "pie"
           }
          ],
          "scatter": [
           {
            "fillpattern": {
             "fillmode": "overlay",
             "size": 10,
             "solidity": 0.2
            },
            "type": "scatter"
           }
          ],
          "scatter3d": [
           {
            "line": {
             "colorbar": {
              "outlinewidth": 0,
              "ticks": ""
             }
            },
            "marker": {
             "colorbar": {
              "outlinewidth": 0,
              "ticks": ""
             }
            },
            "type": "scatter3d"
           }
          ],
          "scattercarpet": [
           {
            "marker": {
             "colorbar": {
              "outlinewidth": 0,
              "ticks": ""
             }
            },
            "type": "scattercarpet"
           }
          ],
          "scattergeo": [
           {
            "marker": {
             "colorbar": {
              "outlinewidth": 0,
              "ticks": ""
             }
            },
            "type": "scattergeo"
           }
          ],
          "scattergl": [
           {
            "marker": {
             "colorbar": {
              "outlinewidth": 0,
              "ticks": ""
             }
            },
            "type": "scattergl"
           }
          ],
          "scattermap": [
           {
            "marker": {
             "colorbar": {
              "outlinewidth": 0,
              "ticks": ""
             }
            },
            "type": "scattermap"
           }
          ],
          "scattermapbox": [
           {
            "marker": {
             "colorbar": {
              "outlinewidth": 0,
              "ticks": ""
             }
            },
            "type": "scattermapbox"
           }
          ],
          "scatterpolar": [
           {
            "marker": {
             "colorbar": {
              "outlinewidth": 0,
              "ticks": ""
             }
            },
            "type": "scatterpolar"
           }
          ],
          "scatterpolargl": [
           {
            "marker": {
             "colorbar": {
              "outlinewidth": 0,
              "ticks": ""
             }
            },
            "type": "scatterpolargl"
           }
          ],
          "scatterternary": [
           {
            "marker": {
             "colorbar": {
              "outlinewidth": 0,
              "ticks": ""
             }
            },
            "type": "scatterternary"
           }
          ],
          "surface": [
           {
            "colorbar": {
             "outlinewidth": 0,
             "ticks": ""
            },
            "colorscale": [
             [
              0,
              "#0d0887"
             ],
             [
              0.1111111111111111,
              "#46039f"
             ],
             [
              0.2222222222222222,
              "#7201a8"
             ],
             [
              0.3333333333333333,
              "#9c179e"
             ],
             [
              0.4444444444444444,
              "#bd3786"
             ],
             [
              0.5555555555555556,
              "#d8576b"
             ],
             [
              0.6666666666666666,
              "#ed7953"
             ],
             [
              0.7777777777777778,
              "#fb9f3a"
             ],
             [
              0.8888888888888888,
              "#fdca26"
             ],
             [
              1,
              "#f0f921"
             ]
            ],
            "type": "surface"
           }
          ],
          "table": [
           {
            "cells": {
             "fill": {
              "color": "#EBF0F8"
             },
             "line": {
              "color": "white"
             }
            },
            "header": {
             "fill": {
              "color": "#C8D4E3"
             },
             "line": {
              "color": "white"
             }
            },
            "type": "table"
           }
          ]
         },
         "layout": {
          "annotationdefaults": {
           "arrowcolor": "#2a3f5f",
           "arrowhead": 0,
           "arrowwidth": 1
          },
          "autotypenumbers": "strict",
          "coloraxis": {
           "colorbar": {
            "outlinewidth": 0,
            "ticks": ""
           }
          },
          "colorscale": {
           "diverging": [
            [
             0,
             "#8e0152"
            ],
            [
             0.1,
             "#c51b7d"
            ],
            [
             0.2,
             "#de77ae"
            ],
            [
             0.3,
             "#f1b6da"
            ],
            [
             0.4,
             "#fde0ef"
            ],
            [
             0.5,
             "#f7f7f7"
            ],
            [
             0.6,
             "#e6f5d0"
            ],
            [
             0.7,
             "#b8e186"
            ],
            [
             0.8,
             "#7fbc41"
            ],
            [
             0.9,
             "#4d9221"
            ],
            [
             1,
             "#276419"
            ]
           ],
           "sequential": [
            [
             0,
             "#0d0887"
            ],
            [
             0.1111111111111111,
             "#46039f"
            ],
            [
             0.2222222222222222,
             "#7201a8"
            ],
            [
             0.3333333333333333,
             "#9c179e"
            ],
            [
             0.4444444444444444,
             "#bd3786"
            ],
            [
             0.5555555555555556,
             "#d8576b"
            ],
            [
             0.6666666666666666,
             "#ed7953"
            ],
            [
             0.7777777777777778,
             "#fb9f3a"
            ],
            [
             0.8888888888888888,
             "#fdca26"
            ],
            [
             1,
             "#f0f921"
            ]
           ],
           "sequentialminus": [
            [
             0,
             "#0d0887"
            ],
            [
             0.1111111111111111,
             "#46039f"
            ],
            [
             0.2222222222222222,
             "#7201a8"
            ],
            [
             0.3333333333333333,
             "#9c179e"
            ],
            [
             0.4444444444444444,
             "#bd3786"
            ],
            [
             0.5555555555555556,
             "#d8576b"
            ],
            [
             0.6666666666666666,
             "#ed7953"
            ],
            [
             0.7777777777777778,
             "#fb9f3a"
            ],
            [
             0.8888888888888888,
             "#fdca26"
            ],
            [
             1,
             "#f0f921"
            ]
           ]
          },
          "colorway": [
           "#636efa",
           "#EF553B",
           "#00cc96",
           "#ab63fa",
           "#FFA15A",
           "#19d3f3",
           "#FF6692",
           "#B6E880",
           "#FF97FF",
           "#FECB52"
          ],
          "font": {
           "color": "#2a3f5f"
          },
          "geo": {
           "bgcolor": "white",
           "lakecolor": "white",
           "landcolor": "white",
           "showlakes": true,
           "showland": true,
           "subunitcolor": "#C8D4E3"
          },
          "hoverlabel": {
           "align": "left"
          },
          "hovermode": "closest",
          "mapbox": {
           "style": "light"
          },
          "paper_bgcolor": "white",
          "plot_bgcolor": "white",
          "polar": {
           "angularaxis": {
            "gridcolor": "#EBF0F8",
            "linecolor": "#EBF0F8",
            "ticks": ""
           },
           "bgcolor": "white",
           "radialaxis": {
            "gridcolor": "#EBF0F8",
            "linecolor": "#EBF0F8",
            "ticks": ""
           }
          },
          "scene": {
           "xaxis": {
            "backgroundcolor": "white",
            "gridcolor": "#DFE8F3",
            "gridwidth": 2,
            "linecolor": "#EBF0F8",
            "showbackground": true,
            "ticks": "",
            "zerolinecolor": "#EBF0F8"
           },
           "yaxis": {
            "backgroundcolor": "white",
            "gridcolor": "#DFE8F3",
            "gridwidth": 2,
            "linecolor": "#EBF0F8",
            "showbackground": true,
            "ticks": "",
            "zerolinecolor": "#EBF0F8"
           },
           "zaxis": {
            "backgroundcolor": "white",
            "gridcolor": "#DFE8F3",
            "gridwidth": 2,
            "linecolor": "#EBF0F8",
            "showbackground": true,
            "ticks": "",
            "zerolinecolor": "#EBF0F8"
           }
          },
          "shapedefaults": {
           "line": {
            "color": "#2a3f5f"
           }
          },
          "ternary": {
           "aaxis": {
            "gridcolor": "#DFE8F3",
            "linecolor": "#A2B1C6",
            "ticks": ""
           },
           "baxis": {
            "gridcolor": "#DFE8F3",
            "linecolor": "#A2B1C6",
            "ticks": ""
           },
           "bgcolor": "white",
           "caxis": {
            "gridcolor": "#DFE8F3",
            "linecolor": "#A2B1C6",
            "ticks": ""
           }
          },
          "title": {
           "x": 0.05
          },
          "xaxis": {
           "automargin": true,
           "gridcolor": "#EBF0F8",
           "linecolor": "#EBF0F8",
           "ticks": "",
           "title": {
            "standoff": 15
           },
           "zerolinecolor": "#EBF0F8",
           "zerolinewidth": 2
          },
          "yaxis": {
           "automargin": true,
           "gridcolor": "#EBF0F8",
           "linecolor": "#EBF0F8",
           "ticks": "",
           "title": {
            "standoff": 15
           },
           "zerolinecolor": "#EBF0F8",
           "zerolinewidth": 2
          }
         }
        },
        "title": {
         "text": "Month-to-Month Change in U.S. Gasoline Consumption",
         "x": 0.5
        },
        "xaxis": {
         "anchor": "y",
         "domain": [
          0,
          1
         ],
         "title": {
          "text": "Date"
         }
        },
        "yaxis": {
         "anchor": "x",
         "domain": [
          0,
          1
         ],
         "title": {
          "text": "Change in Millions of Gallons"
         }
        }
       }
      }
     },
     "metadata": {},
     "output_type": "display_data"
    }
   ],
   "source": [
    "''' Create a bar plot to visualize month-to-month changes in gasoline consumption '''\n",
    "\n",
    "# Calculate month-to-month percent change\n",
    "consumption[\"Monthly_Change_%\"] = consumption[\"Gasoline_Consumption(Millions of Gallons)\"].pct_change() * 100\n",
    "\n",
    "# Calculate absolute change (in millions of gallons)\n",
    "consumption[\"Monthly_Change_(Millions)\"] = consumption[\"Gasoline_Consumption(Millions of Gallons)\"].diff()\n",
    "\n",
    "# Create bar plot\n",
    "fig = px.bar(\n",
    "    consumption,\n",
    "    x=\"Date\",\n",
    "    y=\"Monthly_Change_(Millions)\",\n",
    "    title=\"Month-to-Month Change in U.S. Gasoline Consumption\",\n",
    "    labels={\"Monthly_Change_(Millions)\": \"Change (Millions of Gallons)\"},\n",
    "    color=\"Monthly_Change_(Millions)\",\n",
    "    color_continuous_scale=\"RdBu\",\n",
    ")\n",
    "\n",
    "# Customize appearance\n",
    "fig.update_layout(\n",
    "    template=\"plotly_white\",\n",
    "    title_x=0.5,\n",
    "    coloraxis_showscale=False,\n",
    "    xaxis_title=\"Date\",\n",
    "    yaxis_title=\"Change in Millions of Gallons\",\n",
    ")\n",
    "# Add horizontal line at y=0\n",
    "fig.add_hline(y=0, line_color=\"black\", opacity=0.5)\n",
    "\n",
    "fig.show()"
   ]
  },
  {
   "cell_type": "code",
   "execution_count": 446,
   "id": "8c0d288d",
   "metadata": {},
   "outputs": [
    {
     "data": {
      "application/vnd.plotly.v1+json": {
       "config": {
        "plotlyServerURL": "https://plot.ly"
       },
       "data": [
        {
         "hovertemplate": "Date=%{x}<br>Percent Change (%)=%{y}<extra></extra>",
         "legendgroup": "",
         "line": {
          "color": "teal",
          "dash": "solid",
          "width": 2
         },
         "marker": {
          "symbol": "circle"
         },
         "mode": "lines",
         "name": "",
         "orientation": "v",
         "showlegend": false,
         "type": "scatter",
         "x": [
          "1993-04-01T00:00:00.000000000",
          "1993-05-01T00:00:00.000000000",
          "1993-06-01T00:00:00.000000000",
          "1993-07-01T00:00:00.000000000",
          "1993-08-01T00:00:00.000000000",
          "1993-09-01T00:00:00.000000000",
          "1993-10-01T00:00:00.000000000",
          "1993-11-01T00:00:00.000000000",
          "1993-12-01T00:00:00.000000000",
          "1994-01-01T00:00:00.000000000",
          "1994-02-01T00:00:00.000000000",
          "1994-03-01T00:00:00.000000000",
          "1994-04-01T00:00:00.000000000",
          "1994-05-01T00:00:00.000000000",
          "1994-06-01T00:00:00.000000000",
          "1994-07-01T00:00:00.000000000",
          "1994-08-01T00:00:00.000000000",
          "1994-09-01T00:00:00.000000000",
          "1994-10-01T00:00:00.000000000",
          "1994-11-01T00:00:00.000000000",
          "1994-12-01T00:00:00.000000000",
          "1995-01-01T00:00:00.000000000",
          "1995-02-01T00:00:00.000000000",
          "1995-03-01T00:00:00.000000000",
          "1995-04-01T00:00:00.000000000",
          "1995-05-01T00:00:00.000000000",
          "1995-06-01T00:00:00.000000000",
          "1995-07-01T00:00:00.000000000",
          "1995-08-01T00:00:00.000000000",
          "1995-09-01T00:00:00.000000000",
          "1995-10-01T00:00:00.000000000",
          "1995-11-01T00:00:00.000000000",
          "1995-12-01T00:00:00.000000000",
          "1996-01-01T00:00:00.000000000",
          "1996-02-01T00:00:00.000000000",
          "1996-03-01T00:00:00.000000000",
          "1996-04-01T00:00:00.000000000",
          "1996-05-01T00:00:00.000000000",
          "1996-06-01T00:00:00.000000000",
          "1996-07-01T00:00:00.000000000",
          "1996-08-01T00:00:00.000000000",
          "1996-09-01T00:00:00.000000000",
          "1996-10-01T00:00:00.000000000",
          "1996-11-01T00:00:00.000000000",
          "1996-12-01T00:00:00.000000000",
          "1997-01-01T00:00:00.000000000",
          "1997-02-01T00:00:00.000000000",
          "1997-03-01T00:00:00.000000000",
          "1997-04-01T00:00:00.000000000",
          "1997-05-01T00:00:00.000000000",
          "1997-06-01T00:00:00.000000000",
          "1997-07-01T00:00:00.000000000",
          "1997-08-01T00:00:00.000000000",
          "1997-09-01T00:00:00.000000000",
          "1997-10-01T00:00:00.000000000",
          "1997-11-01T00:00:00.000000000",
          "1997-12-01T00:00:00.000000000",
          "1998-01-01T00:00:00.000000000",
          "1998-02-01T00:00:00.000000000",
          "1998-03-01T00:00:00.000000000",
          "1998-04-01T00:00:00.000000000",
          "1998-05-01T00:00:00.000000000",
          "1998-06-01T00:00:00.000000000",
          "1998-07-01T00:00:00.000000000",
          "1998-08-01T00:00:00.000000000",
          "1998-09-01T00:00:00.000000000",
          "1998-10-01T00:00:00.000000000",
          "1998-11-01T00:00:00.000000000",
          "1998-12-01T00:00:00.000000000",
          "1999-01-01T00:00:00.000000000",
          "1999-02-01T00:00:00.000000000",
          "1999-03-01T00:00:00.000000000",
          "1999-04-01T00:00:00.000000000",
          "1999-05-01T00:00:00.000000000",
          "1999-06-01T00:00:00.000000000",
          "1999-07-01T00:00:00.000000000",
          "1999-08-01T00:00:00.000000000",
          "1999-09-01T00:00:00.000000000",
          "1999-10-01T00:00:00.000000000",
          "1999-11-01T00:00:00.000000000",
          "1999-12-01T00:00:00.000000000",
          "2000-01-01T00:00:00.000000000",
          "2000-02-01T00:00:00.000000000",
          "2000-03-01T00:00:00.000000000",
          "2000-04-01T00:00:00.000000000",
          "2000-05-01T00:00:00.000000000",
          "2000-06-01T00:00:00.000000000",
          "2000-07-01T00:00:00.000000000",
          "2000-08-01T00:00:00.000000000",
          "2000-09-01T00:00:00.000000000",
          "2000-10-01T00:00:00.000000000",
          "2000-11-01T00:00:00.000000000",
          "2000-12-01T00:00:00.000000000",
          "2001-01-01T00:00:00.000000000",
          "2001-02-01T00:00:00.000000000",
          "2001-03-01T00:00:00.000000000",
          "2001-04-01T00:00:00.000000000",
          "2001-05-01T00:00:00.000000000",
          "2001-06-01T00:00:00.000000000",
          "2001-07-01T00:00:00.000000000",
          "2001-08-01T00:00:00.000000000",
          "2001-09-01T00:00:00.000000000",
          "2001-10-01T00:00:00.000000000",
          "2001-11-01T00:00:00.000000000",
          "2001-12-01T00:00:00.000000000",
          "2002-01-01T00:00:00.000000000",
          "2002-02-01T00:00:00.000000000",
          "2002-03-01T00:00:00.000000000",
          "2002-04-01T00:00:00.000000000",
          "2002-05-01T00:00:00.000000000",
          "2002-06-01T00:00:00.000000000",
          "2002-07-01T00:00:00.000000000",
          "2002-08-01T00:00:00.000000000",
          "2002-09-01T00:00:00.000000000",
          "2002-10-01T00:00:00.000000000",
          "2002-11-01T00:00:00.000000000",
          "2002-12-01T00:00:00.000000000",
          "2003-01-01T00:00:00.000000000",
          "2003-02-01T00:00:00.000000000",
          "2003-03-01T00:00:00.000000000",
          "2003-04-01T00:00:00.000000000",
          "2003-05-01T00:00:00.000000000",
          "2003-06-01T00:00:00.000000000",
          "2003-07-01T00:00:00.000000000",
          "2003-08-01T00:00:00.000000000",
          "2003-09-01T00:00:00.000000000",
          "2003-10-01T00:00:00.000000000",
          "2003-11-01T00:00:00.000000000",
          "2003-12-01T00:00:00.000000000",
          "2004-01-01T00:00:00.000000000",
          "2004-02-01T00:00:00.000000000",
          "2004-03-01T00:00:00.000000000",
          "2004-04-01T00:00:00.000000000",
          "2004-05-01T00:00:00.000000000",
          "2004-06-01T00:00:00.000000000",
          "2004-07-01T00:00:00.000000000",
          "2004-08-01T00:00:00.000000000",
          "2004-09-01T00:00:00.000000000",
          "2004-10-01T00:00:00.000000000",
          "2004-11-01T00:00:00.000000000",
          "2004-12-01T00:00:00.000000000",
          "2005-01-01T00:00:00.000000000",
          "2005-02-01T00:00:00.000000000",
          "2005-03-01T00:00:00.000000000",
          "2005-04-01T00:00:00.000000000",
          "2005-05-01T00:00:00.000000000",
          "2005-06-01T00:00:00.000000000",
          "2005-07-01T00:00:00.000000000",
          "2005-08-01T00:00:00.000000000",
          "2005-09-01T00:00:00.000000000",
          "2005-10-01T00:00:00.000000000",
          "2005-11-01T00:00:00.000000000",
          "2005-12-01T00:00:00.000000000",
          "2006-01-01T00:00:00.000000000",
          "2006-02-01T00:00:00.000000000",
          "2006-03-01T00:00:00.000000000",
          "2006-04-01T00:00:00.000000000",
          "2006-05-01T00:00:00.000000000",
          "2006-06-01T00:00:00.000000000",
          "2006-07-01T00:00:00.000000000",
          "2006-08-01T00:00:00.000000000",
          "2006-09-01T00:00:00.000000000",
          "2006-10-01T00:00:00.000000000",
          "2006-11-01T00:00:00.000000000",
          "2006-12-01T00:00:00.000000000",
          "2007-01-01T00:00:00.000000000",
          "2007-02-01T00:00:00.000000000",
          "2007-03-01T00:00:00.000000000",
          "2007-04-01T00:00:00.000000000",
          "2007-05-01T00:00:00.000000000",
          "2007-06-01T00:00:00.000000000",
          "2007-07-01T00:00:00.000000000",
          "2007-08-01T00:00:00.000000000",
          "2007-09-01T00:00:00.000000000",
          "2007-10-01T00:00:00.000000000",
          "2007-11-01T00:00:00.000000000",
          "2007-12-01T00:00:00.000000000",
          "2008-01-01T00:00:00.000000000",
          "2008-02-01T00:00:00.000000000",
          "2008-03-01T00:00:00.000000000",
          "2008-04-01T00:00:00.000000000",
          "2008-05-01T00:00:00.000000000",
          "2008-06-01T00:00:00.000000000",
          "2008-07-01T00:00:00.000000000",
          "2008-08-01T00:00:00.000000000",
          "2008-09-01T00:00:00.000000000",
          "2008-10-01T00:00:00.000000000",
          "2008-11-01T00:00:00.000000000",
          "2008-12-01T00:00:00.000000000",
          "2009-01-01T00:00:00.000000000",
          "2009-02-01T00:00:00.000000000",
          "2009-03-01T00:00:00.000000000",
          "2009-04-01T00:00:00.000000000",
          "2009-05-01T00:00:00.000000000",
          "2009-06-01T00:00:00.000000000",
          "2009-07-01T00:00:00.000000000",
          "2009-08-01T00:00:00.000000000",
          "2009-09-01T00:00:00.000000000",
          "2009-10-01T00:00:00.000000000",
          "2009-11-01T00:00:00.000000000",
          "2009-12-01T00:00:00.000000000",
          "2010-01-01T00:00:00.000000000",
          "2010-02-01T00:00:00.000000000",
          "2010-03-01T00:00:00.000000000",
          "2010-04-01T00:00:00.000000000",
          "2010-05-01T00:00:00.000000000",
          "2010-06-01T00:00:00.000000000",
          "2010-07-01T00:00:00.000000000",
          "2010-08-01T00:00:00.000000000",
          "2010-09-01T00:00:00.000000000",
          "2010-10-01T00:00:00.000000000",
          "2010-11-01T00:00:00.000000000",
          "2010-12-01T00:00:00.000000000",
          "2011-01-01T00:00:00.000000000",
          "2011-02-01T00:00:00.000000000",
          "2011-03-01T00:00:00.000000000",
          "2011-04-01T00:00:00.000000000",
          "2011-05-01T00:00:00.000000000",
          "2011-06-01T00:00:00.000000000",
          "2011-07-01T00:00:00.000000000",
          "2011-08-01T00:00:00.000000000",
          "2011-09-01T00:00:00.000000000",
          "2011-10-01T00:00:00.000000000",
          "2011-11-01T00:00:00.000000000",
          "2011-12-01T00:00:00.000000000",
          "2012-01-01T00:00:00.000000000",
          "2012-02-01T00:00:00.000000000",
          "2012-03-01T00:00:00.000000000",
          "2012-04-01T00:00:00.000000000",
          "2012-05-01T00:00:00.000000000",
          "2012-06-01T00:00:00.000000000",
          "2012-07-01T00:00:00.000000000",
          "2012-08-01T00:00:00.000000000",
          "2012-09-01T00:00:00.000000000",
          "2012-10-01T00:00:00.000000000",
          "2012-11-01T00:00:00.000000000",
          "2012-12-01T00:00:00.000000000",
          "2013-01-01T00:00:00.000000000",
          "2013-02-01T00:00:00.000000000",
          "2013-03-01T00:00:00.000000000",
          "2013-04-01T00:00:00.000000000",
          "2013-05-01T00:00:00.000000000",
          "2013-06-01T00:00:00.000000000",
          "2013-07-01T00:00:00.000000000",
          "2013-08-01T00:00:00.000000000",
          "2013-09-01T00:00:00.000000000",
          "2013-10-01T00:00:00.000000000",
          "2013-11-01T00:00:00.000000000",
          "2013-12-01T00:00:00.000000000",
          "2014-01-01T00:00:00.000000000",
          "2014-02-01T00:00:00.000000000",
          "2014-03-01T00:00:00.000000000",
          "2014-04-01T00:00:00.000000000",
          "2014-05-01T00:00:00.000000000",
          "2014-06-01T00:00:00.000000000",
          "2014-07-01T00:00:00.000000000",
          "2014-08-01T00:00:00.000000000",
          "2014-09-01T00:00:00.000000000",
          "2014-10-01T00:00:00.000000000",
          "2014-11-01T00:00:00.000000000",
          "2014-12-01T00:00:00.000000000",
          "2015-01-01T00:00:00.000000000",
          "2015-02-01T00:00:00.000000000",
          "2015-03-01T00:00:00.000000000",
          "2015-04-01T00:00:00.000000000",
          "2015-05-01T00:00:00.000000000",
          "2015-06-01T00:00:00.000000000",
          "2015-07-01T00:00:00.000000000",
          "2015-08-01T00:00:00.000000000",
          "2015-09-01T00:00:00.000000000",
          "2015-10-01T00:00:00.000000000",
          "2015-11-01T00:00:00.000000000",
          "2015-12-01T00:00:00.000000000",
          "2016-01-01T00:00:00.000000000",
          "2016-02-01T00:00:00.000000000",
          "2016-03-01T00:00:00.000000000",
          "2016-04-01T00:00:00.000000000",
          "2016-05-01T00:00:00.000000000",
          "2016-06-01T00:00:00.000000000",
          "2016-07-01T00:00:00.000000000",
          "2016-08-01T00:00:00.000000000",
          "2016-09-01T00:00:00.000000000",
          "2016-10-01T00:00:00.000000000",
          "2016-11-01T00:00:00.000000000",
          "2016-12-01T00:00:00.000000000",
          "2017-01-01T00:00:00.000000000",
          "2017-02-01T00:00:00.000000000",
          "2017-03-01T00:00:00.000000000",
          "2017-04-01T00:00:00.000000000",
          "2017-05-01T00:00:00.000000000",
          "2017-06-01T00:00:00.000000000",
          "2017-07-01T00:00:00.000000000",
          "2017-08-01T00:00:00.000000000",
          "2017-09-01T00:00:00.000000000",
          "2017-10-01T00:00:00.000000000",
          "2017-11-01T00:00:00.000000000",
          "2017-12-01T00:00:00.000000000",
          "2018-01-01T00:00:00.000000000",
          "2018-02-01T00:00:00.000000000",
          "2018-03-01T00:00:00.000000000",
          "2018-04-01T00:00:00.000000000",
          "2018-05-01T00:00:00.000000000",
          "2018-06-01T00:00:00.000000000",
          "2018-07-01T00:00:00.000000000",
          "2018-08-01T00:00:00.000000000",
          "2018-09-01T00:00:00.000000000",
          "2018-10-01T00:00:00.000000000",
          "2018-11-01T00:00:00.000000000",
          "2018-12-01T00:00:00.000000000",
          "2019-01-01T00:00:00.000000000",
          "2019-02-01T00:00:00.000000000",
          "2019-03-01T00:00:00.000000000",
          "2019-04-01T00:00:00.000000000",
          "2019-05-01T00:00:00.000000000",
          "2019-06-01T00:00:00.000000000",
          "2019-07-01T00:00:00.000000000",
          "2019-08-01T00:00:00.000000000",
          "2019-09-01T00:00:00.000000000",
          "2019-10-01T00:00:00.000000000",
          "2019-11-01T00:00:00.000000000",
          "2019-12-01T00:00:00.000000000",
          "2020-01-01T00:00:00.000000000",
          "2020-02-01T00:00:00.000000000",
          "2020-03-01T00:00:00.000000000",
          "2020-04-01T00:00:00.000000000",
          "2020-05-01T00:00:00.000000000",
          "2020-06-01T00:00:00.000000000",
          "2020-07-01T00:00:00.000000000",
          "2020-08-01T00:00:00.000000000",
          "2020-09-01T00:00:00.000000000",
          "2020-10-01T00:00:00.000000000",
          "2020-11-01T00:00:00.000000000",
          "2020-12-01T00:00:00.000000000",
          "2021-01-01T00:00:00.000000000",
          "2021-02-01T00:00:00.000000000",
          "2021-03-01T00:00:00.000000000",
          "2021-04-01T00:00:00.000000000",
          "2021-05-01T00:00:00.000000000",
          "2021-06-01T00:00:00.000000000",
          "2021-07-01T00:00:00.000000000",
          "2021-08-01T00:00:00.000000000",
          "2021-09-01T00:00:00.000000000",
          "2021-10-01T00:00:00.000000000",
          "2021-11-01T00:00:00.000000000",
          "2021-12-01T00:00:00.000000000",
          "2022-01-01T00:00:00.000000000",
          "2022-02-01T00:00:00.000000000",
          "2022-03-01T00:00:00.000000000",
          "2022-04-01T00:00:00.000000000",
          "2022-05-01T00:00:00.000000000",
          "2022-06-01T00:00:00.000000000",
          "2022-07-01T00:00:00.000000000",
          "2022-08-01T00:00:00.000000000",
          "2022-09-01T00:00:00.000000000",
          "2022-10-01T00:00:00.000000000",
          "2022-11-01T00:00:00.000000000",
          "2022-12-01T00:00:00.000000000",
          "2023-01-01T00:00:00.000000000",
          "2023-02-01T00:00:00.000000000",
          "2023-03-01T00:00:00.000000000",
          "2023-04-01T00:00:00.000000000",
          "2023-05-01T00:00:00.000000000",
          "2023-06-01T00:00:00.000000000",
          "2023-07-01T00:00:00.000000000",
          "2023-08-01T00:00:00.000000000",
          "2023-09-01T00:00:00.000000000",
          "2023-10-01T00:00:00.000000000",
          "2023-11-01T00:00:00.000000000",
          "2023-12-01T00:00:00.000000000",
          "2024-01-01T00:00:00.000000000",
          "2024-02-01T00:00:00.000000000",
          "2024-03-01T00:00:00.000000000",
          "2024-04-01T00:00:00.000000000",
          "2024-05-01T00:00:00.000000000",
          "2024-06-01T00:00:00.000000000",
          "2024-07-01T00:00:00.000000000",
          "2024-08-01T00:00:00.000000000",
          "2024-09-01T00:00:00.000000000",
          "2024-10-01T00:00:00.000000000",
          "2024-11-01T00:00:00.000000000",
          "2024-12-01T00:00:00.000000000"
         ],
         "xaxis": "x",
         "y": {
          "bdata": "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",
          "dtype": "f8"
         },
         "yaxis": "y"
        }
       ],
       "layout": {
        "hovermode": "x unified",
        "legend": {
         "tracegroupgap": 0
        },
        "shapes": [
         {
          "line": {
           "color": "black"
          },
          "opacity": 0.5,
          "type": "line",
          "x0": 0,
          "x1": 1,
          "xref": "x domain",
          "y0": 0,
          "y1": 0,
          "yref": "y"
         }
        ],
        "template": {
         "data": {
          "bar": [
           {
            "error_x": {
             "color": "#2a3f5f"
            },
            "error_y": {
             "color": "#2a3f5f"
            },
            "marker": {
             "line": {
              "color": "white",
              "width": 0.5
             },
             "pattern": {
              "fillmode": "overlay",
              "size": 10,
              "solidity": 0.2
             }
            },
            "type": "bar"
           }
          ],
          "barpolar": [
           {
            "marker": {
             "line": {
              "color": "white",
              "width": 0.5
             },
             "pattern": {
              "fillmode": "overlay",
              "size": 10,
              "solidity": 0.2
             }
            },
            "type": "barpolar"
           }
          ],
          "carpet": [
           {
            "aaxis": {
             "endlinecolor": "#2a3f5f",
             "gridcolor": "#C8D4E3",
             "linecolor": "#C8D4E3",
             "minorgridcolor": "#C8D4E3",
             "startlinecolor": "#2a3f5f"
            },
            "baxis": {
             "endlinecolor": "#2a3f5f",
             "gridcolor": "#C8D4E3",
             "linecolor": "#C8D4E3",
             "minorgridcolor": "#C8D4E3",
             "startlinecolor": "#2a3f5f"
            },
            "type": "carpet"
           }
          ],
          "choropleth": [
           {
            "colorbar": {
             "outlinewidth": 0,
             "ticks": ""
            },
            "type": "choropleth"
           }
          ],
          "contour": [
           {
            "colorbar": {
             "outlinewidth": 0,
             "ticks": ""
            },
            "colorscale": [
             [
              0,
              "#0d0887"
             ],
             [
              0.1111111111111111,
              "#46039f"
             ],
             [
              0.2222222222222222,
              "#7201a8"
             ],
             [
              0.3333333333333333,
              "#9c179e"
             ],
             [
              0.4444444444444444,
              "#bd3786"
             ],
             [
              0.5555555555555556,
              "#d8576b"
             ],
             [
              0.6666666666666666,
              "#ed7953"
             ],
             [
              0.7777777777777778,
              "#fb9f3a"
             ],
             [
              0.8888888888888888,
              "#fdca26"
             ],
             [
              1,
              "#f0f921"
             ]
            ],
            "type": "contour"
           }
          ],
          "contourcarpet": [
           {
            "colorbar": {
             "outlinewidth": 0,
             "ticks": ""
            },
            "type": "contourcarpet"
           }
          ],
          "heatmap": [
           {
            "colorbar": {
             "outlinewidth": 0,
             "ticks": ""
            },
            "colorscale": [
             [
              0,
              "#0d0887"
             ],
             [
              0.1111111111111111,
              "#46039f"
             ],
             [
              0.2222222222222222,
              "#7201a8"
             ],
             [
              0.3333333333333333,
              "#9c179e"
             ],
             [
              0.4444444444444444,
              "#bd3786"
             ],
             [
              0.5555555555555556,
              "#d8576b"
             ],
             [
              0.6666666666666666,
              "#ed7953"
             ],
             [
              0.7777777777777778,
              "#fb9f3a"
             ],
             [
              0.8888888888888888,
              "#fdca26"
             ],
             [
              1,
              "#f0f921"
             ]
            ],
            "type": "heatmap"
           }
          ],
          "histogram": [
           {
            "marker": {
             "pattern": {
              "fillmode": "overlay",
              "size": 10,
              "solidity": 0.2
             }
            },
            "type": "histogram"
           }
          ],
          "histogram2d": [
           {
            "colorbar": {
             "outlinewidth": 0,
             "ticks": ""
            },
            "colorscale": [
             [
              0,
              "#0d0887"
             ],
             [
              0.1111111111111111,
              "#46039f"
             ],
             [
              0.2222222222222222,
              "#7201a8"
             ],
             [
              0.3333333333333333,
              "#9c179e"
             ],
             [
              0.4444444444444444,
              "#bd3786"
             ],
             [
              0.5555555555555556,
              "#d8576b"
             ],
             [
              0.6666666666666666,
              "#ed7953"
             ],
             [
              0.7777777777777778,
              "#fb9f3a"
             ],
             [
              0.8888888888888888,
              "#fdca26"
             ],
             [
              1,
              "#f0f921"
             ]
            ],
            "type": "histogram2d"
           }
          ],
          "histogram2dcontour": [
           {
            "colorbar": {
             "outlinewidth": 0,
             "ticks": ""
            },
            "colorscale": [
             [
              0,
              "#0d0887"
             ],
             [
              0.1111111111111111,
              "#46039f"
             ],
             [
              0.2222222222222222,
              "#7201a8"
             ],
             [
              0.3333333333333333,
              "#9c179e"
             ],
             [
              0.4444444444444444,
              "#bd3786"
             ],
             [
              0.5555555555555556,
              "#d8576b"
             ],
             [
              0.6666666666666666,
              "#ed7953"
             ],
             [
              0.7777777777777778,
              "#fb9f3a"
             ],
             [
              0.8888888888888888,
              "#fdca26"
             ],
             [
              1,
              "#f0f921"
             ]
            ],
            "type": "histogram2dcontour"
           }
          ],
          "mesh3d": [
           {
            "colorbar": {
             "outlinewidth": 0,
             "ticks": ""
            },
            "type": "mesh3d"
           }
          ],
          "parcoords": [
           {
            "line": {
             "colorbar": {
              "outlinewidth": 0,
              "ticks": ""
             }
            },
            "type": "parcoords"
           }
          ],
          "pie": [
           {
            "automargin": true,
            "type": "pie"
           }
          ],
          "scatter": [
           {
            "fillpattern": {
             "fillmode": "overlay",
             "size": 10,
             "solidity": 0.2
            },
            "type": "scatter"
           }
          ],
          "scatter3d": [
           {
            "line": {
             "colorbar": {
              "outlinewidth": 0,
              "ticks": ""
             }
            },
            "marker": {
             "colorbar": {
              "outlinewidth": 0,
              "ticks": ""
             }
            },
            "type": "scatter3d"
           }
          ],
          "scattercarpet": [
           {
            "marker": {
             "colorbar": {
              "outlinewidth": 0,
              "ticks": ""
             }
            },
            "type": "scattercarpet"
           }
          ],
          "scattergeo": [
           {
            "marker": {
             "colorbar": {
              "outlinewidth": 0,
              "ticks": ""
             }
            },
            "type": "scattergeo"
           }
          ],
          "scattergl": [
           {
            "marker": {
             "colorbar": {
              "outlinewidth": 0,
              "ticks": ""
             }
            },
            "type": "scattergl"
           }
          ],
          "scattermap": [
           {
            "marker": {
             "colorbar": {
              "outlinewidth": 0,
              "ticks": ""
             }
            },
            "type": "scattermap"
           }
          ],
          "scattermapbox": [
           {
            "marker": {
             "colorbar": {
              "outlinewidth": 0,
              "ticks": ""
             }
            },
            "type": "scattermapbox"
           }
          ],
          "scatterpolar": [
           {
            "marker": {
             "colorbar": {
              "outlinewidth": 0,
              "ticks": ""
             }
            },
            "type": "scatterpolar"
           }
          ],
          "scatterpolargl": [
           {
            "marker": {
             "colorbar": {
              "outlinewidth": 0,
              "ticks": ""
             }
            },
            "type": "scatterpolargl"
           }
          ],
          "scatterternary": [
           {
            "marker": {
             "colorbar": {
              "outlinewidth": 0,
              "ticks": ""
             }
            },
            "type": "scatterternary"
           }
          ],
          "surface": [
           {
            "colorbar": {
             "outlinewidth": 0,
             "ticks": ""
            },
            "colorscale": [
             [
              0,
              "#0d0887"
             ],
             [
              0.1111111111111111,
              "#46039f"
             ],
             [
              0.2222222222222222,
              "#7201a8"
             ],
             [
              0.3333333333333333,
              "#9c179e"
             ],
             [
              0.4444444444444444,
              "#bd3786"
             ],
             [
              0.5555555555555556,
              "#d8576b"
             ],
             [
              0.6666666666666666,
              "#ed7953"
             ],
             [
              0.7777777777777778,
              "#fb9f3a"
             ],
             [
              0.8888888888888888,
              "#fdca26"
             ],
             [
              1,
              "#f0f921"
             ]
            ],
            "type": "surface"
           }
          ],
          "table": [
           {
            "cells": {
             "fill": {
              "color": "#EBF0F8"
             },
             "line": {
              "color": "white"
             }
            },
            "header": {
             "fill": {
              "color": "#C8D4E3"
             },
             "line": {
              "color": "white"
             }
            },
            "type": "table"
           }
          ]
         },
         "layout": {
          "annotationdefaults": {
           "arrowcolor": "#2a3f5f",
           "arrowhead": 0,
           "arrowwidth": 1
          },
          "autotypenumbers": "strict",
          "coloraxis": {
           "colorbar": {
            "outlinewidth": 0,
            "ticks": ""
           }
          },
          "colorscale": {
           "diverging": [
            [
             0,
             "#8e0152"
            ],
            [
             0.1,
             "#c51b7d"
            ],
            [
             0.2,
             "#de77ae"
            ],
            [
             0.3,
             "#f1b6da"
            ],
            [
             0.4,
             "#fde0ef"
            ],
            [
             0.5,
             "#f7f7f7"
            ],
            [
             0.6,
             "#e6f5d0"
            ],
            [
             0.7,
             "#b8e186"
            ],
            [
             0.8,
             "#7fbc41"
            ],
            [
             0.9,
             "#4d9221"
            ],
            [
             1,
             "#276419"
            ]
           ],
           "sequential": [
            [
             0,
             "#0d0887"
            ],
            [
             0.1111111111111111,
             "#46039f"
            ],
            [
             0.2222222222222222,
             "#7201a8"
            ],
            [
             0.3333333333333333,
             "#9c179e"
            ],
            [
             0.4444444444444444,
             "#bd3786"
            ],
            [
             0.5555555555555556,
             "#d8576b"
            ],
            [
             0.6666666666666666,
             "#ed7953"
            ],
            [
             0.7777777777777778,
             "#fb9f3a"
            ],
            [
             0.8888888888888888,
             "#fdca26"
            ],
            [
             1,
             "#f0f921"
            ]
           ],
           "sequentialminus": [
            [
             0,
             "#0d0887"
            ],
            [
             0.1111111111111111,
             "#46039f"
            ],
            [
             0.2222222222222222,
             "#7201a8"
            ],
            [
             0.3333333333333333,
             "#9c179e"
            ],
            [
             0.4444444444444444,
             "#bd3786"
            ],
            [
             0.5555555555555556,
             "#d8576b"
            ],
            [
             0.6666666666666666,
             "#ed7953"
            ],
            [
             0.7777777777777778,
             "#fb9f3a"
            ],
            [
             0.8888888888888888,
             "#fdca26"
            ],
            [
             1,
             "#f0f921"
            ]
           ]
          },
          "colorway": [
           "#636efa",
           "#EF553B",
           "#00cc96",
           "#ab63fa",
           "#FFA15A",
           "#19d3f3",
           "#FF6692",
           "#B6E880",
           "#FF97FF",
           "#FECB52"
          ],
          "font": {
           "color": "#2a3f5f"
          },
          "geo": {
           "bgcolor": "white",
           "lakecolor": "white",
           "landcolor": "white",
           "showlakes": true,
           "showland": true,
           "subunitcolor": "#C8D4E3"
          },
          "hoverlabel": {
           "align": "left"
          },
          "hovermode": "closest",
          "mapbox": {
           "style": "light"
          },
          "paper_bgcolor": "white",
          "plot_bgcolor": "white",
          "polar": {
           "angularaxis": {
            "gridcolor": "#EBF0F8",
            "linecolor": "#EBF0F8",
            "ticks": ""
           },
           "bgcolor": "white",
           "radialaxis": {
            "gridcolor": "#EBF0F8",
            "linecolor": "#EBF0F8",
            "ticks": ""
           }
          },
          "scene": {
           "xaxis": {
            "backgroundcolor": "white",
            "gridcolor": "#DFE8F3",
            "gridwidth": 2,
            "linecolor": "#EBF0F8",
            "showbackground": true,
            "ticks": "",
            "zerolinecolor": "#EBF0F8"
           },
           "yaxis": {
            "backgroundcolor": "white",
            "gridcolor": "#DFE8F3",
            "gridwidth": 2,
            "linecolor": "#EBF0F8",
            "showbackground": true,
            "ticks": "",
            "zerolinecolor": "#EBF0F8"
           },
           "zaxis": {
            "backgroundcolor": "white",
            "gridcolor": "#DFE8F3",
            "gridwidth": 2,
            "linecolor": "#EBF0F8",
            "showbackground": true,
            "ticks": "",
            "zerolinecolor": "#EBF0F8"
           }
          },
          "shapedefaults": {
           "line": {
            "color": "#2a3f5f"
           }
          },
          "ternary": {
           "aaxis": {
            "gridcolor": "#DFE8F3",
            "linecolor": "#A2B1C6",
            "ticks": ""
           },
           "baxis": {
            "gridcolor": "#DFE8F3",
            "linecolor": "#A2B1C6",
            "ticks": ""
           },
           "bgcolor": "white",
           "caxis": {
            "gridcolor": "#DFE8F3",
            "linecolor": "#A2B1C6",
            "ticks": ""
           }
          },
          "title": {
           "x": 0.05
          },
          "xaxis": {
           "automargin": true,
           "gridcolor": "#EBF0F8",
           "linecolor": "#EBF0F8",
           "ticks": "",
           "title": {
            "standoff": 15
           },
           "zerolinecolor": "#EBF0F8",
           "zerolinewidth": 2
          },
          "yaxis": {
           "automargin": true,
           "gridcolor": "#EBF0F8",
           "linecolor": "#EBF0F8",
           "ticks": "",
           "title": {
            "standoff": 15
           },
           "zerolinecolor": "#EBF0F8",
           "zerolinewidth": 2
          }
         }
        },
        "title": {
         "text": "Month-to-Month Percentage Change in U.S. Gasoline Consumption",
         "x": 0.5
        },
        "xaxis": {
         "anchor": "y",
         "domain": [
          0,
          1
         ],
         "title": {
          "text": "Date"
         }
        },
        "yaxis": {
         "anchor": "x",
         "domain": [
          0,
          1
         ],
         "title": {
          "text": "Percent Change (%)"
         }
        }
       }
      }
     },
     "metadata": {},
     "output_type": "display_data"
    }
   ],
   "source": [
    "''' Create a line plot to visualize month-to-month percentage changes in gasoline consumption '''\n",
    "\n",
    "# Create line plot\n",
    "fig = px.line(\n",
    "    consumption,\n",
    "    x=\"Date\",\n",
    "    y=\"Monthly_Change_%\",\n",
    "    title=\"Month-to-Month Percentage Change in U.S. Gasoline Consumption\",\n",
    "    labels={\"Monthly_Change_%\": \"Percent Change (%)\"},\n",
    ")\n",
    "\n",
    "# Customize appearance\n",
    "fig.update_traces(line=dict(color=\"teal\", width=2))\n",
    "fig.update_layout(\n",
    "    template=\"plotly_white\",\n",
    "    title_x=0.5,\n",
    "    hovermode=\"x unified\",\n",
    ")\n",
    "# Add horizontal line at y=0\n",
    "fig.add_hline(y=0, line_color=\"black\", opacity=0.5)\n",
    "\n",
    "fig.show()"
   ]
  },
  {
   "cell_type": "code",
   "execution_count": 447,
   "id": "e933a4c1",
   "metadata": {},
   "outputs": [
    {
     "data": {
      "application/vnd.plotly.v1+json": {
       "config": {
        "plotlyServerURL": "https://plot.ly"
       },
       "data": [
        {
         "hovertemplate": "Month=January<br>Year=%{x}<br>Millions of Gallons=%{y}<extra></extra>",
         "legendgroup": "January",
         "line": {
          "color": "rgb(127, 60, 141)",
          "dash": "solid"
         },
         "marker": {
          "symbol": "circle"
         },
         "mode": "lines",
         "name": "January",
         "orientation": "v",
         "showlegend": true,
         "type": "scatter",
         "x": {
          "bdata": "ygcAAMsHAADMBwAAzQcAAM4HAADPBwAA0AcAANEHAADSBwAA0wcAANQHAADVBwAA1gcAANcHAADYBwAA2QcAANoHAADbBwAA3AcAAN0HAADeBwAA3wcAAOAHAADhBwAA4gcAAOMHAADkBwAA5QcAAOYHAADnBwAA6AcAAA==",
          "dtype": "i4"
         },
         "xaxis": "x",
         "y": {
          "bdata": "g8DKoQXAwUC+nxovPTfCQPhT46VbfcJAcT0K1yORwkAbL90kBl/DQNejcD2KlcNAw/UoXO91w0CiRbbznZjEQG3n+6nR68RA5/up8TJlxUCuR+F69CLGQArXo3D9aMZAiUFg5XB6xkBqvHSTeJjGQOXQIts5Z8ZALbKd74ftxUDl0CLbOarFQJqZmZn5SMVADAIrh/bTxEAGgZVDiy/FQAisHFoECsVAZDvfTw34xUBvEoPASgHGQO58PzXeocVApHA9CrdYxkAUrkfhulLGQOF6FK4HL8ZAXrpJDOKjw0BKDAIrR4DEQMHKoUV2FcVAN4lBYAUVxUA=",
          "dtype": "f8"
         },
         "yaxis": "y"
        },
        {
         "hovertemplate": "Month=February<br>Year=%{x}<br>Millions of Gallons=%{y}<extra></extra>",
         "legendgroup": "February",
         "line": {
          "color": "rgb(17, 165, 121)",
          "dash": "solid"
         },
         "marker": {
          "symbol": "circle"
         },
         "mode": "lines",
         "name": "February",
         "orientation": "v",
         "showlegend": true,
         "type": "scatter",
         "x": {
          "bdata": "ygcAAMsHAADMBwAAzQcAAM4HAADPBwAA0AcAANEHAADSBwAA0wcAANQHAADVBwAA1gcAANcHAADYBwAA2QcAANoHAADbBwAA3AcAAN0HAADeBwAA3wcAAOAHAADhBwAA4gcAAOMHAADkBwAA5QcAAOYHAADnBwAA6AcAAA==",
          "dtype": "i4"
         },
         "xaxis": "x",
         "y": {
          "bdata": "jZduEqO1wECTGARWri7BQG8Sg8DqE8JAQmDl0IKcwUAhsHJoEbbBQH0/NV46csJA001iEDi5w0A1XrpJTOnCQA4tsp3PxMNAAiuHFvmUw0A1XrpJDAbFQOxRuB6FWsRArBxaZNt3xEDhehSux6/EQOxRuB6FF8VAJzEIrNxLxED0/dR4qbTDQDVeukksw8NAXI/C9Qh0xEAfhetReEjDQFTjpZtE3MNAMzMzMzNHxEASg8DKwe/FQN9PjZeOsMRAEoPAyiE0xEBg5dAiO9bEQAIrhxa5h8VA9ihcj0L4wUBI4XoUTt7DQLbz/dSY+MNADi2ynW+ZxEA=",
          "dtype": "f8"
         },
         "yaxis": "y"
        },
        {
         "hovertemplate": "Month=March<br>Year=%{x}<br>Millions of Gallons=%{y}<extra></extra>",
         "legendgroup": "March",
         "line": {
          "color": "rgb(57, 105, 172)",
          "dash": "solid"
         },
         "marker": {
          "symbol": "circle"
         },
         "mode": "lines",
         "name": "March",
         "orientation": "v",
         "showlegend": true,
         "type": "scatter",
         "x": {
          "bdata": "ygcAAMsHAADMBwAAzQcAAM4HAADPBwAA0AcAANEHAADSBwAA0wcAANQHAADVBwAA1gcAANcHAADYBwAA2QcAANoHAADbBwAA3AcAAN0HAADeBwAA3wcAAOAHAADhBwAA4gcAAOMHAADkBwAA5QcAAOYHAADnBwAA6AcAAA==",
          "dtype": "i4"
         },
         "xaxis": "x",
         "y": {
          "bdata": "fT81XhrOwkA1XrpJrM3DQF66SQyC0MNA8KfGSxfTw0CLbOf7SVrEQLbz/dQYq8RAObTIdr4exUAj2/l+arLFQB+F61G4AsZA1XjpJrHfxUDsUbgepfLGQARWDi3S3sZA001iEHgGx0BMN4lBoFbHQHNoke0cDsdAw/UoXK+jxkDZzvdTI1zGQLpJDALrX8ZAgZVDi+zSxUAdWmQ7//jFQPT91HiJHcZAppvEINAHx0CwcmiR7dXHQO58PzW+tsdAnu+nxmsRyEB/arx001rHQC/dJAYhyMNA+FPjpRvAxUBYObTIVubGQClcj8IVFcdAlkOLbAe6xkA=",
          "dtype": "f8"
         },
         "yaxis": "y"
        },
        {
         "hovertemplate": "Month=April<br>Year=%{x}<br>Millions of Gallons=%{y}<extra></extra>",
         "legendgroup": "April",
         "line": {
          "color": "rgb(242, 183, 1)",
          "dash": "solid"
         },
         "marker": {
          "symbol": "circle"
         },
         "mode": "lines",
         "name": "April",
         "orientation": "v",
         "showlegend": true,
         "type": "scatter",
         "x": {
          "bdata": "yQcAAMoHAADLBwAAzAcAAM0HAADOBwAAzwcAANAHAADRBwAA0gcAANMHAADUBwAA1QcAANYHAADXBwAA2AcAANkHAADaBwAA2wcAANwHAADdBwAA3gcAAN8HAADgBwAA4QcAAOIHAADjBwAA5AcAAOUHAADmBwAA5wcAAOgHAAA=",
          "dtype": "i4"
         },
         "xaxis": "x",
         "y": {
          "bdata": "bef7qdFLwkAhsHJoEZ3CQKRwPQpX1MJAeekmMQhgw0Bt5/upMdjDQMP1KFyPdMRA2/l+anzuxEAj2/l+KpzEQG8Sg8BKGsVAvHSTGGSSxUB1kxgE9r/FQNV46SZRdcZAokW28112xkC0yHa+/4bGQAIrhxa5rcZARrbz/bRsxkCR7Xw/VTjGQIts5/vpacZAz/dT46WlxUCoxks3iYLFQMdLN4nhysVARIts57sJxkC+nxovXZ3GQHWTGASWlMZArkfhevTfxkCq8dJNwqfGQLByaJGtKMdAVg4tst3evEAZBFYOzcDFQMuhRbYzp8VAjZduEsMCxkDZzvdTo9PFQA==",
          "dtype": "f8"
         },
         "yaxis": "y"
        },
        {
         "hovertemplate": "Month=May<br>Year=%{x}<br>Millions of Gallons=%{y}<extra></extra>",
         "legendgroup": "May",
         "line": {
          "color": "rgb(231, 63, 116)",
          "dash": "solid"
         },
         "marker": {
          "symbol": "circle"
         },
         "mode": "lines",
         "name": "May",
         "orientation": "v",
         "showlegend": true,
         "type": "scatter",
         "x": {
          "bdata": "yQcAAMoHAADLBwAAzAcAAM0HAADOBwAAzwcAANAHAADRBwAA0gcAANMHAADUBwAA1QcAANYHAADXBwAA2AcAANkHAADaBwAA2wcAANwHAADdBwAA3gcAAN8HAADgBwAA4QcAAOIHAADjBwAA5AcAAOUHAADmBwAA5wcAAOgHAAA=",
          "dtype": "i4"
         },
         "xaxis": "x",
         "y": {
          "bdata": "UrgehQtKw0AIrBxahHDDQH9qvHTTEsRA/Knx0i2GxECHFtnOd7LEQGZmZmamDcVAukkMAitpxUAdWmQ7HwbGQIPAyqGFI8ZAhxbZzhcWx0CBlUOLLP7GQGQ730/NV8dAppvEIDCYx0CPwvUoPKvHQAIrhxa5/cdAWDm0yHaGx0A/NV66qRnHQP7UeOnGTMdAXI/C9QhsxkCuR+F6dNXGQMdLN4nB+MZAtvP91NjxxkBg5dAi243HQJZDi2xn8sdAgZVDi+xIyEArhxbZbjLIQLgehevRJshAz/dT4+VNwkDdJAaBlRfHQHnpJjGIMMdA0SLb+f4Wx0C0yHa+f+HHQA==",
          "dtype": "f8"
         },
         "yaxis": "y"
        },
        {
         "hovertemplate": "Month=June<br>Year=%{x}<br>Millions of Gallons=%{y}<extra></extra>",
         "legendgroup": "June",
         "line": {
          "color": "rgb(128, 186, 90)",
          "dash": "solid"
         },
         "marker": {
          "symbol": "circle"
         },
         "mode": "lines",
         "name": "June",
         "orientation": "v",
         "showlegend": true,
         "type": "scatter",
         "x": {
          "bdata": "yQcAAMoHAADLBwAAzAcAAM0HAADOBwAAzwcAANAHAADRBwAA0gcAANMHAADUBwAA1QcAANYHAADXBwAA2AcAANkHAADaBwAA2wcAANwHAADdBwAA3gcAAN8HAADgBwAA4QcAAOIHAADjBwAA5AcAAOUHAADmBwAA5wcAAOgHAAA=",
          "dtype": "i4"
         },
         "xaxis": "x",
         "y": {
          "bdata": "AAAAAADzwkBt5/up8X7DQMP1KFzPOsRAdZMYBHbnw0Bg5dAiW2XEQDEIrBza98RAEFg5tCjexUDD9Shcb7fFQOf7qfGSYsVAEFg5tEh+xkCuR+F6NJHGQESLbOe78MZAc2iR7bwQx0CamZmZWVPHQA4tsp2PW8dA2/l+ahxrxkBSuB6FS5fGQBBYObTo6cZAYOXQIjtQxkAOLbKdLyPGQGq8dJPYVsZAGQRWDs0+xkCYbhKDwCzHQGiR7Xz/pMdASgwCK4cMyEDHSzeJIRzIQGIQWDkU4cdAI9v5fqpnxECamZmZ2QnHQKabxCBQVcZA9P3UeGkMx0AdWmQ7n6PGQA==",
          "dtype": "f8"
         },
         "yaxis": "y"
        },
        {
         "hovertemplate": "Month=July<br>Year=%{x}<br>Millions of Gallons=%{y}<extra></extra>",
         "legendgroup": "July",
         "line": {
          "color": "rgb(230, 131, 16)",
          "dash": "solid"
         },
         "marker": {
          "symbol": "circle"
         },
         "mode": "lines",
         "name": "July",
         "orientation": "v",
         "showlegend": true,
         "type": "scatter",
         "x": {
          "bdata": "yQcAAMoHAADLBwAAzAcAAM0HAADOBwAAzwcAANAHAADRBwAA0gcAANMHAADUBwAA1QcAANYHAADXBwAA2AcAANkHAADaBwAA2wcAANwHAADdBwAA3gcAAN8HAADgBwAA4QcAAOIHAADjBwAA5AcAAOUHAADmBwAA5wcAAOgHAAA=",
          "dtype": "i4"
         },
         "xaxis": "x",
         "y": {
          "bdata": "MzMzM9PLw0CBlUOLzAzEQAaBlUPLDsRAyXa+n5rDxED6fmq8lJrFQKjGSzfpEsZA001iEPi8xkCyne+nBvrFQDm0yHb+8cZACtejcD1Ax0B56SYxyF/HQH9qvHSzy8dAXrpJDII+yECNl24SQ27IQKJFtvNdg8hA46WbxIBEx0DFILByiIzHQKJFtvPdpsdAF9nO91P3xkC0yHa+f2fGQHsUrkchQsdAJQaBleOEx0AQWDm0KBXIQHsUrkcBW8hAokW2831myEAIrBxa5IPIQMHKoUX2PchAGy/dJKaDxUAlBoGVY6THQCGwcmhRaMZAYhBYOVTVxkD0/dR4ybHHQA==",
          "dtype": "f8"
         },
         "yaxis": "y"
        },
        {
         "hovertemplate": "Month=August<br>Year=%{x}<br>Millions of Gallons=%{y}<extra></extra>",
         "legendgroup": "August",
         "line": {
          "color": "rgb(0, 134, 149)",
          "dash": "solid"
         },
         "marker": {
          "symbol": "circle"
         },
         "mode": "lines",
         "name": "August",
         "orientation": "v",
         "showlegend": true,
         "type": "scatter",
         "x": {
          "bdata": "yQcAAMoHAADLBwAAzAcAAM0HAADOBwAAzwcAANAHAADRBwAA0gcAANMHAADUBwAA1QcAANYHAADXBwAA2AcAANkHAADaBwAA2wcAANwHAADdBwAA3gcAAN8HAADgBwAA4QcAAOIHAADjBwAA5AcAAOUHAADmBwAA5wcAAOgHAAA=",
          "dtype": "i4"
         },
         "xaxis": "x",
         "y": {
          "bdata": "DAIrh1b/w0CTGARWbkfEQARWDi3S0cRA46WbxIA3xUAIrBxaxO/EQJHtfD8VysVAObTIdj7RxUCkcD0KV6/GQDvfT42XxMZAnMQgsHKux0AUrkfh2u7HQAAAAACgt8dAnu+nxqtAyEDRItv5/lHIQNv5fmrcXchAx0s3iWE6x0AGgZVD66LHQEoMAitHicdAvp8aL12yxkAbL90kJkfHQNEi2/neM8dA46WbxICtx0DP91PjhQ7IQM3MzMxMoshAc2iR7VzMyECR7Xw/ld3IQE5iEFi5AclAWmQ73y+txUDVeOkmsVnHQGq8dJMYLsdAEFg5tCiCx0C8dJMYZIrHQA==",
          "dtype": "f8"
         },
         "yaxis": "y"
        },
        {
         "hovertemplate": "Month=September<br>Year=%{x}<br>Millions of Gallons=%{y}<extra></extra>",
         "legendgroup": "September",
         "line": {
          "color": "rgb(207, 28, 144)",
          "dash": "solid"
         },
         "marker": {
          "symbol": "circle"
         },
         "mode": "lines",
         "name": "September",
         "orientation": "v",
         "showlegend": true,
         "type": "scatter",
         "x": {
          "bdata": "yQcAAMoHAADLBwAAzAcAAM0HAADOBwAAzwcAANAHAADRBwAA0gcAANMHAADUBwAA1QcAANYHAADXBwAA2AcAANkHAADaBwAA2wcAANwHAADdBwAA3gcAAN8HAADgBwAA4QcAAOIHAADjBwAA5AcAAOUHAADmBwAA5wcAAOgHAAA=",
          "dtype": "i4"
         },
         "xaxis": "x",
         "y": {
          "bdata": "TmIQWJm4wkDLoUW2s73CQEjhehQuKcNARrbz/TTbwkAEVg4tMr7DQOF6FK5nc8RAZmZmZiZwxECe76fGC/bEQBfZzvcTD8VAvHSTGIRgxUBmZmZmRvfFQDm0yHa+L8ZAEFg5tIjwxUCNl24Sg7rGQG8Sg8AqxsZA2/l+ajzpxECwcmiRre3FQH0/NV66bMZAeekmMaiExUAzMzMzUxHFQBsv3SRGBMZA+FPjpZu1xUAhsHJo0dvGQJhuEoPAVsdAokW2890Tx0CiRbbzHYbGQM3MzMxsosZAVOOlm+QExUBiEFg5dPvFQC/dJAZhxcVASgwCKyfDxUA3iUFghRvGQA==",
          "dtype": "f8"
         },
         "yaxis": "y"
        },
        {
         "hovertemplate": "Month=October<br>Year=%{x}<br>Millions of Gallons=%{y}<extra></extra>",
         "legendgroup": "October",
         "line": {
          "color": "rgb(249, 123, 114)",
          "dash": "solid"
         },
         "marker": {
          "symbol": "circle"
         },
         "mode": "lines",
         "name": "October",
         "orientation": "v",
         "showlegend": true,
         "type": "scatter",
         "x": {
          "bdata": "yQcAAMoHAADLBwAAzAcAAM0HAADOBwAAzwcAANAHAADRBwAA0gcAANMHAADUBwAA1QcAANYHAADXBwAA2AcAANkHAADaBwAA2wcAANwHAADdBwAA3gcAAN8HAADgBwAA4QcAAOIHAADjBwAA5AcAAOUHAADmBwAA5wcAAOgHAAA=",
          "dtype": "i4"
         },
         "xaxis": "x",
         "y": {
          "bdata": "K4cW2c7FwkCLbOf7qTHDQLbz/dRYycNAwcqhRdaUxEDsUbgexbPEQGIQWDk0TsVA/tR46Ya4xUBKDAIrR2fFQIGVQ4ssAsZA0SLb+b5pxkCTGARWDinHQG8Sg8AKIsdAI9v5for6xkA9CtejkJDHQLByaJGtfMdAN4lBYMXyxkCiRbbzHdrGQIts5/sp7cZA5dAi2zn+xUArhxbZLiDGQGDl0CJ7vsZAXI/C9UhDx0Bcj8L1SILHQOOlm8TAH8dAVg4tsn3Lx0CLbOf7SaLHQKrx0k2iq8dAvp8aL/0lxUBcj8L1iPTGQGDl0CI7ZcZAhetRuP4jx0CkcD0KdxDHQA==",
          "dtype": "f8"
         },
         "yaxis": "y"
        },
        {
         "hovertemplate": "Month=November<br>Year=%{x}<br>Millions of Gallons=%{y}<extra></extra>",
         "legendgroup": "November",
         "line": {
          "color": "rgb(165, 170, 153)",
          "dash": "solid"
         },
         "marker": {
          "symbol": "circle"
         },
         "mode": "lines",
         "name": "November",
         "orientation": "v",
         "showlegend": true,
         "type": "scatter",
         "x": {
          "bdata": "yQcAAMoHAADLBwAAzAcAAM0HAADOBwAAzwcAANAHAADRBwAA0gcAANMHAADUBwAA1QcAANYHAADXBwAA2AcAANkHAADaBwAA2wcAANwHAADdBwAA3gcAAN8HAADgBwAA4QcAAOIHAADjBwAA5AcAAOUHAADmBwAA5wcAAOgHAAA=",
          "dtype": "i4"
         },
         "xaxis": "x",
         "y": {
          "bdata": "HVpkO5+JwkCWQ4tsZ17CQJqZmZl5W8NA001iEDh6w0DTTWIQuJnDQDeJQWAFGcRA2c73U0NHxEDjpZvE4KHEQKrx0k1iWsVAVOOlmwS6xUAOLbKdrwPGQESLbOe7SMZAokW2831uxkB/arx087/GQDeJQWBltsZA16NwPWrpxUCBlUOLjOrFQD81XroJssVAoBov3WQCxUA/NV66CeDEQL6fGi9d9cVAKVyPwlX0xUBiEFg5VGzGQFpkO9/vuMZA001iEJhrxkDLoUW289zGQMHKoUW2qcZA2/l+atyww0CDwMqhRTPGQOF6FK7nuMVAuB6F6zHtxUCF61G4XrzFQA==",
          "dtype": "f8"
         },
         "yaxis": "y"
        },
        {
         "hovertemplate": "Month=December<br>Year=%{x}<br>Millions of Gallons=%{y}<extra></extra>",
         "legendgroup": "December",
         "line": {
          "color": "rgb(127, 60, 141)",
          "dash": "solid"
         },
         "marker": {
          "symbol": "circle"
         },
         "mode": "lines",
         "name": "December",
         "orientation": "v",
         "showlegend": true,
         "type": "scatter",
         "x": {
          "bdata": "yQcAAMoHAADLBwAAzAcAAM0HAADOBwAAzwcAANAHAADRBwAA0gcAANMHAADUBwAA1QcAANYHAADXBwAA2AcAANkHAADaBwAA2wcAANwHAADdBwAA3gcAAN8HAADgBwAA4QcAAOIHAADjBwAA5AcAAOUHAADmBwAA5wcAAOgHAAA=",
          "dtype": "i4"
         },
         "xaxis": "x",
         "y": {
          "bdata": "3SQGgZV7w0AUrkfhOibEQNejcD3Kr8NA3SQGgTXSw0A9CtejUILEQE5iEFhZfcVAFK5H4TqHxkA9CtejEAzGQAaBlUPr1MVAH4XrUZidxkA5tMh2HurGQFpkO9/PaMdAx0s3iWGjx0A/NV66Cb/HQNV46SZRhsdAke18P7WzxkAOLbKdL7bGQPp+arz0qMZA9ihcj+IUxkDhehSuJ1XFQBSuR+HaC8ZAbef7qXG8xkAzMzMzE0PHQESLbOdbm8dA46WbxICDx0CPwvUoPFfHQFTjpZtE0MZA46WbxOD5w0CYbhKDgJTGQCuHFtnu28VAJzEIrBxexkBqvHST+E7GQA==",
          "dtype": "f8"
         },
         "yaxis": "y"
        }
       ],
       "layout": {
        "legend": {
         "title": {
          "text": "Month"
         },
         "tracegroupgap": 0
        },
        "template": {
         "data": {
          "bar": [
           {
            "error_x": {
             "color": "#2a3f5f"
            },
            "error_y": {
             "color": "#2a3f5f"
            },
            "marker": {
             "line": {
              "color": "#E5ECF6",
              "width": 0.5
             },
             "pattern": {
              "fillmode": "overlay",
              "size": 10,
              "solidity": 0.2
             }
            },
            "type": "bar"
           }
          ],
          "barpolar": [
           {
            "marker": {
             "line": {
              "color": "#E5ECF6",
              "width": 0.5
             },
             "pattern": {
              "fillmode": "overlay",
              "size": 10,
              "solidity": 0.2
             }
            },
            "type": "barpolar"
           }
          ],
          "carpet": [
           {
            "aaxis": {
             "endlinecolor": "#2a3f5f",
             "gridcolor": "white",
             "linecolor": "white",
             "minorgridcolor": "white",
             "startlinecolor": "#2a3f5f"
            },
            "baxis": {
             "endlinecolor": "#2a3f5f",
             "gridcolor": "white",
             "linecolor": "white",
             "minorgridcolor": "white",
             "startlinecolor": "#2a3f5f"
            },
            "type": "carpet"
           }
          ],
          "choropleth": [
           {
            "colorbar": {
             "outlinewidth": 0,
             "ticks": ""
            },
            "type": "choropleth"
           }
          ],
          "contour": [
           {
            "colorbar": {
             "outlinewidth": 0,
             "ticks": ""
            },
            "colorscale": [
             [
              0,
              "#0d0887"
             ],
             [
              0.1111111111111111,
              "#46039f"
             ],
             [
              0.2222222222222222,
              "#7201a8"
             ],
             [
              0.3333333333333333,
              "#9c179e"
             ],
             [
              0.4444444444444444,
              "#bd3786"
             ],
             [
              0.5555555555555556,
              "#d8576b"
             ],
             [
              0.6666666666666666,
              "#ed7953"
             ],
             [
              0.7777777777777778,
              "#fb9f3a"
             ],
             [
              0.8888888888888888,
              "#fdca26"
             ],
             [
              1,
              "#f0f921"
             ]
            ],
            "type": "contour"
           }
          ],
          "contourcarpet": [
           {
            "colorbar": {
             "outlinewidth": 0,
             "ticks": ""
            },
            "type": "contourcarpet"
           }
          ],
          "heatmap": [
           {
            "colorbar": {
             "outlinewidth": 0,
             "ticks": ""
            },
            "colorscale": [
             [
              0,
              "#0d0887"
             ],
             [
              0.1111111111111111,
              "#46039f"
             ],
             [
              0.2222222222222222,
              "#7201a8"
             ],
             [
              0.3333333333333333,
              "#9c179e"
             ],
             [
              0.4444444444444444,
              "#bd3786"
             ],
             [
              0.5555555555555556,
              "#d8576b"
             ],
             [
              0.6666666666666666,
              "#ed7953"
             ],
             [
              0.7777777777777778,
              "#fb9f3a"
             ],
             [
              0.8888888888888888,
              "#fdca26"
             ],
             [
              1,
              "#f0f921"
             ]
            ],
            "type": "heatmap"
           }
          ],
          "histogram": [
           {
            "marker": {
             "pattern": {
              "fillmode": "overlay",
              "size": 10,
              "solidity": 0.2
             }
            },
            "type": "histogram"
           }
          ],
          "histogram2d": [
           {
            "colorbar": {
             "outlinewidth": 0,
             "ticks": ""
            },
            "colorscale": [
             [
              0,
              "#0d0887"
             ],
             [
              0.1111111111111111,
              "#46039f"
             ],
             [
              0.2222222222222222,
              "#7201a8"
             ],
             [
              0.3333333333333333,
              "#9c179e"
             ],
             [
              0.4444444444444444,
              "#bd3786"
             ],
             [
              0.5555555555555556,
              "#d8576b"
             ],
             [
              0.6666666666666666,
              "#ed7953"
             ],
             [
              0.7777777777777778,
              "#fb9f3a"
             ],
             [
              0.8888888888888888,
              "#fdca26"
             ],
             [
              1,
              "#f0f921"
             ]
            ],
            "type": "histogram2d"
           }
          ],
          "histogram2dcontour": [
           {
            "colorbar": {
             "outlinewidth": 0,
             "ticks": ""
            },
            "colorscale": [
             [
              0,
              "#0d0887"
             ],
             [
              0.1111111111111111,
              "#46039f"
             ],
             [
              0.2222222222222222,
              "#7201a8"
             ],
             [
              0.3333333333333333,
              "#9c179e"
             ],
             [
              0.4444444444444444,
              "#bd3786"
             ],
             [
              0.5555555555555556,
              "#d8576b"
             ],
             [
              0.6666666666666666,
              "#ed7953"
             ],
             [
              0.7777777777777778,
              "#fb9f3a"
             ],
             [
              0.8888888888888888,
              "#fdca26"
             ],
             [
              1,
              "#f0f921"
             ]
            ],
            "type": "histogram2dcontour"
           }
          ],
          "mesh3d": [
           {
            "colorbar": {
             "outlinewidth": 0,
             "ticks": ""
            },
            "type": "mesh3d"
           }
          ],
          "parcoords": [
           {
            "line": {
             "colorbar": {
              "outlinewidth": 0,
              "ticks": ""
             }
            },
            "type": "parcoords"
           }
          ],
          "pie": [
           {
            "automargin": true,
            "type": "pie"
           }
          ],
          "scatter": [
           {
            "fillpattern": {
             "fillmode": "overlay",
             "size": 10,
             "solidity": 0.2
            },
            "type": "scatter"
           }
          ],
          "scatter3d": [
           {
            "line": {
             "colorbar": {
              "outlinewidth": 0,
              "ticks": ""
             }
            },
            "marker": {
             "colorbar": {
              "outlinewidth": 0,
              "ticks": ""
             }
            },
            "type": "scatter3d"
           }
          ],
          "scattercarpet": [
           {
            "marker": {
             "colorbar": {
              "outlinewidth": 0,
              "ticks": ""
             }
            },
            "type": "scattercarpet"
           }
          ],
          "scattergeo": [
           {
            "marker": {
             "colorbar": {
              "outlinewidth": 0,
              "ticks": ""
             }
            },
            "type": "scattergeo"
           }
          ],
          "scattergl": [
           {
            "marker": {
             "colorbar": {
              "outlinewidth": 0,
              "ticks": ""
             }
            },
            "type": "scattergl"
           }
          ],
          "scattermap": [
           {
            "marker": {
             "colorbar": {
              "outlinewidth": 0,
              "ticks": ""
             }
            },
            "type": "scattermap"
           }
          ],
          "scattermapbox": [
           {
            "marker": {
             "colorbar": {
              "outlinewidth": 0,
              "ticks": ""
             }
            },
            "type": "scattermapbox"
           }
          ],
          "scatterpolar": [
           {
            "marker": {
             "colorbar": {
              "outlinewidth": 0,
              "ticks": ""
             }
            },
            "type": "scatterpolar"
           }
          ],
          "scatterpolargl": [
           {
            "marker": {
             "colorbar": {
              "outlinewidth": 0,
              "ticks": ""
             }
            },
            "type": "scatterpolargl"
           }
          ],
          "scatterternary": [
           {
            "marker": {
             "colorbar": {
              "outlinewidth": 0,
              "ticks": ""
             }
            },
            "type": "scatterternary"
           }
          ],
          "surface": [
           {
            "colorbar": {
             "outlinewidth": 0,
             "ticks": ""
            },
            "colorscale": [
             [
              0,
              "#0d0887"
             ],
             [
              0.1111111111111111,
              "#46039f"
             ],
             [
              0.2222222222222222,
              "#7201a8"
             ],
             [
              0.3333333333333333,
              "#9c179e"
             ],
             [
              0.4444444444444444,
              "#bd3786"
             ],
             [
              0.5555555555555556,
              "#d8576b"
             ],
             [
              0.6666666666666666,
              "#ed7953"
             ],
             [
              0.7777777777777778,
              "#fb9f3a"
             ],
             [
              0.8888888888888888,
              "#fdca26"
             ],
             [
              1,
              "#f0f921"
             ]
            ],
            "type": "surface"
           }
          ],
          "table": [
           {
            "cells": {
             "fill": {
              "color": "#EBF0F8"
             },
             "line": {
              "color": "white"
             }
            },
            "header": {
             "fill": {
              "color": "#C8D4E3"
             },
             "line": {
              "color": "white"
             }
            },
            "type": "table"
           }
          ]
         },
         "layout": {
          "annotationdefaults": {
           "arrowcolor": "#2a3f5f",
           "arrowhead": 0,
           "arrowwidth": 1
          },
          "autotypenumbers": "strict",
          "coloraxis": {
           "colorbar": {
            "outlinewidth": 0,
            "ticks": ""
           }
          },
          "colorscale": {
           "diverging": [
            [
             0,
             "#8e0152"
            ],
            [
             0.1,
             "#c51b7d"
            ],
            [
             0.2,
             "#de77ae"
            ],
            [
             0.3,
             "#f1b6da"
            ],
            [
             0.4,
             "#fde0ef"
            ],
            [
             0.5,
             "#f7f7f7"
            ],
            [
             0.6,
             "#e6f5d0"
            ],
            [
             0.7,
             "#b8e186"
            ],
            [
             0.8,
             "#7fbc41"
            ],
            [
             0.9,
             "#4d9221"
            ],
            [
             1,
             "#276419"
            ]
           ],
           "sequential": [
            [
             0,
             "#0d0887"
            ],
            [
             0.1111111111111111,
             "#46039f"
            ],
            [
             0.2222222222222222,
             "#7201a8"
            ],
            [
             0.3333333333333333,
             "#9c179e"
            ],
            [
             0.4444444444444444,
             "#bd3786"
            ],
            [
             0.5555555555555556,
             "#d8576b"
            ],
            [
             0.6666666666666666,
             "#ed7953"
            ],
            [
             0.7777777777777778,
             "#fb9f3a"
            ],
            [
             0.8888888888888888,
             "#fdca26"
            ],
            [
             1,
             "#f0f921"
            ]
           ],
           "sequentialminus": [
            [
             0,
             "#0d0887"
            ],
            [
             0.1111111111111111,
             "#46039f"
            ],
            [
             0.2222222222222222,
             "#7201a8"
            ],
            [
             0.3333333333333333,
             "#9c179e"
            ],
            [
             0.4444444444444444,
             "#bd3786"
            ],
            [
             0.5555555555555556,
             "#d8576b"
            ],
            [
             0.6666666666666666,
             "#ed7953"
            ],
            [
             0.7777777777777778,
             "#fb9f3a"
            ],
            [
             0.8888888888888888,
             "#fdca26"
            ],
            [
             1,
             "#f0f921"
            ]
           ]
          },
          "colorway": [
           "#636efa",
           "#EF553B",
           "#00cc96",
           "#ab63fa",
           "#FFA15A",
           "#19d3f3",
           "#FF6692",
           "#B6E880",
           "#FF97FF",
           "#FECB52"
          ],
          "font": {
           "color": "#2a3f5f"
          },
          "geo": {
           "bgcolor": "white",
           "lakecolor": "white",
           "landcolor": "#E5ECF6",
           "showlakes": true,
           "showland": true,
           "subunitcolor": "white"
          },
          "hoverlabel": {
           "align": "left"
          },
          "hovermode": "closest",
          "mapbox": {
           "style": "light"
          },
          "paper_bgcolor": "white",
          "plot_bgcolor": "#E5ECF6",
          "polar": {
           "angularaxis": {
            "gridcolor": "white",
            "linecolor": "white",
            "ticks": ""
           },
           "bgcolor": "#E5ECF6",
           "radialaxis": {
            "gridcolor": "white",
            "linecolor": "white",
            "ticks": ""
           }
          },
          "scene": {
           "xaxis": {
            "backgroundcolor": "#E5ECF6",
            "gridcolor": "white",
            "gridwidth": 2,
            "linecolor": "white",
            "showbackground": true,
            "ticks": "",
            "zerolinecolor": "white"
           },
           "yaxis": {
            "backgroundcolor": "#E5ECF6",
            "gridcolor": "white",
            "gridwidth": 2,
            "linecolor": "white",
            "showbackground": true,
            "ticks": "",
            "zerolinecolor": "white"
           },
           "zaxis": {
            "backgroundcolor": "#E5ECF6",
            "gridcolor": "white",
            "gridwidth": 2,
            "linecolor": "white",
            "showbackground": true,
            "ticks": "",
            "zerolinecolor": "white"
           }
          },
          "shapedefaults": {
           "line": {
            "color": "#2a3f5f"
           }
          },
          "ternary": {
           "aaxis": {
            "gridcolor": "white",
            "linecolor": "white",
            "ticks": ""
           },
           "baxis": {
            "gridcolor": "white",
            "linecolor": "white",
            "ticks": ""
           },
           "bgcolor": "#E5ECF6",
           "caxis": {
            "gridcolor": "white",
            "linecolor": "white",
            "ticks": ""
           }
          },
          "title": {
           "x": 0.05
          },
          "xaxis": {
           "automargin": true,
           "gridcolor": "white",
           "linecolor": "white",
           "ticks": "",
           "title": {
            "standoff": 15
           },
           "zerolinecolor": "white",
           "zerolinewidth": 2
          },
          "yaxis": {
           "automargin": true,
           "gridcolor": "white",
           "linecolor": "white",
           "ticks": "",
           "title": {
            "standoff": 15
           },
           "zerolinecolor": "white",
           "zerolinewidth": 2
          }
         }
        },
        "title": {
         "text": "U.S. Gasoline Consumption by Month (with Yearly Average)"
        },
        "xaxis": {
         "anchor": "y",
         "domain": [
          0,
          1
         ],
         "title": {
          "text": "Year"
         }
        },
        "yaxis": {
         "anchor": "x",
         "domain": [
          0,
          1
         ],
         "title": {
          "text": "Millions of Gallons"
         }
        }
       }
      }
     },
     "metadata": {},
     "output_type": "display_data"
    }
   ],
   "source": [
    "''' Create a line plot to visualize U.S. gasoline consumption by month with yearly average '''\n",
    "\n",
    "# Ensure months are in proper calendar order\n",
    "month_order = [\n",
    "    \"January\", \"February\", \"March\", \"April\", \"May\", \"June\",\n",
    "    \"July\", \"August\", \"September\", \"October\", \"November\", \"December\"\n",
    "]\n",
    "\n",
    "# Create Month column from the date\n",
    "consumption[\"Month\"] = consumption[\"Date\"].dt.month_name()\n",
    "\n",
    "# Convert to ordered categorical for proper plotting\n",
    "consumption[\"Month\"] = pd.Categorical(\n",
    "    consumption[\"Month\"],\n",
    "    categories=month_order,\n",
    "    ordered=True\n",
    ")\n",
    "\n",
    "# Now you can safely plot\n",
    "fig = px.line(\n",
    "    consumption,\n",
    "    x=\"Year\",\n",
    "    y=\"Gasoline_Consumption(Millions of Gallons)\",\n",
    "    color=\"Month\",\n",
    "    title=\"U.S. Gasoline Consumption by Month (with Yearly Average)\",\n",
    "    labels={\n",
    "        \"Gasoline_Consumption(Millions of Gallons)\": \"Millions of Gallons\"\n",
    "    },\n",
    "    category_orders={\"Month\": month_order},\n",
    "    color_discrete_sequence=px.colors.qualitative.Bold\n",
    ")\n",
    "\n",
    "fig.show()"
   ]
  },
  {
   "cell_type": "code",
   "execution_count": 448,
   "id": "0ab76cd7",
   "metadata": {},
   "outputs": [
    {
     "data": {
      "application/vnd.plotly.v1+json": {
       "config": {
        "plotlyServerURL": "https://plot.ly"
       },
       "data": [
        {
         "colorbar": {
          "title": {
           "text": "Millions of Gallons"
          }
         },
         "colorscale": [
          [
           0,
           "rgb(255,255,204)"
          ],
          [
           0.125,
           "rgb(255,237,160)"
          ],
          [
           0.25,
           "rgb(254,217,118)"
          ],
          [
           0.375,
           "rgb(254,178,76)"
          ],
          [
           0.5,
           "rgb(253,141,60)"
          ],
          [
           0.625,
           "rgb(252,78,42)"
          ],
          [
           0.75,
           "rgb(227,26,28)"
          ],
          [
           0.875,
           "rgb(189,0,38)"
          ],
          [
           1,
           "rgb(128,0,38)"
          ]
         ],
         "type": "heatmap",
         "x": {
          "bdata": "yQcAAMkHAADJBwAAyQcAAMkHAADJBwAAyQcAAMkHAADJBwAAygcAAMoHAADKBwAAygcAAMoHAADKBwAAygcAAMoHAADKBwAAygcAAMoHAADKBwAAywcAAMsHAADLBwAAywcAAMsHAADLBwAAywcAAMsHAADLBwAAywcAAMsHAADLBwAAzAcAAMwHAADMBwAAzAcAAMwHAADMBwAAzAcAAMwHAADMBwAAzAcAAMwHAADMBwAAzQcAAM0HAADNBwAAzQcAAM0HAADNBwAAzQcAAM0HAADNBwAAzQcAAM0HAADNBwAAzgcAAM4HAADOBwAAzgcAAM4HAADOBwAAzgcAAM4HAADOBwAAzgcAAM4HAADOBwAAzwcAAM8HAADPBwAAzwcAAM8HAADPBwAAzwcAAM8HAADPBwAAzwcAAM8HAADPBwAA0AcAANAHAADQBwAA0AcAANAHAADQBwAA0AcAANAHAADQBwAA0AcAANAHAADQBwAA0QcAANEHAADRBwAA0QcAANEHAADRBwAA0QcAANEHAADRBwAA0QcAANEHAADRBwAA0gcAANIHAADSBwAA0gcAANIHAADSBwAA0gcAANIHAADSBwAA0gcAANIHAADSBwAA0wcAANMHAADTBwAA0wcAANMHAADTBwAA0wcAANMHAADTBwAA0wcAANMHAADTBwAA1AcAANQHAADUBwAA1AcAANQHAADUBwAA1AcAANQHAADUBwAA1AcAANQHAADUBwAA1QcAANUHAADVBwAA1QcAANUHAADVBwAA1QcAANUHAADVBwAA1QcAANUHAADVBwAA1gcAANYHAADWBwAA1gcAANYHAADWBwAA1gcAANYHAADWBwAA1gcAANYHAADWBwAA1wcAANcHAADXBwAA1wcAANcHAADXBwAA1wcAANcHAADXBwAA1wcAANcHAADXBwAA2AcAANgHAADYBwAA2AcAANgHAADYBwAA2AcAANgHAADYBwAA2AcAANgHAADYBwAA2QcAANkHAADZBwAA2QcAANkHAADZBwAA2QcAANkHAADZBwAA2QcAANkHAADZBwAA2gcAANoHAADaBwAA2gcAANoHAADaBwAA2gcAANoHAADaBwAA2gcAANoHAADaBwAA2wcAANsHAADbBwAA2wcAANsHAADbBwAA2wcAANsHAADbBwAA2wcAANsHAADbBwAA3AcAANwHAADcBwAA3AcAANwHAADcBwAA3AcAANwHAADcBwAA3AcAANwHAADcBwAA3QcAAN0HAADdBwAA3QcAAN0HAADdBwAA3QcAAN0HAADdBwAA3QcAAN0HAADdBwAA3gcAAN4HAADeBwAA3gcAAN4HAADeBwAA3gcAAN4HAADeBwAA3gcAAN4HAADeBwAA3wcAAN8HAADfBwAA3wcAAN8HAADfBwAA3wcAAN8HAADfBwAA3wcAAN8HAADfBwAA4AcAAOAHAADgBwAA4AcAAOAHAADgBwAA4AcAAOAHAADgBwAA4AcAAOAHAADgBwAA4QcAAOEHAADhBwAA4QcAAOEHAADhBwAA4QcAAOEHAADhBwAA4QcAAOEHAADhBwAA4gcAAOIHAADiBwAA4gcAAOIHAADiBwAA4gcAAOIHAADiBwAA4gcAAOIHAADiBwAA4wcAAOMHAADjBwAA4wcAAOMHAADjBwAA4wcAAOMHAADjBwAA4wcAAOMHAADjBwAA5AcAAOQHAADkBwAA5AcAAOQHAADkBwAA5AcAAOQHAADkBwAA5AcAAOQHAADkBwAA5QcAAOUHAADlBwAA5QcAAOUHAADlBwAA5QcAAOUHAADlBwAA5QcAAOUHAADlBwAA5gcAAOYHAADmBwAA5gcAAOYHAADmBwAA5gcAAOYHAADmBwAA5gcAAOYHAADmBwAA5wcAAOcHAADnBwAA5wcAAOcHAADnBwAA5wcAAOcHAADnBwAA5wcAAOcHAADnBwAA6AcAAOgHAADoBwAA6AcAAOgHAADoBwAA6AcAAOgHAADoBwAA6AcAAOgHAADoBwAA",
          "dtype": "i4"
         },
         "xaxis": "x",
         "y": [
          "April",
          "May",
          "June",
          "July",
          "August",
          "September",
          "October",
          "November",
          "December",
          "January",
          "February",
          "March",
          "April",
          "May",
          "June",
          "July",
          "August",
          "September",
          "October",
          "November",
          "December",
          "January",
          "February",
          "March",
          "April",
          "May",
          "June",
          "July",
          "August",
          "September",
          "October",
          "November",
          "December",
          "January",
          "February",
          "March",
          "April",
          "May",
          "June",
          "July",
          "August",
          "September",
          "October",
          "November",
          "December",
          "January",
          "February",
          "March",
          "April",
          "May",
          "June",
          "July",
          "August",
          "September",
          "October",
          "November",
          "December",
          "January",
          "February",
          "March",
          "April",
          "May",
          "June",
          "July",
          "August",
          "September",
          "October",
          "November",
          "December",
          "January",
          "February",
          "March",
          "April",
          "May",
          "June",
          "July",
          "August",
          "September",
          "October",
          "November",
          "December",
          "January",
          "February",
          "March",
          "April",
          "May",
          "June",
          "July",
          "August",
          "September",
          "October",
          "November",
          "December",
          "January",
          "February",
          "March",
          "April",
          "May",
          "June",
          "July",
          "August",
          "September",
          "October",
          "November",
          "December",
          "January",
          "February",
          "March",
          "April",
          "May",
          "June",
          "July",
          "August",
          "September",
          "October",
          "November",
          "December",
          "January",
          "February",
          "March",
          "April",
          "May",
          "June",
          "July",
          "August",
          "September",
          "October",
          "November",
          "December",
          "January",
          "February",
          "March",
          "April",
          "May",
          "June",
          "July",
          "August",
          "September",
          "October",
          "November",
          "December",
          "January",
          "February",
          "March",
          "April",
          "May",
          "June",
          "July",
          "August",
          "September",
          "October",
          "November",
          "December",
          "January",
          "February",
          "March",
          "April",
          "May",
          "June",
          "July",
          "August",
          "September",
          "October",
          "November",
          "December",
          "January",
          "February",
          "March",
          "April",
          "May",
          "June",
          "July",
          "August",
          "September",
          "October",
          "November",
          "December",
          "January",
          "February",
          "March",
          "April",
          "May",
          "June",
          "July",
          "August",
          "September",
          "October",
          "November",
          "December",
          "January",
          "February",
          "March",
          "April",
          "May",
          "June",
          "July",
          "August",
          "September",
          "October",
          "November",
          "December",
          "January",
          "February",
          "March",
          "April",
          "May",
          "June",
          "July",
          "August",
          "September",
          "October",
          "November",
          "December",
          "January",
          "February",
          "March",
          "April",
          "May",
          "June",
          "July",
          "August",
          "September",
          "October",
          "November",
          "December",
          "January",
          "February",
          "March",
          "April",
          "May",
          "June",
          "July",
          "August",
          "September",
          "October",
          "November",
          "December",
          "January",
          "February",
          "March",
          "April",
          "May",
          "June",
          "July",
          "August",
          "September",
          "October",
          "November",
          "December",
          "January",
          "February",
          "March",
          "April",
          "May",
          "June",
          "July",
          "August",
          "September",
          "October",
          "November",
          "December",
          "January",
          "February",
          "March",
          "April",
          "May",
          "June",
          "July",
          "August",
          "September",
          "October",
          "November",
          "December",
          "January",
          "February",
          "March",
          "April",
          "May",
          "June",
          "July",
          "August",
          "September",
          "October",
          "November",
          "December",
          "January",
          "February",
          "March",
          "April",
          "May",
          "June",
          "July",
          "August",
          "September",
          "October",
          "November",
          "December",
          "January",
          "February",
          "March",
          "April",
          "May",
          "June",
          "July",
          "August",
          "September",
          "October",
          "November",
          "December",
          "January",
          "February",
          "March",
          "April",
          "May",
          "June",
          "July",
          "August",
          "September",
          "October",
          "November",
          "December",
          "January",
          "February",
          "March",
          "April",
          "May",
          "June",
          "July",
          "August",
          "September",
          "October",
          "November",
          "December",
          "January",
          "February",
          "March",
          "April",
          "May",
          "June",
          "July",
          "August",
          "September",
          "October",
          "November",
          "December",
          "January",
          "February",
          "March",
          "April",
          "May",
          "June",
          "July",
          "August",
          "September",
          "October",
          "November",
          "December",
          "January",
          "February",
          "March",
          "April",
          "May",
          "June",
          "July",
          "August",
          "September",
          "October",
          "November",
          "December",
          "January",
          "February",
          "March",
          "April",
          "May",
          "June",
          "July",
          "August",
          "September",
          "October",
          "November",
          "December"
         ],
         "yaxis": "y",
         "z": {
          "bdata": "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",
          "dtype": "f8"
         }
        },
        {
         "marker": {
          "color": "firebrick"
         },
         "name": "Monthly Avg",
         "orientation": "h",
         "type": "bar",
         "x": {
          "bdata": "P+xYKhXwxECcOYhmULLDQIHBpbEVBsZASgwCK+1IxUDXo3A97YDGQIGVQ4uJL8ZAbxKDwFjvxkA5tMh2oBPHQLByaJEJbsVAXrpJDAFMxkAEVg4tfFrFQPyp8dJXKsZA",
          "dtype": "f8"
         },
         "xaxis": "x2",
         "y": [
          "January",
          "February",
          "March",
          "April",
          "May",
          "June",
          "July",
          "August",
          "September",
          "October",
          "November",
          "December"
         ],
         "yaxis": "y2"
        }
       ],
       "layout": {
        "annotations": [
         {
          "font": {
           "size": 16
          },
          "showarrow": false,
          "text": "Gasoline Consumption Heatmap",
          "x": 0.392,
          "xanchor": "center",
          "xref": "paper",
          "y": 1,
          "yanchor": "bottom",
          "yref": "paper"
         },
         {
          "font": {
           "size": 16
          },
          "showarrow": false,
          "text": "Average by Month",
          "x": 0.902,
          "xanchor": "center",
          "xref": "paper",
          "y": 1,
          "yanchor": "bottom",
          "yref": "paper"
         }
        ],
        "height": 600,
        "template": {
         "data": {
          "bar": [
           {
            "error_x": {
             "color": "#2a3f5f"
            },
            "error_y": {
             "color": "#2a3f5f"
            },
            "marker": {
             "line": {
              "color": "white",
              "width": 0.5
             },
             "pattern": {
              "fillmode": "overlay",
              "size": 10,
              "solidity": 0.2
             }
            },
            "type": "bar"
           }
          ],
          "barpolar": [
           {
            "marker": {
             "line": {
              "color": "white",
              "width": 0.5
             },
             "pattern": {
              "fillmode": "overlay",
              "size": 10,
              "solidity": 0.2
             }
            },
            "type": "barpolar"
           }
          ],
          "carpet": [
           {
            "aaxis": {
             "endlinecolor": "#2a3f5f",
             "gridcolor": "#C8D4E3",
             "linecolor": "#C8D4E3",
             "minorgridcolor": "#C8D4E3",
             "startlinecolor": "#2a3f5f"
            },
            "baxis": {
             "endlinecolor": "#2a3f5f",
             "gridcolor": "#C8D4E3",
             "linecolor": "#C8D4E3",
             "minorgridcolor": "#C8D4E3",
             "startlinecolor": "#2a3f5f"
            },
            "type": "carpet"
           }
          ],
          "choropleth": [
           {
            "colorbar": {
             "outlinewidth": 0,
             "ticks": ""
            },
            "type": "choropleth"
           }
          ],
          "contour": [
           {
            "colorbar": {
             "outlinewidth": 0,
             "ticks": ""
            },
            "colorscale": [
             [
              0,
              "#0d0887"
             ],
             [
              0.1111111111111111,
              "#46039f"
             ],
             [
              0.2222222222222222,
              "#7201a8"
             ],
             [
              0.3333333333333333,
              "#9c179e"
             ],
             [
              0.4444444444444444,
              "#bd3786"
             ],
             [
              0.5555555555555556,
              "#d8576b"
             ],
             [
              0.6666666666666666,
              "#ed7953"
             ],
             [
              0.7777777777777778,
              "#fb9f3a"
             ],
             [
              0.8888888888888888,
              "#fdca26"
             ],
             [
              1,
              "#f0f921"
             ]
            ],
            "type": "contour"
           }
          ],
          "contourcarpet": [
           {
            "colorbar": {
             "outlinewidth": 0,
             "ticks": ""
            },
            "type": "contourcarpet"
           }
          ],
          "heatmap": [
           {
            "colorbar": {
             "outlinewidth": 0,
             "ticks": ""
            },
            "colorscale": [
             [
              0,
              "#0d0887"
             ],
             [
              0.1111111111111111,
              "#46039f"
             ],
             [
              0.2222222222222222,
              "#7201a8"
             ],
             [
              0.3333333333333333,
              "#9c179e"
             ],
             [
              0.4444444444444444,
              "#bd3786"
             ],
             [
              0.5555555555555556,
              "#d8576b"
             ],
             [
              0.6666666666666666,
              "#ed7953"
             ],
             [
              0.7777777777777778,
              "#fb9f3a"
             ],
             [
              0.8888888888888888,
              "#fdca26"
             ],
             [
              1,
              "#f0f921"
             ]
            ],
            "type": "heatmap"
           }
          ],
          "histogram": [
           {
            "marker": {
             "pattern": {
              "fillmode": "overlay",
              "size": 10,
              "solidity": 0.2
             }
            },
            "type": "histogram"
           }
          ],
          "histogram2d": [
           {
            "colorbar": {
             "outlinewidth": 0,
             "ticks": ""
            },
            "colorscale": [
             [
              0,
              "#0d0887"
             ],
             [
              0.1111111111111111,
              "#46039f"
             ],
             [
              0.2222222222222222,
              "#7201a8"
             ],
             [
              0.3333333333333333,
              "#9c179e"
             ],
             [
              0.4444444444444444,
              "#bd3786"
             ],
             [
              0.5555555555555556,
              "#d8576b"
             ],
             [
              0.6666666666666666,
              "#ed7953"
             ],
             [
              0.7777777777777778,
              "#fb9f3a"
             ],
             [
              0.8888888888888888,
              "#fdca26"
             ],
             [
              1,
              "#f0f921"
             ]
            ],
            "type": "histogram2d"
           }
          ],
          "histogram2dcontour": [
           {
            "colorbar": {
             "outlinewidth": 0,
             "ticks": ""
            },
            "colorscale": [
             [
              0,
              "#0d0887"
             ],
             [
              0.1111111111111111,
              "#46039f"
             ],
             [
              0.2222222222222222,
              "#7201a8"
             ],
             [
              0.3333333333333333,
              "#9c179e"
             ],
             [
              0.4444444444444444,
              "#bd3786"
             ],
             [
              0.5555555555555556,
              "#d8576b"
             ],
             [
              0.6666666666666666,
              "#ed7953"
             ],
             [
              0.7777777777777778,
              "#fb9f3a"
             ],
             [
              0.8888888888888888,
              "#fdca26"
             ],
             [
              1,
              "#f0f921"
             ]
            ],
            "type": "histogram2dcontour"
           }
          ],
          "mesh3d": [
           {
            "colorbar": {
             "outlinewidth": 0,
             "ticks": ""
            },
            "type": "mesh3d"
           }
          ],
          "parcoords": [
           {
            "line": {
             "colorbar": {
              "outlinewidth": 0,
              "ticks": ""
             }
            },
            "type": "parcoords"
           }
          ],
          "pie": [
           {
            "automargin": true,
            "type": "pie"
           }
          ],
          "scatter": [
           {
            "fillpattern": {
             "fillmode": "overlay",
             "size": 10,
             "solidity": 0.2
            },
            "type": "scatter"
           }
          ],
          "scatter3d": [
           {
            "line": {
             "colorbar": {
              "outlinewidth": 0,
              "ticks": ""
             }
            },
            "marker": {
             "colorbar": {
              "outlinewidth": 0,
              "ticks": ""
             }
            },
            "type": "scatter3d"
           }
          ],
          "scattercarpet": [
           {
            "marker": {
             "colorbar": {
              "outlinewidth": 0,
              "ticks": ""
             }
            },
            "type": "scattercarpet"
           }
          ],
          "scattergeo": [
           {
            "marker": {
             "colorbar": {
              "outlinewidth": 0,
              "ticks": ""
             }
            },
            "type": "scattergeo"
           }
          ],
          "scattergl": [
           {
            "marker": {
             "colorbar": {
              "outlinewidth": 0,
              "ticks": ""
             }
            },
            "type": "scattergl"
           }
          ],
          "scattermap": [
           {
            "marker": {
             "colorbar": {
              "outlinewidth": 0,
              "ticks": ""
             }
            },
            "type": "scattermap"
           }
          ],
          "scattermapbox": [
           {
            "marker": {
             "colorbar": {
              "outlinewidth": 0,
              "ticks": ""
             }
            },
            "type": "scattermapbox"
           }
          ],
          "scatterpolar": [
           {
            "marker": {
             "colorbar": {
              "outlinewidth": 0,
              "ticks": ""
             }
            },
            "type": "scatterpolar"
           }
          ],
          "scatterpolargl": [
           {
            "marker": {
             "colorbar": {
              "outlinewidth": 0,
              "ticks": ""
             }
            },
            "type": "scatterpolargl"
           }
          ],
          "scatterternary": [
           {
            "marker": {
             "colorbar": {
              "outlinewidth": 0,
              "ticks": ""
             }
            },
            "type": "scatterternary"
           }
          ],
          "surface": [
           {
            "colorbar": {
             "outlinewidth": 0,
             "ticks": ""
            },
            "colorscale": [
             [
              0,
              "#0d0887"
             ],
             [
              0.1111111111111111,
              "#46039f"
             ],
             [
              0.2222222222222222,
              "#7201a8"
             ],
             [
              0.3333333333333333,
              "#9c179e"
             ],
             [
              0.4444444444444444,
              "#bd3786"
             ],
             [
              0.5555555555555556,
              "#d8576b"
             ],
             [
              0.6666666666666666,
              "#ed7953"
             ],
             [
              0.7777777777777778,
              "#fb9f3a"
             ],
             [
              0.8888888888888888,
              "#fdca26"
             ],
             [
              1,
              "#f0f921"
             ]
            ],
            "type": "surface"
           }
          ],
          "table": [
           {
            "cells": {
             "fill": {
              "color": "#EBF0F8"
             },
             "line": {
              "color": "white"
             }
            },
            "header": {
             "fill": {
              "color": "#C8D4E3"
             },
             "line": {
              "color": "white"
             }
            },
            "type": "table"
           }
          ]
         },
         "layout": {
          "annotationdefaults": {
           "arrowcolor": "#2a3f5f",
           "arrowhead": 0,
           "arrowwidth": 1
          },
          "autotypenumbers": "strict",
          "coloraxis": {
           "colorbar": {
            "outlinewidth": 0,
            "ticks": ""
           }
          },
          "colorscale": {
           "diverging": [
            [
             0,
             "#8e0152"
            ],
            [
             0.1,
             "#c51b7d"
            ],
            [
             0.2,
             "#de77ae"
            ],
            [
             0.3,
             "#f1b6da"
            ],
            [
             0.4,
             "#fde0ef"
            ],
            [
             0.5,
             "#f7f7f7"
            ],
            [
             0.6,
             "#e6f5d0"
            ],
            [
             0.7,
             "#b8e186"
            ],
            [
             0.8,
             "#7fbc41"
            ],
            [
             0.9,
             "#4d9221"
            ],
            [
             1,
             "#276419"
            ]
           ],
           "sequential": [
            [
             0,
             "#0d0887"
            ],
            [
             0.1111111111111111,
             "#46039f"
            ],
            [
             0.2222222222222222,
             "#7201a8"
            ],
            [
             0.3333333333333333,
             "#9c179e"
            ],
            [
             0.4444444444444444,
             "#bd3786"
            ],
            [
             0.5555555555555556,
             "#d8576b"
            ],
            [
             0.6666666666666666,
             "#ed7953"
            ],
            [
             0.7777777777777778,
             "#fb9f3a"
            ],
            [
             0.8888888888888888,
             "#fdca26"
            ],
            [
             1,
             "#f0f921"
            ]
           ],
           "sequentialminus": [
            [
             0,
             "#0d0887"
            ],
            [
             0.1111111111111111,
             "#46039f"
            ],
            [
             0.2222222222222222,
             "#7201a8"
            ],
            [
             0.3333333333333333,
             "#9c179e"
            ],
            [
             0.4444444444444444,
             "#bd3786"
            ],
            [
             0.5555555555555556,
             "#d8576b"
            ],
            [
             0.6666666666666666,
             "#ed7953"
            ],
            [
             0.7777777777777778,
             "#fb9f3a"
            ],
            [
             0.8888888888888888,
             "#fdca26"
            ],
            [
             1,
             "#f0f921"
            ]
           ]
          },
          "colorway": [
           "#636efa",
           "#EF553B",
           "#00cc96",
           "#ab63fa",
           "#FFA15A",
           "#19d3f3",
           "#FF6692",
           "#B6E880",
           "#FF97FF",
           "#FECB52"
          ],
          "font": {
           "color": "#2a3f5f"
          },
          "geo": {
           "bgcolor": "white",
           "lakecolor": "white",
           "landcolor": "white",
           "showlakes": true,
           "showland": true,
           "subunitcolor": "#C8D4E3"
          },
          "hoverlabel": {
           "align": "left"
          },
          "hovermode": "closest",
          "mapbox": {
           "style": "light"
          },
          "paper_bgcolor": "white",
          "plot_bgcolor": "white",
          "polar": {
           "angularaxis": {
            "gridcolor": "#EBF0F8",
            "linecolor": "#EBF0F8",
            "ticks": ""
           },
           "bgcolor": "white",
           "radialaxis": {
            "gridcolor": "#EBF0F8",
            "linecolor": "#EBF0F8",
            "ticks": ""
           }
          },
          "scene": {
           "xaxis": {
            "backgroundcolor": "white",
            "gridcolor": "#DFE8F3",
            "gridwidth": 2,
            "linecolor": "#EBF0F8",
            "showbackground": true,
            "ticks": "",
            "zerolinecolor": "#EBF0F8"
           },
           "yaxis": {
            "backgroundcolor": "white",
            "gridcolor": "#DFE8F3",
            "gridwidth": 2,
            "linecolor": "#EBF0F8",
            "showbackground": true,
            "ticks": "",
            "zerolinecolor": "#EBF0F8"
           },
           "zaxis": {
            "backgroundcolor": "white",
            "gridcolor": "#DFE8F3",
            "gridwidth": 2,
            "linecolor": "#EBF0F8",
            "showbackground": true,
            "ticks": "",
            "zerolinecolor": "#EBF0F8"
           }
          },
          "shapedefaults": {
           "line": {
            "color": "#2a3f5f"
           }
          },
          "ternary": {
           "aaxis": {
            "gridcolor": "#DFE8F3",
            "linecolor": "#A2B1C6",
            "ticks": ""
           },
           "baxis": {
            "gridcolor": "#DFE8F3",
            "linecolor": "#A2B1C6",
            "ticks": ""
           },
           "bgcolor": "white",
           "caxis": {
            "gridcolor": "#DFE8F3",
            "linecolor": "#A2B1C6",
            "ticks": ""
           }
          },
          "title": {
           "x": 0.05
          },
          "xaxis": {
           "automargin": true,
           "gridcolor": "#EBF0F8",
           "linecolor": "#EBF0F8",
           "ticks": "",
           "title": {
            "standoff": 15
           },
           "zerolinecolor": "#EBF0F8",
           "zerolinewidth": 2
          },
          "yaxis": {
           "automargin": true,
           "gridcolor": "#EBF0F8",
           "linecolor": "#EBF0F8",
           "ticks": "",
           "title": {
            "standoff": 15
           },
           "zerolinecolor": "#EBF0F8",
           "zerolinewidth": 2
          }
         }
        },
        "title": {
         "text": "U.S. Gasoline Consumption Heatmap with Average Monthly Consumption",
         "x": 0.5
        },
        "xaxis": {
         "anchor": "y",
         "domain": [
          0,
          0.784
         ]
        },
        "xaxis2": {
         "anchor": "y2",
         "domain": [
          0.804,
          1
         ]
        },
        "yaxis": {
         "anchor": "x",
         "categoryarray": [
          "December",
          "November",
          "October",
          "September",
          "August",
          "July",
          "June",
          "May",
          "April",
          "March",
          "February",
          "January"
         ],
         "categoryorder": "array",
         "domain": [
          0,
          1
         ]
        },
        "yaxis2": {
         "anchor": "x2",
         "categoryarray": [
          "December",
          "November",
          "October",
          "September",
          "August",
          "July",
          "June",
          "May",
          "April",
          "March",
          "February",
          "January"
         ],
         "categoryorder": "array",
         "domain": [
          0,
          1
         ],
         "matches": "y",
         "showticklabels": false
        }
       }
      }
     },
     "metadata": {},
     "output_type": "display_data"
    }
   ],
   "source": [
    "''' Create a heatmap to visualize gasoline consumption by month and year '''\n",
    "\n",
    "# Calculate average monthly consumption across all years\n",
    "monthly_avg = (\n",
    "    consumption.groupby(\"Month\")[\"Gasoline_Consumption(Millions of Gallons)\"]\n",
    "    .mean()\n",
    "    .reindex(month_order)\n",
    "    .reset_index()\n",
    ")\n",
    "\n",
    "# Create two subplots (1 row, 2 columns)\n",
    "fig = make_subplots(\n",
    "    rows=1, cols=2,\n",
    "    column_widths=[0.8, 0.2],\n",
    "    shared_yaxes=True,\n",
    "    horizontal_spacing=0.02,\n",
    "    subplot_titles=(\"Gasoline Consumption Heatmap\", \"Average by Month\")\n",
    ")\n",
    "\n",
    "# --- Heatmap ---\n",
    "heatmap = go.Heatmap(\n",
    "    x=consumption[\"Year\"],\n",
    "    y=consumption[\"Month\"],\n",
    "    z=consumption[\"Gasoline_Consumption(Millions of Gallons)\"],\n",
    "    colorscale=\"YlOrRd\",\n",
    "    colorbar=dict(title=\"Millions of Gallons\"),\n",
    ")\n",
    "fig.add_trace(heatmap, row=1, col=1)\n",
    "\n",
    "# --- Average Monthly Bar Chart ---\n",
    "bars = go.Bar(\n",
    "    x=monthly_avg[\"Gasoline_Consumption(Millions of Gallons)\"],\n",
    "    y=monthly_avg[\"Month\"],\n",
    "    orientation=\"h\",\n",
    "    marker_color=\"firebrick\",\n",
    "    name=\"Monthly Avg\"\n",
    ")\n",
    "fig.add_trace(bars, row=1, col=2)\n",
    "\n",
    "# --- Layout ---\n",
    "fig.update_layout(\n",
    "    template=\"plotly_white\",\n",
    "    title=\"U.S. Gasoline Consumption Heatmap with Average Monthly Consumption\",\n",
    "    title_x=0.5,\n",
    "    height=600,\n",
    ")\n",
    "\n",
    "# Reverse y-axis for both subplots to have January at the top\n",
    "fig.update_yaxes(categoryorder=\"array\", categoryarray=month_order[::-1])\n",
    "\n",
    "fig.show()"
   ]
  },
  {
   "cell_type": "code",
   "execution_count": 449,
   "id": "7c942aa5",
   "metadata": {},
   "outputs": [
    {
     "data": {
      "application/vnd.plotly.v1+json": {
       "config": {
        "plotlyServerURL": "https://plot.ly"
       },
       "data": [
        {
         "coloraxis": "coloraxis",
         "histfunc": "sum",
         "hovertemplate": "Year=%{x}<br>Month=%{y}<br>sum of Millions of Gallons=%{z}<extra></extra>",
         "name": "",
         "type": "histogram2d",
         "x": {
          "bdata": "yQcAAMkHAADJBwAAyQcAAMkHAADJBwAAyQcAAMkHAADJBwAAygcAAMoHAADKBwAAygcAAMoHAADKBwAAygcAAMoHAADKBwAAygcAAMoHAADKBwAAywcAAMsHAADLBwAAywcAAMsHAADLBwAAywcAAMsHAADLBwAAywcAAMsHAADLBwAAzAcAAMwHAADMBwAAzAcAAMwHAADMBwAAzAcAAMwHAADMBwAAzAcAAMwHAADMBwAAzQcAAM0HAADNBwAAzQcAAM0HAADNBwAAzQcAAM0HAADNBwAAzQcAAM0HAADNBwAAzgcAAM4HAADOBwAAzgcAAM4HAADOBwAAzgcAAM4HAADOBwAAzgcAAM4HAADOBwAAzwcAAM8HAADPBwAAzwcAAM8HAADPBwAAzwcAAM8HAADPBwAAzwcAAM8HAADPBwAA0AcAANAHAADQBwAA0AcAANAHAADQBwAA0AcAANAHAADQBwAA0AcAANAHAADQBwAA0QcAANEHAADRBwAA0QcAANEHAADRBwAA0QcAANEHAADRBwAA0QcAANEHAADRBwAA0gcAANIHAADSBwAA0gcAANIHAADSBwAA0gcAANIHAADSBwAA0gcAANIHAADSBwAA0wcAANMHAADTBwAA0wcAANMHAADTBwAA0wcAANMHAADTBwAA0wcAANMHAADTBwAA1AcAANQHAADUBwAA1AcAANQHAADUBwAA1AcAANQHAADUBwAA1AcAANQHAADUBwAA1QcAANUHAADVBwAA1QcAANUHAADVBwAA1QcAANUHAADVBwAA1QcAANUHAADVBwAA1gcAANYHAADWBwAA1gcAANYHAADWBwAA1gcAANYHAADWBwAA1gcAANYHAADWBwAA1wcAANcHAADXBwAA1wcAANcHAADXBwAA1wcAANcHAADXBwAA1wcAANcHAADXBwAA2AcAANgHAADYBwAA2AcAANgHAADYBwAA2AcAANgHAADYBwAA2AcAANgHAADYBwAA2QcAANkHAADZBwAA2QcAANkHAADZBwAA2QcAANkHAADZBwAA2QcAANkHAADZBwAA2gcAANoHAADaBwAA2gcAANoHAADaBwAA2gcAANoHAADaBwAA2gcAANoHAADaBwAA2wcAANsHAADbBwAA2wcAANsHAADbBwAA2wcAANsHAADbBwAA2wcAANsHAADbBwAA3AcAANwHAADcBwAA3AcAANwHAADcBwAA3AcAANwHAADcBwAA3AcAANwHAADcBwAA3QcAAN0HAADdBwAA3QcAAN0HAADdBwAA3QcAAN0HAADdBwAA3QcAAN0HAADdBwAA3gcAAN4HAADeBwAA3gcAAN4HAADeBwAA3gcAAN4HAADeBwAA3gcAAN4HAADeBwAA3wcAAN8HAADfBwAA3wcAAN8HAADfBwAA3wcAAN8HAADfBwAA3wcAAN8HAADfBwAA4AcAAOAHAADgBwAA4AcAAOAHAADgBwAA4AcAAOAHAADgBwAA4AcAAOAHAADgBwAA4QcAAOEHAADhBwAA4QcAAOEHAADhBwAA4QcAAOEHAADhBwAA4QcAAOEHAADhBwAA4gcAAOIHAADiBwAA4gcAAOIHAADiBwAA4gcAAOIHAADiBwAA4gcAAOIHAADiBwAA4wcAAOMHAADjBwAA4wcAAOMHAADjBwAA4wcAAOMHAADjBwAA4wcAAOMHAADjBwAA5AcAAOQHAADkBwAA5AcAAOQHAADkBwAA5AcAAOQHAADkBwAA5AcAAOQHAADkBwAA5QcAAOUHAADlBwAA5QcAAOUHAADlBwAA5QcAAOUHAADlBwAA5QcAAOUHAADlBwAA5gcAAOYHAADmBwAA5gcAAOYHAADmBwAA5gcAAOYHAADmBwAA5gcAAOYHAADmBwAA5wcAAOcHAADnBwAA5wcAAOcHAADnBwAA5wcAAOcHAADnBwAA5wcAAOcHAADnBwAA6AcAAOgHAADoBwAA6AcAAOgHAADoBwAA6AcAAOgHAADoBwAA6AcAAOgHAADoBwAA",
          "dtype": "i4"
         },
         "xaxis": "x",
         "xbingroup": "x",
         "y": [
          "April",
          "May",
          "June",
          "July",
          "August",
          "September",
          "October",
          "November",
          "December",
          "January",
          "February",
          "March",
          "April",
          "May",
          "June",
          "July",
          "August",
          "September",
          "October",
          "November",
          "December",
          "January",
          "February",
          "March",
          "April",
          "May",
          "June",
          "July",
          "August",
          "September",
          "October",
          "November",
          "December",
          "January",
          "February",
          "March",
          "April",
          "May",
          "June",
          "July",
          "August",
          "September",
          "October",
          "November",
          "December",
          "January",
          "February",
          "March",
          "April",
          "May",
          "June",
          "July",
          "August",
          "September",
          "October",
          "November",
          "December",
          "January",
          "February",
          "March",
          "April",
          "May",
          "June",
          "July",
          "August",
          "September",
          "October",
          "November",
          "December",
          "January",
          "February",
          "March",
          "April",
          "May",
          "June",
          "July",
          "August",
          "September",
          "October",
          "November",
          "December",
          "January",
          "February",
          "March",
          "April",
          "May",
          "June",
          "July",
          "August",
          "September",
          "October",
          "November",
          "December",
          "January",
          "February",
          "March",
          "April",
          "May",
          "June",
          "July",
          "August",
          "September",
          "October",
          "November",
          "December",
          "January",
          "February",
          "March",
          "April",
          "May",
          "June",
          "July",
          "August",
          "September",
          "October",
          "November",
          "December",
          "January",
          "February",
          "March",
          "April",
          "May",
          "June",
          "July",
          "August",
          "September",
          "October",
          "November",
          "December",
          "January",
          "February",
          "March",
          "April",
          "May",
          "June",
          "July",
          "August",
          "September",
          "October",
          "November",
          "December",
          "January",
          "February",
          "March",
          "April",
          "May",
          "June",
          "July",
          "August",
          "September",
          "October",
          "November",
          "December",
          "January",
          "February",
          "March",
          "April",
          "May",
          "June",
          "July",
          "August",
          "September",
          "October",
          "November",
          "December",
          "January",
          "February",
          "March",
          "April",
          "May",
          "June",
          "July",
          "August",
          "September",
          "October",
          "November",
          "December",
          "January",
          "February",
          "March",
          "April",
          "May",
          "June",
          "July",
          "August",
          "September",
          "October",
          "November",
          "December",
          "January",
          "February",
          "March",
          "April",
          "May",
          "June",
          "July",
          "August",
          "September",
          "October",
          "November",
          "December",
          "January",
          "February",
          "March",
          "April",
          "May",
          "June",
          "July",
          "August",
          "September",
          "October",
          "November",
          "December",
          "January",
          "February",
          "March",
          "April",
          "May",
          "June",
          "July",
          "August",
          "September",
          "October",
          "November",
          "December",
          "January",
          "February",
          "March",
          "April",
          "May",
          "June",
          "July",
          "August",
          "September",
          "October",
          "November",
          "December",
          "January",
          "February",
          "March",
          "April",
          "May",
          "June",
          "July",
          "August",
          "September",
          "October",
          "November",
          "December",
          "January",
          "February",
          "March",
          "April",
          "May",
          "June",
          "July",
          "August",
          "September",
          "October",
          "November",
          "December",
          "January",
          "February",
          "March",
          "April",
          "May",
          "June",
          "July",
          "August",
          "September",
          "October",
          "November",
          "December",
          "January",
          "February",
          "March",
          "April",
          "May",
          "June",
          "July",
          "August",
          "September",
          "October",
          "November",
          "December",
          "January",
          "February",
          "March",
          "April",
          "May",
          "June",
          "July",
          "August",
          "September",
          "October",
          "November",
          "December",
          "January",
          "February",
          "March",
          "April",
          "May",
          "June",
          "July",
          "August",
          "September",
          "October",
          "November",
          "December",
          "January",
          "February",
          "March",
          "April",
          "May",
          "June",
          "July",
          "August",
          "September",
          "October",
          "November",
          "December",
          "January",
          "February",
          "March",
          "April",
          "May",
          "June",
          "July",
          "August",
          "September",
          "October",
          "November",
          "December",
          "January",
          "February",
          "March",
          "April",
          "May",
          "June",
          "July",
          "August",
          "September",
          "October",
          "November",
          "December",
          "January",
          "February",
          "March",
          "April",
          "May",
          "June",
          "July",
          "August",
          "September",
          "October",
          "November",
          "December",
          "January",
          "February",
          "March",
          "April",
          "May",
          "June",
          "July",
          "August",
          "September",
          "October",
          "November",
          "December",
          "January",
          "February",
          "March",
          "April",
          "May",
          "June",
          "July",
          "August",
          "September",
          "October",
          "November",
          "December"
         ],
         "yaxis": "y",
         "ybingroup": "y",
         "z": {
          "bdata": "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",
          "dtype": "f8"
         }
        }
       ],
       "layout": {
        "annotations": [
         {
          "font": {
           "color": "black",
           "size": 10
          },
          "showarrow": false,
          "text": "10720",
          "x": 2024.5,
          "y": "January"
         },
         {
          "font": {
           "color": "black",
           "size": 10
          },
          "showarrow": false,
          "text": "10085",
          "x": 2024.5,
          "y": "February"
         },
         {
          "font": {
           "color": "black",
           "size": 10
          },
          "showarrow": false,
          "text": "11276",
          "x": 2024.5,
          "y": "March"
         },
         {
          "font": {
           "color": "black",
           "size": 10
          },
          "showarrow": false,
          "text": "10898",
          "x": 2024.5,
          "y": "April"
         },
         {
          "font": {
           "color": "black",
           "size": 10
          },
          "showarrow": false,
          "text": "11522",
          "x": 2024.5,
          "y": "May"
         },
         {
          "font": {
           "color": "black",
           "size": 10
          },
          "showarrow": false,
          "text": "11359",
          "x": 2024.5,
          "y": "June"
         },
         {
          "font": {
           "color": "black",
           "size": 10
          },
          "showarrow": false,
          "text": "11743",
          "x": 2024.5,
          "y": "July"
         },
         {
          "font": {
           "color": "black",
           "size": 10
          },
          "showarrow": false,
          "text": "11815",
          "x": 2024.5,
          "y": "August"
         },
         {
          "font": {
           "color": "black",
           "size": 10
          },
          "showarrow": false,
          "text": "10972",
          "x": 2024.5,
          "y": "September"
         },
         {
          "font": {
           "color": "black",
           "size": 10
          },
          "showarrow": false,
          "text": "11416",
          "x": 2024.5,
          "y": "October"
         },
         {
          "font": {
           "color": "black",
           "size": 10
          },
          "showarrow": false,
          "text": "10933",
          "x": 2024.5,
          "y": "November"
         },
         {
          "font": {
           "color": "black",
           "size": 10
          },
          "showarrow": false,
          "text": "11349",
          "x": 2024.5,
          "y": "December"
         }
        ],
        "coloraxis": {
         "colorbar": {
          "title": {
           "text": "Millions of Gallons"
          }
         },
         "colorscale": [
          [
           0,
           "rgb(255,255,204)"
          ],
          [
           0.125,
           "rgb(255,237,160)"
          ],
          [
           0.25,
           "rgb(254,217,118)"
          ],
          [
           0.375,
           "rgb(254,178,76)"
          ],
          [
           0.5,
           "rgb(253,141,60)"
          ],
          [
           0.625,
           "rgb(252,78,42)"
          ],
          [
           0.75,
           "rgb(227,26,28)"
          ],
          [
           0.875,
           "rgb(189,0,38)"
          ],
          [
           1,
           "rgb(128,0,38)"
          ]
         ]
        },
        "legend": {
         "tracegroupgap": 0
        },
        "template": {
         "data": {
          "bar": [
           {
            "error_x": {
             "color": "#2a3f5f"
            },
            "error_y": {
             "color": "#2a3f5f"
            },
            "marker": {
             "line": {
              "color": "white",
              "width": 0.5
             },
             "pattern": {
              "fillmode": "overlay",
              "size": 10,
              "solidity": 0.2
             }
            },
            "type": "bar"
           }
          ],
          "barpolar": [
           {
            "marker": {
             "line": {
              "color": "white",
              "width": 0.5
             },
             "pattern": {
              "fillmode": "overlay",
              "size": 10,
              "solidity": 0.2
             }
            },
            "type": "barpolar"
           }
          ],
          "carpet": [
           {
            "aaxis": {
             "endlinecolor": "#2a3f5f",
             "gridcolor": "#C8D4E3",
             "linecolor": "#C8D4E3",
             "minorgridcolor": "#C8D4E3",
             "startlinecolor": "#2a3f5f"
            },
            "baxis": {
             "endlinecolor": "#2a3f5f",
             "gridcolor": "#C8D4E3",
             "linecolor": "#C8D4E3",
             "minorgridcolor": "#C8D4E3",
             "startlinecolor": "#2a3f5f"
            },
            "type": "carpet"
           }
          ],
          "choropleth": [
           {
            "colorbar": {
             "outlinewidth": 0,
             "ticks": ""
            },
            "type": "choropleth"
           }
          ],
          "contour": [
           {
            "colorbar": {
             "outlinewidth": 0,
             "ticks": ""
            },
            "colorscale": [
             [
              0,
              "#0d0887"
             ],
             [
              0.1111111111111111,
              "#46039f"
             ],
             [
              0.2222222222222222,
              "#7201a8"
             ],
             [
              0.3333333333333333,
              "#9c179e"
             ],
             [
              0.4444444444444444,
              "#bd3786"
             ],
             [
              0.5555555555555556,
              "#d8576b"
             ],
             [
              0.6666666666666666,
              "#ed7953"
             ],
             [
              0.7777777777777778,
              "#fb9f3a"
             ],
             [
              0.8888888888888888,
              "#fdca26"
             ],
             [
              1,
              "#f0f921"
             ]
            ],
            "type": "contour"
           }
          ],
          "contourcarpet": [
           {
            "colorbar": {
             "outlinewidth": 0,
             "ticks": ""
            },
            "type": "contourcarpet"
           }
          ],
          "heatmap": [
           {
            "colorbar": {
             "outlinewidth": 0,
             "ticks": ""
            },
            "colorscale": [
             [
              0,
              "#0d0887"
             ],
             [
              0.1111111111111111,
              "#46039f"
             ],
             [
              0.2222222222222222,
              "#7201a8"
             ],
             [
              0.3333333333333333,
              "#9c179e"
             ],
             [
              0.4444444444444444,
              "#bd3786"
             ],
             [
              0.5555555555555556,
              "#d8576b"
             ],
             [
              0.6666666666666666,
              "#ed7953"
             ],
             [
              0.7777777777777778,
              "#fb9f3a"
             ],
             [
              0.8888888888888888,
              "#fdca26"
             ],
             [
              1,
              "#f0f921"
             ]
            ],
            "type": "heatmap"
           }
          ],
          "histogram": [
           {
            "marker": {
             "pattern": {
              "fillmode": "overlay",
              "size": 10,
              "solidity": 0.2
             }
            },
            "type": "histogram"
           }
          ],
          "histogram2d": [
           {
            "colorbar": {
             "outlinewidth": 0,
             "ticks": ""
            },
            "colorscale": [
             [
              0,
              "#0d0887"
             ],
             [
              0.1111111111111111,
              "#46039f"
             ],
             [
              0.2222222222222222,
              "#7201a8"
             ],
             [
              0.3333333333333333,
              "#9c179e"
             ],
             [
              0.4444444444444444,
              "#bd3786"
             ],
             [
              0.5555555555555556,
              "#d8576b"
             ],
             [
              0.6666666666666666,
              "#ed7953"
             ],
             [
              0.7777777777777778,
              "#fb9f3a"
             ],
             [
              0.8888888888888888,
              "#fdca26"
             ],
             [
              1,
              "#f0f921"
             ]
            ],
            "type": "histogram2d"
           }
          ],
          "histogram2dcontour": [
           {
            "colorbar": {
             "outlinewidth": 0,
             "ticks": ""
            },
            "colorscale": [
             [
              0,
              "#0d0887"
             ],
             [
              0.1111111111111111,
              "#46039f"
             ],
             [
              0.2222222222222222,
              "#7201a8"
             ],
             [
              0.3333333333333333,
              "#9c179e"
             ],
             [
              0.4444444444444444,
              "#bd3786"
             ],
             [
              0.5555555555555556,
              "#d8576b"
             ],
             [
              0.6666666666666666,
              "#ed7953"
             ],
             [
              0.7777777777777778,
              "#fb9f3a"
             ],
             [
              0.8888888888888888,
              "#fdca26"
             ],
             [
              1,
              "#f0f921"
             ]
            ],
            "type": "histogram2dcontour"
           }
          ],
          "mesh3d": [
           {
            "colorbar": {
             "outlinewidth": 0,
             "ticks": ""
            },
            "type": "mesh3d"
           }
          ],
          "parcoords": [
           {
            "line": {
             "colorbar": {
              "outlinewidth": 0,
              "ticks": ""
             }
            },
            "type": "parcoords"
           }
          ],
          "pie": [
           {
            "automargin": true,
            "type": "pie"
           }
          ],
          "scatter": [
           {
            "fillpattern": {
             "fillmode": "overlay",
             "size": 10,
             "solidity": 0.2
            },
            "type": "scatter"
           }
          ],
          "scatter3d": [
           {
            "line": {
             "colorbar": {
              "outlinewidth": 0,
              "ticks": ""
             }
            },
            "marker": {
             "colorbar": {
              "outlinewidth": 0,
              "ticks": ""
             }
            },
            "type": "scatter3d"
           }
          ],
          "scattercarpet": [
           {
            "marker": {
             "colorbar": {
              "outlinewidth": 0,
              "ticks": ""
             }
            },
            "type": "scattercarpet"
           }
          ],
          "scattergeo": [
           {
            "marker": {
             "colorbar": {
              "outlinewidth": 0,
              "ticks": ""
             }
            },
            "type": "scattergeo"
           }
          ],
          "scattergl": [
           {
            "marker": {
             "colorbar": {
              "outlinewidth": 0,
              "ticks": ""
             }
            },
            "type": "scattergl"
           }
          ],
          "scattermap": [
           {
            "marker": {
             "colorbar": {
              "outlinewidth": 0,
              "ticks": ""
             }
            },
            "type": "scattermap"
           }
          ],
          "scattermapbox": [
           {
            "marker": {
             "colorbar": {
              "outlinewidth": 0,
              "ticks": ""
             }
            },
            "type": "scattermapbox"
           }
          ],
          "scatterpolar": [
           {
            "marker": {
             "colorbar": {
              "outlinewidth": 0,
              "ticks": ""
             }
            },
            "type": "scatterpolar"
           }
          ],
          "scatterpolargl": [
           {
            "marker": {
             "colorbar": {
              "outlinewidth": 0,
              "ticks": ""
             }
            },
            "type": "scatterpolargl"
           }
          ],
          "scatterternary": [
           {
            "marker": {
             "colorbar": {
              "outlinewidth": 0,
              "ticks": ""
             }
            },
            "type": "scatterternary"
           }
          ],
          "surface": [
           {
            "colorbar": {
             "outlinewidth": 0,
             "ticks": ""
            },
            "colorscale": [
             [
              0,
              "#0d0887"
             ],
             [
              0.1111111111111111,
              "#46039f"
             ],
             [
              0.2222222222222222,
              "#7201a8"
             ],
             [
              0.3333333333333333,
              "#9c179e"
             ],
             [
              0.4444444444444444,
              "#bd3786"
             ],
             [
              0.5555555555555556,
              "#d8576b"
             ],
             [
              0.6666666666666666,
              "#ed7953"
             ],
             [
              0.7777777777777778,
              "#fb9f3a"
             ],
             [
              0.8888888888888888,
              "#fdca26"
             ],
             [
              1,
              "#f0f921"
             ]
            ],
            "type": "surface"
           }
          ],
          "table": [
           {
            "cells": {
             "fill": {
              "color": "#EBF0F8"
             },
             "line": {
              "color": "white"
             }
            },
            "header": {
             "fill": {
              "color": "#C8D4E3"
             },
             "line": {
              "color": "white"
             }
            },
            "type": "table"
           }
          ]
         },
         "layout": {
          "annotationdefaults": {
           "arrowcolor": "#2a3f5f",
           "arrowhead": 0,
           "arrowwidth": 1
          },
          "autotypenumbers": "strict",
          "coloraxis": {
           "colorbar": {
            "outlinewidth": 0,
            "ticks": ""
           }
          },
          "colorscale": {
           "diverging": [
            [
             0,
             "#8e0152"
            ],
            [
             0.1,
             "#c51b7d"
            ],
            [
             0.2,
             "#de77ae"
            ],
            [
             0.3,
             "#f1b6da"
            ],
            [
             0.4,
             "#fde0ef"
            ],
            [
             0.5,
             "#f7f7f7"
            ],
            [
             0.6,
             "#e6f5d0"
            ],
            [
             0.7,
             "#b8e186"
            ],
            [
             0.8,
             "#7fbc41"
            ],
            [
             0.9,
             "#4d9221"
            ],
            [
             1,
             "#276419"
            ]
           ],
           "sequential": [
            [
             0,
             "#0d0887"
            ],
            [
             0.1111111111111111,
             "#46039f"
            ],
            [
             0.2222222222222222,
             "#7201a8"
            ],
            [
             0.3333333333333333,
             "#9c179e"
            ],
            [
             0.4444444444444444,
             "#bd3786"
            ],
            [
             0.5555555555555556,
             "#d8576b"
            ],
            [
             0.6666666666666666,
             "#ed7953"
            ],
            [
             0.7777777777777778,
             "#fb9f3a"
            ],
            [
             0.8888888888888888,
             "#fdca26"
            ],
            [
             1,
             "#f0f921"
            ]
           ],
           "sequentialminus": [
            [
             0,
             "#0d0887"
            ],
            [
             0.1111111111111111,
             "#46039f"
            ],
            [
             0.2222222222222222,
             "#7201a8"
            ],
            [
             0.3333333333333333,
             "#9c179e"
            ],
            [
             0.4444444444444444,
             "#bd3786"
            ],
            [
             0.5555555555555556,
             "#d8576b"
            ],
            [
             0.6666666666666666,
             "#ed7953"
            ],
            [
             0.7777777777777778,
             "#fb9f3a"
            ],
            [
             0.8888888888888888,
             "#fdca26"
            ],
            [
             1,
             "#f0f921"
            ]
           ]
          },
          "colorway": [
           "#636efa",
           "#EF553B",
           "#00cc96",
           "#ab63fa",
           "#FFA15A",
           "#19d3f3",
           "#FF6692",
           "#B6E880",
           "#FF97FF",
           "#FECB52"
          ],
          "font": {
           "color": "#2a3f5f"
          },
          "geo": {
           "bgcolor": "white",
           "lakecolor": "white",
           "landcolor": "white",
           "showlakes": true,
           "showland": true,
           "subunitcolor": "#C8D4E3"
          },
          "hoverlabel": {
           "align": "left"
          },
          "hovermode": "closest",
          "mapbox": {
           "style": "light"
          },
          "paper_bgcolor": "white",
          "plot_bgcolor": "white",
          "polar": {
           "angularaxis": {
            "gridcolor": "#EBF0F8",
            "linecolor": "#EBF0F8",
            "ticks": ""
           },
           "bgcolor": "white",
           "radialaxis": {
            "gridcolor": "#EBF0F8",
            "linecolor": "#EBF0F8",
            "ticks": ""
           }
          },
          "scene": {
           "xaxis": {
            "backgroundcolor": "white",
            "gridcolor": "#DFE8F3",
            "gridwidth": 2,
            "linecolor": "#EBF0F8",
            "showbackground": true,
            "ticks": "",
            "zerolinecolor": "#EBF0F8"
           },
           "yaxis": {
            "backgroundcolor": "white",
            "gridcolor": "#DFE8F3",
            "gridwidth": 2,
            "linecolor": "#EBF0F8",
            "showbackground": true,
            "ticks": "",
            "zerolinecolor": "#EBF0F8"
           },
           "zaxis": {
            "backgroundcolor": "white",
            "gridcolor": "#DFE8F3",
            "gridwidth": 2,
            "linecolor": "#EBF0F8",
            "showbackground": true,
            "ticks": "",
            "zerolinecolor": "#EBF0F8"
           }
          },
          "shapedefaults": {
           "line": {
            "color": "#2a3f5f"
           }
          },
          "ternary": {
           "aaxis": {
            "gridcolor": "#DFE8F3",
            "linecolor": "#A2B1C6",
            "ticks": ""
           },
           "baxis": {
            "gridcolor": "#DFE8F3",
            "linecolor": "#A2B1C6",
            "ticks": ""
           },
           "bgcolor": "white",
           "caxis": {
            "gridcolor": "#DFE8F3",
            "linecolor": "#A2B1C6",
            "ticks": ""
           }
          },
          "title": {
           "x": 0.05
          },
          "xaxis": {
           "automargin": true,
           "gridcolor": "#EBF0F8",
           "linecolor": "#EBF0F8",
           "ticks": "",
           "title": {
            "standoff": 15
           },
           "zerolinecolor": "#EBF0F8",
           "zerolinewidth": 2
          },
          "yaxis": {
           "automargin": true,
           "gridcolor": "#EBF0F8",
           "linecolor": "#EBF0F8",
           "ticks": "",
           "title": {
            "standoff": 15
           },
           "zerolinecolor": "#EBF0F8",
           "zerolinewidth": 2
          }
         }
        },
        "title": {
         "text": "U.S. Gasoline Consumption by Month and Year (with Monthly Averages)",
         "x": 0.5
        },
        "xaxis": {
         "anchor": "y",
         "domain": [
          0,
          1
         ],
         "title": {
          "text": "Year"
         }
        },
        "yaxis": {
         "anchor": "x",
         "domain": [
          0,
          1
         ],
         "title": {
          "text": "Month"
         }
        }
       }
      }
     },
     "metadata": {},
     "output_type": "display_data"
    }
   ],
   "source": [
    "''' create a heatmap to visualize gasoline consumption by month and year using monthly averages '''\n",
    "\n",
    "# Create heatmap\n",
    "fig = px.density_heatmap(\n",
    "    consumption,\n",
    "    x=\"Year\",\n",
    "    y=\"Month\",\n",
    "    z=\"Gasoline_Consumption(Millions of Gallons)\",\n",
    "    color_continuous_scale=\"YlOrRd\",\n",
    "    title=\"U.S. Gasoline Consumption by Month and Year (with Monthly Averages)\",\n",
    "    labels={\"Gasoline_Consumption(Millions of Gallons)\": \"Millions of Gallons\"},\n",
    ")\n",
    "\n",
    "# Add average text annotations\n",
    "for i, row in monthly_avg.iterrows():\n",
    "    fig.add_annotation(\n",
    "        x=consumption[\"Year\"].max() + 0.5,\n",
    "        y=row[\"Month\"],\n",
    "        text=f\"{row['Gasoline_Consumption(Millions of Gallons)']:.0f}\",\n",
    "        showarrow=False,\n",
    "        font=dict(size=10, color=\"black\")\n",
    "    )\n",
    "\n",
    "# Customize layout\n",
    "fig.update_layout(\n",
    "    template=\"plotly_white\",\n",
    "    title_x=0.5,\n",
    "    xaxis_title=\"Year\",\n",
    "    yaxis_title=\"Month\",\n",
    "    coloraxis_colorbar=dict(title=\"Millions of Gallons\"),\n",
    ")\n",
    "fig.show()"
   ]
  },
  {
   "cell_type": "markdown",
   "id": "43abaa87",
   "metadata": {},
   "source": [
    "------------------------------------------------------------------------------------------------------------"
   ]
  },
  {
   "cell_type": "markdown",
   "id": "e75cbbf1",
   "metadata": {},
   "source": [
    "# Prices Data"
   ]
  },
  {
   "cell_type": "markdown",
   "id": "d1380b9b",
   "metadata": {},
   "source": [
    "## Cleaning and Transforming Prices Data"
   ]
  },
  {
   "cell_type": "code",
   "execution_count": 450,
   "id": "778578ed",
   "metadata": {},
   "outputs": [
    {
     "data": {
      "application/vnd.microsoft.datawrangler.viewer.v0+json": {
       "columns": [
        {
         "name": "index",
         "rawType": "int64",
         "type": "integer"
        },
        {
         "name": "Date",
         "rawType": "datetime64[ns]",
         "type": "datetime"
        },
        {
         "name": "U.S. All Grades All Formulations Retail Gasoline Prices (Dollars per Gallon)",
         "rawType": "float64",
         "type": "float"
        },
        {
         "name": "U.S. All Grades Conventional Retail Gasoline Prices (Dollars per Gallon)",
         "rawType": "float64",
         "type": "float"
        },
        {
         "name": "U.S. All Grades Reformulated Retail Gasoline Prices (Dollars per Gallon)",
         "rawType": "float64",
         "type": "float"
        },
        {
         "name": "U.S. Regular All Formulations Retail Gasoline Prices (Dollars per Gallon)",
         "rawType": "float64",
         "type": "float"
        },
        {
         "name": "U.S. Regular Conventional Retail Gasoline Prices (Dollars per Gallon)",
         "rawType": "float64",
         "type": "float"
        },
        {
         "name": "U.S. Regular Reformulated Retail Gasoline Prices (Dollars per Gallon)",
         "rawType": "float64",
         "type": "float"
        },
        {
         "name": "U.S. Midgrade All Formulations Retail Gasoline Prices (Dollars per Gallon)",
         "rawType": "float64",
         "type": "float"
        },
        {
         "name": "U.S. Midgrade Conventional Retail Gasoline Prices (Dollars per Gallon)",
         "rawType": "float64",
         "type": "float"
        },
        {
         "name": "U.S. Midgrade Reformulated Retail Gasoline Prices (Dollars per Gallon)",
         "rawType": "float64",
         "type": "float"
        },
        {
         "name": "U.S. Premium All Formulations Retail Gasoline Prices (Dollars per Gallon)",
         "rawType": "float64",
         "type": "float"
        },
        {
         "name": "U.S. Premium Conventional Retail Gasoline Prices (Dollars per Gallon)",
         "rawType": "float64",
         "type": "float"
        },
        {
         "name": "U.S. Premium Reformulated Retail Gasoline Prices (Dollars per Gallon)",
         "rawType": "float64",
         "type": "float"
        },
        {
         "name": "U.S. No 2 Diesel Retail Prices (Dollars per Gallon)",
         "rawType": "float64",
         "type": "float"
        },
        {
         "name": "U.S. No 2 Diesel Ultra Low Sulfur (0-15 ppm) Retail Prices (Dollars per Gallon)",
         "rawType": "float64",
         "type": "float"
        },
        {
         "name": "U.S. No 2 Diesel Low Sulfur (15-500 ppm) Retail Prices (Dollars per Gallon)",
         "rawType": "float64",
         "type": "float"
        }
       ],
       "ref": "1efdedb0-a0cd-45bb-89e4-ee8be96adfed",
       "rows": [
        [
         "0",
         "1990-08-15 00:00:00",
         null,
         null,
         null,
         null,
         null,
         null,
         null,
         null,
         null,
         null,
         null,
         null,
         null,
         null,
         null
        ],
        [
         "1",
         "1990-09-15 00:00:00",
         null,
         null,
         null,
         "1.258",
         "1.258",
         null,
         null,
         null,
         null,
         null,
         null,
         null,
         null,
         null,
         null
        ],
        [
         "2",
         "1990-10-15 00:00:00",
         null,
         null,
         null,
         "1.335",
         "1.335",
         null,
         null,
         null,
         null,
         null,
         null,
         null,
         null,
         null,
         null
        ],
        [
         "3",
         "1990-11-15 00:00:00",
         null,
         null,
         null,
         "1.324",
         "1.324",
         null,
         null,
         null,
         null,
         null,
         null,
         null,
         null,
         null,
         null
        ],
        [
         "4",
         "1990-12-15 00:00:00",
         null,
         null,
         null,
         null,
         null,
         null,
         null,
         null,
         null,
         null,
         null,
         null,
         null,
         null,
         null
        ],
        [
         "5",
         "1991-01-15 00:00:00",
         null,
         null,
         null,
         null,
         null,
         null,
         null,
         null,
         null,
         null,
         null,
         null,
         null,
         null,
         null
        ],
        [
         "6",
         "1991-02-15 00:00:00",
         null,
         null,
         null,
         "1.094",
         "1.094",
         null,
         null,
         null,
         null,
         null,
         null,
         null,
         null,
         null,
         null
        ],
        [
         "7",
         "1991-03-15 00:00:00",
         null,
         null,
         null,
         "1.04",
         "1.04",
         null,
         null,
         null,
         null,
         null,
         null,
         null,
         null,
         null,
         null
        ],
        [
         "8",
         "1991-04-15 00:00:00",
         null,
         null,
         null,
         "1.076",
         "1.076",
         null,
         null,
         null,
         null,
         null,
         null,
         null,
         null,
         null,
         null
        ],
        [
         "9",
         "1991-05-15 00:00:00",
         null,
         null,
         null,
         "1.126",
         "1.126",
         null,
         null,
         null,
         null,
         null,
         null,
         null,
         null,
         null,
         null
        ]
       ],
       "shape": {
        "columns": 16,
        "rows": 10
       }
      },
      "text/html": [
       "<div>\n",
       "<style scoped>\n",
       "    .dataframe tbody tr th:only-of-type {\n",
       "        vertical-align: middle;\n",
       "    }\n",
       "\n",
       "    .dataframe tbody tr th {\n",
       "        vertical-align: top;\n",
       "    }\n",
       "\n",
       "    .dataframe thead th {\n",
       "        text-align: right;\n",
       "    }\n",
       "</style>\n",
       "<table border=\"1\" class=\"dataframe\">\n",
       "  <thead>\n",
       "    <tr style=\"text-align: right;\">\n",
       "      <th></th>\n",
       "      <th>Date</th>\n",
       "      <th>U.S. All Grades All Formulations Retail Gasoline Prices (Dollars per Gallon)</th>\n",
       "      <th>U.S. All Grades Conventional Retail Gasoline Prices (Dollars per Gallon)</th>\n",
       "      <th>U.S. All Grades Reformulated Retail Gasoline Prices (Dollars per Gallon)</th>\n",
       "      <th>U.S. Regular All Formulations Retail Gasoline Prices (Dollars per Gallon)</th>\n",
       "      <th>U.S. Regular Conventional Retail Gasoline Prices (Dollars per Gallon)</th>\n",
       "      <th>U.S. Regular Reformulated Retail Gasoline Prices (Dollars per Gallon)</th>\n",
       "      <th>U.S. Midgrade All Formulations Retail Gasoline Prices (Dollars per Gallon)</th>\n",
       "      <th>U.S. Midgrade Conventional Retail Gasoline Prices (Dollars per Gallon)</th>\n",
       "      <th>U.S. Midgrade Reformulated Retail Gasoline Prices (Dollars per Gallon)</th>\n",
       "      <th>U.S. Premium All Formulations Retail Gasoline Prices (Dollars per Gallon)</th>\n",
       "      <th>U.S. Premium Conventional Retail Gasoline Prices (Dollars per Gallon)</th>\n",
       "      <th>U.S. Premium Reformulated Retail Gasoline Prices (Dollars per Gallon)</th>\n",
       "      <th>U.S. No 2 Diesel Retail Prices (Dollars per Gallon)</th>\n",
       "      <th>U.S. No 2 Diesel Ultra Low Sulfur (0-15 ppm) Retail Prices (Dollars per Gallon)</th>\n",
       "      <th>U.S. No 2 Diesel Low Sulfur (15-500 ppm) Retail Prices (Dollars per Gallon)</th>\n",
       "    </tr>\n",
       "  </thead>\n",
       "  <tbody>\n",
       "    <tr>\n",
       "      <th>0</th>\n",
       "      <td>1990-08-15</td>\n",
       "      <td>NaN</td>\n",
       "      <td>NaN</td>\n",
       "      <td>NaN</td>\n",
       "      <td>NaN</td>\n",
       "      <td>NaN</td>\n",
       "      <td>NaN</td>\n",
       "      <td>NaN</td>\n",
       "      <td>NaN</td>\n",
       "      <td>NaN</td>\n",
       "      <td>NaN</td>\n",
       "      <td>NaN</td>\n",
       "      <td>NaN</td>\n",
       "      <td>NaN</td>\n",
       "      <td>NaN</td>\n",
       "      <td>NaN</td>\n",
       "    </tr>\n",
       "    <tr>\n",
       "      <th>1</th>\n",
       "      <td>1990-09-15</td>\n",
       "      <td>NaN</td>\n",
       "      <td>NaN</td>\n",
       "      <td>NaN</td>\n",
       "      <td>1.258</td>\n",
       "      <td>1.258</td>\n",
       "      <td>NaN</td>\n",
       "      <td>NaN</td>\n",
       "      <td>NaN</td>\n",
       "      <td>NaN</td>\n",
       "      <td>NaN</td>\n",
       "      <td>NaN</td>\n",
       "      <td>NaN</td>\n",
       "      <td>NaN</td>\n",
       "      <td>NaN</td>\n",
       "      <td>NaN</td>\n",
       "    </tr>\n",
       "    <tr>\n",
       "      <th>2</th>\n",
       "      <td>1990-10-15</td>\n",
       "      <td>NaN</td>\n",
       "      <td>NaN</td>\n",
       "      <td>NaN</td>\n",
       "      <td>1.335</td>\n",
       "      <td>1.335</td>\n",
       "      <td>NaN</td>\n",
       "      <td>NaN</td>\n",
       "      <td>NaN</td>\n",
       "      <td>NaN</td>\n",
       "      <td>NaN</td>\n",
       "      <td>NaN</td>\n",
       "      <td>NaN</td>\n",
       "      <td>NaN</td>\n",
       "      <td>NaN</td>\n",
       "      <td>NaN</td>\n",
       "    </tr>\n",
       "    <tr>\n",
       "      <th>3</th>\n",
       "      <td>1990-11-15</td>\n",
       "      <td>NaN</td>\n",
       "      <td>NaN</td>\n",
       "      <td>NaN</td>\n",
       "      <td>1.324</td>\n",
       "      <td>1.324</td>\n",
       "      <td>NaN</td>\n",
       "      <td>NaN</td>\n",
       "      <td>NaN</td>\n",
       "      <td>NaN</td>\n",
       "      <td>NaN</td>\n",
       "      <td>NaN</td>\n",
       "      <td>NaN</td>\n",
       "      <td>NaN</td>\n",
       "      <td>NaN</td>\n",
       "      <td>NaN</td>\n",
       "    </tr>\n",
       "    <tr>\n",
       "      <th>4</th>\n",
       "      <td>1990-12-15</td>\n",
       "      <td>NaN</td>\n",
       "      <td>NaN</td>\n",
       "      <td>NaN</td>\n",
       "      <td>NaN</td>\n",
       "      <td>NaN</td>\n",
       "      <td>NaN</td>\n",
       "      <td>NaN</td>\n",
       "      <td>NaN</td>\n",
       "      <td>NaN</td>\n",
       "      <td>NaN</td>\n",
       "      <td>NaN</td>\n",
       "      <td>NaN</td>\n",
       "      <td>NaN</td>\n",
       "      <td>NaN</td>\n",
       "      <td>NaN</td>\n",
       "    </tr>\n",
       "    <tr>\n",
       "      <th>5</th>\n",
       "      <td>1991-01-15</td>\n",
       "      <td>NaN</td>\n",
       "      <td>NaN</td>\n",
       "      <td>NaN</td>\n",
       "      <td>NaN</td>\n",
       "      <td>NaN</td>\n",
       "      <td>NaN</td>\n",
       "      <td>NaN</td>\n",
       "      <td>NaN</td>\n",
       "      <td>NaN</td>\n",
       "      <td>NaN</td>\n",
       "      <td>NaN</td>\n",
       "      <td>NaN</td>\n",
       "      <td>NaN</td>\n",
       "      <td>NaN</td>\n",
       "      <td>NaN</td>\n",
       "    </tr>\n",
       "    <tr>\n",
       "      <th>6</th>\n",
       "      <td>1991-02-15</td>\n",
       "      <td>NaN</td>\n",
       "      <td>NaN</td>\n",
       "      <td>NaN</td>\n",
       "      <td>1.094</td>\n",
       "      <td>1.094</td>\n",
       "      <td>NaN</td>\n",
       "      <td>NaN</td>\n",
       "      <td>NaN</td>\n",
       "      <td>NaN</td>\n",
       "      <td>NaN</td>\n",
       "      <td>NaN</td>\n",
       "      <td>NaN</td>\n",
       "      <td>NaN</td>\n",
       "      <td>NaN</td>\n",
       "      <td>NaN</td>\n",
       "    </tr>\n",
       "    <tr>\n",
       "      <th>7</th>\n",
       "      <td>1991-03-15</td>\n",
       "      <td>NaN</td>\n",
       "      <td>NaN</td>\n",
       "      <td>NaN</td>\n",
       "      <td>1.040</td>\n",
       "      <td>1.040</td>\n",
       "      <td>NaN</td>\n",
       "      <td>NaN</td>\n",
       "      <td>NaN</td>\n",
       "      <td>NaN</td>\n",
       "      <td>NaN</td>\n",
       "      <td>NaN</td>\n",
       "      <td>NaN</td>\n",
       "      <td>NaN</td>\n",
       "      <td>NaN</td>\n",
       "      <td>NaN</td>\n",
       "    </tr>\n",
       "    <tr>\n",
       "      <th>8</th>\n",
       "      <td>1991-04-15</td>\n",
       "      <td>NaN</td>\n",
       "      <td>NaN</td>\n",
       "      <td>NaN</td>\n",
       "      <td>1.076</td>\n",
       "      <td>1.076</td>\n",
       "      <td>NaN</td>\n",
       "      <td>NaN</td>\n",
       "      <td>NaN</td>\n",
       "      <td>NaN</td>\n",
       "      <td>NaN</td>\n",
       "      <td>NaN</td>\n",
       "      <td>NaN</td>\n",
       "      <td>NaN</td>\n",
       "      <td>NaN</td>\n",
       "      <td>NaN</td>\n",
       "    </tr>\n",
       "    <tr>\n",
       "      <th>9</th>\n",
       "      <td>1991-05-15</td>\n",
       "      <td>NaN</td>\n",
       "      <td>NaN</td>\n",
       "      <td>NaN</td>\n",
       "      <td>1.126</td>\n",
       "      <td>1.126</td>\n",
       "      <td>NaN</td>\n",
       "      <td>NaN</td>\n",
       "      <td>NaN</td>\n",
       "      <td>NaN</td>\n",
       "      <td>NaN</td>\n",
       "      <td>NaN</td>\n",
       "      <td>NaN</td>\n",
       "      <td>NaN</td>\n",
       "      <td>NaN</td>\n",
       "      <td>NaN</td>\n",
       "    </tr>\n",
       "  </tbody>\n",
       "</table>\n",
       "</div>"
      ],
      "text/plain": [
       "        Date  \\\n",
       "0 1990-08-15   \n",
       "1 1990-09-15   \n",
       "2 1990-10-15   \n",
       "3 1990-11-15   \n",
       "4 1990-12-15   \n",
       "5 1991-01-15   \n",
       "6 1991-02-15   \n",
       "7 1991-03-15   \n",
       "8 1991-04-15   \n",
       "9 1991-05-15   \n",
       "\n",
       "   U.S. All Grades All Formulations Retail Gasoline Prices (Dollars per Gallon)  \\\n",
       "0                                                NaN                              \n",
       "1                                                NaN                              \n",
       "2                                                NaN                              \n",
       "3                                                NaN                              \n",
       "4                                                NaN                              \n",
       "5                                                NaN                              \n",
       "6                                                NaN                              \n",
       "7                                                NaN                              \n",
       "8                                                NaN                              \n",
       "9                                                NaN                              \n",
       "\n",
       "   U.S. All Grades Conventional Retail Gasoline Prices (Dollars per Gallon)  \\\n",
       "0                                                NaN                          \n",
       "1                                                NaN                          \n",
       "2                                                NaN                          \n",
       "3                                                NaN                          \n",
       "4                                                NaN                          \n",
       "5                                                NaN                          \n",
       "6                                                NaN                          \n",
       "7                                                NaN                          \n",
       "8                                                NaN                          \n",
       "9                                                NaN                          \n",
       "\n",
       "   U.S. All Grades Reformulated Retail Gasoline Prices (Dollars per Gallon)  \\\n",
       "0                                                NaN                          \n",
       "1                                                NaN                          \n",
       "2                                                NaN                          \n",
       "3                                                NaN                          \n",
       "4                                                NaN                          \n",
       "5                                                NaN                          \n",
       "6                                                NaN                          \n",
       "7                                                NaN                          \n",
       "8                                                NaN                          \n",
       "9                                                NaN                          \n",
       "\n",
       "   U.S. Regular All Formulations Retail Gasoline Prices (Dollars per Gallon)  \\\n",
       "0                                                NaN                           \n",
       "1                                              1.258                           \n",
       "2                                              1.335                           \n",
       "3                                              1.324                           \n",
       "4                                                NaN                           \n",
       "5                                                NaN                           \n",
       "6                                              1.094                           \n",
       "7                                              1.040                           \n",
       "8                                              1.076                           \n",
       "9                                              1.126                           \n",
       "\n",
       "   U.S. Regular Conventional Retail Gasoline Prices (Dollars per Gallon)  \\\n",
       "0                                                NaN                       \n",
       "1                                              1.258                       \n",
       "2                                              1.335                       \n",
       "3                                              1.324                       \n",
       "4                                                NaN                       \n",
       "5                                                NaN                       \n",
       "6                                              1.094                       \n",
       "7                                              1.040                       \n",
       "8                                              1.076                       \n",
       "9                                              1.126                       \n",
       "\n",
       "   U.S. Regular Reformulated Retail Gasoline Prices (Dollars per Gallon)  \\\n",
       "0                                                NaN                       \n",
       "1                                                NaN                       \n",
       "2                                                NaN                       \n",
       "3                                                NaN                       \n",
       "4                                                NaN                       \n",
       "5                                                NaN                       \n",
       "6                                                NaN                       \n",
       "7                                                NaN                       \n",
       "8                                                NaN                       \n",
       "9                                                NaN                       \n",
       "\n",
       "   U.S. Midgrade All Formulations Retail Gasoline Prices (Dollars per Gallon)  \\\n",
       "0                                                NaN                            \n",
       "1                                                NaN                            \n",
       "2                                                NaN                            \n",
       "3                                                NaN                            \n",
       "4                                                NaN                            \n",
       "5                                                NaN                            \n",
       "6                                                NaN                            \n",
       "7                                                NaN                            \n",
       "8                                                NaN                            \n",
       "9                                                NaN                            \n",
       "\n",
       "   U.S. Midgrade Conventional Retail Gasoline Prices (Dollars per Gallon)  \\\n",
       "0                                                NaN                        \n",
       "1                                                NaN                        \n",
       "2                                                NaN                        \n",
       "3                                                NaN                        \n",
       "4                                                NaN                        \n",
       "5                                                NaN                        \n",
       "6                                                NaN                        \n",
       "7                                                NaN                        \n",
       "8                                                NaN                        \n",
       "9                                                NaN                        \n",
       "\n",
       "   U.S. Midgrade Reformulated Retail Gasoline Prices (Dollars per Gallon)  \\\n",
       "0                                                NaN                        \n",
       "1                                                NaN                        \n",
       "2                                                NaN                        \n",
       "3                                                NaN                        \n",
       "4                                                NaN                        \n",
       "5                                                NaN                        \n",
       "6                                                NaN                        \n",
       "7                                                NaN                        \n",
       "8                                                NaN                        \n",
       "9                                                NaN                        \n",
       "\n",
       "   U.S. Premium All Formulations Retail Gasoline Prices (Dollars per Gallon)  \\\n",
       "0                                                NaN                           \n",
       "1                                                NaN                           \n",
       "2                                                NaN                           \n",
       "3                                                NaN                           \n",
       "4                                                NaN                           \n",
       "5                                                NaN                           \n",
       "6                                                NaN                           \n",
       "7                                                NaN                           \n",
       "8                                                NaN                           \n",
       "9                                                NaN                           \n",
       "\n",
       "   U.S. Premium Conventional Retail Gasoline Prices (Dollars per Gallon)  \\\n",
       "0                                                NaN                       \n",
       "1                                                NaN                       \n",
       "2                                                NaN                       \n",
       "3                                                NaN                       \n",
       "4                                                NaN                       \n",
       "5                                                NaN                       \n",
       "6                                                NaN                       \n",
       "7                                                NaN                       \n",
       "8                                                NaN                       \n",
       "9                                                NaN                       \n",
       "\n",
       "   U.S. Premium Reformulated Retail Gasoline Prices (Dollars per Gallon)  \\\n",
       "0                                                NaN                       \n",
       "1                                                NaN                       \n",
       "2                                                NaN                       \n",
       "3                                                NaN                       \n",
       "4                                                NaN                       \n",
       "5                                                NaN                       \n",
       "6                                                NaN                       \n",
       "7                                                NaN                       \n",
       "8                                                NaN                       \n",
       "9                                                NaN                       \n",
       "\n",
       "   U.S. No 2 Diesel Retail Prices (Dollars per Gallon)  \\\n",
       "0                                                NaN     \n",
       "1                                                NaN     \n",
       "2                                                NaN     \n",
       "3                                                NaN     \n",
       "4                                                NaN     \n",
       "5                                                NaN     \n",
       "6                                                NaN     \n",
       "7                                                NaN     \n",
       "8                                                NaN     \n",
       "9                                                NaN     \n",
       "\n",
       "   U.S. No 2 Diesel Ultra Low Sulfur (0-15 ppm) Retail Prices (Dollars per Gallon)  \\\n",
       "0                                                NaN                                 \n",
       "1                                                NaN                                 \n",
       "2                                                NaN                                 \n",
       "3                                                NaN                                 \n",
       "4                                                NaN                                 \n",
       "5                                                NaN                                 \n",
       "6                                                NaN                                 \n",
       "7                                                NaN                                 \n",
       "8                                                NaN                                 \n",
       "9                                                NaN                                 \n",
       "\n",
       "   U.S. No 2 Diesel Low Sulfur (15-500 ppm) Retail Prices (Dollars per Gallon)  \n",
       "0                                                NaN                            \n",
       "1                                                NaN                            \n",
       "2                                                NaN                            \n",
       "3                                                NaN                            \n",
       "4                                                NaN                            \n",
       "5                                                NaN                            \n",
       "6                                                NaN                            \n",
       "7                                                NaN                            \n",
       "8                                                NaN                            \n",
       "9                                                NaN                            "
      ]
     },
     "execution_count": 450,
     "metadata": {},
     "output_type": "execute_result"
    }
   ],
   "source": [
    "''' View Prices Data '''\n",
    "\n",
    "prices.head(10)"
   ]
  },
  {
   "cell_type": "code",
   "execution_count": 451,
   "id": "bdfa0c20",
   "metadata": {},
   "outputs": [
    {
     "name": "stdout",
     "output_type": "stream",
     "text": [
      "<class 'pandas.core.frame.DataFrame'>\n",
      "RangeIndex: 422 entries, 0 to 421\n",
      "Data columns (total 16 columns):\n",
      " #   Column                                                                           Non-Null Count  Dtype         \n",
      "---  ------                                                                           --------------  -----         \n",
      " 0   Date                                                                             422 non-null    datetime64[ns]\n",
      " 1   U.S. All Grades All Formulations Retail Gasoline Prices (Dollars per Gallon)     390 non-null    float64       \n",
      " 2   U.S. All Grades Conventional Retail Gasoline Prices (Dollars per Gallon)         370 non-null    float64       \n",
      " 3   U.S. All Grades Reformulated Retail Gasoline Prices (Dollars per Gallon)         370 non-null    float64       \n",
      " 4   U.S. Regular All Formulations Retail Gasoline Prices (Dollars per Gallon)        419 non-null    float64       \n",
      " 5   U.S. Regular Conventional Retail Gasoline Prices (Dollars per Gallon)            419 non-null    float64       \n",
      " 6   U.S. Regular Reformulated Retail Gasoline Prices (Dollars per Gallon)            370 non-null    float64       \n",
      " 7   U.S. Midgrade All Formulations Retail Gasoline Prices (Dollars per Gallon)       370 non-null    float64       \n",
      " 8   U.S. Midgrade Conventional Retail Gasoline Prices (Dollars per Gallon)           370 non-null    float64       \n",
      " 9   U.S. Midgrade Reformulated Retail Gasoline Prices (Dollars per Gallon)           370 non-null    float64       \n",
      " 10  U.S. Premium All Formulations Retail Gasoline Prices (Dollars per Gallon)        370 non-null    float64       \n",
      " 11  U.S. Premium Conventional Retail Gasoline Prices (Dollars per Gallon)            370 non-null    float64       \n",
      " 12  U.S. Premium Reformulated Retail Gasoline Prices (Dollars per Gallon)            370 non-null    float64       \n",
      " 13  U.S. No 2 Diesel Retail Prices (Dollars per Gallon)                              378 non-null    float64       \n",
      " 14  U.S. No 2 Diesel Ultra Low Sulfur (0-15 ppm) Retail Prices (Dollars per Gallon)  224 non-null    float64       \n",
      " 15  U.S. No 2 Diesel Low Sulfur (15-500 ppm) Retail Prices (Dollars per Gallon)      22 non-null     float64       \n",
      "dtypes: datetime64[ns](1), float64(15)\n",
      "memory usage: 52.9 KB\n"
     ]
    }
   ],
   "source": [
    "''' View Prices data info (such as data types and non-null counts) '''\n",
    "\n",
    "prices.info()"
   ]
  },
  {
   "cell_type": "code",
   "execution_count": 452,
   "id": "a82bcda7",
   "metadata": {},
   "outputs": [
    {
     "data": {
      "application/vnd.microsoft.datawrangler.viewer.v0+json": {
       "columns": [
        {
         "name": "index",
         "rawType": "int64",
         "type": "integer"
        },
        {
         "name": "Date",
         "rawType": "datetime64[ns]",
         "type": "datetime"
        },
        {
         "name": "Dollars_Per_Gallon",
         "rawType": "float64",
         "type": "float"
        }
       ],
       "ref": "d9234c03-2389-4129-a6fb-ba3cc3e98332",
       "rows": [
        [
         "32",
         "1993-04-01 00:00:00",
         "1.078"
        ],
        [
         "33",
         "1993-05-01 00:00:00",
         "1.1"
        ],
        [
         "34",
         "1993-06-01 00:00:00",
         "1.097"
        ],
        [
         "35",
         "1993-07-01 00:00:00",
         "1.078"
        ],
        [
         "36",
         "1993-08-01 00:00:00",
         "1.062"
        ],
        [
         "37",
         "1993-09-01 00:00:00",
         "1.05"
        ],
        [
         "38",
         "1993-10-01 00:00:00",
         "1.092"
        ],
        [
         "39",
         "1993-11-01 00:00:00",
         "1.066"
        ],
        [
         "40",
         "1993-12-01 00:00:00",
         "1.014"
        ],
        [
         "41",
         "1994-01-01 00:00:00",
         "0.998"
        ]
       ],
       "shape": {
        "columns": 2,
        "rows": 10
       }
      },
      "text/html": [
       "<div>\n",
       "<style scoped>\n",
       "    .dataframe tbody tr th:only-of-type {\n",
       "        vertical-align: middle;\n",
       "    }\n",
       "\n",
       "    .dataframe tbody tr th {\n",
       "        vertical-align: top;\n",
       "    }\n",
       "\n",
       "    .dataframe thead th {\n",
       "        text-align: right;\n",
       "    }\n",
       "</style>\n",
       "<table border=\"1\" class=\"dataframe\">\n",
       "  <thead>\n",
       "    <tr style=\"text-align: right;\">\n",
       "      <th></th>\n",
       "      <th>Date</th>\n",
       "      <th>Dollars_Per_Gallon</th>\n",
       "    </tr>\n",
       "  </thead>\n",
       "  <tbody>\n",
       "    <tr>\n",
       "      <th>32</th>\n",
       "      <td>1993-04-01</td>\n",
       "      <td>1.078</td>\n",
       "    </tr>\n",
       "    <tr>\n",
       "      <th>33</th>\n",
       "      <td>1993-05-01</td>\n",
       "      <td>1.100</td>\n",
       "    </tr>\n",
       "    <tr>\n",
       "      <th>34</th>\n",
       "      <td>1993-06-01</td>\n",
       "      <td>1.097</td>\n",
       "    </tr>\n",
       "    <tr>\n",
       "      <th>35</th>\n",
       "      <td>1993-07-01</td>\n",
       "      <td>1.078</td>\n",
       "    </tr>\n",
       "    <tr>\n",
       "      <th>36</th>\n",
       "      <td>1993-08-01</td>\n",
       "      <td>1.062</td>\n",
       "    </tr>\n",
       "    <tr>\n",
       "      <th>37</th>\n",
       "      <td>1993-09-01</td>\n",
       "      <td>1.050</td>\n",
       "    </tr>\n",
       "    <tr>\n",
       "      <th>38</th>\n",
       "      <td>1993-10-01</td>\n",
       "      <td>1.092</td>\n",
       "    </tr>\n",
       "    <tr>\n",
       "      <th>39</th>\n",
       "      <td>1993-11-01</td>\n",
       "      <td>1.066</td>\n",
       "    </tr>\n",
       "    <tr>\n",
       "      <th>40</th>\n",
       "      <td>1993-12-01</td>\n",
       "      <td>1.014</td>\n",
       "    </tr>\n",
       "    <tr>\n",
       "      <th>41</th>\n",
       "      <td>1994-01-01</td>\n",
       "      <td>0.998</td>\n",
       "    </tr>\n",
       "  </tbody>\n",
       "</table>\n",
       "</div>"
      ],
      "text/plain": [
       "         Date  Dollars_Per_Gallon\n",
       "32 1993-04-01               1.078\n",
       "33 1993-05-01               1.100\n",
       "34 1993-06-01               1.097\n",
       "35 1993-07-01               1.078\n",
       "36 1993-08-01               1.062\n",
       "37 1993-09-01               1.050\n",
       "38 1993-10-01               1.092\n",
       "39 1993-11-01               1.066\n",
       "40 1993-12-01               1.014\n",
       "41 1994-01-01               0.998"
      ]
     },
     "execution_count": 452,
     "metadata": {},
     "output_type": "execute_result"
    }
   ],
   "source": [
    "''' Data Cleaning for Prices Data '''\n",
    "\n",
    "prices = prices.iloc[:, :2]                                                            # Keeps only the first two columns\n",
    "prices.columns = [\"Date\", \"Dollars_Per_Gallon\"]                                        # Renames columns for easier access\n",
    "prices[\"Date\"] = prices[\"Date\"].dt.date                                               # Converts datetime to date only\n",
    "prices[\"Date\"] = pd.to_datetime(prices[\"Date\"]).dt.to_period(\"M\").dt.to_timestamp()   # Converts date to period format (monthly)\n",
    "prices = prices[prices[\"Date\"] >= pd.to_datetime(\"1993-04-01\")]                      # Filters data to start from April 1993\n",
    "prices = prices[prices[\"Date\"] <= \"2024-12-31\"]                                      # Limit data to December 2024 or earlier\n",
    "prices.head(10)"
   ]
  },
  {
   "cell_type": "markdown",
   "id": "22197ed6",
   "metadata": {},
   "source": [
    "## Statistics of Prices Data"
   ]
  },
  {
   "cell_type": "code",
   "execution_count": 453,
   "id": "284eb282",
   "metadata": {},
   "outputs": [
    {
     "data": {
      "application/vnd.microsoft.datawrangler.viewer.v0+json": {
       "columns": [
        {
         "name": "index",
         "rawType": "object",
         "type": "string"
        },
        {
         "name": "Date",
         "rawType": "object",
         "type": "unknown"
        },
        {
         "name": "Dollars_Per_Gallon",
         "rawType": "float64",
         "type": "float"
        }
       ],
       "ref": "566d41c2-8ffc-4f44-a6d4-abd83ddf402f",
       "rows": [
        [
         "count",
         "381",
         "381.0"
        ],
        [
         "mean",
         "2009-01-30 08:37:47.716535552",
         "2.378123359580053"
        ],
        [
         "min",
         "1993-04-01 00:00:00",
         "0.962"
        ],
        [
         "25%",
         "2001-03-01 00:00:00",
         "1.441"
        ],
        [
         "50%",
         "2009-02-01 00:00:00",
         "2.387"
        ],
        [
         "75%",
         "2017-01-01 00:00:00",
         "3.148"
        ],
        [
         "max",
         "2024-12-01 00:00:00",
         "5.032"
        ],
        [
         "std",
         null,
         "0.9538190068877127"
        ]
       ],
       "shape": {
        "columns": 2,
        "rows": 8
       }
      },
      "text/html": [
       "<div>\n",
       "<style scoped>\n",
       "    .dataframe tbody tr th:only-of-type {\n",
       "        vertical-align: middle;\n",
       "    }\n",
       "\n",
       "    .dataframe tbody tr th {\n",
       "        vertical-align: top;\n",
       "    }\n",
       "\n",
       "    .dataframe thead th {\n",
       "        text-align: right;\n",
       "    }\n",
       "</style>\n",
       "<table border=\"1\" class=\"dataframe\">\n",
       "  <thead>\n",
       "    <tr style=\"text-align: right;\">\n",
       "      <th></th>\n",
       "      <th>Date</th>\n",
       "      <th>Dollars_Per_Gallon</th>\n",
       "    </tr>\n",
       "  </thead>\n",
       "  <tbody>\n",
       "    <tr>\n",
       "      <th>count</th>\n",
       "      <td>381</td>\n",
       "      <td>381.000000</td>\n",
       "    </tr>\n",
       "    <tr>\n",
       "      <th>mean</th>\n",
       "      <td>2009-01-30 08:37:47.716535552</td>\n",
       "      <td>2.378123</td>\n",
       "    </tr>\n",
       "    <tr>\n",
       "      <th>min</th>\n",
       "      <td>1993-04-01 00:00:00</td>\n",
       "      <td>0.962000</td>\n",
       "    </tr>\n",
       "    <tr>\n",
       "      <th>25%</th>\n",
       "      <td>2001-03-01 00:00:00</td>\n",
       "      <td>1.441000</td>\n",
       "    </tr>\n",
       "    <tr>\n",
       "      <th>50%</th>\n",
       "      <td>2009-02-01 00:00:00</td>\n",
       "      <td>2.387000</td>\n",
       "    </tr>\n",
       "    <tr>\n",
       "      <th>75%</th>\n",
       "      <td>2017-01-01 00:00:00</td>\n",
       "      <td>3.148000</td>\n",
       "    </tr>\n",
       "    <tr>\n",
       "      <th>max</th>\n",
       "      <td>2024-12-01 00:00:00</td>\n",
       "      <td>5.032000</td>\n",
       "    </tr>\n",
       "    <tr>\n",
       "      <th>std</th>\n",
       "      <td>NaN</td>\n",
       "      <td>0.953819</td>\n",
       "    </tr>\n",
       "  </tbody>\n",
       "</table>\n",
       "</div>"
      ],
      "text/plain": [
       "                                Date  Dollars_Per_Gallon\n",
       "count                            381          381.000000\n",
       "mean   2009-01-30 08:37:47.716535552            2.378123\n",
       "min              1993-04-01 00:00:00            0.962000\n",
       "25%              2001-03-01 00:00:00            1.441000\n",
       "50%              2009-02-01 00:00:00            2.387000\n",
       "75%              2017-01-01 00:00:00            3.148000\n",
       "max              2024-12-01 00:00:00            5.032000\n",
       "std                              NaN            0.953819"
      ]
     },
     "execution_count": 453,
     "metadata": {},
     "output_type": "execute_result"
    }
   ],
   "source": [
    "''' View Summary Statistics of Prices Data '''\n",
    "\n",
    "prices.describe()"
   ]
  },
  {
   "cell_type": "code",
   "execution_count": 454,
   "id": "ec7136c2",
   "metadata": {},
   "outputs": [
    {
     "name": "stdout",
     "output_type": "stream",
     "text": [
      "Earliest date: 1993-04-01 00:00:00\n",
      "Latest date: 2024-12-01 00:00:00\n",
      "Total months of data: 381\n"
     ]
    }
   ],
   "source": [
    "''' View consumption date range and total months of data '''\n",
    "\n",
    "print(\"Earliest date:\", prices[\"Date\"].min()) # Confirming data starts at Apr 1993 to match Consumption data\n",
    "print(\"Latest date:\", prices[\"Date\"].max()) # Confirming data ends at Dec 2024 to match Consumption data\n",
    "print(\"Total months of data:\", len(prices)) "
   ]
  },
  {
   "cell_type": "code",
   "execution_count": 455,
   "id": "54eff3dd",
   "metadata": {},
   "outputs": [
    {
     "data": {
      "application/vnd.plotly.v1+json": {
       "config": {
        "plotlyServerURL": "https://plot.ly"
       },
       "data": [
        {
         "bingroup": "x",
         "hovertemplate": "Price (USD per Gallon)=%{x}<br>count=%{y}<extra></extra>",
         "legendgroup": "",
         "marker": {
          "color": "#636efa",
          "pattern": {
           "shape": ""
          }
         },
         "name": "",
         "nbinsx": 40,
         "orientation": "v",
         "showlegend": false,
         "type": "histogram",
         "x": {
          "bdata": "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",
          "dtype": "f8"
         },
         "xaxis": "x",
         "yaxis": "y"
        }
       ],
       "layout": {
        "barmode": "relative",
        "legend": {
         "tracegroupgap": 0
        },
        "template": {
         "data": {
          "bar": [
           {
            "error_x": {
             "color": "#2a3f5f"
            },
            "error_y": {
             "color": "#2a3f5f"
            },
            "marker": {
             "line": {
              "color": "white",
              "width": 0.5
             },
             "pattern": {
              "fillmode": "overlay",
              "size": 10,
              "solidity": 0.2
             }
            },
            "type": "bar"
           }
          ],
          "barpolar": [
           {
            "marker": {
             "line": {
              "color": "white",
              "width": 0.5
             },
             "pattern": {
              "fillmode": "overlay",
              "size": 10,
              "solidity": 0.2
             }
            },
            "type": "barpolar"
           }
          ],
          "carpet": [
           {
            "aaxis": {
             "endlinecolor": "#2a3f5f",
             "gridcolor": "#C8D4E3",
             "linecolor": "#C8D4E3",
             "minorgridcolor": "#C8D4E3",
             "startlinecolor": "#2a3f5f"
            },
            "baxis": {
             "endlinecolor": "#2a3f5f",
             "gridcolor": "#C8D4E3",
             "linecolor": "#C8D4E3",
             "minorgridcolor": "#C8D4E3",
             "startlinecolor": "#2a3f5f"
            },
            "type": "carpet"
           }
          ],
          "choropleth": [
           {
            "colorbar": {
             "outlinewidth": 0,
             "ticks": ""
            },
            "type": "choropleth"
           }
          ],
          "contour": [
           {
            "colorbar": {
             "outlinewidth": 0,
             "ticks": ""
            },
            "colorscale": [
             [
              0,
              "#0d0887"
             ],
             [
              0.1111111111111111,
              "#46039f"
             ],
             [
              0.2222222222222222,
              "#7201a8"
             ],
             [
              0.3333333333333333,
              "#9c179e"
             ],
             [
              0.4444444444444444,
              "#bd3786"
             ],
             [
              0.5555555555555556,
              "#d8576b"
             ],
             [
              0.6666666666666666,
              "#ed7953"
             ],
             [
              0.7777777777777778,
              "#fb9f3a"
             ],
             [
              0.8888888888888888,
              "#fdca26"
             ],
             [
              1,
              "#f0f921"
             ]
            ],
            "type": "contour"
           }
          ],
          "contourcarpet": [
           {
            "colorbar": {
             "outlinewidth": 0,
             "ticks": ""
            },
            "type": "contourcarpet"
           }
          ],
          "heatmap": [
           {
            "colorbar": {
             "outlinewidth": 0,
             "ticks": ""
            },
            "colorscale": [
             [
              0,
              "#0d0887"
             ],
             [
              0.1111111111111111,
              "#46039f"
             ],
             [
              0.2222222222222222,
              "#7201a8"
             ],
             [
              0.3333333333333333,
              "#9c179e"
             ],
             [
              0.4444444444444444,
              "#bd3786"
             ],
             [
              0.5555555555555556,
              "#d8576b"
             ],
             [
              0.6666666666666666,
              "#ed7953"
             ],
             [
              0.7777777777777778,
              "#fb9f3a"
             ],
             [
              0.8888888888888888,
              "#fdca26"
             ],
             [
              1,
              "#f0f921"
             ]
            ],
            "type": "heatmap"
           }
          ],
          "histogram": [
           {
            "marker": {
             "pattern": {
              "fillmode": "overlay",
              "size": 10,
              "solidity": 0.2
             }
            },
            "type": "histogram"
           }
          ],
          "histogram2d": [
           {
            "colorbar": {
             "outlinewidth": 0,
             "ticks": ""
            },
            "colorscale": [
             [
              0,
              "#0d0887"
             ],
             [
              0.1111111111111111,
              "#46039f"
             ],
             [
              0.2222222222222222,
              "#7201a8"
             ],
             [
              0.3333333333333333,
              "#9c179e"
             ],
             [
              0.4444444444444444,
              "#bd3786"
             ],
             [
              0.5555555555555556,
              "#d8576b"
             ],
             [
              0.6666666666666666,
              "#ed7953"
             ],
             [
              0.7777777777777778,
              "#fb9f3a"
             ],
             [
              0.8888888888888888,
              "#fdca26"
             ],
             [
              1,
              "#f0f921"
             ]
            ],
            "type": "histogram2d"
           }
          ],
          "histogram2dcontour": [
           {
            "colorbar": {
             "outlinewidth": 0,
             "ticks": ""
            },
            "colorscale": [
             [
              0,
              "#0d0887"
             ],
             [
              0.1111111111111111,
              "#46039f"
             ],
             [
              0.2222222222222222,
              "#7201a8"
             ],
             [
              0.3333333333333333,
              "#9c179e"
             ],
             [
              0.4444444444444444,
              "#bd3786"
             ],
             [
              0.5555555555555556,
              "#d8576b"
             ],
             [
              0.6666666666666666,
              "#ed7953"
             ],
             [
              0.7777777777777778,
              "#fb9f3a"
             ],
             [
              0.8888888888888888,
              "#fdca26"
             ],
             [
              1,
              "#f0f921"
             ]
            ],
            "type": "histogram2dcontour"
           }
          ],
          "mesh3d": [
           {
            "colorbar": {
             "outlinewidth": 0,
             "ticks": ""
            },
            "type": "mesh3d"
           }
          ],
          "parcoords": [
           {
            "line": {
             "colorbar": {
              "outlinewidth": 0,
              "ticks": ""
             }
            },
            "type": "parcoords"
           }
          ],
          "pie": [
           {
            "automargin": true,
            "type": "pie"
           }
          ],
          "scatter": [
           {
            "fillpattern": {
             "fillmode": "overlay",
             "size": 10,
             "solidity": 0.2
            },
            "type": "scatter"
           }
          ],
          "scatter3d": [
           {
            "line": {
             "colorbar": {
              "outlinewidth": 0,
              "ticks": ""
             }
            },
            "marker": {
             "colorbar": {
              "outlinewidth": 0,
              "ticks": ""
             }
            },
            "type": "scatter3d"
           }
          ],
          "scattercarpet": [
           {
            "marker": {
             "colorbar": {
              "outlinewidth": 0,
              "ticks": ""
             }
            },
            "type": "scattercarpet"
           }
          ],
          "scattergeo": [
           {
            "marker": {
             "colorbar": {
              "outlinewidth": 0,
              "ticks": ""
             }
            },
            "type": "scattergeo"
           }
          ],
          "scattergl": [
           {
            "marker": {
             "colorbar": {
              "outlinewidth": 0,
              "ticks": ""
             }
            },
            "type": "scattergl"
           }
          ],
          "scattermap": [
           {
            "marker": {
             "colorbar": {
              "outlinewidth": 0,
              "ticks": ""
             }
            },
            "type": "scattermap"
           }
          ],
          "scattermapbox": [
           {
            "marker": {
             "colorbar": {
              "outlinewidth": 0,
              "ticks": ""
             }
            },
            "type": "scattermapbox"
           }
          ],
          "scatterpolar": [
           {
            "marker": {
             "colorbar": {
              "outlinewidth": 0,
              "ticks": ""
             }
            },
            "type": "scatterpolar"
           }
          ],
          "scatterpolargl": [
           {
            "marker": {
             "colorbar": {
              "outlinewidth": 0,
              "ticks": ""
             }
            },
            "type": "scatterpolargl"
           }
          ],
          "scatterternary": [
           {
            "marker": {
             "colorbar": {
              "outlinewidth": 0,
              "ticks": ""
             }
            },
            "type": "scatterternary"
           }
          ],
          "surface": [
           {
            "colorbar": {
             "outlinewidth": 0,
             "ticks": ""
            },
            "colorscale": [
             [
              0,
              "#0d0887"
             ],
             [
              0.1111111111111111,
              "#46039f"
             ],
             [
              0.2222222222222222,
              "#7201a8"
             ],
             [
              0.3333333333333333,
              "#9c179e"
             ],
             [
              0.4444444444444444,
              "#bd3786"
             ],
             [
              0.5555555555555556,
              "#d8576b"
             ],
             [
              0.6666666666666666,
              "#ed7953"
             ],
             [
              0.7777777777777778,
              "#fb9f3a"
             ],
             [
              0.8888888888888888,
              "#fdca26"
             ],
             [
              1,
              "#f0f921"
             ]
            ],
            "type": "surface"
           }
          ],
          "table": [
           {
            "cells": {
             "fill": {
              "color": "#EBF0F8"
             },
             "line": {
              "color": "white"
             }
            },
            "header": {
             "fill": {
              "color": "#C8D4E3"
             },
             "line": {
              "color": "white"
             }
            },
            "type": "table"
           }
          ]
         },
         "layout": {
          "annotationdefaults": {
           "arrowcolor": "#2a3f5f",
           "arrowhead": 0,
           "arrowwidth": 1
          },
          "autotypenumbers": "strict",
          "coloraxis": {
           "colorbar": {
            "outlinewidth": 0,
            "ticks": ""
           }
          },
          "colorscale": {
           "diverging": [
            [
             0,
             "#8e0152"
            ],
            [
             0.1,
             "#c51b7d"
            ],
            [
             0.2,
             "#de77ae"
            ],
            [
             0.3,
             "#f1b6da"
            ],
            [
             0.4,
             "#fde0ef"
            ],
            [
             0.5,
             "#f7f7f7"
            ],
            [
             0.6,
             "#e6f5d0"
            ],
            [
             0.7,
             "#b8e186"
            ],
            [
             0.8,
             "#7fbc41"
            ],
            [
             0.9,
             "#4d9221"
            ],
            [
             1,
             "#276419"
            ]
           ],
           "sequential": [
            [
             0,
             "#0d0887"
            ],
            [
             0.1111111111111111,
             "#46039f"
            ],
            [
             0.2222222222222222,
             "#7201a8"
            ],
            [
             0.3333333333333333,
             "#9c179e"
            ],
            [
             0.4444444444444444,
             "#bd3786"
            ],
            [
             0.5555555555555556,
             "#d8576b"
            ],
            [
             0.6666666666666666,
             "#ed7953"
            ],
            [
             0.7777777777777778,
             "#fb9f3a"
            ],
            [
             0.8888888888888888,
             "#fdca26"
            ],
            [
             1,
             "#f0f921"
            ]
           ],
           "sequentialminus": [
            [
             0,
             "#0d0887"
            ],
            [
             0.1111111111111111,
             "#46039f"
            ],
            [
             0.2222222222222222,
             "#7201a8"
            ],
            [
             0.3333333333333333,
             "#9c179e"
            ],
            [
             0.4444444444444444,
             "#bd3786"
            ],
            [
             0.5555555555555556,
             "#d8576b"
            ],
            [
             0.6666666666666666,
             "#ed7953"
            ],
            [
             0.7777777777777778,
             "#fb9f3a"
            ],
            [
             0.8888888888888888,
             "#fdca26"
            ],
            [
             1,
             "#f0f921"
            ]
           ]
          },
          "colorway": [
           "#636efa",
           "#EF553B",
           "#00cc96",
           "#ab63fa",
           "#FFA15A",
           "#19d3f3",
           "#FF6692",
           "#B6E880",
           "#FF97FF",
           "#FECB52"
          ],
          "font": {
           "color": "#2a3f5f"
          },
          "geo": {
           "bgcolor": "white",
           "lakecolor": "white",
           "landcolor": "white",
           "showlakes": true,
           "showland": true,
           "subunitcolor": "#C8D4E3"
          },
          "hoverlabel": {
           "align": "left"
          },
          "hovermode": "closest",
          "mapbox": {
           "style": "light"
          },
          "paper_bgcolor": "white",
          "plot_bgcolor": "white",
          "polar": {
           "angularaxis": {
            "gridcolor": "#EBF0F8",
            "linecolor": "#EBF0F8",
            "ticks": ""
           },
           "bgcolor": "white",
           "radialaxis": {
            "gridcolor": "#EBF0F8",
            "linecolor": "#EBF0F8",
            "ticks": ""
           }
          },
          "scene": {
           "xaxis": {
            "backgroundcolor": "white",
            "gridcolor": "#DFE8F3",
            "gridwidth": 2,
            "linecolor": "#EBF0F8",
            "showbackground": true,
            "ticks": "",
            "zerolinecolor": "#EBF0F8"
           },
           "yaxis": {
            "backgroundcolor": "white",
            "gridcolor": "#DFE8F3",
            "gridwidth": 2,
            "linecolor": "#EBF0F8",
            "showbackground": true,
            "ticks": "",
            "zerolinecolor": "#EBF0F8"
           },
           "zaxis": {
            "backgroundcolor": "white",
            "gridcolor": "#DFE8F3",
            "gridwidth": 2,
            "linecolor": "#EBF0F8",
            "showbackground": true,
            "ticks": "",
            "zerolinecolor": "#EBF0F8"
           }
          },
          "shapedefaults": {
           "line": {
            "color": "#2a3f5f"
           }
          },
          "ternary": {
           "aaxis": {
            "gridcolor": "#DFE8F3",
            "linecolor": "#A2B1C6",
            "ticks": ""
           },
           "baxis": {
            "gridcolor": "#DFE8F3",
            "linecolor": "#A2B1C6",
            "ticks": ""
           },
           "bgcolor": "white",
           "caxis": {
            "gridcolor": "#DFE8F3",
            "linecolor": "#A2B1C6",
            "ticks": ""
           }
          },
          "title": {
           "x": 0.05
          },
          "xaxis": {
           "automargin": true,
           "gridcolor": "#EBF0F8",
           "linecolor": "#EBF0F8",
           "ticks": "",
           "title": {
            "standoff": 15
           },
           "zerolinecolor": "#EBF0F8",
           "zerolinewidth": 2
          },
          "yaxis": {
           "automargin": true,
           "gridcolor": "#EBF0F8",
           "linecolor": "#EBF0F8",
           "ticks": "",
           "title": {
            "standoff": 15
           },
           "zerolinecolor": "#EBF0F8",
           "zerolinewidth": 2
          }
         }
        },
        "title": {
         "text": "Distribution of Monthly U.S. Gasoline Prices (1993-2024)",
         "x": 0.5
        },
        "xaxis": {
         "anchor": "y",
         "domain": [
          0,
          1
         ],
         "title": {
          "text": "Price (USD per Gallon)"
         }
        },
        "yaxis": {
         "anchor": "x",
         "domain": [
          0,
          1
         ],
         "title": {
          "text": "count"
         }
        }
       }
      }
     },
     "metadata": {},
     "output_type": "display_data"
    }
   ],
   "source": [
    "''' Create a histogram to visualize the distribution of monthly gasoline prices '''\n",
    "\n",
    "# Create histogram\n",
    "px.histogram(\n",
    "    prices,\n",
    "    x=\"Dollars_Per_Gallon\",\n",
    "    nbins=40,\n",
    "    title=\"Distribution of Monthly U.S. Gasoline Prices (1993-2024)\",\n",
    "    labels={\"Dollars_Per_Gallon\":\"Price (USD per Gallon)\"}\n",
    ").update_layout(template=\"plotly_white\", title_x=0.5)"
   ]
  },
  {
   "cell_type": "code",
   "execution_count": 456,
   "id": "9e216d80",
   "metadata": {},
   "outputs": [
    {
     "data": {
      "application/vnd.plotly.v1+json": {
       "config": {
        "plotlyServerURL": "https://plot.ly"
       },
       "data": [
        {
         "alignmentgroup": "True",
         "hovertemplate": "Month=%{x}<br>Price (USD/gal)=%{y}<extra></extra>",
         "legendgroup": "",
         "marker": {
          "color": "#636efa"
         },
         "name": "",
         "notched": false,
         "offsetgroup": "",
         "orientation": "v",
         "showlegend": false,
         "type": "box",
         "x": [
          "April",
          "May",
          "June",
          "July",
          "August",
          "September",
          "October",
          "November",
          "December",
          "January",
          "February",
          "March",
          "April",
          "May",
          "June",
          "July",
          "August",
          "September",
          "October",
          "November",
          "December",
          "January",
          "February",
          "March",
          "April",
          "May",
          "June",
          "July",
          "August",
          "September",
          "October",
          "November",
          "December",
          "January",
          "February",
          "March",
          "April",
          "May",
          "June",
          "July",
          "August",
          "September",
          "October",
          "November",
          "December",
          "January",
          "February",
          "March",
          "April",
          "May",
          "June",
          "July",
          "August",
          "September",
          "October",
          "November",
          "December",
          "January",
          "February",
          "March",
          "April",
          "May",
          "June",
          "July",
          "August",
          "September",
          "October",
          "November",
          "December",
          "January",
          "February",
          "March",
          "April",
          "May",
          "June",
          "July",
          "August",
          "September",
          "October",
          "November",
          "December",
          "January",
          "February",
          "March",
          "April",
          "May",
          "June",
          "July",
          "August",
          "September",
          "October",
          "November",
          "December",
          "January",
          "February",
          "March",
          "April",
          "May",
          "June",
          "July",
          "August",
          "September",
          "October",
          "November",
          "December",
          "January",
          "February",
          "March",
          "April",
          "May",
          "June",
          "July",
          "August",
          "September",
          "October",
          "November",
          "December",
          "January",
          "February",
          "March",
          "April",
          "May",
          "June",
          "July",
          "August",
          "September",
          "October",
          "November",
          "December",
          "January",
          "February",
          "March",
          "April",
          "May",
          "June",
          "July",
          "August",
          "September",
          "October",
          "November",
          "December",
          "January",
          "February",
          "March",
          "April",
          "May",
          "June",
          "July",
          "August",
          "September",
          "October",
          "November",
          "December",
          "January",
          "February",
          "March",
          "April",
          "May",
          "June",
          "July",
          "August",
          "September",
          "October",
          "November",
          "December",
          "January",
          "February",
          "March",
          "April",
          "May",
          "June",
          "July",
          "August",
          "September",
          "October",
          "November",
          "December",
          "January",
          "February",
          "March",
          "April",
          "May",
          "June",
          "July",
          "August",
          "September",
          "October",
          "November",
          "December",
          "January",
          "February",
          "March",
          "April",
          "May",
          "June",
          "July",
          "August",
          "September",
          "October",
          "November",
          "December",
          "January",
          "February",
          "March",
          "April",
          "May",
          "June",
          "July",
          "August",
          "September",
          "October",
          "November",
          "December",
          "January",
          "February",
          "March",
          "April",
          "May",
          "June",
          "July",
          "August",
          "September",
          "October",
          "November",
          "December",
          "January",
          "February",
          "March",
          "April",
          "May",
          "June",
          "July",
          "August",
          "September",
          "October",
          "November",
          "December",
          "January",
          "February",
          "March",
          "April",
          "May",
          "June",
          "July",
          "August",
          "September",
          "October",
          "November",
          "December",
          "January",
          "February",
          "March",
          "April",
          "May",
          "June",
          "July",
          "August",
          "September",
          "October",
          "November",
          "December",
          "January",
          "February",
          "March",
          "April",
          "May",
          "June",
          "July",
          "August",
          "September",
          "October",
          "November",
          "December",
          "January",
          "February",
          "March",
          "April",
          "May",
          "June",
          "July",
          "August",
          "September",
          "October",
          "November",
          "December",
          "January",
          "February",
          "March",
          "April",
          "May",
          "June",
          "July",
          "August",
          "September",
          "October",
          "November",
          "December",
          "January",
          "February",
          "March",
          "April",
          "May",
          "June",
          "July",
          "August",
          "September",
          "October",
          "November",
          "December",
          "January",
          "February",
          "March",
          "April",
          "May",
          "June",
          "July",
          "August",
          "September",
          "October",
          "November",
          "December",
          "January",
          "February",
          "March",
          "April",
          "May",
          "June",
          "July",
          "August",
          "September",
          "October",
          "November",
          "December",
          "January",
          "February",
          "March",
          "April",
          "May",
          "June",
          "July",
          "August",
          "September",
          "October",
          "November",
          "December",
          "January",
          "February",
          "March",
          "April",
          "May",
          "June",
          "July",
          "August",
          "September",
          "October",
          "November",
          "December",
          "January",
          "February",
          "March",
          "April",
          "May",
          "June",
          "July",
          "August",
          "September",
          "October",
          "November",
          "December",
          "January",
          "February",
          "March",
          "April",
          "May",
          "June",
          "July",
          "August",
          "September",
          "October",
          "November",
          "December"
         ],
         "x0": " ",
         "xaxis": "x",
         "y": {
          "bdata": "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",
          "dtype": "f8"
         },
         "y0": " ",
         "yaxis": "y"
        }
       ],
       "layout": {
        "boxmode": "group",
        "legend": {
         "tracegroupgap": 0
        },
        "template": {
         "data": {
          "bar": [
           {
            "error_x": {
             "color": "#2a3f5f"
            },
            "error_y": {
             "color": "#2a3f5f"
            },
            "marker": {
             "line": {
              "color": "white",
              "width": 0.5
             },
             "pattern": {
              "fillmode": "overlay",
              "size": 10,
              "solidity": 0.2
             }
            },
            "type": "bar"
           }
          ],
          "barpolar": [
           {
            "marker": {
             "line": {
              "color": "white",
              "width": 0.5
             },
             "pattern": {
              "fillmode": "overlay",
              "size": 10,
              "solidity": 0.2
             }
            },
            "type": "barpolar"
           }
          ],
          "carpet": [
           {
            "aaxis": {
             "endlinecolor": "#2a3f5f",
             "gridcolor": "#C8D4E3",
             "linecolor": "#C8D4E3",
             "minorgridcolor": "#C8D4E3",
             "startlinecolor": "#2a3f5f"
            },
            "baxis": {
             "endlinecolor": "#2a3f5f",
             "gridcolor": "#C8D4E3",
             "linecolor": "#C8D4E3",
             "minorgridcolor": "#C8D4E3",
             "startlinecolor": "#2a3f5f"
            },
            "type": "carpet"
           }
          ],
          "choropleth": [
           {
            "colorbar": {
             "outlinewidth": 0,
             "ticks": ""
            },
            "type": "choropleth"
           }
          ],
          "contour": [
           {
            "colorbar": {
             "outlinewidth": 0,
             "ticks": ""
            },
            "colorscale": [
             [
              0,
              "#0d0887"
             ],
             [
              0.1111111111111111,
              "#46039f"
             ],
             [
              0.2222222222222222,
              "#7201a8"
             ],
             [
              0.3333333333333333,
              "#9c179e"
             ],
             [
              0.4444444444444444,
              "#bd3786"
             ],
             [
              0.5555555555555556,
              "#d8576b"
             ],
             [
              0.6666666666666666,
              "#ed7953"
             ],
             [
              0.7777777777777778,
              "#fb9f3a"
             ],
             [
              0.8888888888888888,
              "#fdca26"
             ],
             [
              1,
              "#f0f921"
             ]
            ],
            "type": "contour"
           }
          ],
          "contourcarpet": [
           {
            "colorbar": {
             "outlinewidth": 0,
             "ticks": ""
            },
            "type": "contourcarpet"
           }
          ],
          "heatmap": [
           {
            "colorbar": {
             "outlinewidth": 0,
             "ticks": ""
            },
            "colorscale": [
             [
              0,
              "#0d0887"
             ],
             [
              0.1111111111111111,
              "#46039f"
             ],
             [
              0.2222222222222222,
              "#7201a8"
             ],
             [
              0.3333333333333333,
              "#9c179e"
             ],
             [
              0.4444444444444444,
              "#bd3786"
             ],
             [
              0.5555555555555556,
              "#d8576b"
             ],
             [
              0.6666666666666666,
              "#ed7953"
             ],
             [
              0.7777777777777778,
              "#fb9f3a"
             ],
             [
              0.8888888888888888,
              "#fdca26"
             ],
             [
              1,
              "#f0f921"
             ]
            ],
            "type": "heatmap"
           }
          ],
          "histogram": [
           {
            "marker": {
             "pattern": {
              "fillmode": "overlay",
              "size": 10,
              "solidity": 0.2
             }
            },
            "type": "histogram"
           }
          ],
          "histogram2d": [
           {
            "colorbar": {
             "outlinewidth": 0,
             "ticks": ""
            },
            "colorscale": [
             [
              0,
              "#0d0887"
             ],
             [
              0.1111111111111111,
              "#46039f"
             ],
             [
              0.2222222222222222,
              "#7201a8"
             ],
             [
              0.3333333333333333,
              "#9c179e"
             ],
             [
              0.4444444444444444,
              "#bd3786"
             ],
             [
              0.5555555555555556,
              "#d8576b"
             ],
             [
              0.6666666666666666,
              "#ed7953"
             ],
             [
              0.7777777777777778,
              "#fb9f3a"
             ],
             [
              0.8888888888888888,
              "#fdca26"
             ],
             [
              1,
              "#f0f921"
             ]
            ],
            "type": "histogram2d"
           }
          ],
          "histogram2dcontour": [
           {
            "colorbar": {
             "outlinewidth": 0,
             "ticks": ""
            },
            "colorscale": [
             [
              0,
              "#0d0887"
             ],
             [
              0.1111111111111111,
              "#46039f"
             ],
             [
              0.2222222222222222,
              "#7201a8"
             ],
             [
              0.3333333333333333,
              "#9c179e"
             ],
             [
              0.4444444444444444,
              "#bd3786"
             ],
             [
              0.5555555555555556,
              "#d8576b"
             ],
             [
              0.6666666666666666,
              "#ed7953"
             ],
             [
              0.7777777777777778,
              "#fb9f3a"
             ],
             [
              0.8888888888888888,
              "#fdca26"
             ],
             [
              1,
              "#f0f921"
             ]
            ],
            "type": "histogram2dcontour"
           }
          ],
          "mesh3d": [
           {
            "colorbar": {
             "outlinewidth": 0,
             "ticks": ""
            },
            "type": "mesh3d"
           }
          ],
          "parcoords": [
           {
            "line": {
             "colorbar": {
              "outlinewidth": 0,
              "ticks": ""
             }
            },
            "type": "parcoords"
           }
          ],
          "pie": [
           {
            "automargin": true,
            "type": "pie"
           }
          ],
          "scatter": [
           {
            "fillpattern": {
             "fillmode": "overlay",
             "size": 10,
             "solidity": 0.2
            },
            "type": "scatter"
           }
          ],
          "scatter3d": [
           {
            "line": {
             "colorbar": {
              "outlinewidth": 0,
              "ticks": ""
             }
            },
            "marker": {
             "colorbar": {
              "outlinewidth": 0,
              "ticks": ""
             }
            },
            "type": "scatter3d"
           }
          ],
          "scattercarpet": [
           {
            "marker": {
             "colorbar": {
              "outlinewidth": 0,
              "ticks": ""
             }
            },
            "type": "scattercarpet"
           }
          ],
          "scattergeo": [
           {
            "marker": {
             "colorbar": {
              "outlinewidth": 0,
              "ticks": ""
             }
            },
            "type": "scattergeo"
           }
          ],
          "scattergl": [
           {
            "marker": {
             "colorbar": {
              "outlinewidth": 0,
              "ticks": ""
             }
            },
            "type": "scattergl"
           }
          ],
          "scattermap": [
           {
            "marker": {
             "colorbar": {
              "outlinewidth": 0,
              "ticks": ""
             }
            },
            "type": "scattermap"
           }
          ],
          "scattermapbox": [
           {
            "marker": {
             "colorbar": {
              "outlinewidth": 0,
              "ticks": ""
             }
            },
            "type": "scattermapbox"
           }
          ],
          "scatterpolar": [
           {
            "marker": {
             "colorbar": {
              "outlinewidth": 0,
              "ticks": ""
             }
            },
            "type": "scatterpolar"
           }
          ],
          "scatterpolargl": [
           {
            "marker": {
             "colorbar": {
              "outlinewidth": 0,
              "ticks": ""
             }
            },
            "type": "scatterpolargl"
           }
          ],
          "scatterternary": [
           {
            "marker": {
             "colorbar": {
              "outlinewidth": 0,
              "ticks": ""
             }
            },
            "type": "scatterternary"
           }
          ],
          "surface": [
           {
            "colorbar": {
             "outlinewidth": 0,
             "ticks": ""
            },
            "colorscale": [
             [
              0,
              "#0d0887"
             ],
             [
              0.1111111111111111,
              "#46039f"
             ],
             [
              0.2222222222222222,
              "#7201a8"
             ],
             [
              0.3333333333333333,
              "#9c179e"
             ],
             [
              0.4444444444444444,
              "#bd3786"
             ],
             [
              0.5555555555555556,
              "#d8576b"
             ],
             [
              0.6666666666666666,
              "#ed7953"
             ],
             [
              0.7777777777777778,
              "#fb9f3a"
             ],
             [
              0.8888888888888888,
              "#fdca26"
             ],
             [
              1,
              "#f0f921"
             ]
            ],
            "type": "surface"
           }
          ],
          "table": [
           {
            "cells": {
             "fill": {
              "color": "#EBF0F8"
             },
             "line": {
              "color": "white"
             }
            },
            "header": {
             "fill": {
              "color": "#C8D4E3"
             },
             "line": {
              "color": "white"
             }
            },
            "type": "table"
           }
          ]
         },
         "layout": {
          "annotationdefaults": {
           "arrowcolor": "#2a3f5f",
           "arrowhead": 0,
           "arrowwidth": 1
          },
          "autotypenumbers": "strict",
          "coloraxis": {
           "colorbar": {
            "outlinewidth": 0,
            "ticks": ""
           }
          },
          "colorscale": {
           "diverging": [
            [
             0,
             "#8e0152"
            ],
            [
             0.1,
             "#c51b7d"
            ],
            [
             0.2,
             "#de77ae"
            ],
            [
             0.3,
             "#f1b6da"
            ],
            [
             0.4,
             "#fde0ef"
            ],
            [
             0.5,
             "#f7f7f7"
            ],
            [
             0.6,
             "#e6f5d0"
            ],
            [
             0.7,
             "#b8e186"
            ],
            [
             0.8,
             "#7fbc41"
            ],
            [
             0.9,
             "#4d9221"
            ],
            [
             1,
             "#276419"
            ]
           ],
           "sequential": [
            [
             0,
             "#0d0887"
            ],
            [
             0.1111111111111111,
             "#46039f"
            ],
            [
             0.2222222222222222,
             "#7201a8"
            ],
            [
             0.3333333333333333,
             "#9c179e"
            ],
            [
             0.4444444444444444,
             "#bd3786"
            ],
            [
             0.5555555555555556,
             "#d8576b"
            ],
            [
             0.6666666666666666,
             "#ed7953"
            ],
            [
             0.7777777777777778,
             "#fb9f3a"
            ],
            [
             0.8888888888888888,
             "#fdca26"
            ],
            [
             1,
             "#f0f921"
            ]
           ],
           "sequentialminus": [
            [
             0,
             "#0d0887"
            ],
            [
             0.1111111111111111,
             "#46039f"
            ],
            [
             0.2222222222222222,
             "#7201a8"
            ],
            [
             0.3333333333333333,
             "#9c179e"
            ],
            [
             0.4444444444444444,
             "#bd3786"
            ],
            [
             0.5555555555555556,
             "#d8576b"
            ],
            [
             0.6666666666666666,
             "#ed7953"
            ],
            [
             0.7777777777777778,
             "#fb9f3a"
            ],
            [
             0.8888888888888888,
             "#fdca26"
            ],
            [
             1,
             "#f0f921"
            ]
           ]
          },
          "colorway": [
           "#636efa",
           "#EF553B",
           "#00cc96",
           "#ab63fa",
           "#FFA15A",
           "#19d3f3",
           "#FF6692",
           "#B6E880",
           "#FF97FF",
           "#FECB52"
          ],
          "font": {
           "color": "#2a3f5f"
          },
          "geo": {
           "bgcolor": "white",
           "lakecolor": "white",
           "landcolor": "white",
           "showlakes": true,
           "showland": true,
           "subunitcolor": "#C8D4E3"
          },
          "hoverlabel": {
           "align": "left"
          },
          "hovermode": "closest",
          "mapbox": {
           "style": "light"
          },
          "paper_bgcolor": "white",
          "plot_bgcolor": "white",
          "polar": {
           "angularaxis": {
            "gridcolor": "#EBF0F8",
            "linecolor": "#EBF0F8",
            "ticks": ""
           },
           "bgcolor": "white",
           "radialaxis": {
            "gridcolor": "#EBF0F8",
            "linecolor": "#EBF0F8",
            "ticks": ""
           }
          },
          "scene": {
           "xaxis": {
            "backgroundcolor": "white",
            "gridcolor": "#DFE8F3",
            "gridwidth": 2,
            "linecolor": "#EBF0F8",
            "showbackground": true,
            "ticks": "",
            "zerolinecolor": "#EBF0F8"
           },
           "yaxis": {
            "backgroundcolor": "white",
            "gridcolor": "#DFE8F3",
            "gridwidth": 2,
            "linecolor": "#EBF0F8",
            "showbackground": true,
            "ticks": "",
            "zerolinecolor": "#EBF0F8"
           },
           "zaxis": {
            "backgroundcolor": "white",
            "gridcolor": "#DFE8F3",
            "gridwidth": 2,
            "linecolor": "#EBF0F8",
            "showbackground": true,
            "ticks": "",
            "zerolinecolor": "#EBF0F8"
           }
          },
          "shapedefaults": {
           "line": {
            "color": "#2a3f5f"
           }
          },
          "ternary": {
           "aaxis": {
            "gridcolor": "#DFE8F3",
            "linecolor": "#A2B1C6",
            "ticks": ""
           },
           "baxis": {
            "gridcolor": "#DFE8F3",
            "linecolor": "#A2B1C6",
            "ticks": ""
           },
           "bgcolor": "white",
           "caxis": {
            "gridcolor": "#DFE8F3",
            "linecolor": "#A2B1C6",
            "ticks": ""
           }
          },
          "title": {
           "x": 0.05
          },
          "xaxis": {
           "automargin": true,
           "gridcolor": "#EBF0F8",
           "linecolor": "#EBF0F8",
           "ticks": "",
           "title": {
            "standoff": 15
           },
           "zerolinecolor": "#EBF0F8",
           "zerolinewidth": 2
          },
          "yaxis": {
           "automargin": true,
           "gridcolor": "#EBF0F8",
           "linecolor": "#EBF0F8",
           "ticks": "",
           "title": {
            "standoff": 15
           },
           "zerolinecolor": "#EBF0F8",
           "zerolinewidth": 2
          }
         }
        },
        "title": {
         "text": "Monthly Gasoline Price Variation (1993-2024)",
         "x": 0.5
        },
        "xaxis": {
         "anchor": "y",
         "categoryarray": [
          "January",
          "February",
          "March",
          "April",
          "May",
          "June",
          "July",
          "August",
          "September",
          "October",
          "November",
          "December"
         ],
         "categoryorder": "array",
         "domain": [
          0,
          1
         ],
         "title": {
          "text": "Month"
         }
        },
        "yaxis": {
         "anchor": "x",
         "domain": [
          0,
          1
         ],
         "title": {
          "text": "Price (USD/gal)"
         }
        }
       }
      }
     },
     "metadata": {},
     "output_type": "display_data"
    }
   ],
   "source": [
    "''' Create a box plot to visualize monthly gasoline price variations '''\n",
    "\n",
    "# Create a Month column for grouping\n",
    "prices[\"Month\"] = prices[\"Date\"].dt.month_name()\n",
    "\n",
    "# Create box plot\n",
    "px.box(\n",
    "    prices,\n",
    "    x=\"Month\",\n",
    "    y=\"Dollars_Per_Gallon\",\n",
    "    title=\"Monthly Gasoline Price Variation (1993-2024)\",\n",
    "    category_orders={\"Month\": month_order},\n",
    "    labels={\"Dollars_Per_Gallon\":\"Price (USD/gal)\"}\n",
    ").update_layout(template=\"plotly_white\", title_x=0.5)"
   ]
  },
  {
   "cell_type": "markdown",
   "id": "36464c7c",
   "metadata": {},
   "source": [
    "# QUESTION\n",
    "\n",
    "do i need to do a transformation to my data to ensure that they have normal distributions?"
   ]
  },
  {
   "cell_type": "code",
   "execution_count": 457,
   "id": "613ef789",
   "metadata": {},
   "outputs": [
    {
     "name": "stdout",
     "output_type": "stream",
     "text": [
      "✅ Dates and total number of months match between prices and consumption data.\n",
      "Earliest date: 1993-04-01\n",
      "Latest date:   2024-12-01\n",
      "Total months:  381\n"
     ]
    }
   ],
   "source": [
    "'''Ensure prices and consumption data have the same date range and number of months'''\n",
    "\n",
    "# Compare start and end dates\n",
    "start_match = prices[\"Date\"].min() == consumption[\"Date\"].min()\n",
    "end_match = prices[\"Date\"].max() == consumption[\"Date\"].max()\n",
    "length_match = len(prices) == len(consumption)\n",
    "\n",
    "if start_match and end_match and length_match:\n",
    "    print(\"✅ Dates and total number of months match between prices and consumption data.\")\n",
    "    print(f\"Earliest date: {prices['Date'].min().strftime('%Y-%m-%d')}\")\n",
    "    print(f\"Latest date:   {prices['Date'].max().strftime('%Y-%m-%d')}\")\n",
    "    print(f\"Total months:  {len(prices)}\")\n",
    "else:\n",
    "    print(\"⚠️ Mismatch found:\")\n",
    "    if not start_match:\n",
    "        print(f\"Start dates differ — Prices: {prices['Date'].min()}, Consumption: {consumption['Date'].min()}\")\n",
    "    if not end_match:\n",
    "        print(f\"End dates differ — Prices: {prices['Date'].max()}, Consumption: {consumption['Date'].max()}\")\n",
    "    if not length_match:\n",
    "        print(f\"Number of months differ — Prices: {len(prices)}, Consumption: {len(consumption)}\")"
   ]
  },
  {
   "cell_type": "markdown",
   "id": "51b39ff2",
   "metadata": {},
   "source": [
    "## Visualization of Prices Data"
   ]
  },
  {
   "cell_type": "code",
   "execution_count": 458,
   "id": "800ac2ea",
   "metadata": {},
   "outputs": [
    {
     "data": {
      "application/vnd.plotly.v1+json": {
       "config": {
        "plotlyServerURL": "https://plot.ly"
       },
       "data": [
        {
         "hovertemplate": "Year=%{x}<br>Average Price (USD per Gallon)=%{y}<extra></extra>",
         "legendgroup": "",
         "line": {
          "color": "crimson",
          "dash": "solid",
          "width": 2
         },
         "marker": {
          "color": "crimson",
          "line": {
           "color": "white",
           "width": 1
          },
          "size": 6,
          "symbol": "circle"
         },
         "mode": "lines+markers",
         "name": "",
         "orientation": "v",
         "showlegend": false,
         "type": "scatter",
         "x": {
          "bdata": "yQcAAMoHAADLBwAAzAcAAM0HAADOBwAAzwcAANAHAADRBwAA0gcAANMHAADUBwAA1QcAANYHAADXBwAA2AcAANkHAADaBwAA2wcAANwHAADdBwAA3gcAAN8HAADgBwAA4QcAAOIHAADjBwAA5AcAAOUHAADmBwAA5wcAAOgHAAA=",
          "dtype": "i4"
         },
         "xaxis": "x",
         "y": {
          "bdata": "AG0N4ech8T8LSVMqzj7xP4JOG+i0gfI/t/P91Hjp8z/rUbgehevzPw4tsp3vJ/E/NOwKkHvN8j8xCKwcWmT4P0MZvS1rdfc/gwfzRP0b9j+4Za2OCZ75P8P1KFyPQv4/meDBPFF/AkDF2YfPsOsEQN0kBoGVwwZAS8XZh89wCkAs+cWSXywDQDhCGb0tqwZAEJ9hV4CcDEBkggfzRH0NQBCfYVeAnAxA8KfGSzeJC0C0yHa+nxoEQIXrUbgeBQJApSkVZx8+BEBXxwQP5okGQCPb+X5qfAVAhxbZzvcTAkAAAAAAAMAIQM4+fIZdQRBA4E+Nl24SDUBEi2zn+2kLQA==",
          "dtype": "f8"
         },
         "yaxis": "y"
        }
       ],
       "layout": {
        "annotations": [
         {
          "arrowhead": 2,
          "ax": 30,
          "ay": -40,
          "bgcolor": "white",
          "font": {
           "color": "black",
           "size": 10
          },
          "showarrow": true,
          "text": "2008 Financial Crisis",
          "x": 2008,
          "y": 3.3050833333333336
         },
         {
          "arrowhead": 2,
          "ax": 30,
          "ay": -40,
          "bgcolor": "white",
          "font": {
           "color": "black",
           "size": 10
          },
          "showarrow": true,
          "text": "Arab Spring & Oil Tension",
          "x": 2011,
          "y": 3.576416666666667
         },
         {
          "arrowhead": 2,
          "ax": 30,
          "ay": -40,
          "bgcolor": "white",
          "font": {
           "color": "black",
           "size": 10
          },
          "showarrow": true,
          "text": "U.S. Shale Boom",
          "x": 2015,
          "y": 2.513
         },
         {
          "arrowhead": 2,
          "ax": 30,
          "ay": -40,
          "bgcolor": "white",
          "font": {
           "color": "black",
           "size": 10
          },
          "showarrow": true,
          "text": "COVID-19 Lockdowns",
          "x": 2020,
          "y": 2.25975
         },
         {
          "arrowhead": 2,
          "ax": 30,
          "ay": -40,
          "bgcolor": "white",
          "font": {
           "color": "black",
           "size": 10
          },
          "showarrow": true,
          "text": "Ukraine War & Inflation Spike",
          "x": 2022,
          "y": 4.063833333333333
         }
        ],
        "hovermode": "x unified",
        "legend": {
         "tracegroupgap": 0
        },
        "shapes": [
         {
          "line": {
           "color": "gray",
           "dash": "dash"
          },
          "opacity": 0.6,
          "type": "line",
          "x0": 2008,
          "x1": 2008,
          "xref": "x",
          "y0": 0,
          "y1": 1,
          "yref": "y domain"
         },
         {
          "line": {
           "color": "gray",
           "dash": "dash"
          },
          "opacity": 0.6,
          "type": "line",
          "x0": 2011,
          "x1": 2011,
          "xref": "x",
          "y0": 0,
          "y1": 1,
          "yref": "y domain"
         },
         {
          "line": {
           "color": "gray",
           "dash": "dash"
          },
          "opacity": 0.6,
          "type": "line",
          "x0": 2015,
          "x1": 2015,
          "xref": "x",
          "y0": 0,
          "y1": 1,
          "yref": "y domain"
         },
         {
          "line": {
           "color": "gray",
           "dash": "dash"
          },
          "opacity": 0.6,
          "type": "line",
          "x0": 2020,
          "x1": 2020,
          "xref": "x",
          "y0": 0,
          "y1": 1,
          "yref": "y domain"
         },
         {
          "line": {
           "color": "gray",
           "dash": "dash"
          },
          "opacity": 0.6,
          "type": "line",
          "x0": 2022,
          "x1": 2022,
          "xref": "x",
          "y0": 0,
          "y1": 1,
          "yref": "y domain"
         }
        ],
        "template": {
         "data": {
          "bar": [
           {
            "error_x": {
             "color": "#2a3f5f"
            },
            "error_y": {
             "color": "#2a3f5f"
            },
            "marker": {
             "line": {
              "color": "white",
              "width": 0.5
             },
             "pattern": {
              "fillmode": "overlay",
              "size": 10,
              "solidity": 0.2
             }
            },
            "type": "bar"
           }
          ],
          "barpolar": [
           {
            "marker": {
             "line": {
              "color": "white",
              "width": 0.5
             },
             "pattern": {
              "fillmode": "overlay",
              "size": 10,
              "solidity": 0.2
             }
            },
            "type": "barpolar"
           }
          ],
          "carpet": [
           {
            "aaxis": {
             "endlinecolor": "#2a3f5f",
             "gridcolor": "#C8D4E3",
             "linecolor": "#C8D4E3",
             "minorgridcolor": "#C8D4E3",
             "startlinecolor": "#2a3f5f"
            },
            "baxis": {
             "endlinecolor": "#2a3f5f",
             "gridcolor": "#C8D4E3",
             "linecolor": "#C8D4E3",
             "minorgridcolor": "#C8D4E3",
             "startlinecolor": "#2a3f5f"
            },
            "type": "carpet"
           }
          ],
          "choropleth": [
           {
            "colorbar": {
             "outlinewidth": 0,
             "ticks": ""
            },
            "type": "choropleth"
           }
          ],
          "contour": [
           {
            "colorbar": {
             "outlinewidth": 0,
             "ticks": ""
            },
            "colorscale": [
             [
              0,
              "#0d0887"
             ],
             [
              0.1111111111111111,
              "#46039f"
             ],
             [
              0.2222222222222222,
              "#7201a8"
             ],
             [
              0.3333333333333333,
              "#9c179e"
             ],
             [
              0.4444444444444444,
              "#bd3786"
             ],
             [
              0.5555555555555556,
              "#d8576b"
             ],
             [
              0.6666666666666666,
              "#ed7953"
             ],
             [
              0.7777777777777778,
              "#fb9f3a"
             ],
             [
              0.8888888888888888,
              "#fdca26"
             ],
             [
              1,
              "#f0f921"
             ]
            ],
            "type": "contour"
           }
          ],
          "contourcarpet": [
           {
            "colorbar": {
             "outlinewidth": 0,
             "ticks": ""
            },
            "type": "contourcarpet"
           }
          ],
          "heatmap": [
           {
            "colorbar": {
             "outlinewidth": 0,
             "ticks": ""
            },
            "colorscale": [
             [
              0,
              "#0d0887"
             ],
             [
              0.1111111111111111,
              "#46039f"
             ],
             [
              0.2222222222222222,
              "#7201a8"
             ],
             [
              0.3333333333333333,
              "#9c179e"
             ],
             [
              0.4444444444444444,
              "#bd3786"
             ],
             [
              0.5555555555555556,
              "#d8576b"
             ],
             [
              0.6666666666666666,
              "#ed7953"
             ],
             [
              0.7777777777777778,
              "#fb9f3a"
             ],
             [
              0.8888888888888888,
              "#fdca26"
             ],
             [
              1,
              "#f0f921"
             ]
            ],
            "type": "heatmap"
           }
          ],
          "histogram": [
           {
            "marker": {
             "pattern": {
              "fillmode": "overlay",
              "size": 10,
              "solidity": 0.2
             }
            },
            "type": "histogram"
           }
          ],
          "histogram2d": [
           {
            "colorbar": {
             "outlinewidth": 0,
             "ticks": ""
            },
            "colorscale": [
             [
              0,
              "#0d0887"
             ],
             [
              0.1111111111111111,
              "#46039f"
             ],
             [
              0.2222222222222222,
              "#7201a8"
             ],
             [
              0.3333333333333333,
              "#9c179e"
             ],
             [
              0.4444444444444444,
              "#bd3786"
             ],
             [
              0.5555555555555556,
              "#d8576b"
             ],
             [
              0.6666666666666666,
              "#ed7953"
             ],
             [
              0.7777777777777778,
              "#fb9f3a"
             ],
             [
              0.8888888888888888,
              "#fdca26"
             ],
             [
              1,
              "#f0f921"
             ]
            ],
            "type": "histogram2d"
           }
          ],
          "histogram2dcontour": [
           {
            "colorbar": {
             "outlinewidth": 0,
             "ticks": ""
            },
            "colorscale": [
             [
              0,
              "#0d0887"
             ],
             [
              0.1111111111111111,
              "#46039f"
             ],
             [
              0.2222222222222222,
              "#7201a8"
             ],
             [
              0.3333333333333333,
              "#9c179e"
             ],
             [
              0.4444444444444444,
              "#bd3786"
             ],
             [
              0.5555555555555556,
              "#d8576b"
             ],
             [
              0.6666666666666666,
              "#ed7953"
             ],
             [
              0.7777777777777778,
              "#fb9f3a"
             ],
             [
              0.8888888888888888,
              "#fdca26"
             ],
             [
              1,
              "#f0f921"
             ]
            ],
            "type": "histogram2dcontour"
           }
          ],
          "mesh3d": [
           {
            "colorbar": {
             "outlinewidth": 0,
             "ticks": ""
            },
            "type": "mesh3d"
           }
          ],
          "parcoords": [
           {
            "line": {
             "colorbar": {
              "outlinewidth": 0,
              "ticks": ""
             }
            },
            "type": "parcoords"
           }
          ],
          "pie": [
           {
            "automargin": true,
            "type": "pie"
           }
          ],
          "scatter": [
           {
            "fillpattern": {
             "fillmode": "overlay",
             "size": 10,
             "solidity": 0.2
            },
            "type": "scatter"
           }
          ],
          "scatter3d": [
           {
            "line": {
             "colorbar": {
              "outlinewidth": 0,
              "ticks": ""
             }
            },
            "marker": {
             "colorbar": {
              "outlinewidth": 0,
              "ticks": ""
             }
            },
            "type": "scatter3d"
           }
          ],
          "scattercarpet": [
           {
            "marker": {
             "colorbar": {
              "outlinewidth": 0,
              "ticks": ""
             }
            },
            "type": "scattercarpet"
           }
          ],
          "scattergeo": [
           {
            "marker": {
             "colorbar": {
              "outlinewidth": 0,
              "ticks": ""
             }
            },
            "type": "scattergeo"
           }
          ],
          "scattergl": [
           {
            "marker": {
             "colorbar": {
              "outlinewidth": 0,
              "ticks": ""
             }
            },
            "type": "scattergl"
           }
          ],
          "scattermap": [
           {
            "marker": {
             "colorbar": {
              "outlinewidth": 0,
              "ticks": ""
             }
            },
            "type": "scattermap"
           }
          ],
          "scattermapbox": [
           {
            "marker": {
             "colorbar": {
              "outlinewidth": 0,
              "ticks": ""
             }
            },
            "type": "scattermapbox"
           }
          ],
          "scatterpolar": [
           {
            "marker": {
             "colorbar": {
              "outlinewidth": 0,
              "ticks": ""
             }
            },
            "type": "scatterpolar"
           }
          ],
          "scatterpolargl": [
           {
            "marker": {
             "colorbar": {
              "outlinewidth": 0,
              "ticks": ""
             }
            },
            "type": "scatterpolargl"
           }
          ],
          "scatterternary": [
           {
            "marker": {
             "colorbar": {
              "outlinewidth": 0,
              "ticks": ""
             }
            },
            "type": "scatterternary"
           }
          ],
          "surface": [
           {
            "colorbar": {
             "outlinewidth": 0,
             "ticks": ""
            },
            "colorscale": [
             [
              0,
              "#0d0887"
             ],
             [
              0.1111111111111111,
              "#46039f"
             ],
             [
              0.2222222222222222,
              "#7201a8"
             ],
             [
              0.3333333333333333,
              "#9c179e"
             ],
             [
              0.4444444444444444,
              "#bd3786"
             ],
             [
              0.5555555555555556,
              "#d8576b"
             ],
             [
              0.6666666666666666,
              "#ed7953"
             ],
             [
              0.7777777777777778,
              "#fb9f3a"
             ],
             [
              0.8888888888888888,
              "#fdca26"
             ],
             [
              1,
              "#f0f921"
             ]
            ],
            "type": "surface"
           }
          ],
          "table": [
           {
            "cells": {
             "fill": {
              "color": "#EBF0F8"
             },
             "line": {
              "color": "white"
             }
            },
            "header": {
             "fill": {
              "color": "#C8D4E3"
             },
             "line": {
              "color": "white"
             }
            },
            "type": "table"
           }
          ]
         },
         "layout": {
          "annotationdefaults": {
           "arrowcolor": "#2a3f5f",
           "arrowhead": 0,
           "arrowwidth": 1
          },
          "autotypenumbers": "strict",
          "coloraxis": {
           "colorbar": {
            "outlinewidth": 0,
            "ticks": ""
           }
          },
          "colorscale": {
           "diverging": [
            [
             0,
             "#8e0152"
            ],
            [
             0.1,
             "#c51b7d"
            ],
            [
             0.2,
             "#de77ae"
            ],
            [
             0.3,
             "#f1b6da"
            ],
            [
             0.4,
             "#fde0ef"
            ],
            [
             0.5,
             "#f7f7f7"
            ],
            [
             0.6,
             "#e6f5d0"
            ],
            [
             0.7,
             "#b8e186"
            ],
            [
             0.8,
             "#7fbc41"
            ],
            [
             0.9,
             "#4d9221"
            ],
            [
             1,
             "#276419"
            ]
           ],
           "sequential": [
            [
             0,
             "#0d0887"
            ],
            [
             0.1111111111111111,
             "#46039f"
            ],
            [
             0.2222222222222222,
             "#7201a8"
            ],
            [
             0.3333333333333333,
             "#9c179e"
            ],
            [
             0.4444444444444444,
             "#bd3786"
            ],
            [
             0.5555555555555556,
             "#d8576b"
            ],
            [
             0.6666666666666666,
             "#ed7953"
            ],
            [
             0.7777777777777778,
             "#fb9f3a"
            ],
            [
             0.8888888888888888,
             "#fdca26"
            ],
            [
             1,
             "#f0f921"
            ]
           ],
           "sequentialminus": [
            [
             0,
             "#0d0887"
            ],
            [
             0.1111111111111111,
             "#46039f"
            ],
            [
             0.2222222222222222,
             "#7201a8"
            ],
            [
             0.3333333333333333,
             "#9c179e"
            ],
            [
             0.4444444444444444,
             "#bd3786"
            ],
            [
             0.5555555555555556,
             "#d8576b"
            ],
            [
             0.6666666666666666,
             "#ed7953"
            ],
            [
             0.7777777777777778,
             "#fb9f3a"
            ],
            [
             0.8888888888888888,
             "#fdca26"
            ],
            [
             1,
             "#f0f921"
            ]
           ]
          },
          "colorway": [
           "#636efa",
           "#EF553B",
           "#00cc96",
           "#ab63fa",
           "#FFA15A",
           "#19d3f3",
           "#FF6692",
           "#B6E880",
           "#FF97FF",
           "#FECB52"
          ],
          "font": {
           "color": "#2a3f5f"
          },
          "geo": {
           "bgcolor": "white",
           "lakecolor": "white",
           "landcolor": "white",
           "showlakes": true,
           "showland": true,
           "subunitcolor": "#C8D4E3"
          },
          "hoverlabel": {
           "align": "left"
          },
          "hovermode": "closest",
          "mapbox": {
           "style": "light"
          },
          "paper_bgcolor": "white",
          "plot_bgcolor": "white",
          "polar": {
           "angularaxis": {
            "gridcolor": "#EBF0F8",
            "linecolor": "#EBF0F8",
            "ticks": ""
           },
           "bgcolor": "white",
           "radialaxis": {
            "gridcolor": "#EBF0F8",
            "linecolor": "#EBF0F8",
            "ticks": ""
           }
          },
          "scene": {
           "xaxis": {
            "backgroundcolor": "white",
            "gridcolor": "#DFE8F3",
            "gridwidth": 2,
            "linecolor": "#EBF0F8",
            "showbackground": true,
            "ticks": "",
            "zerolinecolor": "#EBF0F8"
           },
           "yaxis": {
            "backgroundcolor": "white",
            "gridcolor": "#DFE8F3",
            "gridwidth": 2,
            "linecolor": "#EBF0F8",
            "showbackground": true,
            "ticks": "",
            "zerolinecolor": "#EBF0F8"
           },
           "zaxis": {
            "backgroundcolor": "white",
            "gridcolor": "#DFE8F3",
            "gridwidth": 2,
            "linecolor": "#EBF0F8",
            "showbackground": true,
            "ticks": "",
            "zerolinecolor": "#EBF0F8"
           }
          },
          "shapedefaults": {
           "line": {
            "color": "#2a3f5f"
           }
          },
          "ternary": {
           "aaxis": {
            "gridcolor": "#DFE8F3",
            "linecolor": "#A2B1C6",
            "ticks": ""
           },
           "baxis": {
            "gridcolor": "#DFE8F3",
            "linecolor": "#A2B1C6",
            "ticks": ""
           },
           "bgcolor": "white",
           "caxis": {
            "gridcolor": "#DFE8F3",
            "linecolor": "#A2B1C6",
            "ticks": ""
           }
          },
          "title": {
           "x": 0.05
          },
          "xaxis": {
           "automargin": true,
           "gridcolor": "#EBF0F8",
           "linecolor": "#EBF0F8",
           "ticks": "",
           "title": {
            "standoff": 15
           },
           "zerolinecolor": "#EBF0F8",
           "zerolinewidth": 2
          },
          "yaxis": {
           "automargin": true,
           "gridcolor": "#EBF0F8",
           "linecolor": "#EBF0F8",
           "ticks": "",
           "title": {
            "standoff": 15
           },
           "zerolinecolor": "#EBF0F8",
           "zerolinewidth": 2
          }
         }
        },
        "title": {
         "text": "Average U.S. Gasoline Price per Year (Annotated)",
         "x": 0.5
        },
        "xaxis": {
         "anchor": "y",
         "domain": [
          0,
          1
         ],
         "title": {
          "text": "Year"
         }
        },
        "yaxis": {
         "anchor": "x",
         "domain": [
          0,
          1
         ],
         "title": {
          "text": "Average Price (USD per Gallon)"
         }
        }
       }
      }
     },
     "metadata": {},
     "output_type": "display_data"
    }
   ],
   "source": [
    "''' Create a line plot of monthly gasoline prices over time '''\n",
    "\n",
    "prices[\"Year\"] = prices[\"Date\"].dt.year\n",
    "yearly_price_avg = prices.groupby(\"Year\")[\"Dollars_Per_Gallon\"].mean().reset_index()\n",
    "\n",
    "# Create the line chart again\n",
    "fig = px.line(\n",
    "    yearly_price_avg,\n",
    "    x=\"Year\",\n",
    "    y=\"Dollars_Per_Gallon\",\n",
    "    title=\"Average U.S. Gasoline Price per Year (Annotated)\",\n",
    "    labels={\n",
    "        \"Year\": \"Year\",\n",
    "        \"Dollars_Per_Gallon\": \"Average Price (USD per Gallon)\"\n",
    "    },\n",
    ")\n",
    "\n",
    "# Customize appearance\n",
    "fig.update_traces(\n",
    "    mode=\"lines+markers\",\n",
    "    line=dict(color=\"crimson\", width=2),\n",
    "    marker=dict(size=6, color=\"crimson\", line=dict(width=1, color=\"white\")),\n",
    ")\n",
    "\n",
    "# Update layout\n",
    "fig.update_layout(\n",
    "    template=\"plotly_white\",\n",
    "    hovermode=\"x unified\",\n",
    "    title_x=0.5,\n",
    ")\n",
    "\n",
    "# list of significant events to annotate\n",
    "events = {\n",
    "    2008: \"2008 Financial Crisis\",\n",
    "    2011: \"Arab Spring & Oil Tension\",\n",
    "    2015: \"U.S. Shale Boom\",\n",
    "    2020: \"COVID-19 Lockdowns\",\n",
    "    2022: \"Ukraine War & Inflation Spike\",\n",
    "}\n",
    "\n",
    "# Add vertical lines and annotations\n",
    "for year, label in events.items():\n",
    "    fig.add_vline(x=year, line_color=\"gray\", line_dash=\"dash\", opacity=0.6)\n",
    "    fig.add_annotation(\n",
    "        x=year,\n",
    "        y=yearly_price_avg.loc[yearly_price_avg[\"Year\"] == year, \"Dollars_Per_Gallon\"].values[0],\n",
    "        text=label,\n",
    "        showarrow=True,\n",
    "        arrowhead=2,\n",
    "        ax=30,\n",
    "        ay=-40,\n",
    "        bgcolor=\"white\",\n",
    "        font=dict(size=10, color=\"black\"),\n",
    "    )\n",
    "\n",
    "fig.show()"
   ]
  },
  {
   "cell_type": "code",
   "execution_count": 459,
   "id": "05f968f1",
   "metadata": {},
   "outputs": [
    {
     "data": {
      "application/vnd.plotly.v1+json": {
       "config": {
        "plotlyServerURL": "https://plot.ly"
       },
       "data": [
        {
         "colorbar": {
          "title": {
           "text": "Dollars per Gallon"
          }
         },
         "colorscale": [
          [
           0,
           "rgb(49,54,149)"
          ],
          [
           0.1,
           "rgb(69,117,180)"
          ],
          [
           0.2,
           "rgb(116,173,209)"
          ],
          [
           0.3,
           "rgb(171,217,233)"
          ],
          [
           0.4,
           "rgb(224,243,248)"
          ],
          [
           0.5,
           "rgb(255,255,191)"
          ],
          [
           0.6,
           "rgb(254,224,144)"
          ],
          [
           0.7,
           "rgb(253,174,97)"
          ],
          [
           0.8,
           "rgb(244,109,67)"
          ],
          [
           0.9,
           "rgb(215,48,39)"
          ],
          [
           1,
           "rgb(165,0,38)"
          ]
         ],
         "hovertemplate": "Year: %{x}<br>Month: %{y}<br>Price: %{z:.2f} USD<extra></extra>",
         "showscale": true,
         "type": "heatmap",
         "x": {
          "bdata": "yQcAAMkHAADJBwAAyQcAAMkHAADJBwAAyQcAAMkHAADJBwAAygcAAMoHAADKBwAAygcAAMoHAADKBwAAygcAAMoHAADKBwAAygcAAMoHAADKBwAAywcAAMsHAADLBwAAywcAAMsHAADLBwAAywcAAMsHAADLBwAAywcAAMsHAADLBwAAzAcAAMwHAADMBwAAzAcAAMwHAADMBwAAzAcAAMwHAADMBwAAzAcAAMwHAADMBwAAzQcAAM0HAADNBwAAzQcAAM0HAADNBwAAzQcAAM0HAADNBwAAzQcAAM0HAADNBwAAzgcAAM4HAADOBwAAzgcAAM4HAADOBwAAzgcAAM4HAADOBwAAzgcAAM4HAADOBwAAzwcAAM8HAADPBwAAzwcAAM8HAADPBwAAzwcAAM8HAADPBwAAzwcAAM8HAADPBwAA0AcAANAHAADQBwAA0AcAANAHAADQBwAA0AcAANAHAADQBwAA0AcAANAHAADQBwAA0QcAANEHAADRBwAA0QcAANEHAADRBwAA0QcAANEHAADRBwAA0QcAANEHAADRBwAA0gcAANIHAADSBwAA0gcAANIHAADSBwAA0gcAANIHAADSBwAA0gcAANIHAADSBwAA0wcAANMHAADTBwAA0wcAANMHAADTBwAA0wcAANMHAADTBwAA0wcAANMHAADTBwAA1AcAANQHAADUBwAA1AcAANQHAADUBwAA1AcAANQHAADUBwAA1AcAANQHAADUBwAA1QcAANUHAADVBwAA1QcAANUHAADVBwAA1QcAANUHAADVBwAA1QcAANUHAADVBwAA1gcAANYHAADWBwAA1gcAANYHAADWBwAA1gcAANYHAADWBwAA1gcAANYHAADWBwAA1wcAANcHAADXBwAA1wcAANcHAADXBwAA1wcAANcHAADXBwAA1wcAANcHAADXBwAA2AcAANgHAADYBwAA2AcAANgHAADYBwAA2AcAANgHAADYBwAA2AcAANgHAADYBwAA2QcAANkHAADZBwAA2QcAANkHAADZBwAA2QcAANkHAADZBwAA2QcAANkHAADZBwAA2gcAANoHAADaBwAA2gcAANoHAADaBwAA2gcAANoHAADaBwAA2gcAANoHAADaBwAA2wcAANsHAADbBwAA2wcAANsHAADbBwAA2wcAANsHAADbBwAA2wcAANsHAADbBwAA3AcAANwHAADcBwAA3AcAANwHAADcBwAA3AcAANwHAADcBwAA3AcAANwHAADcBwAA3QcAAN0HAADdBwAA3QcAAN0HAADdBwAA3QcAAN0HAADdBwAA3QcAAN0HAADdBwAA3gcAAN4HAADeBwAA3gcAAN4HAADeBwAA3gcAAN4HAADeBwAA3gcAAN4HAADeBwAA3wcAAN8HAADfBwAA3wcAAN8HAADfBwAA3wcAAN8HAADfBwAA3wcAAN8HAADfBwAA4AcAAOAHAADgBwAA4AcAAOAHAADgBwAA4AcAAOAHAADgBwAA4AcAAOAHAADgBwAA4QcAAOEHAADhBwAA4QcAAOEHAADhBwAA4QcAAOEHAADhBwAA4QcAAOEHAADhBwAA4gcAAOIHAADiBwAA4gcAAOIHAADiBwAA4gcAAOIHAADiBwAA4gcAAOIHAADiBwAA4wcAAOMHAADjBwAA4wcAAOMHAADjBwAA4wcAAOMHAADjBwAA4wcAAOMHAADjBwAA5AcAAOQHAADkBwAA5AcAAOQHAADkBwAA5AcAAOQHAADkBwAA5AcAAOQHAADkBwAA5QcAAOUHAADlBwAA5QcAAOUHAADlBwAA5QcAAOUHAADlBwAA5QcAAOUHAADlBwAA5gcAAOYHAADmBwAA5gcAAOYHAADmBwAA5gcAAOYHAADmBwAA5gcAAOYHAADmBwAA5wcAAOcHAADnBwAA5wcAAOcHAADnBwAA5wcAAOcHAADnBwAA5wcAAOcHAADnBwAA6AcAAOgHAADoBwAA6AcAAOgHAADoBwAA6AcAAOgHAADoBwAA6AcAAOgHAADoBwAA",
          "dtype": "i4"
         },
         "xaxis": "x",
         "y": [
          "April",
          "May",
          "June",
          "July",
          "August",
          "September",
          "October",
          "November",
          "December",
          "January",
          "February",
          "March",
          "April",
          "May",
          "June",
          "July",
          "August",
          "September",
          "October",
          "November",
          "December",
          "January",
          "February",
          "March",
          "April",
          "May",
          "June",
          "July",
          "August",
          "September",
          "October",
          "November",
          "December",
          "January",
          "February",
          "March",
          "April",
          "May",
          "June",
          "July",
          "August",
          "September",
          "October",
          "November",
          "December",
          "January",
          "February",
          "March",
          "April",
          "May",
          "June",
          "July",
          "August",
          "September",
          "October",
          "November",
          "December",
          "January",
          "February",
          "March",
          "April",
          "May",
          "June",
          "July",
          "August",
          "September",
          "October",
          "November",
          "December",
          "January",
          "February",
          "March",
          "April",
          "May",
          "June",
          "July",
          "August",
          "September",
          "October",
          "November",
          "December",
          "January",
          "February",
          "March",
          "April",
          "May",
          "June",
          "July",
          "August",
          "September",
          "October",
          "November",
          "December",
          "January",
          "February",
          "March",
          "April",
          "May",
          "June",
          "July",
          "August",
          "September",
          "October",
          "November",
          "December",
          "January",
          "February",
          "March",
          "April",
          "May",
          "June",
          "July",
          "August",
          "September",
          "October",
          "November",
          "December",
          "January",
          "February",
          "March",
          "April",
          "May",
          "June",
          "July",
          "August",
          "September",
          "October",
          "November",
          "December",
          "January",
          "February",
          "March",
          "April",
          "May",
          "June",
          "July",
          "August",
          "September",
          "October",
          "November",
          "December",
          "January",
          "February",
          "March",
          "April",
          "May",
          "June",
          "July",
          "August",
          "September",
          "October",
          "November",
          "December",
          "January",
          "February",
          "March",
          "April",
          "May",
          "June",
          "July",
          "August",
          "September",
          "October",
          "November",
          "December",
          "January",
          "February",
          "March",
          "April",
          "May",
          "June",
          "July",
          "August",
          "September",
          "October",
          "November",
          "December",
          "January",
          "February",
          "March",
          "April",
          "May",
          "June",
          "July",
          "August",
          "September",
          "October",
          "November",
          "December",
          "January",
          "February",
          "March",
          "April",
          "May",
          "June",
          "July",
          "August",
          "September",
          "October",
          "November",
          "December",
          "January",
          "February",
          "March",
          "April",
          "May",
          "June",
          "July",
          "August",
          "September",
          "October",
          "November",
          "December",
          "January",
          "February",
          "March",
          "April",
          "May",
          "June",
          "July",
          "August",
          "September",
          "October",
          "November",
          "December",
          "January",
          "February",
          "March",
          "April",
          "May",
          "June",
          "July",
          "August",
          "September",
          "October",
          "November",
          "December",
          "January",
          "February",
          "March",
          "April",
          "May",
          "June",
          "July",
          "August",
          "September",
          "October",
          "November",
          "December",
          "January",
          "February",
          "March",
          "April",
          "May",
          "June",
          "July",
          "August",
          "September",
          "October",
          "November",
          "December",
          "January",
          "February",
          "March",
          "April",
          "May",
          "June",
          "July",
          "August",
          "September",
          "October",
          "November",
          "December",
          "January",
          "February",
          "March",
          "April",
          "May",
          "June",
          "July",
          "August",
          "September",
          "October",
          "November",
          "December",
          "January",
          "February",
          "March",
          "April",
          "May",
          "June",
          "July",
          "August",
          "September",
          "October",
          "November",
          "December",
          "January",
          "February",
          "March",
          "April",
          "May",
          "June",
          "July",
          "August",
          "September",
          "October",
          "November",
          "December",
          "January",
          "February",
          "March",
          "April",
          "May",
          "June",
          "July",
          "August",
          "September",
          "October",
          "November",
          "December",
          "January",
          "February",
          "March",
          "April",
          "May",
          "June",
          "July",
          "August",
          "September",
          "October",
          "November",
          "December",
          "January",
          "February",
          "March",
          "April",
          "May",
          "June",
          "July",
          "August",
          "September",
          "October",
          "November",
          "December",
          "January",
          "February",
          "March",
          "April",
          "May",
          "June",
          "July",
          "August",
          "September",
          "October",
          "November",
          "December",
          "January",
          "February",
          "March",
          "April",
          "May",
          "June",
          "July",
          "August",
          "September",
          "October",
          "November",
          "December",
          "January",
          "February",
          "March",
          "April",
          "May",
          "June",
          "July",
          "August",
          "September",
          "October",
          "November",
          "December"
         ],
         "yaxis": "y",
         "z": {
          "bdata": "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",
          "dtype": "f8"
         }
        },
        {
         "hovertemplate": "Month: %{y}<br>Avg Price: %{x:.2f} USD<extra></extra>",
         "marker": {
          "color": "crimson"
         },
         "name": "Monthly Avg",
         "orientation": "h",
         "type": "bar",
         "x": {
          "bdata": "mXWEWUeYAUDIWRs2T/sBQM/olCboAgNA30+Nl25SA0BYObTIduYDQEJg5dAiEwRAMQisHFrcA0Dy0k1iELADQJZDi2znmwNAXI/C9SgUA0BxPQrXo2ACQPCnxks3uQFA",
          "dtype": "f8"
         },
         "xaxis": "x2",
         "y": [
          "January",
          "February",
          "March",
          "April",
          "May",
          "June",
          "July",
          "August",
          "September",
          "October",
          "November",
          "December"
         ],
         "yaxis": "y2"
        }
       ],
       "layout": {
        "annotations": [
         {
          "font": {
           "size": 16
          },
          "showarrow": false,
          "text": "Gasoline Price Heatmap",
          "x": 0.392,
          "xanchor": "center",
          "xref": "paper",
          "y": 1,
          "yanchor": "bottom",
          "yref": "paper"
         },
         {
          "font": {
           "size": 16
          },
          "showarrow": false,
          "text": "Average by Month",
          "x": 0.902,
          "xanchor": "center",
          "xref": "paper",
          "y": 1,
          "yanchor": "bottom",
          "yref": "paper"
         }
        ],
        "height": 600,
        "template": {
         "data": {
          "bar": [
           {
            "error_x": {
             "color": "#2a3f5f"
            },
            "error_y": {
             "color": "#2a3f5f"
            },
            "marker": {
             "line": {
              "color": "white",
              "width": 0.5
             },
             "pattern": {
              "fillmode": "overlay",
              "size": 10,
              "solidity": 0.2
             }
            },
            "type": "bar"
           }
          ],
          "barpolar": [
           {
            "marker": {
             "line": {
              "color": "white",
              "width": 0.5
             },
             "pattern": {
              "fillmode": "overlay",
              "size": 10,
              "solidity": 0.2
             }
            },
            "type": "barpolar"
           }
          ],
          "carpet": [
           {
            "aaxis": {
             "endlinecolor": "#2a3f5f",
             "gridcolor": "#C8D4E3",
             "linecolor": "#C8D4E3",
             "minorgridcolor": "#C8D4E3",
             "startlinecolor": "#2a3f5f"
            },
            "baxis": {
             "endlinecolor": "#2a3f5f",
             "gridcolor": "#C8D4E3",
             "linecolor": "#C8D4E3",
             "minorgridcolor": "#C8D4E3",
             "startlinecolor": "#2a3f5f"
            },
            "type": "carpet"
           }
          ],
          "choropleth": [
           {
            "colorbar": {
             "outlinewidth": 0,
             "ticks": ""
            },
            "type": "choropleth"
           }
          ],
          "contour": [
           {
            "colorbar": {
             "outlinewidth": 0,
             "ticks": ""
            },
            "colorscale": [
             [
              0,
              "#0d0887"
             ],
             [
              0.1111111111111111,
              "#46039f"
             ],
             [
              0.2222222222222222,
              "#7201a8"
             ],
             [
              0.3333333333333333,
              "#9c179e"
             ],
             [
              0.4444444444444444,
              "#bd3786"
             ],
             [
              0.5555555555555556,
              "#d8576b"
             ],
             [
              0.6666666666666666,
              "#ed7953"
             ],
             [
              0.7777777777777778,
              "#fb9f3a"
             ],
             [
              0.8888888888888888,
              "#fdca26"
             ],
             [
              1,
              "#f0f921"
             ]
            ],
            "type": "contour"
           }
          ],
          "contourcarpet": [
           {
            "colorbar": {
             "outlinewidth": 0,
             "ticks": ""
            },
            "type": "contourcarpet"
           }
          ],
          "heatmap": [
           {
            "colorbar": {
             "outlinewidth": 0,
             "ticks": ""
            },
            "colorscale": [
             [
              0,
              "#0d0887"
             ],
             [
              0.1111111111111111,
              "#46039f"
             ],
             [
              0.2222222222222222,
              "#7201a8"
             ],
             [
              0.3333333333333333,
              "#9c179e"
             ],
             [
              0.4444444444444444,
              "#bd3786"
             ],
             [
              0.5555555555555556,
              "#d8576b"
             ],
             [
              0.6666666666666666,
              "#ed7953"
             ],
             [
              0.7777777777777778,
              "#fb9f3a"
             ],
             [
              0.8888888888888888,
              "#fdca26"
             ],
             [
              1,
              "#f0f921"
             ]
            ],
            "type": "heatmap"
           }
          ],
          "histogram": [
           {
            "marker": {
             "pattern": {
              "fillmode": "overlay",
              "size": 10,
              "solidity": 0.2
             }
            },
            "type": "histogram"
           }
          ],
          "histogram2d": [
           {
            "colorbar": {
             "outlinewidth": 0,
             "ticks": ""
            },
            "colorscale": [
             [
              0,
              "#0d0887"
             ],
             [
              0.1111111111111111,
              "#46039f"
             ],
             [
              0.2222222222222222,
              "#7201a8"
             ],
             [
              0.3333333333333333,
              "#9c179e"
             ],
             [
              0.4444444444444444,
              "#bd3786"
             ],
             [
              0.5555555555555556,
              "#d8576b"
             ],
             [
              0.6666666666666666,
              "#ed7953"
             ],
             [
              0.7777777777777778,
              "#fb9f3a"
             ],
             [
              0.8888888888888888,
              "#fdca26"
             ],
             [
              1,
              "#f0f921"
             ]
            ],
            "type": "histogram2d"
           }
          ],
          "histogram2dcontour": [
           {
            "colorbar": {
             "outlinewidth": 0,
             "ticks": ""
            },
            "colorscale": [
             [
              0,
              "#0d0887"
             ],
             [
              0.1111111111111111,
              "#46039f"
             ],
             [
              0.2222222222222222,
              "#7201a8"
             ],
             [
              0.3333333333333333,
              "#9c179e"
             ],
             [
              0.4444444444444444,
              "#bd3786"
             ],
             [
              0.5555555555555556,
              "#d8576b"
             ],
             [
              0.6666666666666666,
              "#ed7953"
             ],
             [
              0.7777777777777778,
              "#fb9f3a"
             ],
             [
              0.8888888888888888,
              "#fdca26"
             ],
             [
              1,
              "#f0f921"
             ]
            ],
            "type": "histogram2dcontour"
           }
          ],
          "mesh3d": [
           {
            "colorbar": {
             "outlinewidth": 0,
             "ticks": ""
            },
            "type": "mesh3d"
           }
          ],
          "parcoords": [
           {
            "line": {
             "colorbar": {
              "outlinewidth": 0,
              "ticks": ""
             }
            },
            "type": "parcoords"
           }
          ],
          "pie": [
           {
            "automargin": true,
            "type": "pie"
           }
          ],
          "scatter": [
           {
            "fillpattern": {
             "fillmode": "overlay",
             "size": 10,
             "solidity": 0.2
            },
            "type": "scatter"
           }
          ],
          "scatter3d": [
           {
            "line": {
             "colorbar": {
              "outlinewidth": 0,
              "ticks": ""
             }
            },
            "marker": {
             "colorbar": {
              "outlinewidth": 0,
              "ticks": ""
             }
            },
            "type": "scatter3d"
           }
          ],
          "scattercarpet": [
           {
            "marker": {
             "colorbar": {
              "outlinewidth": 0,
              "ticks": ""
             }
            },
            "type": "scattercarpet"
           }
          ],
          "scattergeo": [
           {
            "marker": {
             "colorbar": {
              "outlinewidth": 0,
              "ticks": ""
             }
            },
            "type": "scattergeo"
           }
          ],
          "scattergl": [
           {
            "marker": {
             "colorbar": {
              "outlinewidth": 0,
              "ticks": ""
             }
            },
            "type": "scattergl"
           }
          ],
          "scattermap": [
           {
            "marker": {
             "colorbar": {
              "outlinewidth": 0,
              "ticks": ""
             }
            },
            "type": "scattermap"
           }
          ],
          "scattermapbox": [
           {
            "marker": {
             "colorbar": {
              "outlinewidth": 0,
              "ticks": ""
             }
            },
            "type": "scattermapbox"
           }
          ],
          "scatterpolar": [
           {
            "marker": {
             "colorbar": {
              "outlinewidth": 0,
              "ticks": ""
             }
            },
            "type": "scatterpolar"
           }
          ],
          "scatterpolargl": [
           {
            "marker": {
             "colorbar": {
              "outlinewidth": 0,
              "ticks": ""
             }
            },
            "type": "scatterpolargl"
           }
          ],
          "scatterternary": [
           {
            "marker": {
             "colorbar": {
              "outlinewidth": 0,
              "ticks": ""
             }
            },
            "type": "scatterternary"
           }
          ],
          "surface": [
           {
            "colorbar": {
             "outlinewidth": 0,
             "ticks": ""
            },
            "colorscale": [
             [
              0,
              "#0d0887"
             ],
             [
              0.1111111111111111,
              "#46039f"
             ],
             [
              0.2222222222222222,
              "#7201a8"
             ],
             [
              0.3333333333333333,
              "#9c179e"
             ],
             [
              0.4444444444444444,
              "#bd3786"
             ],
             [
              0.5555555555555556,
              "#d8576b"
             ],
             [
              0.6666666666666666,
              "#ed7953"
             ],
             [
              0.7777777777777778,
              "#fb9f3a"
             ],
             [
              0.8888888888888888,
              "#fdca26"
             ],
             [
              1,
              "#f0f921"
             ]
            ],
            "type": "surface"
           }
          ],
          "table": [
           {
            "cells": {
             "fill": {
              "color": "#EBF0F8"
             },
             "line": {
              "color": "white"
             }
            },
            "header": {
             "fill": {
              "color": "#C8D4E3"
             },
             "line": {
              "color": "white"
             }
            },
            "type": "table"
           }
          ]
         },
         "layout": {
          "annotationdefaults": {
           "arrowcolor": "#2a3f5f",
           "arrowhead": 0,
           "arrowwidth": 1
          },
          "autotypenumbers": "strict",
          "coloraxis": {
           "colorbar": {
            "outlinewidth": 0,
            "ticks": ""
           }
          },
          "colorscale": {
           "diverging": [
            [
             0,
             "#8e0152"
            ],
            [
             0.1,
             "#c51b7d"
            ],
            [
             0.2,
             "#de77ae"
            ],
            [
             0.3,
             "#f1b6da"
            ],
            [
             0.4,
             "#fde0ef"
            ],
            [
             0.5,
             "#f7f7f7"
            ],
            [
             0.6,
             "#e6f5d0"
            ],
            [
             0.7,
             "#b8e186"
            ],
            [
             0.8,
             "#7fbc41"
            ],
            [
             0.9,
             "#4d9221"
            ],
            [
             1,
             "#276419"
            ]
           ],
           "sequential": [
            [
             0,
             "#0d0887"
            ],
            [
             0.1111111111111111,
             "#46039f"
            ],
            [
             0.2222222222222222,
             "#7201a8"
            ],
            [
             0.3333333333333333,
             "#9c179e"
            ],
            [
             0.4444444444444444,
             "#bd3786"
            ],
            [
             0.5555555555555556,
             "#d8576b"
            ],
            [
             0.6666666666666666,
             "#ed7953"
            ],
            [
             0.7777777777777778,
             "#fb9f3a"
            ],
            [
             0.8888888888888888,
             "#fdca26"
            ],
            [
             1,
             "#f0f921"
            ]
           ],
           "sequentialminus": [
            [
             0,
             "#0d0887"
            ],
            [
             0.1111111111111111,
             "#46039f"
            ],
            [
             0.2222222222222222,
             "#7201a8"
            ],
            [
             0.3333333333333333,
             "#9c179e"
            ],
            [
             0.4444444444444444,
             "#bd3786"
            ],
            [
             0.5555555555555556,
             "#d8576b"
            ],
            [
             0.6666666666666666,
             "#ed7953"
            ],
            [
             0.7777777777777778,
             "#fb9f3a"
            ],
            [
             0.8888888888888888,
             "#fdca26"
            ],
            [
             1,
             "#f0f921"
            ]
           ]
          },
          "colorway": [
           "#636efa",
           "#EF553B",
           "#00cc96",
           "#ab63fa",
           "#FFA15A",
           "#19d3f3",
           "#FF6692",
           "#B6E880",
           "#FF97FF",
           "#FECB52"
          ],
          "font": {
           "color": "#2a3f5f"
          },
          "geo": {
           "bgcolor": "white",
           "lakecolor": "white",
           "landcolor": "white",
           "showlakes": true,
           "showland": true,
           "subunitcolor": "#C8D4E3"
          },
          "hoverlabel": {
           "align": "left"
          },
          "hovermode": "closest",
          "mapbox": {
           "style": "light"
          },
          "paper_bgcolor": "white",
          "plot_bgcolor": "white",
          "polar": {
           "angularaxis": {
            "gridcolor": "#EBF0F8",
            "linecolor": "#EBF0F8",
            "ticks": ""
           },
           "bgcolor": "white",
           "radialaxis": {
            "gridcolor": "#EBF0F8",
            "linecolor": "#EBF0F8",
            "ticks": ""
           }
          },
          "scene": {
           "xaxis": {
            "backgroundcolor": "white",
            "gridcolor": "#DFE8F3",
            "gridwidth": 2,
            "linecolor": "#EBF0F8",
            "showbackground": true,
            "ticks": "",
            "zerolinecolor": "#EBF0F8"
           },
           "yaxis": {
            "backgroundcolor": "white",
            "gridcolor": "#DFE8F3",
            "gridwidth": 2,
            "linecolor": "#EBF0F8",
            "showbackground": true,
            "ticks": "",
            "zerolinecolor": "#EBF0F8"
           },
           "zaxis": {
            "backgroundcolor": "white",
            "gridcolor": "#DFE8F3",
            "gridwidth": 2,
            "linecolor": "#EBF0F8",
            "showbackground": true,
            "ticks": "",
            "zerolinecolor": "#EBF0F8"
           }
          },
          "shapedefaults": {
           "line": {
            "color": "#2a3f5f"
           }
          },
          "ternary": {
           "aaxis": {
            "gridcolor": "#DFE8F3",
            "linecolor": "#A2B1C6",
            "ticks": ""
           },
           "baxis": {
            "gridcolor": "#DFE8F3",
            "linecolor": "#A2B1C6",
            "ticks": ""
           },
           "bgcolor": "white",
           "caxis": {
            "gridcolor": "#DFE8F3",
            "linecolor": "#A2B1C6",
            "ticks": ""
           }
          },
          "title": {
           "x": 0.05
          },
          "xaxis": {
           "automargin": true,
           "gridcolor": "#EBF0F8",
           "linecolor": "#EBF0F8",
           "ticks": "",
           "title": {
            "standoff": 15
           },
           "zerolinecolor": "#EBF0F8",
           "zerolinewidth": 2
          },
          "yaxis": {
           "automargin": true,
           "gridcolor": "#EBF0F8",
           "linecolor": "#EBF0F8",
           "ticks": "",
           "title": {
            "standoff": 15
           },
           "zerolinecolor": "#EBF0F8",
           "zerolinewidth": 2
          }
         }
        },
        "title": {
         "text": "U.S. Gasoline Price Heatmap with Average Monthly Price",
         "x": 0.5
        },
        "xaxis": {
         "anchor": "y",
         "domain": [
          0,
          0.784
         ]
        },
        "xaxis2": {
         "anchor": "y2",
         "domain": [
          0.804,
          1
         ]
        },
        "yaxis": {
         "anchor": "x",
         "categoryarray": [
          "December",
          "November",
          "October",
          "September",
          "August",
          "July",
          "June",
          "May",
          "April",
          "March",
          "February",
          "January"
         ],
         "categoryorder": "array",
         "domain": [
          0,
          1
         ]
        },
        "yaxis2": {
         "anchor": "x2",
         "categoryarray": [
          "December",
          "November",
          "October",
          "September",
          "August",
          "July",
          "June",
          "May",
          "April",
          "March",
          "February",
          "January"
         ],
         "categoryorder": "array",
         "domain": [
          0,
          1
         ],
         "matches": "y",
         "showticklabels": false
        }
       }
      }
     },
     "metadata": {},
     "output_type": "display_data"
    }
   ],
   "source": [
    "''' Create a heatmap to visualize gasoline prices by month and year '''\n",
    "\n",
    "# Create Month column from the Date column\n",
    "prices[\"Month\"] = prices[\"Date\"].dt.month_name()\n",
    "\n",
    "# Calculate average gasoline price per month (across all years)\n",
    "monthly_price_avg = (\n",
    "    prices.groupby(\"Month\")[\"Dollars_Per_Gallon\"]\n",
    "    .mean()\n",
    "    .reindex(month_order)\n",
    "    .reset_index()\n",
    ")\n",
    "\n",
    "# Create subplots: heatmap (left), average monthly bar chart (right)\n",
    "fig = make_subplots(\n",
    "    rows=1, cols=2,\n",
    "    column_widths=[0.8, 0.2],\n",
    "    shared_yaxes=True,\n",
    "    horizontal_spacing=0.02,\n",
    "    subplot_titles=(\"Gasoline Price Heatmap\", \"Average by Month\")\n",
    ")\n",
    "\n",
    "# Heatmap\n",
    "heatmap = go.Heatmap(\n",
    "    x=prices[\"Year\"],\n",
    "    y=prices[\"Month\"],\n",
    "    z=prices[\"Dollars_Per_Gallon\"],\n",
    "    colorscale=\"RdYlBu_r\",\n",
    "    colorbar=dict(title=\"Dollars per Gallon\"),\n",
    ")\n",
    "fig.add_trace(heatmap, row=1, col=1)\n",
    "\n",
    "# Average Monthly Bar Chart\n",
    "bars = go.Bar(\n",
    "    x=monthly_price_avg[\"Dollars_Per_Gallon\"],\n",
    "    y=monthly_price_avg[\"Month\"],\n",
    "    orientation=\"h\",\n",
    "    marker_color=\"crimson\",\n",
    "    name=\"Monthly Avg\"\n",
    ")\n",
    "fig.add_trace(bars, row=1, col=2)\n",
    "\n",
    "# Layout settings\n",
    "fig.update_layout(\n",
    "    template=\"plotly_white\",\n",
    "    title=\"U.S. Gasoline Price Heatmap with Average Monthly Price\",\n",
    "    title_x=0.5,\n",
    "    height=600,\n",
    ")\n",
    "\n",
    "# Update trace settings\n",
    "fig.update_traces(\n",
    "    selector=dict(type=\"heatmap\"),\n",
    "    showscale=True,\n",
    "    hovertemplate=\"Year: %{x}<br>Month: %{y}<br>Price: %{z:.2f} USD<extra></extra>\"\n",
    ")\n",
    "fig.update_traces(\n",
    "    selector=dict(type=\"bar\"),\n",
    "    hovertemplate=\"Month: %{y}<br>Avg Price: %{x:.2f} USD<extra></extra>\"\n",
    ")\n",
    "\n",
    "# Reverse y-axis for both subplots to have January at the top\n",
    "fig.update_yaxes(categoryorder=\"array\", categoryarray=month_order[::-1])\n",
    "\n",
    "fig.show()"
   ]
  },
  {
   "cell_type": "code",
   "execution_count": 460,
   "id": "f34b9d7e",
   "metadata": {},
   "outputs": [
    {
     "data": {
      "application/vnd.plotly.v1+json": {
       "config": {
        "plotlyServerURL": "https://plot.ly"
       },
       "data": [
        {
         "hovertemplate": "Date=%{x}<br>% Change from Prior Year=%{y}<extra></extra>",
         "legendgroup": "",
         "line": {
          "color": "firebrick",
          "dash": "solid",
          "width": 2
         },
         "marker": {
          "symbol": "circle"
         },
         "mode": "lines",
         "name": "",
         "orientation": "v",
         "showlegend": false,
         "type": "scatter",
         "x": [
          "1993-04-01T00:00:00.000000000",
          "1993-05-01T00:00:00.000000000",
          "1993-06-01T00:00:00.000000000",
          "1993-07-01T00:00:00.000000000",
          "1993-08-01T00:00:00.000000000",
          "1993-09-01T00:00:00.000000000",
          "1993-10-01T00:00:00.000000000",
          "1993-11-01T00:00:00.000000000",
          "1993-12-01T00:00:00.000000000",
          "1994-01-01T00:00:00.000000000",
          "1994-02-01T00:00:00.000000000",
          "1994-03-01T00:00:00.000000000",
          "1994-04-01T00:00:00.000000000",
          "1994-05-01T00:00:00.000000000",
          "1994-06-01T00:00:00.000000000",
          "1994-07-01T00:00:00.000000000",
          "1994-08-01T00:00:00.000000000",
          "1994-09-01T00:00:00.000000000",
          "1994-10-01T00:00:00.000000000",
          "1994-11-01T00:00:00.000000000",
          "1994-12-01T00:00:00.000000000",
          "1995-01-01T00:00:00.000000000",
          "1995-02-01T00:00:00.000000000",
          "1995-03-01T00:00:00.000000000",
          "1995-04-01T00:00:00.000000000",
          "1995-05-01T00:00:00.000000000",
          "1995-06-01T00:00:00.000000000",
          "1995-07-01T00:00:00.000000000",
          "1995-08-01T00:00:00.000000000",
          "1995-09-01T00:00:00.000000000",
          "1995-10-01T00:00:00.000000000",
          "1995-11-01T00:00:00.000000000",
          "1995-12-01T00:00:00.000000000",
          "1996-01-01T00:00:00.000000000",
          "1996-02-01T00:00:00.000000000",
          "1996-03-01T00:00:00.000000000",
          "1996-04-01T00:00:00.000000000",
          "1996-05-01T00:00:00.000000000",
          "1996-06-01T00:00:00.000000000",
          "1996-07-01T00:00:00.000000000",
          "1996-08-01T00:00:00.000000000",
          "1996-09-01T00:00:00.000000000",
          "1996-10-01T00:00:00.000000000",
          "1996-11-01T00:00:00.000000000",
          "1996-12-01T00:00:00.000000000",
          "1997-01-01T00:00:00.000000000",
          "1997-02-01T00:00:00.000000000",
          "1997-03-01T00:00:00.000000000",
          "1997-04-01T00:00:00.000000000",
          "1997-05-01T00:00:00.000000000",
          "1997-06-01T00:00:00.000000000",
          "1997-07-01T00:00:00.000000000",
          "1997-08-01T00:00:00.000000000",
          "1997-09-01T00:00:00.000000000",
          "1997-10-01T00:00:00.000000000",
          "1997-11-01T00:00:00.000000000",
          "1997-12-01T00:00:00.000000000",
          "1998-01-01T00:00:00.000000000",
          "1998-02-01T00:00:00.000000000",
          "1998-03-01T00:00:00.000000000",
          "1998-04-01T00:00:00.000000000",
          "1998-05-01T00:00:00.000000000",
          "1998-06-01T00:00:00.000000000",
          "1998-07-01T00:00:00.000000000",
          "1998-08-01T00:00:00.000000000",
          "1998-09-01T00:00:00.000000000",
          "1998-10-01T00:00:00.000000000",
          "1998-11-01T00:00:00.000000000",
          "1998-12-01T00:00:00.000000000",
          "1999-01-01T00:00:00.000000000",
          "1999-02-01T00:00:00.000000000",
          "1999-03-01T00:00:00.000000000",
          "1999-04-01T00:00:00.000000000",
          "1999-05-01T00:00:00.000000000",
          "1999-06-01T00:00:00.000000000",
          "1999-07-01T00:00:00.000000000",
          "1999-08-01T00:00:00.000000000",
          "1999-09-01T00:00:00.000000000",
          "1999-10-01T00:00:00.000000000",
          "1999-11-01T00:00:00.000000000",
          "1999-12-01T00:00:00.000000000",
          "2000-01-01T00:00:00.000000000",
          "2000-02-01T00:00:00.000000000",
          "2000-03-01T00:00:00.000000000",
          "2000-04-01T00:00:00.000000000",
          "2000-05-01T00:00:00.000000000",
          "2000-06-01T00:00:00.000000000",
          "2000-07-01T00:00:00.000000000",
          "2000-08-01T00:00:00.000000000",
          "2000-09-01T00:00:00.000000000",
          "2000-10-01T00:00:00.000000000",
          "2000-11-01T00:00:00.000000000",
          "2000-12-01T00:00:00.000000000",
          "2001-01-01T00:00:00.000000000",
          "2001-02-01T00:00:00.000000000",
          "2001-03-01T00:00:00.000000000",
          "2001-04-01T00:00:00.000000000",
          "2001-05-01T00:00:00.000000000",
          "2001-06-01T00:00:00.000000000",
          "2001-07-01T00:00:00.000000000",
          "2001-08-01T00:00:00.000000000",
          "2001-09-01T00:00:00.000000000",
          "2001-10-01T00:00:00.000000000",
          "2001-11-01T00:00:00.000000000",
          "2001-12-01T00:00:00.000000000",
          "2002-01-01T00:00:00.000000000",
          "2002-02-01T00:00:00.000000000",
          "2002-03-01T00:00:00.000000000",
          "2002-04-01T00:00:00.000000000",
          "2002-05-01T00:00:00.000000000",
          "2002-06-01T00:00:00.000000000",
          "2002-07-01T00:00:00.000000000",
          "2002-08-01T00:00:00.000000000",
          "2002-09-01T00:00:00.000000000",
          "2002-10-01T00:00:00.000000000",
          "2002-11-01T00:00:00.000000000",
          "2002-12-01T00:00:00.000000000",
          "2003-01-01T00:00:00.000000000",
          "2003-02-01T00:00:00.000000000",
          "2003-03-01T00:00:00.000000000",
          "2003-04-01T00:00:00.000000000",
          "2003-05-01T00:00:00.000000000",
          "2003-06-01T00:00:00.000000000",
          "2003-07-01T00:00:00.000000000",
          "2003-08-01T00:00:00.000000000",
          "2003-09-01T00:00:00.000000000",
          "2003-10-01T00:00:00.000000000",
          "2003-11-01T00:00:00.000000000",
          "2003-12-01T00:00:00.000000000",
          "2004-01-01T00:00:00.000000000",
          "2004-02-01T00:00:00.000000000",
          "2004-03-01T00:00:00.000000000",
          "2004-04-01T00:00:00.000000000",
          "2004-05-01T00:00:00.000000000",
          "2004-06-01T00:00:00.000000000",
          "2004-07-01T00:00:00.000000000",
          "2004-08-01T00:00:00.000000000",
          "2004-09-01T00:00:00.000000000",
          "2004-10-01T00:00:00.000000000",
          "2004-11-01T00:00:00.000000000",
          "2004-12-01T00:00:00.000000000",
          "2005-01-01T00:00:00.000000000",
          "2005-02-01T00:00:00.000000000",
          "2005-03-01T00:00:00.000000000",
          "2005-04-01T00:00:00.000000000",
          "2005-05-01T00:00:00.000000000",
          "2005-06-01T00:00:00.000000000",
          "2005-07-01T00:00:00.000000000",
          "2005-08-01T00:00:00.000000000",
          "2005-09-01T00:00:00.000000000",
          "2005-10-01T00:00:00.000000000",
          "2005-11-01T00:00:00.000000000",
          "2005-12-01T00:00:00.000000000",
          "2006-01-01T00:00:00.000000000",
          "2006-02-01T00:00:00.000000000",
          "2006-03-01T00:00:00.000000000",
          "2006-04-01T00:00:00.000000000",
          "2006-05-01T00:00:00.000000000",
          "2006-06-01T00:00:00.000000000",
          "2006-07-01T00:00:00.000000000",
          "2006-08-01T00:00:00.000000000",
          "2006-09-01T00:00:00.000000000",
          "2006-10-01T00:00:00.000000000",
          "2006-11-01T00:00:00.000000000",
          "2006-12-01T00:00:00.000000000",
          "2007-01-01T00:00:00.000000000",
          "2007-02-01T00:00:00.000000000",
          "2007-03-01T00:00:00.000000000",
          "2007-04-01T00:00:00.000000000",
          "2007-05-01T00:00:00.000000000",
          "2007-06-01T00:00:00.000000000",
          "2007-07-01T00:00:00.000000000",
          "2007-08-01T00:00:00.000000000",
          "2007-09-01T00:00:00.000000000",
          "2007-10-01T00:00:00.000000000",
          "2007-11-01T00:00:00.000000000",
          "2007-12-01T00:00:00.000000000",
          "2008-01-01T00:00:00.000000000",
          "2008-02-01T00:00:00.000000000",
          "2008-03-01T00:00:00.000000000",
          "2008-04-01T00:00:00.000000000",
          "2008-05-01T00:00:00.000000000",
          "2008-06-01T00:00:00.000000000",
          "2008-07-01T00:00:00.000000000",
          "2008-08-01T00:00:00.000000000",
          "2008-09-01T00:00:00.000000000",
          "2008-10-01T00:00:00.000000000",
          "2008-11-01T00:00:00.000000000",
          "2008-12-01T00:00:00.000000000",
          "2009-01-01T00:00:00.000000000",
          "2009-02-01T00:00:00.000000000",
          "2009-03-01T00:00:00.000000000",
          "2009-04-01T00:00:00.000000000",
          "2009-05-01T00:00:00.000000000",
          "2009-06-01T00:00:00.000000000",
          "2009-07-01T00:00:00.000000000",
          "2009-08-01T00:00:00.000000000",
          "2009-09-01T00:00:00.000000000",
          "2009-10-01T00:00:00.000000000",
          "2009-11-01T00:00:00.000000000",
          "2009-12-01T00:00:00.000000000",
          "2010-01-01T00:00:00.000000000",
          "2010-02-01T00:00:00.000000000",
          "2010-03-01T00:00:00.000000000",
          "2010-04-01T00:00:00.000000000",
          "2010-05-01T00:00:00.000000000",
          "2010-06-01T00:00:00.000000000",
          "2010-07-01T00:00:00.000000000",
          "2010-08-01T00:00:00.000000000",
          "2010-09-01T00:00:00.000000000",
          "2010-10-01T00:00:00.000000000",
          "2010-11-01T00:00:00.000000000",
          "2010-12-01T00:00:00.000000000",
          "2011-01-01T00:00:00.000000000",
          "2011-02-01T00:00:00.000000000",
          "2011-03-01T00:00:00.000000000",
          "2011-04-01T00:00:00.000000000",
          "2011-05-01T00:00:00.000000000",
          "2011-06-01T00:00:00.000000000",
          "2011-07-01T00:00:00.000000000",
          "2011-08-01T00:00:00.000000000",
          "2011-09-01T00:00:00.000000000",
          "2011-10-01T00:00:00.000000000",
          "2011-11-01T00:00:00.000000000",
          "2011-12-01T00:00:00.000000000",
          "2012-01-01T00:00:00.000000000",
          "2012-02-01T00:00:00.000000000",
          "2012-03-01T00:00:00.000000000",
          "2012-04-01T00:00:00.000000000",
          "2012-05-01T00:00:00.000000000",
          "2012-06-01T00:00:00.000000000",
          "2012-07-01T00:00:00.000000000",
          "2012-08-01T00:00:00.000000000",
          "2012-09-01T00:00:00.000000000",
          "2012-10-01T00:00:00.000000000",
          "2012-11-01T00:00:00.000000000",
          "2012-12-01T00:00:00.000000000",
          "2013-01-01T00:00:00.000000000",
          "2013-02-01T00:00:00.000000000",
          "2013-03-01T00:00:00.000000000",
          "2013-04-01T00:00:00.000000000",
          "2013-05-01T00:00:00.000000000",
          "2013-06-01T00:00:00.000000000",
          "2013-07-01T00:00:00.000000000",
          "2013-08-01T00:00:00.000000000",
          "2013-09-01T00:00:00.000000000",
          "2013-10-01T00:00:00.000000000",
          "2013-11-01T00:00:00.000000000",
          "2013-12-01T00:00:00.000000000",
          "2014-01-01T00:00:00.000000000",
          "2014-02-01T00:00:00.000000000",
          "2014-03-01T00:00:00.000000000",
          "2014-04-01T00:00:00.000000000",
          "2014-05-01T00:00:00.000000000",
          "2014-06-01T00:00:00.000000000",
          "2014-07-01T00:00:00.000000000",
          "2014-08-01T00:00:00.000000000",
          "2014-09-01T00:00:00.000000000",
          "2014-10-01T00:00:00.000000000",
          "2014-11-01T00:00:00.000000000",
          "2014-12-01T00:00:00.000000000",
          "2015-01-01T00:00:00.000000000",
          "2015-02-01T00:00:00.000000000",
          "2015-03-01T00:00:00.000000000",
          "2015-04-01T00:00:00.000000000",
          "2015-05-01T00:00:00.000000000",
          "2015-06-01T00:00:00.000000000",
          "2015-07-01T00:00:00.000000000",
          "2015-08-01T00:00:00.000000000",
          "2015-09-01T00:00:00.000000000",
          "2015-10-01T00:00:00.000000000",
          "2015-11-01T00:00:00.000000000",
          "2015-12-01T00:00:00.000000000",
          "2016-01-01T00:00:00.000000000",
          "2016-02-01T00:00:00.000000000",
          "2016-03-01T00:00:00.000000000",
          "2016-04-01T00:00:00.000000000",
          "2016-05-01T00:00:00.000000000",
          "2016-06-01T00:00:00.000000000",
          "2016-07-01T00:00:00.000000000",
          "2016-08-01T00:00:00.000000000",
          "2016-09-01T00:00:00.000000000",
          "2016-10-01T00:00:00.000000000",
          "2016-11-01T00:00:00.000000000",
          "2016-12-01T00:00:00.000000000",
          "2017-01-01T00:00:00.000000000",
          "2017-02-01T00:00:00.000000000",
          "2017-03-01T00:00:00.000000000",
          "2017-04-01T00:00:00.000000000",
          "2017-05-01T00:00:00.000000000",
          "2017-06-01T00:00:00.000000000",
          "2017-07-01T00:00:00.000000000",
          "2017-08-01T00:00:00.000000000",
          "2017-09-01T00:00:00.000000000",
          "2017-10-01T00:00:00.000000000",
          "2017-11-01T00:00:00.000000000",
          "2017-12-01T00:00:00.000000000",
          "2018-01-01T00:00:00.000000000",
          "2018-02-01T00:00:00.000000000",
          "2018-03-01T00:00:00.000000000",
          "2018-04-01T00:00:00.000000000",
          "2018-05-01T00:00:00.000000000",
          "2018-06-01T00:00:00.000000000",
          "2018-07-01T00:00:00.000000000",
          "2018-08-01T00:00:00.000000000",
          "2018-09-01T00:00:00.000000000",
          "2018-10-01T00:00:00.000000000",
          "2018-11-01T00:00:00.000000000",
          "2018-12-01T00:00:00.000000000",
          "2019-01-01T00:00:00.000000000",
          "2019-02-01T00:00:00.000000000",
          "2019-03-01T00:00:00.000000000",
          "2019-04-01T00:00:00.000000000",
          "2019-05-01T00:00:00.000000000",
          "2019-06-01T00:00:00.000000000",
          "2019-07-01T00:00:00.000000000",
          "2019-08-01T00:00:00.000000000",
          "2019-09-01T00:00:00.000000000",
          "2019-10-01T00:00:00.000000000",
          "2019-11-01T00:00:00.000000000",
          "2019-12-01T00:00:00.000000000",
          "2020-01-01T00:00:00.000000000",
          "2020-02-01T00:00:00.000000000",
          "2020-03-01T00:00:00.000000000",
          "2020-04-01T00:00:00.000000000",
          "2020-05-01T00:00:00.000000000",
          "2020-06-01T00:00:00.000000000",
          "2020-07-01T00:00:00.000000000",
          "2020-08-01T00:00:00.000000000",
          "2020-09-01T00:00:00.000000000",
          "2020-10-01T00:00:00.000000000",
          "2020-11-01T00:00:00.000000000",
          "2020-12-01T00:00:00.000000000",
          "2021-01-01T00:00:00.000000000",
          "2021-02-01T00:00:00.000000000",
          "2021-03-01T00:00:00.000000000",
          "2021-04-01T00:00:00.000000000",
          "2021-05-01T00:00:00.000000000",
          "2021-06-01T00:00:00.000000000",
          "2021-07-01T00:00:00.000000000",
          "2021-08-01T00:00:00.000000000",
          "2021-09-01T00:00:00.000000000",
          "2021-10-01T00:00:00.000000000",
          "2021-11-01T00:00:00.000000000",
          "2021-12-01T00:00:00.000000000",
          "2022-01-01T00:00:00.000000000",
          "2022-02-01T00:00:00.000000000",
          "2022-03-01T00:00:00.000000000",
          "2022-04-01T00:00:00.000000000",
          "2022-05-01T00:00:00.000000000",
          "2022-06-01T00:00:00.000000000",
          "2022-07-01T00:00:00.000000000",
          "2022-08-01T00:00:00.000000000",
          "2022-09-01T00:00:00.000000000",
          "2022-10-01T00:00:00.000000000",
          "2022-11-01T00:00:00.000000000",
          "2022-12-01T00:00:00.000000000",
          "2023-01-01T00:00:00.000000000",
          "2023-02-01T00:00:00.000000000",
          "2023-03-01T00:00:00.000000000",
          "2023-04-01T00:00:00.000000000",
          "2023-05-01T00:00:00.000000000",
          "2023-06-01T00:00:00.000000000",
          "2023-07-01T00:00:00.000000000",
          "2023-08-01T00:00:00.000000000",
          "2023-09-01T00:00:00.000000000",
          "2023-10-01T00:00:00.000000000",
          "2023-11-01T00:00:00.000000000",
          "2023-12-01T00:00:00.000000000",
          "2024-01-01T00:00:00.000000000",
          "2024-02-01T00:00:00.000000000",
          "2024-03-01T00:00:00.000000000",
          "2024-04-01T00:00:00.000000000",
          "2024-05-01T00:00:00.000000000",
          "2024-06-01T00:00:00.000000000",
          "2024-07-01T00:00:00.000000000",
          "2024-08-01T00:00:00.000000000",
          "2024-09-01T00:00:00.000000000",
          "2024-10-01T00:00:00.000000000",
          "2024-11-01T00:00:00.000000000",
          "2024-12-01T00:00:00.000000000"
         ],
         "xaxis": "x",
         "y": {
          "bdata": "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",
          "dtype": "f8"
         },
         "yaxis": "y"
        }
       ],
       "layout": {
        "legend": {
         "tracegroupgap": 0
        },
        "template": {
         "data": {
          "bar": [
           {
            "error_x": {
             "color": "#2a3f5f"
            },
            "error_y": {
             "color": "#2a3f5f"
            },
            "marker": {
             "line": {
              "color": "white",
              "width": 0.5
             },
             "pattern": {
              "fillmode": "overlay",
              "size": 10,
              "solidity": 0.2
             }
            },
            "type": "bar"
           }
          ],
          "barpolar": [
           {
            "marker": {
             "line": {
              "color": "white",
              "width": 0.5
             },
             "pattern": {
              "fillmode": "overlay",
              "size": 10,
              "solidity": 0.2
             }
            },
            "type": "barpolar"
           }
          ],
          "carpet": [
           {
            "aaxis": {
             "endlinecolor": "#2a3f5f",
             "gridcolor": "#C8D4E3",
             "linecolor": "#C8D4E3",
             "minorgridcolor": "#C8D4E3",
             "startlinecolor": "#2a3f5f"
            },
            "baxis": {
             "endlinecolor": "#2a3f5f",
             "gridcolor": "#C8D4E3",
             "linecolor": "#C8D4E3",
             "minorgridcolor": "#C8D4E3",
             "startlinecolor": "#2a3f5f"
            },
            "type": "carpet"
           }
          ],
          "choropleth": [
           {
            "colorbar": {
             "outlinewidth": 0,
             "ticks": ""
            },
            "type": "choropleth"
           }
          ],
          "contour": [
           {
            "colorbar": {
             "outlinewidth": 0,
             "ticks": ""
            },
            "colorscale": [
             [
              0,
              "#0d0887"
             ],
             [
              0.1111111111111111,
              "#46039f"
             ],
             [
              0.2222222222222222,
              "#7201a8"
             ],
             [
              0.3333333333333333,
              "#9c179e"
             ],
             [
              0.4444444444444444,
              "#bd3786"
             ],
             [
              0.5555555555555556,
              "#d8576b"
             ],
             [
              0.6666666666666666,
              "#ed7953"
             ],
             [
              0.7777777777777778,
              "#fb9f3a"
             ],
             [
              0.8888888888888888,
              "#fdca26"
             ],
             [
              1,
              "#f0f921"
             ]
            ],
            "type": "contour"
           }
          ],
          "contourcarpet": [
           {
            "colorbar": {
             "outlinewidth": 0,
             "ticks": ""
            },
            "type": "contourcarpet"
           }
          ],
          "heatmap": [
           {
            "colorbar": {
             "outlinewidth": 0,
             "ticks": ""
            },
            "colorscale": [
             [
              0,
              "#0d0887"
             ],
             [
              0.1111111111111111,
              "#46039f"
             ],
             [
              0.2222222222222222,
              "#7201a8"
             ],
             [
              0.3333333333333333,
              "#9c179e"
             ],
             [
              0.4444444444444444,
              "#bd3786"
             ],
             [
              0.5555555555555556,
              "#d8576b"
             ],
             [
              0.6666666666666666,
              "#ed7953"
             ],
             [
              0.7777777777777778,
              "#fb9f3a"
             ],
             [
              0.8888888888888888,
              "#fdca26"
             ],
             [
              1,
              "#f0f921"
             ]
            ],
            "type": "heatmap"
           }
          ],
          "histogram": [
           {
            "marker": {
             "pattern": {
              "fillmode": "overlay",
              "size": 10,
              "solidity": 0.2
             }
            },
            "type": "histogram"
           }
          ],
          "histogram2d": [
           {
            "colorbar": {
             "outlinewidth": 0,
             "ticks": ""
            },
            "colorscale": [
             [
              0,
              "#0d0887"
             ],
             [
              0.1111111111111111,
              "#46039f"
             ],
             [
              0.2222222222222222,
              "#7201a8"
             ],
             [
              0.3333333333333333,
              "#9c179e"
             ],
             [
              0.4444444444444444,
              "#bd3786"
             ],
             [
              0.5555555555555556,
              "#d8576b"
             ],
             [
              0.6666666666666666,
              "#ed7953"
             ],
             [
              0.7777777777777778,
              "#fb9f3a"
             ],
             [
              0.8888888888888888,
              "#fdca26"
             ],
             [
              1,
              "#f0f921"
             ]
            ],
            "type": "histogram2d"
           }
          ],
          "histogram2dcontour": [
           {
            "colorbar": {
             "outlinewidth": 0,
             "ticks": ""
            },
            "colorscale": [
             [
              0,
              "#0d0887"
             ],
             [
              0.1111111111111111,
              "#46039f"
             ],
             [
              0.2222222222222222,
              "#7201a8"
             ],
             [
              0.3333333333333333,
              "#9c179e"
             ],
             [
              0.4444444444444444,
              "#bd3786"
             ],
             [
              0.5555555555555556,
              "#d8576b"
             ],
             [
              0.6666666666666666,
              "#ed7953"
             ],
             [
              0.7777777777777778,
              "#fb9f3a"
             ],
             [
              0.8888888888888888,
              "#fdca26"
             ],
             [
              1,
              "#f0f921"
             ]
            ],
            "type": "histogram2dcontour"
           }
          ],
          "mesh3d": [
           {
            "colorbar": {
             "outlinewidth": 0,
             "ticks": ""
            },
            "type": "mesh3d"
           }
          ],
          "parcoords": [
           {
            "line": {
             "colorbar": {
              "outlinewidth": 0,
              "ticks": ""
             }
            },
            "type": "parcoords"
           }
          ],
          "pie": [
           {
            "automargin": true,
            "type": "pie"
           }
          ],
          "scatter": [
           {
            "fillpattern": {
             "fillmode": "overlay",
             "size": 10,
             "solidity": 0.2
            },
            "type": "scatter"
           }
          ],
          "scatter3d": [
           {
            "line": {
             "colorbar": {
              "outlinewidth": 0,
              "ticks": ""
             }
            },
            "marker": {
             "colorbar": {
              "outlinewidth": 0,
              "ticks": ""
             }
            },
            "type": "scatter3d"
           }
          ],
          "scattercarpet": [
           {
            "marker": {
             "colorbar": {
              "outlinewidth": 0,
              "ticks": ""
             }
            },
            "type": "scattercarpet"
           }
          ],
          "scattergeo": [
           {
            "marker": {
             "colorbar": {
              "outlinewidth": 0,
              "ticks": ""
             }
            },
            "type": "scattergeo"
           }
          ],
          "scattergl": [
           {
            "marker": {
             "colorbar": {
              "outlinewidth": 0,
              "ticks": ""
             }
            },
            "type": "scattergl"
           }
          ],
          "scattermap": [
           {
            "marker": {
             "colorbar": {
              "outlinewidth": 0,
              "ticks": ""
             }
            },
            "type": "scattermap"
           }
          ],
          "scattermapbox": [
           {
            "marker": {
             "colorbar": {
              "outlinewidth": 0,
              "ticks": ""
             }
            },
            "type": "scattermapbox"
           }
          ],
          "scatterpolar": [
           {
            "marker": {
             "colorbar": {
              "outlinewidth": 0,
              "ticks": ""
             }
            },
            "type": "scatterpolar"
           }
          ],
          "scatterpolargl": [
           {
            "marker": {
             "colorbar": {
              "outlinewidth": 0,
              "ticks": ""
             }
            },
            "type": "scatterpolargl"
           }
          ],
          "scatterternary": [
           {
            "marker": {
             "colorbar": {
              "outlinewidth": 0,
              "ticks": ""
             }
            },
            "type": "scatterternary"
           }
          ],
          "surface": [
           {
            "colorbar": {
             "outlinewidth": 0,
             "ticks": ""
            },
            "colorscale": [
             [
              0,
              "#0d0887"
             ],
             [
              0.1111111111111111,
              "#46039f"
             ],
             [
              0.2222222222222222,
              "#7201a8"
             ],
             [
              0.3333333333333333,
              "#9c179e"
             ],
             [
              0.4444444444444444,
              "#bd3786"
             ],
             [
              0.5555555555555556,
              "#d8576b"
             ],
             [
              0.6666666666666666,
              "#ed7953"
             ],
             [
              0.7777777777777778,
              "#fb9f3a"
             ],
             [
              0.8888888888888888,
              "#fdca26"
             ],
             [
              1,
              "#f0f921"
             ]
            ],
            "type": "surface"
           }
          ],
          "table": [
           {
            "cells": {
             "fill": {
              "color": "#EBF0F8"
             },
             "line": {
              "color": "white"
             }
            },
            "header": {
             "fill": {
              "color": "#C8D4E3"
             },
             "line": {
              "color": "white"
             }
            },
            "type": "table"
           }
          ]
         },
         "layout": {
          "annotationdefaults": {
           "arrowcolor": "#2a3f5f",
           "arrowhead": 0,
           "arrowwidth": 1
          },
          "autotypenumbers": "strict",
          "coloraxis": {
           "colorbar": {
            "outlinewidth": 0,
            "ticks": ""
           }
          },
          "colorscale": {
           "diverging": [
            [
             0,
             "#8e0152"
            ],
            [
             0.1,
             "#c51b7d"
            ],
            [
             0.2,
             "#de77ae"
            ],
            [
             0.3,
             "#f1b6da"
            ],
            [
             0.4,
             "#fde0ef"
            ],
            [
             0.5,
             "#f7f7f7"
            ],
            [
             0.6,
             "#e6f5d0"
            ],
            [
             0.7,
             "#b8e186"
            ],
            [
             0.8,
             "#7fbc41"
            ],
            [
             0.9,
             "#4d9221"
            ],
            [
             1,
             "#276419"
            ]
           ],
           "sequential": [
            [
             0,
             "#0d0887"
            ],
            [
             0.1111111111111111,
             "#46039f"
            ],
            [
             0.2222222222222222,
             "#7201a8"
            ],
            [
             0.3333333333333333,
             "#9c179e"
            ],
            [
             0.4444444444444444,
             "#bd3786"
            ],
            [
             0.5555555555555556,
             "#d8576b"
            ],
            [
             0.6666666666666666,
             "#ed7953"
            ],
            [
             0.7777777777777778,
             "#fb9f3a"
            ],
            [
             0.8888888888888888,
             "#fdca26"
            ],
            [
             1,
             "#f0f921"
            ]
           ],
           "sequentialminus": [
            [
             0,
             "#0d0887"
            ],
            [
             0.1111111111111111,
             "#46039f"
            ],
            [
             0.2222222222222222,
             "#7201a8"
            ],
            [
             0.3333333333333333,
             "#9c179e"
            ],
            [
             0.4444444444444444,
             "#bd3786"
            ],
            [
             0.5555555555555556,
             "#d8576b"
            ],
            [
             0.6666666666666666,
             "#ed7953"
            ],
            [
             0.7777777777777778,
             "#fb9f3a"
            ],
            [
             0.8888888888888888,
             "#fdca26"
            ],
            [
             1,
             "#f0f921"
            ]
           ]
          },
          "colorway": [
           "#636efa",
           "#EF553B",
           "#00cc96",
           "#ab63fa",
           "#FFA15A",
           "#19d3f3",
           "#FF6692",
           "#B6E880",
           "#FF97FF",
           "#FECB52"
          ],
          "font": {
           "color": "#2a3f5f"
          },
          "geo": {
           "bgcolor": "white",
           "lakecolor": "white",
           "landcolor": "white",
           "showlakes": true,
           "showland": true,
           "subunitcolor": "#C8D4E3"
          },
          "hoverlabel": {
           "align": "left"
          },
          "hovermode": "closest",
          "mapbox": {
           "style": "light"
          },
          "paper_bgcolor": "white",
          "plot_bgcolor": "white",
          "polar": {
           "angularaxis": {
            "gridcolor": "#EBF0F8",
            "linecolor": "#EBF0F8",
            "ticks": ""
           },
           "bgcolor": "white",
           "radialaxis": {
            "gridcolor": "#EBF0F8",
            "linecolor": "#EBF0F8",
            "ticks": ""
           }
          },
          "scene": {
           "xaxis": {
            "backgroundcolor": "white",
            "gridcolor": "#DFE8F3",
            "gridwidth": 2,
            "linecolor": "#EBF0F8",
            "showbackground": true,
            "ticks": "",
            "zerolinecolor": "#EBF0F8"
           },
           "yaxis": {
            "backgroundcolor": "white",
            "gridcolor": "#DFE8F3",
            "gridwidth": 2,
            "linecolor": "#EBF0F8",
            "showbackground": true,
            "ticks": "",
            "zerolinecolor": "#EBF0F8"
           },
           "zaxis": {
            "backgroundcolor": "white",
            "gridcolor": "#DFE8F3",
            "gridwidth": 2,
            "linecolor": "#EBF0F8",
            "showbackground": true,
            "ticks": "",
            "zerolinecolor": "#EBF0F8"
           }
          },
          "shapedefaults": {
           "line": {
            "color": "#2a3f5f"
           }
          },
          "ternary": {
           "aaxis": {
            "gridcolor": "#DFE8F3",
            "linecolor": "#A2B1C6",
            "ticks": ""
           },
           "baxis": {
            "gridcolor": "#DFE8F3",
            "linecolor": "#A2B1C6",
            "ticks": ""
           },
           "bgcolor": "white",
           "caxis": {
            "gridcolor": "#DFE8F3",
            "linecolor": "#A2B1C6",
            "ticks": ""
           }
          },
          "title": {
           "x": 0.05
          },
          "xaxis": {
           "automargin": true,
           "gridcolor": "#EBF0F8",
           "linecolor": "#EBF0F8",
           "ticks": "",
           "title": {
            "standoff": 15
           },
           "zerolinecolor": "#EBF0F8",
           "zerolinewidth": 2
          },
          "yaxis": {
           "automargin": true,
           "gridcolor": "#EBF0F8",
           "linecolor": "#EBF0F8",
           "ticks": "",
           "title": {
            "standoff": 15
           },
           "zerolinecolor": "#EBF0F8",
           "zerolinewidth": 2
          }
         }
        },
        "title": {
         "text": "Year-over-Year Change in U.S. Gasoline Prices (%)",
         "x": 0.5
        },
        "xaxis": {
         "anchor": "y",
         "domain": [
          0,
          1
         ],
         "title": {
          "text": "Date"
         }
        },
        "yaxis": {
         "anchor": "x",
         "domain": [
          0,
          1
         ],
         "title": {
          "text": "% Change from Prior Year"
         }
        }
       }
      }
     },
     "metadata": {},
     "output_type": "display_data"
    }
   ],
   "source": [
    "''' Create a line plot to visualize year-over-year percentage changes in gasoline prices '''\n",
    "\n",
    "# Create line plot\n",
    "prices[\"YoY_Change_%\"] = prices[\"Dollars_Per_Gallon\"].pct_change(12) * 100\n",
    "fig = px.line(\n",
    "    prices,\n",
    "    x=\"Date\",\n",
    "    y=\"YoY_Change_%\", \n",
    "    title=\"Year-over-Year Change in U.S. Gasoline Prices (%)\",\n",
    "    labels={\"YoY_Change_%\":\"% Change from Prior Year\"},\n",
    ")\n",
    "fig.update_traces(line=dict(color=\"firebrick\", width=2))\n",
    "fig.update_layout(template=\"plotly_white\", title_x=0.5)\n",
    "\n",
    "fig.show()"
   ]
  },
  {
   "cell_type": "code",
   "execution_count": 461,
   "id": "a6a16635",
   "metadata": {},
   "outputs": [
    {
     "data": {
      "application/vnd.plotly.v1+json": {
       "config": {
        "plotlyServerURL": "https://plot.ly"
       },
       "data": [
        {
         "hovertemplate": "Date=%{x}<br>Rolling 12-Month Average Price (USD/gal)=%{y}<extra></extra>",
         "legendgroup": "",
         "line": {
          "color": "darkred",
          "dash": "solid",
          "width": 2
         },
         "marker": {
          "symbol": "circle"
         },
         "mode": "lines",
         "name": "",
         "orientation": "v",
         "showlegend": false,
         "type": "scatter",
         "x": [
          "1993-04-01T00:00:00.000000000",
          "1993-05-01T00:00:00.000000000",
          "1993-06-01T00:00:00.000000000",
          "1993-07-01T00:00:00.000000000",
          "1993-08-01T00:00:00.000000000",
          "1993-09-01T00:00:00.000000000",
          "1993-10-01T00:00:00.000000000",
          "1993-11-01T00:00:00.000000000",
          "1993-12-01T00:00:00.000000000",
          "1994-01-01T00:00:00.000000000",
          "1994-02-01T00:00:00.000000000",
          "1994-03-01T00:00:00.000000000",
          "1994-04-01T00:00:00.000000000",
          "1994-05-01T00:00:00.000000000",
          "1994-06-01T00:00:00.000000000",
          "1994-07-01T00:00:00.000000000",
          "1994-08-01T00:00:00.000000000",
          "1994-09-01T00:00:00.000000000",
          "1994-10-01T00:00:00.000000000",
          "1994-11-01T00:00:00.000000000",
          "1994-12-01T00:00:00.000000000",
          "1995-01-01T00:00:00.000000000",
          "1995-02-01T00:00:00.000000000",
          "1995-03-01T00:00:00.000000000",
          "1995-04-01T00:00:00.000000000",
          "1995-05-01T00:00:00.000000000",
          "1995-06-01T00:00:00.000000000",
          "1995-07-01T00:00:00.000000000",
          "1995-08-01T00:00:00.000000000",
          "1995-09-01T00:00:00.000000000",
          "1995-10-01T00:00:00.000000000",
          "1995-11-01T00:00:00.000000000",
          "1995-12-01T00:00:00.000000000",
          "1996-01-01T00:00:00.000000000",
          "1996-02-01T00:00:00.000000000",
          "1996-03-01T00:00:00.000000000",
          "1996-04-01T00:00:00.000000000",
          "1996-05-01T00:00:00.000000000",
          "1996-06-01T00:00:00.000000000",
          "1996-07-01T00:00:00.000000000",
          "1996-08-01T00:00:00.000000000",
          "1996-09-01T00:00:00.000000000",
          "1996-10-01T00:00:00.000000000",
          "1996-11-01T00:00:00.000000000",
          "1996-12-01T00:00:00.000000000",
          "1997-01-01T00:00:00.000000000",
          "1997-02-01T00:00:00.000000000",
          "1997-03-01T00:00:00.000000000",
          "1997-04-01T00:00:00.000000000",
          "1997-05-01T00:00:00.000000000",
          "1997-06-01T00:00:00.000000000",
          "1997-07-01T00:00:00.000000000",
          "1997-08-01T00:00:00.000000000",
          "1997-09-01T00:00:00.000000000",
          "1997-10-01T00:00:00.000000000",
          "1997-11-01T00:00:00.000000000",
          "1997-12-01T00:00:00.000000000",
          "1998-01-01T00:00:00.000000000",
          "1998-02-01T00:00:00.000000000",
          "1998-03-01T00:00:00.000000000",
          "1998-04-01T00:00:00.000000000",
          "1998-05-01T00:00:00.000000000",
          "1998-06-01T00:00:00.000000000",
          "1998-07-01T00:00:00.000000000",
          "1998-08-01T00:00:00.000000000",
          "1998-09-01T00:00:00.000000000",
          "1998-10-01T00:00:00.000000000",
          "1998-11-01T00:00:00.000000000",
          "1998-12-01T00:00:00.000000000",
          "1999-01-01T00:00:00.000000000",
          "1999-02-01T00:00:00.000000000",
          "1999-03-01T00:00:00.000000000",
          "1999-04-01T00:00:00.000000000",
          "1999-05-01T00:00:00.000000000",
          "1999-06-01T00:00:00.000000000",
          "1999-07-01T00:00:00.000000000",
          "1999-08-01T00:00:00.000000000",
          "1999-09-01T00:00:00.000000000",
          "1999-10-01T00:00:00.000000000",
          "1999-11-01T00:00:00.000000000",
          "1999-12-01T00:00:00.000000000",
          "2000-01-01T00:00:00.000000000",
          "2000-02-01T00:00:00.000000000",
          "2000-03-01T00:00:00.000000000",
          "2000-04-01T00:00:00.000000000",
          "2000-05-01T00:00:00.000000000",
          "2000-06-01T00:00:00.000000000",
          "2000-07-01T00:00:00.000000000",
          "2000-08-01T00:00:00.000000000",
          "2000-09-01T00:00:00.000000000",
          "2000-10-01T00:00:00.000000000",
          "2000-11-01T00:00:00.000000000",
          "2000-12-01T00:00:00.000000000",
          "2001-01-01T00:00:00.000000000",
          "2001-02-01T00:00:00.000000000",
          "2001-03-01T00:00:00.000000000",
          "2001-04-01T00:00:00.000000000",
          "2001-05-01T00:00:00.000000000",
          "2001-06-01T00:00:00.000000000",
          "2001-07-01T00:00:00.000000000",
          "2001-08-01T00:00:00.000000000",
          "2001-09-01T00:00:00.000000000",
          "2001-10-01T00:00:00.000000000",
          "2001-11-01T00:00:00.000000000",
          "2001-12-01T00:00:00.000000000",
          "2002-01-01T00:00:00.000000000",
          "2002-02-01T00:00:00.000000000",
          "2002-03-01T00:00:00.000000000",
          "2002-04-01T00:00:00.000000000",
          "2002-05-01T00:00:00.000000000",
          "2002-06-01T00:00:00.000000000",
          "2002-07-01T00:00:00.000000000",
          "2002-08-01T00:00:00.000000000",
          "2002-09-01T00:00:00.000000000",
          "2002-10-01T00:00:00.000000000",
          "2002-11-01T00:00:00.000000000",
          "2002-12-01T00:00:00.000000000",
          "2003-01-01T00:00:00.000000000",
          "2003-02-01T00:00:00.000000000",
          "2003-03-01T00:00:00.000000000",
          "2003-04-01T00:00:00.000000000",
          "2003-05-01T00:00:00.000000000",
          "2003-06-01T00:00:00.000000000",
          "2003-07-01T00:00:00.000000000",
          "2003-08-01T00:00:00.000000000",
          "2003-09-01T00:00:00.000000000",
          "2003-10-01T00:00:00.000000000",
          "2003-11-01T00:00:00.000000000",
          "2003-12-01T00:00:00.000000000",
          "2004-01-01T00:00:00.000000000",
          "2004-02-01T00:00:00.000000000",
          "2004-03-01T00:00:00.000000000",
          "2004-04-01T00:00:00.000000000",
          "2004-05-01T00:00:00.000000000",
          "2004-06-01T00:00:00.000000000",
          "2004-07-01T00:00:00.000000000",
          "2004-08-01T00:00:00.000000000",
          "2004-09-01T00:00:00.000000000",
          "2004-10-01T00:00:00.000000000",
          "2004-11-01T00:00:00.000000000",
          "2004-12-01T00:00:00.000000000",
          "2005-01-01T00:00:00.000000000",
          "2005-02-01T00:00:00.000000000",
          "2005-03-01T00:00:00.000000000",
          "2005-04-01T00:00:00.000000000",
          "2005-05-01T00:00:00.000000000",
          "2005-06-01T00:00:00.000000000",
          "2005-07-01T00:00:00.000000000",
          "2005-08-01T00:00:00.000000000",
          "2005-09-01T00:00:00.000000000",
          "2005-10-01T00:00:00.000000000",
          "2005-11-01T00:00:00.000000000",
          "2005-12-01T00:00:00.000000000",
          "2006-01-01T00:00:00.000000000",
          "2006-02-01T00:00:00.000000000",
          "2006-03-01T00:00:00.000000000",
          "2006-04-01T00:00:00.000000000",
          "2006-05-01T00:00:00.000000000",
          "2006-06-01T00:00:00.000000000",
          "2006-07-01T00:00:00.000000000",
          "2006-08-01T00:00:00.000000000",
          "2006-09-01T00:00:00.000000000",
          "2006-10-01T00:00:00.000000000",
          "2006-11-01T00:00:00.000000000",
          "2006-12-01T00:00:00.000000000",
          "2007-01-01T00:00:00.000000000",
          "2007-02-01T00:00:00.000000000",
          "2007-03-01T00:00:00.000000000",
          "2007-04-01T00:00:00.000000000",
          "2007-05-01T00:00:00.000000000",
          "2007-06-01T00:00:00.000000000",
          "2007-07-01T00:00:00.000000000",
          "2007-08-01T00:00:00.000000000",
          "2007-09-01T00:00:00.000000000",
          "2007-10-01T00:00:00.000000000",
          "2007-11-01T00:00:00.000000000",
          "2007-12-01T00:00:00.000000000",
          "2008-01-01T00:00:00.000000000",
          "2008-02-01T00:00:00.000000000",
          "2008-03-01T00:00:00.000000000",
          "2008-04-01T00:00:00.000000000",
          "2008-05-01T00:00:00.000000000",
          "2008-06-01T00:00:00.000000000",
          "2008-07-01T00:00:00.000000000",
          "2008-08-01T00:00:00.000000000",
          "2008-09-01T00:00:00.000000000",
          "2008-10-01T00:00:00.000000000",
          "2008-11-01T00:00:00.000000000",
          "2008-12-01T00:00:00.000000000",
          "2009-01-01T00:00:00.000000000",
          "2009-02-01T00:00:00.000000000",
          "2009-03-01T00:00:00.000000000",
          "2009-04-01T00:00:00.000000000",
          "2009-05-01T00:00:00.000000000",
          "2009-06-01T00:00:00.000000000",
          "2009-07-01T00:00:00.000000000",
          "2009-08-01T00:00:00.000000000",
          "2009-09-01T00:00:00.000000000",
          "2009-10-01T00:00:00.000000000",
          "2009-11-01T00:00:00.000000000",
          "2009-12-01T00:00:00.000000000",
          "2010-01-01T00:00:00.000000000",
          "2010-02-01T00:00:00.000000000",
          "2010-03-01T00:00:00.000000000",
          "2010-04-01T00:00:00.000000000",
          "2010-05-01T00:00:00.000000000",
          "2010-06-01T00:00:00.000000000",
          "2010-07-01T00:00:00.000000000",
          "2010-08-01T00:00:00.000000000",
          "2010-09-01T00:00:00.000000000",
          "2010-10-01T00:00:00.000000000",
          "2010-11-01T00:00:00.000000000",
          "2010-12-01T00:00:00.000000000",
          "2011-01-01T00:00:00.000000000",
          "2011-02-01T00:00:00.000000000",
          "2011-03-01T00:00:00.000000000",
          "2011-04-01T00:00:00.000000000",
          "2011-05-01T00:00:00.000000000",
          "2011-06-01T00:00:00.000000000",
          "2011-07-01T00:00:00.000000000",
          "2011-08-01T00:00:00.000000000",
          "2011-09-01T00:00:00.000000000",
          "2011-10-01T00:00:00.000000000",
          "2011-11-01T00:00:00.000000000",
          "2011-12-01T00:00:00.000000000",
          "2012-01-01T00:00:00.000000000",
          "2012-02-01T00:00:00.000000000",
          "2012-03-01T00:00:00.000000000",
          "2012-04-01T00:00:00.000000000",
          "2012-05-01T00:00:00.000000000",
          "2012-06-01T00:00:00.000000000",
          "2012-07-01T00:00:00.000000000",
          "2012-08-01T00:00:00.000000000",
          "2012-09-01T00:00:00.000000000",
          "2012-10-01T00:00:00.000000000",
          "2012-11-01T00:00:00.000000000",
          "2012-12-01T00:00:00.000000000",
          "2013-01-01T00:00:00.000000000",
          "2013-02-01T00:00:00.000000000",
          "2013-03-01T00:00:00.000000000",
          "2013-04-01T00:00:00.000000000",
          "2013-05-01T00:00:00.000000000",
          "2013-06-01T00:00:00.000000000",
          "2013-07-01T00:00:00.000000000",
          "2013-08-01T00:00:00.000000000",
          "2013-09-01T00:00:00.000000000",
          "2013-10-01T00:00:00.000000000",
          "2013-11-01T00:00:00.000000000",
          "2013-12-01T00:00:00.000000000",
          "2014-01-01T00:00:00.000000000",
          "2014-02-01T00:00:00.000000000",
          "2014-03-01T00:00:00.000000000",
          "2014-04-01T00:00:00.000000000",
          "2014-05-01T00:00:00.000000000",
          "2014-06-01T00:00:00.000000000",
          "2014-07-01T00:00:00.000000000",
          "2014-08-01T00:00:00.000000000",
          "2014-09-01T00:00:00.000000000",
          "2014-10-01T00:00:00.000000000",
          "2014-11-01T00:00:00.000000000",
          "2014-12-01T00:00:00.000000000",
          "2015-01-01T00:00:00.000000000",
          "2015-02-01T00:00:00.000000000",
          "2015-03-01T00:00:00.000000000",
          "2015-04-01T00:00:00.000000000",
          "2015-05-01T00:00:00.000000000",
          "2015-06-01T00:00:00.000000000",
          "2015-07-01T00:00:00.000000000",
          "2015-08-01T00:00:00.000000000",
          "2015-09-01T00:00:00.000000000",
          "2015-10-01T00:00:00.000000000",
          "2015-11-01T00:00:00.000000000",
          "2015-12-01T00:00:00.000000000",
          "2016-01-01T00:00:00.000000000",
          "2016-02-01T00:00:00.000000000",
          "2016-03-01T00:00:00.000000000",
          "2016-04-01T00:00:00.000000000",
          "2016-05-01T00:00:00.000000000",
          "2016-06-01T00:00:00.000000000",
          "2016-07-01T00:00:00.000000000",
          "2016-08-01T00:00:00.000000000",
          "2016-09-01T00:00:00.000000000",
          "2016-10-01T00:00:00.000000000",
          "2016-11-01T00:00:00.000000000",
          "2016-12-01T00:00:00.000000000",
          "2017-01-01T00:00:00.000000000",
          "2017-02-01T00:00:00.000000000",
          "2017-03-01T00:00:00.000000000",
          "2017-04-01T00:00:00.000000000",
          "2017-05-01T00:00:00.000000000",
          "2017-06-01T00:00:00.000000000",
          "2017-07-01T00:00:00.000000000",
          "2017-08-01T00:00:00.000000000",
          "2017-09-01T00:00:00.000000000",
          "2017-10-01T00:00:00.000000000",
          "2017-11-01T00:00:00.000000000",
          "2017-12-01T00:00:00.000000000",
          "2018-01-01T00:00:00.000000000",
          "2018-02-01T00:00:00.000000000",
          "2018-03-01T00:00:00.000000000",
          "2018-04-01T00:00:00.000000000",
          "2018-05-01T00:00:00.000000000",
          "2018-06-01T00:00:00.000000000",
          "2018-07-01T00:00:00.000000000",
          "2018-08-01T00:00:00.000000000",
          "2018-09-01T00:00:00.000000000",
          "2018-10-01T00:00:00.000000000",
          "2018-11-01T00:00:00.000000000",
          "2018-12-01T00:00:00.000000000",
          "2019-01-01T00:00:00.000000000",
          "2019-02-01T00:00:00.000000000",
          "2019-03-01T00:00:00.000000000",
          "2019-04-01T00:00:00.000000000",
          "2019-05-01T00:00:00.000000000",
          "2019-06-01T00:00:00.000000000",
          "2019-07-01T00:00:00.000000000",
          "2019-08-01T00:00:00.000000000",
          "2019-09-01T00:00:00.000000000",
          "2019-10-01T00:00:00.000000000",
          "2019-11-01T00:00:00.000000000",
          "2019-12-01T00:00:00.000000000",
          "2020-01-01T00:00:00.000000000",
          "2020-02-01T00:00:00.000000000",
          "2020-03-01T00:00:00.000000000",
          "2020-04-01T00:00:00.000000000",
          "2020-05-01T00:00:00.000000000",
          "2020-06-01T00:00:00.000000000",
          "2020-07-01T00:00:00.000000000",
          "2020-08-01T00:00:00.000000000",
          "2020-09-01T00:00:00.000000000",
          "2020-10-01T00:00:00.000000000",
          "2020-11-01T00:00:00.000000000",
          "2020-12-01T00:00:00.000000000",
          "2021-01-01T00:00:00.000000000",
          "2021-02-01T00:00:00.000000000",
          "2021-03-01T00:00:00.000000000",
          "2021-04-01T00:00:00.000000000",
          "2021-05-01T00:00:00.000000000",
          "2021-06-01T00:00:00.000000000",
          "2021-07-01T00:00:00.000000000",
          "2021-08-01T00:00:00.000000000",
          "2021-09-01T00:00:00.000000000",
          "2021-10-01T00:00:00.000000000",
          "2021-11-01T00:00:00.000000000",
          "2021-12-01T00:00:00.000000000",
          "2022-01-01T00:00:00.000000000",
          "2022-02-01T00:00:00.000000000",
          "2022-03-01T00:00:00.000000000",
          "2022-04-01T00:00:00.000000000",
          "2022-05-01T00:00:00.000000000",
          "2022-06-01T00:00:00.000000000",
          "2022-07-01T00:00:00.000000000",
          "2022-08-01T00:00:00.000000000",
          "2022-09-01T00:00:00.000000000",
          "2022-10-01T00:00:00.000000000",
          "2022-11-01T00:00:00.000000000",
          "2022-12-01T00:00:00.000000000",
          "2023-01-01T00:00:00.000000000",
          "2023-02-01T00:00:00.000000000",
          "2023-03-01T00:00:00.000000000",
          "2023-04-01T00:00:00.000000000",
          "2023-05-01T00:00:00.000000000",
          "2023-06-01T00:00:00.000000000",
          "2023-07-01T00:00:00.000000000",
          "2023-08-01T00:00:00.000000000",
          "2023-09-01T00:00:00.000000000",
          "2023-10-01T00:00:00.000000000",
          "2023-11-01T00:00:00.000000000",
          "2023-12-01T00:00:00.000000000",
          "2024-01-01T00:00:00.000000000",
          "2024-02-01T00:00:00.000000000",
          "2024-03-01T00:00:00.000000000",
          "2024-04-01T00:00:00.000000000",
          "2024-05-01T00:00:00.000000000",
          "2024-06-01T00:00:00.000000000",
          "2024-07-01T00:00:00.000000000",
          "2024-08-01T00:00:00.000000000",
          "2024-09-01T00:00:00.000000000",
          "2024-10-01T00:00:00.000000000",
          "2024-11-01T00:00:00.000000000",
          "2024-12-01T00:00:00.000000000"
         ],
         "xaxis": "x",
         "y": {
          "bdata": "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",
          "dtype": "f8"
         },
         "yaxis": "y"
        }
       ],
       "layout": {
        "legend": {
         "tracegroupgap": 0
        },
        "template": {
         "data": {
          "bar": [
           {
            "error_x": {
             "color": "#2a3f5f"
            },
            "error_y": {
             "color": "#2a3f5f"
            },
            "marker": {
             "line": {
              "color": "white",
              "width": 0.5
             },
             "pattern": {
              "fillmode": "overlay",
              "size": 10,
              "solidity": 0.2
             }
            },
            "type": "bar"
           }
          ],
          "barpolar": [
           {
            "marker": {
             "line": {
              "color": "white",
              "width": 0.5
             },
             "pattern": {
              "fillmode": "overlay",
              "size": 10,
              "solidity": 0.2
             }
            },
            "type": "barpolar"
           }
          ],
          "carpet": [
           {
            "aaxis": {
             "endlinecolor": "#2a3f5f",
             "gridcolor": "#C8D4E3",
             "linecolor": "#C8D4E3",
             "minorgridcolor": "#C8D4E3",
             "startlinecolor": "#2a3f5f"
            },
            "baxis": {
             "endlinecolor": "#2a3f5f",
             "gridcolor": "#C8D4E3",
             "linecolor": "#C8D4E3",
             "minorgridcolor": "#C8D4E3",
             "startlinecolor": "#2a3f5f"
            },
            "type": "carpet"
           }
          ],
          "choropleth": [
           {
            "colorbar": {
             "outlinewidth": 0,
             "ticks": ""
            },
            "type": "choropleth"
           }
          ],
          "contour": [
           {
            "colorbar": {
             "outlinewidth": 0,
             "ticks": ""
            },
            "colorscale": [
             [
              0,
              "#0d0887"
             ],
             [
              0.1111111111111111,
              "#46039f"
             ],
             [
              0.2222222222222222,
              "#7201a8"
             ],
             [
              0.3333333333333333,
              "#9c179e"
             ],
             [
              0.4444444444444444,
              "#bd3786"
             ],
             [
              0.5555555555555556,
              "#d8576b"
             ],
             [
              0.6666666666666666,
              "#ed7953"
             ],
             [
              0.7777777777777778,
              "#fb9f3a"
             ],
             [
              0.8888888888888888,
              "#fdca26"
             ],
             [
              1,
              "#f0f921"
             ]
            ],
            "type": "contour"
           }
          ],
          "contourcarpet": [
           {
            "colorbar": {
             "outlinewidth": 0,
             "ticks": ""
            },
            "type": "contourcarpet"
           }
          ],
          "heatmap": [
           {
            "colorbar": {
             "outlinewidth": 0,
             "ticks": ""
            },
            "colorscale": [
             [
              0,
              "#0d0887"
             ],
             [
              0.1111111111111111,
              "#46039f"
             ],
             [
              0.2222222222222222,
              "#7201a8"
             ],
             [
              0.3333333333333333,
              "#9c179e"
             ],
             [
              0.4444444444444444,
              "#bd3786"
             ],
             [
              0.5555555555555556,
              "#d8576b"
             ],
             [
              0.6666666666666666,
              "#ed7953"
             ],
             [
              0.7777777777777778,
              "#fb9f3a"
             ],
             [
              0.8888888888888888,
              "#fdca26"
             ],
             [
              1,
              "#f0f921"
             ]
            ],
            "type": "heatmap"
           }
          ],
          "histogram": [
           {
            "marker": {
             "pattern": {
              "fillmode": "overlay",
              "size": 10,
              "solidity": 0.2
             }
            },
            "type": "histogram"
           }
          ],
          "histogram2d": [
           {
            "colorbar": {
             "outlinewidth": 0,
             "ticks": ""
            },
            "colorscale": [
             [
              0,
              "#0d0887"
             ],
             [
              0.1111111111111111,
              "#46039f"
             ],
             [
              0.2222222222222222,
              "#7201a8"
             ],
             [
              0.3333333333333333,
              "#9c179e"
             ],
             [
              0.4444444444444444,
              "#bd3786"
             ],
             [
              0.5555555555555556,
              "#d8576b"
             ],
             [
              0.6666666666666666,
              "#ed7953"
             ],
             [
              0.7777777777777778,
              "#fb9f3a"
             ],
             [
              0.8888888888888888,
              "#fdca26"
             ],
             [
              1,
              "#f0f921"
             ]
            ],
            "type": "histogram2d"
           }
          ],
          "histogram2dcontour": [
           {
            "colorbar": {
             "outlinewidth": 0,
             "ticks": ""
            },
            "colorscale": [
             [
              0,
              "#0d0887"
             ],
             [
              0.1111111111111111,
              "#46039f"
             ],
             [
              0.2222222222222222,
              "#7201a8"
             ],
             [
              0.3333333333333333,
              "#9c179e"
             ],
             [
              0.4444444444444444,
              "#bd3786"
             ],
             [
              0.5555555555555556,
              "#d8576b"
             ],
             [
              0.6666666666666666,
              "#ed7953"
             ],
             [
              0.7777777777777778,
              "#fb9f3a"
             ],
             [
              0.8888888888888888,
              "#fdca26"
             ],
             [
              1,
              "#f0f921"
             ]
            ],
            "type": "histogram2dcontour"
           }
          ],
          "mesh3d": [
           {
            "colorbar": {
             "outlinewidth": 0,
             "ticks": ""
            },
            "type": "mesh3d"
           }
          ],
          "parcoords": [
           {
            "line": {
             "colorbar": {
              "outlinewidth": 0,
              "ticks": ""
             }
            },
            "type": "parcoords"
           }
          ],
          "pie": [
           {
            "automargin": true,
            "type": "pie"
           }
          ],
          "scatter": [
           {
            "fillpattern": {
             "fillmode": "overlay",
             "size": 10,
             "solidity": 0.2
            },
            "type": "scatter"
           }
          ],
          "scatter3d": [
           {
            "line": {
             "colorbar": {
              "outlinewidth": 0,
              "ticks": ""
             }
            },
            "marker": {
             "colorbar": {
              "outlinewidth": 0,
              "ticks": ""
             }
            },
            "type": "scatter3d"
           }
          ],
          "scattercarpet": [
           {
            "marker": {
             "colorbar": {
              "outlinewidth": 0,
              "ticks": ""
             }
            },
            "type": "scattercarpet"
           }
          ],
          "scattergeo": [
           {
            "marker": {
             "colorbar": {
              "outlinewidth": 0,
              "ticks": ""
             }
            },
            "type": "scattergeo"
           }
          ],
          "scattergl": [
           {
            "marker": {
             "colorbar": {
              "outlinewidth": 0,
              "ticks": ""
             }
            },
            "type": "scattergl"
           }
          ],
          "scattermap": [
           {
            "marker": {
             "colorbar": {
              "outlinewidth": 0,
              "ticks": ""
             }
            },
            "type": "scattermap"
           }
          ],
          "scattermapbox": [
           {
            "marker": {
             "colorbar": {
              "outlinewidth": 0,
              "ticks": ""
             }
            },
            "type": "scattermapbox"
           }
          ],
          "scatterpolar": [
           {
            "marker": {
             "colorbar": {
              "outlinewidth": 0,
              "ticks": ""
             }
            },
            "type": "scatterpolar"
           }
          ],
          "scatterpolargl": [
           {
            "marker": {
             "colorbar": {
              "outlinewidth": 0,
              "ticks": ""
             }
            },
            "type": "scatterpolargl"
           }
          ],
          "scatterternary": [
           {
            "marker": {
             "colorbar": {
              "outlinewidth": 0,
              "ticks": ""
             }
            },
            "type": "scatterternary"
           }
          ],
          "surface": [
           {
            "colorbar": {
             "outlinewidth": 0,
             "ticks": ""
            },
            "colorscale": [
             [
              0,
              "#0d0887"
             ],
             [
              0.1111111111111111,
              "#46039f"
             ],
             [
              0.2222222222222222,
              "#7201a8"
             ],
             [
              0.3333333333333333,
              "#9c179e"
             ],
             [
              0.4444444444444444,
              "#bd3786"
             ],
             [
              0.5555555555555556,
              "#d8576b"
             ],
             [
              0.6666666666666666,
              "#ed7953"
             ],
             [
              0.7777777777777778,
              "#fb9f3a"
             ],
             [
              0.8888888888888888,
              "#fdca26"
             ],
             [
              1,
              "#f0f921"
             ]
            ],
            "type": "surface"
           }
          ],
          "table": [
           {
            "cells": {
             "fill": {
              "color": "#EBF0F8"
             },
             "line": {
              "color": "white"
             }
            },
            "header": {
             "fill": {
              "color": "#C8D4E3"
             },
             "line": {
              "color": "white"
             }
            },
            "type": "table"
           }
          ]
         },
         "layout": {
          "annotationdefaults": {
           "arrowcolor": "#2a3f5f",
           "arrowhead": 0,
           "arrowwidth": 1
          },
          "autotypenumbers": "strict",
          "coloraxis": {
           "colorbar": {
            "outlinewidth": 0,
            "ticks": ""
           }
          },
          "colorscale": {
           "diverging": [
            [
             0,
             "#8e0152"
            ],
            [
             0.1,
             "#c51b7d"
            ],
            [
             0.2,
             "#de77ae"
            ],
            [
             0.3,
             "#f1b6da"
            ],
            [
             0.4,
             "#fde0ef"
            ],
            [
             0.5,
             "#f7f7f7"
            ],
            [
             0.6,
             "#e6f5d0"
            ],
            [
             0.7,
             "#b8e186"
            ],
            [
             0.8,
             "#7fbc41"
            ],
            [
             0.9,
             "#4d9221"
            ],
            [
             1,
             "#276419"
            ]
           ],
           "sequential": [
            [
             0,
             "#0d0887"
            ],
            [
             0.1111111111111111,
             "#46039f"
            ],
            [
             0.2222222222222222,
             "#7201a8"
            ],
            [
             0.3333333333333333,
             "#9c179e"
            ],
            [
             0.4444444444444444,
             "#bd3786"
            ],
            [
             0.5555555555555556,
             "#d8576b"
            ],
            [
             0.6666666666666666,
             "#ed7953"
            ],
            [
             0.7777777777777778,
             "#fb9f3a"
            ],
            [
             0.8888888888888888,
             "#fdca26"
            ],
            [
             1,
             "#f0f921"
            ]
           ],
           "sequentialminus": [
            [
             0,
             "#0d0887"
            ],
            [
             0.1111111111111111,
             "#46039f"
            ],
            [
             0.2222222222222222,
             "#7201a8"
            ],
            [
             0.3333333333333333,
             "#9c179e"
            ],
            [
             0.4444444444444444,
             "#bd3786"
            ],
            [
             0.5555555555555556,
             "#d8576b"
            ],
            [
             0.6666666666666666,
             "#ed7953"
            ],
            [
             0.7777777777777778,
             "#fb9f3a"
            ],
            [
             0.8888888888888888,
             "#fdca26"
            ],
            [
             1,
             "#f0f921"
            ]
           ]
          },
          "colorway": [
           "#636efa",
           "#EF553B",
           "#00cc96",
           "#ab63fa",
           "#FFA15A",
           "#19d3f3",
           "#FF6692",
           "#B6E880",
           "#FF97FF",
           "#FECB52"
          ],
          "font": {
           "color": "#2a3f5f"
          },
          "geo": {
           "bgcolor": "white",
           "lakecolor": "white",
           "landcolor": "white",
           "showlakes": true,
           "showland": true,
           "subunitcolor": "#C8D4E3"
          },
          "hoverlabel": {
           "align": "left"
          },
          "hovermode": "closest",
          "mapbox": {
           "style": "light"
          },
          "paper_bgcolor": "white",
          "plot_bgcolor": "white",
          "polar": {
           "angularaxis": {
            "gridcolor": "#EBF0F8",
            "linecolor": "#EBF0F8",
            "ticks": ""
           },
           "bgcolor": "white",
           "radialaxis": {
            "gridcolor": "#EBF0F8",
            "linecolor": "#EBF0F8",
            "ticks": ""
           }
          },
          "scene": {
           "xaxis": {
            "backgroundcolor": "white",
            "gridcolor": "#DFE8F3",
            "gridwidth": 2,
            "linecolor": "#EBF0F8",
            "showbackground": true,
            "ticks": "",
            "zerolinecolor": "#EBF0F8"
           },
           "yaxis": {
            "backgroundcolor": "white",
            "gridcolor": "#DFE8F3",
            "gridwidth": 2,
            "linecolor": "#EBF0F8",
            "showbackground": true,
            "ticks": "",
            "zerolinecolor": "#EBF0F8"
           },
           "zaxis": {
            "backgroundcolor": "white",
            "gridcolor": "#DFE8F3",
            "gridwidth": 2,
            "linecolor": "#EBF0F8",
            "showbackground": true,
            "ticks": "",
            "zerolinecolor": "#EBF0F8"
           }
          },
          "shapedefaults": {
           "line": {
            "color": "#2a3f5f"
           }
          },
          "ternary": {
           "aaxis": {
            "gridcolor": "#DFE8F3",
            "linecolor": "#A2B1C6",
            "ticks": ""
           },
           "baxis": {
            "gridcolor": "#DFE8F3",
            "linecolor": "#A2B1C6",
            "ticks": ""
           },
           "bgcolor": "white",
           "caxis": {
            "gridcolor": "#DFE8F3",
            "linecolor": "#A2B1C6",
            "ticks": ""
           }
          },
          "title": {
           "x": 0.05
          },
          "xaxis": {
           "automargin": true,
           "gridcolor": "#EBF0F8",
           "linecolor": "#EBF0F8",
           "ticks": "",
           "title": {
            "standoff": 15
           },
           "zerolinecolor": "#EBF0F8",
           "zerolinewidth": 2
          },
          "yaxis": {
           "automargin": true,
           "gridcolor": "#EBF0F8",
           "linecolor": "#EBF0F8",
           "ticks": "",
           "title": {
            "standoff": 15
           },
           "zerolinecolor": "#EBF0F8",
           "zerolinewidth": 2
          }
         }
        },
        "title": {
         "text": "12-Month Rolling Average of U.S. Gasoline Prices",
         "x": 0.5
        },
        "xaxis": {
         "anchor": "y",
         "domain": [
          0,
          1
         ],
         "title": {
          "text": "Date"
         }
        },
        "yaxis": {
         "anchor": "x",
         "domain": [
          0,
          1
         ],
         "title": {
          "text": "Rolling 12-Month Average Price (USD/gal)"
         }
        }
       }
      }
     },
     "metadata": {},
     "output_type": "display_data"
    }
   ],
   "source": [
    "''' Calculate 12-month rolling average of gasoline prices '''\n",
    "\n",
    "# Create line plot\n",
    "prices[\"Rolling_12mo_Avg\"] = prices[\"Dollars_Per_Gallon\"].rolling(window=12).mean()\n",
    "fig = px.line(\n",
    "    prices,\n",
    "    x=\"Date\",\n",
    "    y=\"Rolling_12mo_Avg\",\n",
    "    title=\"12-Month Rolling Average of U.S. Gasoline Prices\",\n",
    "    labels={\"Rolling_12mo_Avg\":\"Rolling 12-Month Average Price (USD/gal)\"}\n",
    ")\n",
    "fig.update_traces(line=dict(color=\"darkred\", width=2))\n",
    "fig.update_layout(template=\"plotly_white\", title_x=0.5)\n",
    "\n",
    "fig.show()"
   ]
  },
  {
   "cell_type": "code",
   "execution_count": 462,
   "id": "12397fc1",
   "metadata": {},
   "outputs": [
    {
     "data": {
      "application/vnd.plotly.v1+json": {
       "config": {
        "plotlyServerURL": "https://plot.ly"
       },
       "data": [
        {
         "line": {
          "color": "firebrick",
          "dash": "dot",
          "width": 2
         },
         "name": "Nominal Price (USD)",
         "type": "scatter",
         "x": [
          "1993-04-01T00:00:00.000000000",
          "1993-05-01T00:00:00.000000000",
          "1993-06-01T00:00:00.000000000",
          "1993-07-01T00:00:00.000000000",
          "1993-08-01T00:00:00.000000000",
          "1993-09-01T00:00:00.000000000",
          "1993-10-01T00:00:00.000000000",
          "1993-11-01T00:00:00.000000000",
          "1993-12-01T00:00:00.000000000",
          "1994-01-01T00:00:00.000000000",
          "1994-02-01T00:00:00.000000000",
          "1994-03-01T00:00:00.000000000",
          "1994-04-01T00:00:00.000000000",
          "1994-05-01T00:00:00.000000000",
          "1994-06-01T00:00:00.000000000",
          "1994-07-01T00:00:00.000000000",
          "1994-08-01T00:00:00.000000000",
          "1994-09-01T00:00:00.000000000",
          "1994-10-01T00:00:00.000000000",
          "1994-11-01T00:00:00.000000000",
          "1994-12-01T00:00:00.000000000",
          "1995-01-01T00:00:00.000000000",
          "1995-02-01T00:00:00.000000000",
          "1995-03-01T00:00:00.000000000",
          "1995-04-01T00:00:00.000000000",
          "1995-05-01T00:00:00.000000000",
          "1995-06-01T00:00:00.000000000",
          "1995-07-01T00:00:00.000000000",
          "1995-08-01T00:00:00.000000000",
          "1995-09-01T00:00:00.000000000",
          "1995-10-01T00:00:00.000000000",
          "1995-11-01T00:00:00.000000000",
          "1995-12-01T00:00:00.000000000",
          "1996-01-01T00:00:00.000000000",
          "1996-02-01T00:00:00.000000000",
          "1996-03-01T00:00:00.000000000",
          "1996-04-01T00:00:00.000000000",
          "1996-05-01T00:00:00.000000000",
          "1996-06-01T00:00:00.000000000",
          "1996-07-01T00:00:00.000000000",
          "1996-08-01T00:00:00.000000000",
          "1996-09-01T00:00:00.000000000",
          "1996-10-01T00:00:00.000000000",
          "1996-11-01T00:00:00.000000000",
          "1996-12-01T00:00:00.000000000",
          "1997-01-01T00:00:00.000000000",
          "1997-02-01T00:00:00.000000000",
          "1997-03-01T00:00:00.000000000",
          "1997-04-01T00:00:00.000000000",
          "1997-05-01T00:00:00.000000000",
          "1997-06-01T00:00:00.000000000",
          "1997-07-01T00:00:00.000000000",
          "1997-08-01T00:00:00.000000000",
          "1997-09-01T00:00:00.000000000",
          "1997-10-01T00:00:00.000000000",
          "1997-11-01T00:00:00.000000000",
          "1997-12-01T00:00:00.000000000",
          "1998-01-01T00:00:00.000000000",
          "1998-02-01T00:00:00.000000000",
          "1998-03-01T00:00:00.000000000",
          "1998-04-01T00:00:00.000000000",
          "1998-05-01T00:00:00.000000000",
          "1998-06-01T00:00:00.000000000",
          "1998-07-01T00:00:00.000000000",
          "1998-08-01T00:00:00.000000000",
          "1998-09-01T00:00:00.000000000",
          "1998-10-01T00:00:00.000000000",
          "1998-11-01T00:00:00.000000000",
          "1998-12-01T00:00:00.000000000",
          "1999-01-01T00:00:00.000000000",
          "1999-02-01T00:00:00.000000000",
          "1999-03-01T00:00:00.000000000",
          "1999-04-01T00:00:00.000000000",
          "1999-05-01T00:00:00.000000000",
          "1999-06-01T00:00:00.000000000",
          "1999-07-01T00:00:00.000000000",
          "1999-08-01T00:00:00.000000000",
          "1999-09-01T00:00:00.000000000",
          "1999-10-01T00:00:00.000000000",
          "1999-11-01T00:00:00.000000000",
          "1999-12-01T00:00:00.000000000",
          "2000-01-01T00:00:00.000000000",
          "2000-02-01T00:00:00.000000000",
          "2000-03-01T00:00:00.000000000",
          "2000-04-01T00:00:00.000000000",
          "2000-05-01T00:00:00.000000000",
          "2000-06-01T00:00:00.000000000",
          "2000-07-01T00:00:00.000000000",
          "2000-08-01T00:00:00.000000000",
          "2000-09-01T00:00:00.000000000",
          "2000-10-01T00:00:00.000000000",
          "2000-11-01T00:00:00.000000000",
          "2000-12-01T00:00:00.000000000",
          "2001-01-01T00:00:00.000000000",
          "2001-02-01T00:00:00.000000000",
          "2001-03-01T00:00:00.000000000",
          "2001-04-01T00:00:00.000000000",
          "2001-05-01T00:00:00.000000000",
          "2001-06-01T00:00:00.000000000",
          "2001-07-01T00:00:00.000000000",
          "2001-08-01T00:00:00.000000000",
          "2001-09-01T00:00:00.000000000",
          "2001-10-01T00:00:00.000000000",
          "2001-11-01T00:00:00.000000000",
          "2001-12-01T00:00:00.000000000",
          "2002-01-01T00:00:00.000000000",
          "2002-02-01T00:00:00.000000000",
          "2002-03-01T00:00:00.000000000",
          "2002-04-01T00:00:00.000000000",
          "2002-05-01T00:00:00.000000000",
          "2002-06-01T00:00:00.000000000",
          "2002-07-01T00:00:00.000000000",
          "2002-08-01T00:00:00.000000000",
          "2002-09-01T00:00:00.000000000",
          "2002-10-01T00:00:00.000000000",
          "2002-11-01T00:00:00.000000000",
          "2002-12-01T00:00:00.000000000",
          "2003-01-01T00:00:00.000000000",
          "2003-02-01T00:00:00.000000000",
          "2003-03-01T00:00:00.000000000",
          "2003-04-01T00:00:00.000000000",
          "2003-05-01T00:00:00.000000000",
          "2003-06-01T00:00:00.000000000",
          "2003-07-01T00:00:00.000000000",
          "2003-08-01T00:00:00.000000000",
          "2003-09-01T00:00:00.000000000",
          "2003-10-01T00:00:00.000000000",
          "2003-11-01T00:00:00.000000000",
          "2003-12-01T00:00:00.000000000",
          "2004-01-01T00:00:00.000000000",
          "2004-02-01T00:00:00.000000000",
          "2004-03-01T00:00:00.000000000",
          "2004-04-01T00:00:00.000000000",
          "2004-05-01T00:00:00.000000000",
          "2004-06-01T00:00:00.000000000",
          "2004-07-01T00:00:00.000000000",
          "2004-08-01T00:00:00.000000000",
          "2004-09-01T00:00:00.000000000",
          "2004-10-01T00:00:00.000000000",
          "2004-11-01T00:00:00.000000000",
          "2004-12-01T00:00:00.000000000",
          "2005-01-01T00:00:00.000000000",
          "2005-02-01T00:00:00.000000000",
          "2005-03-01T00:00:00.000000000",
          "2005-04-01T00:00:00.000000000",
          "2005-05-01T00:00:00.000000000",
          "2005-06-01T00:00:00.000000000",
          "2005-07-01T00:00:00.000000000",
          "2005-08-01T00:00:00.000000000",
          "2005-09-01T00:00:00.000000000",
          "2005-10-01T00:00:00.000000000",
          "2005-11-01T00:00:00.000000000",
          "2005-12-01T00:00:00.000000000",
          "2006-01-01T00:00:00.000000000",
          "2006-02-01T00:00:00.000000000",
          "2006-03-01T00:00:00.000000000",
          "2006-04-01T00:00:00.000000000",
          "2006-05-01T00:00:00.000000000",
          "2006-06-01T00:00:00.000000000",
          "2006-07-01T00:00:00.000000000",
          "2006-08-01T00:00:00.000000000",
          "2006-09-01T00:00:00.000000000",
          "2006-10-01T00:00:00.000000000",
          "2006-11-01T00:00:00.000000000",
          "2006-12-01T00:00:00.000000000",
          "2007-01-01T00:00:00.000000000",
          "2007-02-01T00:00:00.000000000",
          "2007-03-01T00:00:00.000000000",
          "2007-04-01T00:00:00.000000000",
          "2007-05-01T00:00:00.000000000",
          "2007-06-01T00:00:00.000000000",
          "2007-07-01T00:00:00.000000000",
          "2007-08-01T00:00:00.000000000",
          "2007-09-01T00:00:00.000000000",
          "2007-10-01T00:00:00.000000000",
          "2007-11-01T00:00:00.000000000",
          "2007-12-01T00:00:00.000000000",
          "2008-01-01T00:00:00.000000000",
          "2008-02-01T00:00:00.000000000",
          "2008-03-01T00:00:00.000000000",
          "2008-04-01T00:00:00.000000000",
          "2008-05-01T00:00:00.000000000",
          "2008-06-01T00:00:00.000000000",
          "2008-07-01T00:00:00.000000000",
          "2008-08-01T00:00:00.000000000",
          "2008-09-01T00:00:00.000000000",
          "2008-10-01T00:00:00.000000000",
          "2008-11-01T00:00:00.000000000",
          "2008-12-01T00:00:00.000000000",
          "2009-01-01T00:00:00.000000000",
          "2009-02-01T00:00:00.000000000",
          "2009-03-01T00:00:00.000000000",
          "2009-04-01T00:00:00.000000000",
          "2009-05-01T00:00:00.000000000",
          "2009-06-01T00:00:00.000000000",
          "2009-07-01T00:00:00.000000000",
          "2009-08-01T00:00:00.000000000",
          "2009-09-01T00:00:00.000000000",
          "2009-10-01T00:00:00.000000000",
          "2009-11-01T00:00:00.000000000",
          "2009-12-01T00:00:00.000000000",
          "2010-01-01T00:00:00.000000000",
          "2010-02-01T00:00:00.000000000",
          "2010-03-01T00:00:00.000000000",
          "2010-04-01T00:00:00.000000000",
          "2010-05-01T00:00:00.000000000",
          "2010-06-01T00:00:00.000000000",
          "2010-07-01T00:00:00.000000000",
          "2010-08-01T00:00:00.000000000",
          "2010-09-01T00:00:00.000000000",
          "2010-10-01T00:00:00.000000000",
          "2010-11-01T00:00:00.000000000",
          "2010-12-01T00:00:00.000000000",
          "2011-01-01T00:00:00.000000000",
          "2011-02-01T00:00:00.000000000",
          "2011-03-01T00:00:00.000000000",
          "2011-04-01T00:00:00.000000000",
          "2011-05-01T00:00:00.000000000",
          "2011-06-01T00:00:00.000000000",
          "2011-07-01T00:00:00.000000000",
          "2011-08-01T00:00:00.000000000",
          "2011-09-01T00:00:00.000000000",
          "2011-10-01T00:00:00.000000000",
          "2011-11-01T00:00:00.000000000",
          "2011-12-01T00:00:00.000000000",
          "2012-01-01T00:00:00.000000000",
          "2012-02-01T00:00:00.000000000",
          "2012-03-01T00:00:00.000000000",
          "2012-04-01T00:00:00.000000000",
          "2012-05-01T00:00:00.000000000",
          "2012-06-01T00:00:00.000000000",
          "2012-07-01T00:00:00.000000000",
          "2012-08-01T00:00:00.000000000",
          "2012-09-01T00:00:00.000000000",
          "2012-10-01T00:00:00.000000000",
          "2012-11-01T00:00:00.000000000",
          "2012-12-01T00:00:00.000000000",
          "2013-01-01T00:00:00.000000000",
          "2013-02-01T00:00:00.000000000",
          "2013-03-01T00:00:00.000000000",
          "2013-04-01T00:00:00.000000000",
          "2013-05-01T00:00:00.000000000",
          "2013-06-01T00:00:00.000000000",
          "2013-07-01T00:00:00.000000000",
          "2013-08-01T00:00:00.000000000",
          "2013-09-01T00:00:00.000000000",
          "2013-10-01T00:00:00.000000000",
          "2013-11-01T00:00:00.000000000",
          "2013-12-01T00:00:00.000000000",
          "2014-01-01T00:00:00.000000000",
          "2014-02-01T00:00:00.000000000",
          "2014-03-01T00:00:00.000000000",
          "2014-04-01T00:00:00.000000000",
          "2014-05-01T00:00:00.000000000",
          "2014-06-01T00:00:00.000000000",
          "2014-07-01T00:00:00.000000000",
          "2014-08-01T00:00:00.000000000",
          "2014-09-01T00:00:00.000000000",
          "2014-10-01T00:00:00.000000000",
          "2014-11-01T00:00:00.000000000",
          "2014-12-01T00:00:00.000000000",
          "2015-01-01T00:00:00.000000000",
          "2015-02-01T00:00:00.000000000",
          "2015-03-01T00:00:00.000000000",
          "2015-04-01T00:00:00.000000000",
          "2015-05-01T00:00:00.000000000",
          "2015-06-01T00:00:00.000000000",
          "2015-07-01T00:00:00.000000000",
          "2015-08-01T00:00:00.000000000",
          "2015-09-01T00:00:00.000000000",
          "2015-10-01T00:00:00.000000000",
          "2015-11-01T00:00:00.000000000",
          "2015-12-01T00:00:00.000000000",
          "2016-01-01T00:00:00.000000000",
          "2016-02-01T00:00:00.000000000",
          "2016-03-01T00:00:00.000000000",
          "2016-04-01T00:00:00.000000000",
          "2016-05-01T00:00:00.000000000",
          "2016-06-01T00:00:00.000000000",
          "2016-07-01T00:00:00.000000000",
          "2016-08-01T00:00:00.000000000",
          "2016-09-01T00:00:00.000000000",
          "2016-10-01T00:00:00.000000000",
          "2016-11-01T00:00:00.000000000",
          "2016-12-01T00:00:00.000000000",
          "2017-01-01T00:00:00.000000000",
          "2017-02-01T00:00:00.000000000",
          "2017-03-01T00:00:00.000000000",
          "2017-04-01T00:00:00.000000000",
          "2017-05-01T00:00:00.000000000",
          "2017-06-01T00:00:00.000000000",
          "2017-07-01T00:00:00.000000000",
          "2017-08-01T00:00:00.000000000",
          "2017-09-01T00:00:00.000000000",
          "2017-10-01T00:00:00.000000000",
          "2017-11-01T00:00:00.000000000",
          "2017-12-01T00:00:00.000000000",
          "2018-01-01T00:00:00.000000000",
          "2018-02-01T00:00:00.000000000",
          "2018-03-01T00:00:00.000000000",
          "2018-04-01T00:00:00.000000000",
          "2018-05-01T00:00:00.000000000",
          "2018-06-01T00:00:00.000000000",
          "2018-07-01T00:00:00.000000000",
          "2018-08-01T00:00:00.000000000",
          "2018-09-01T00:00:00.000000000",
          "2018-10-01T00:00:00.000000000",
          "2018-11-01T00:00:00.000000000",
          "2018-12-01T00:00:00.000000000",
          "2019-01-01T00:00:00.000000000",
          "2019-02-01T00:00:00.000000000",
          "2019-03-01T00:00:00.000000000",
          "2019-04-01T00:00:00.000000000",
          "2019-05-01T00:00:00.000000000",
          "2019-06-01T00:00:00.000000000",
          "2019-07-01T00:00:00.000000000",
          "2019-08-01T00:00:00.000000000",
          "2019-09-01T00:00:00.000000000",
          "2019-10-01T00:00:00.000000000",
          "2019-11-01T00:00:00.000000000",
          "2019-12-01T00:00:00.000000000",
          "2020-01-01T00:00:00.000000000",
          "2020-02-01T00:00:00.000000000",
          "2020-03-01T00:00:00.000000000",
          "2020-04-01T00:00:00.000000000",
          "2020-05-01T00:00:00.000000000",
          "2020-06-01T00:00:00.000000000",
          "2020-07-01T00:00:00.000000000",
          "2020-08-01T00:00:00.000000000",
          "2020-09-01T00:00:00.000000000",
          "2020-10-01T00:00:00.000000000",
          "2020-11-01T00:00:00.000000000",
          "2020-12-01T00:00:00.000000000",
          "2021-01-01T00:00:00.000000000",
          "2021-02-01T00:00:00.000000000",
          "2021-03-01T00:00:00.000000000",
          "2021-04-01T00:00:00.000000000",
          "2021-05-01T00:00:00.000000000",
          "2021-06-01T00:00:00.000000000",
          "2021-07-01T00:00:00.000000000",
          "2021-08-01T00:00:00.000000000",
          "2021-09-01T00:00:00.000000000",
          "2021-10-01T00:00:00.000000000",
          "2021-11-01T00:00:00.000000000",
          "2021-12-01T00:00:00.000000000",
          "2022-01-01T00:00:00.000000000",
          "2022-02-01T00:00:00.000000000",
          "2022-03-01T00:00:00.000000000",
          "2022-04-01T00:00:00.000000000",
          "2022-05-01T00:00:00.000000000",
          "2022-06-01T00:00:00.000000000",
          "2022-07-01T00:00:00.000000000",
          "2022-08-01T00:00:00.000000000",
          "2022-09-01T00:00:00.000000000",
          "2022-10-01T00:00:00.000000000",
          "2022-11-01T00:00:00.000000000",
          "2022-12-01T00:00:00.000000000",
          "2023-01-01T00:00:00.000000000",
          "2023-02-01T00:00:00.000000000",
          "2023-03-01T00:00:00.000000000",
          "2023-04-01T00:00:00.000000000",
          "2023-05-01T00:00:00.000000000",
          "2023-06-01T00:00:00.000000000",
          "2023-07-01T00:00:00.000000000",
          "2023-08-01T00:00:00.000000000",
          "2023-09-01T00:00:00.000000000",
          "2023-10-01T00:00:00.000000000",
          "2023-11-01T00:00:00.000000000",
          "2023-12-01T00:00:00.000000000",
          "2024-01-01T00:00:00.000000000",
          "2024-02-01T00:00:00.000000000",
          "2024-03-01T00:00:00.000000000",
          "2024-04-01T00:00:00.000000000",
          "2024-05-01T00:00:00.000000000",
          "2024-06-01T00:00:00.000000000",
          "2024-07-01T00:00:00.000000000",
          "2024-08-01T00:00:00.000000000",
          "2024-09-01T00:00:00.000000000",
          "2024-10-01T00:00:00.000000000",
          "2024-11-01T00:00:00.000000000",
          "2024-12-01T00:00:00.000000000"
         ],
         "y": {
          "bdata": "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",
          "dtype": "f8"
         }
        },
        {
         "line": {
          "color": "darkblue",
          "width": 3
         },
         "name": "Inflation-Adjusted Price (2024 USD)",
         "type": "scatter",
         "x": [
          "1993-04-01T00:00:00.000000000",
          "1993-05-01T00:00:00.000000000",
          "1993-06-01T00:00:00.000000000",
          "1993-07-01T00:00:00.000000000",
          "1993-08-01T00:00:00.000000000",
          "1993-09-01T00:00:00.000000000",
          "1993-10-01T00:00:00.000000000",
          "1993-11-01T00:00:00.000000000",
          "1993-12-01T00:00:00.000000000",
          "1994-01-01T00:00:00.000000000",
          "1994-02-01T00:00:00.000000000",
          "1994-03-01T00:00:00.000000000",
          "1994-04-01T00:00:00.000000000",
          "1994-05-01T00:00:00.000000000",
          "1994-06-01T00:00:00.000000000",
          "1994-07-01T00:00:00.000000000",
          "1994-08-01T00:00:00.000000000",
          "1994-09-01T00:00:00.000000000",
          "1994-10-01T00:00:00.000000000",
          "1994-11-01T00:00:00.000000000",
          "1994-12-01T00:00:00.000000000",
          "1995-01-01T00:00:00.000000000",
          "1995-02-01T00:00:00.000000000",
          "1995-03-01T00:00:00.000000000",
          "1995-04-01T00:00:00.000000000",
          "1995-05-01T00:00:00.000000000",
          "1995-06-01T00:00:00.000000000",
          "1995-07-01T00:00:00.000000000",
          "1995-08-01T00:00:00.000000000",
          "1995-09-01T00:00:00.000000000",
          "1995-10-01T00:00:00.000000000",
          "1995-11-01T00:00:00.000000000",
          "1995-12-01T00:00:00.000000000",
          "1996-01-01T00:00:00.000000000",
          "1996-02-01T00:00:00.000000000",
          "1996-03-01T00:00:00.000000000",
          "1996-04-01T00:00:00.000000000",
          "1996-05-01T00:00:00.000000000",
          "1996-06-01T00:00:00.000000000",
          "1996-07-01T00:00:00.000000000",
          "1996-08-01T00:00:00.000000000",
          "1996-09-01T00:00:00.000000000",
          "1996-10-01T00:00:00.000000000",
          "1996-11-01T00:00:00.000000000",
          "1996-12-01T00:00:00.000000000",
          "1997-01-01T00:00:00.000000000",
          "1997-02-01T00:00:00.000000000",
          "1997-03-01T00:00:00.000000000",
          "1997-04-01T00:00:00.000000000",
          "1997-05-01T00:00:00.000000000",
          "1997-06-01T00:00:00.000000000",
          "1997-07-01T00:00:00.000000000",
          "1997-08-01T00:00:00.000000000",
          "1997-09-01T00:00:00.000000000",
          "1997-10-01T00:00:00.000000000",
          "1997-11-01T00:00:00.000000000",
          "1997-12-01T00:00:00.000000000",
          "1998-01-01T00:00:00.000000000",
          "1998-02-01T00:00:00.000000000",
          "1998-03-01T00:00:00.000000000",
          "1998-04-01T00:00:00.000000000",
          "1998-05-01T00:00:00.000000000",
          "1998-06-01T00:00:00.000000000",
          "1998-07-01T00:00:00.000000000",
          "1998-08-01T00:00:00.000000000",
          "1998-09-01T00:00:00.000000000",
          "1998-10-01T00:00:00.000000000",
          "1998-11-01T00:00:00.000000000",
          "1998-12-01T00:00:00.000000000",
          "1999-01-01T00:00:00.000000000",
          "1999-02-01T00:00:00.000000000",
          "1999-03-01T00:00:00.000000000",
          "1999-04-01T00:00:00.000000000",
          "1999-05-01T00:00:00.000000000",
          "1999-06-01T00:00:00.000000000",
          "1999-07-01T00:00:00.000000000",
          "1999-08-01T00:00:00.000000000",
          "1999-09-01T00:00:00.000000000",
          "1999-10-01T00:00:00.000000000",
          "1999-11-01T00:00:00.000000000",
          "1999-12-01T00:00:00.000000000",
          "2000-01-01T00:00:00.000000000",
          "2000-02-01T00:00:00.000000000",
          "2000-03-01T00:00:00.000000000",
          "2000-04-01T00:00:00.000000000",
          "2000-05-01T00:00:00.000000000",
          "2000-06-01T00:00:00.000000000",
          "2000-07-01T00:00:00.000000000",
          "2000-08-01T00:00:00.000000000",
          "2000-09-01T00:00:00.000000000",
          "2000-10-01T00:00:00.000000000",
          "2000-11-01T00:00:00.000000000",
          "2000-12-01T00:00:00.000000000",
          "2001-01-01T00:00:00.000000000",
          "2001-02-01T00:00:00.000000000",
          "2001-03-01T00:00:00.000000000",
          "2001-04-01T00:00:00.000000000",
          "2001-05-01T00:00:00.000000000",
          "2001-06-01T00:00:00.000000000",
          "2001-07-01T00:00:00.000000000",
          "2001-08-01T00:00:00.000000000",
          "2001-09-01T00:00:00.000000000",
          "2001-10-01T00:00:00.000000000",
          "2001-11-01T00:00:00.000000000",
          "2001-12-01T00:00:00.000000000",
          "2002-01-01T00:00:00.000000000",
          "2002-02-01T00:00:00.000000000",
          "2002-03-01T00:00:00.000000000",
          "2002-04-01T00:00:00.000000000",
          "2002-05-01T00:00:00.000000000",
          "2002-06-01T00:00:00.000000000",
          "2002-07-01T00:00:00.000000000",
          "2002-08-01T00:00:00.000000000",
          "2002-09-01T00:00:00.000000000",
          "2002-10-01T00:00:00.000000000",
          "2002-11-01T00:00:00.000000000",
          "2002-12-01T00:00:00.000000000",
          "2003-01-01T00:00:00.000000000",
          "2003-02-01T00:00:00.000000000",
          "2003-03-01T00:00:00.000000000",
          "2003-04-01T00:00:00.000000000",
          "2003-05-01T00:00:00.000000000",
          "2003-06-01T00:00:00.000000000",
          "2003-07-01T00:00:00.000000000",
          "2003-08-01T00:00:00.000000000",
          "2003-09-01T00:00:00.000000000",
          "2003-10-01T00:00:00.000000000",
          "2003-11-01T00:00:00.000000000",
          "2003-12-01T00:00:00.000000000",
          "2004-01-01T00:00:00.000000000",
          "2004-02-01T00:00:00.000000000",
          "2004-03-01T00:00:00.000000000",
          "2004-04-01T00:00:00.000000000",
          "2004-05-01T00:00:00.000000000",
          "2004-06-01T00:00:00.000000000",
          "2004-07-01T00:00:00.000000000",
          "2004-08-01T00:00:00.000000000",
          "2004-09-01T00:00:00.000000000",
          "2004-10-01T00:00:00.000000000",
          "2004-11-01T00:00:00.000000000",
          "2004-12-01T00:00:00.000000000",
          "2005-01-01T00:00:00.000000000",
          "2005-02-01T00:00:00.000000000",
          "2005-03-01T00:00:00.000000000",
          "2005-04-01T00:00:00.000000000",
          "2005-05-01T00:00:00.000000000",
          "2005-06-01T00:00:00.000000000",
          "2005-07-01T00:00:00.000000000",
          "2005-08-01T00:00:00.000000000",
          "2005-09-01T00:00:00.000000000",
          "2005-10-01T00:00:00.000000000",
          "2005-11-01T00:00:00.000000000",
          "2005-12-01T00:00:00.000000000",
          "2006-01-01T00:00:00.000000000",
          "2006-02-01T00:00:00.000000000",
          "2006-03-01T00:00:00.000000000",
          "2006-04-01T00:00:00.000000000",
          "2006-05-01T00:00:00.000000000",
          "2006-06-01T00:00:00.000000000",
          "2006-07-01T00:00:00.000000000",
          "2006-08-01T00:00:00.000000000",
          "2006-09-01T00:00:00.000000000",
          "2006-10-01T00:00:00.000000000",
          "2006-11-01T00:00:00.000000000",
          "2006-12-01T00:00:00.000000000",
          "2007-01-01T00:00:00.000000000",
          "2007-02-01T00:00:00.000000000",
          "2007-03-01T00:00:00.000000000",
          "2007-04-01T00:00:00.000000000",
          "2007-05-01T00:00:00.000000000",
          "2007-06-01T00:00:00.000000000",
          "2007-07-01T00:00:00.000000000",
          "2007-08-01T00:00:00.000000000",
          "2007-09-01T00:00:00.000000000",
          "2007-10-01T00:00:00.000000000",
          "2007-11-01T00:00:00.000000000",
          "2007-12-01T00:00:00.000000000",
          "2008-01-01T00:00:00.000000000",
          "2008-02-01T00:00:00.000000000",
          "2008-03-01T00:00:00.000000000",
          "2008-04-01T00:00:00.000000000",
          "2008-05-01T00:00:00.000000000",
          "2008-06-01T00:00:00.000000000",
          "2008-07-01T00:00:00.000000000",
          "2008-08-01T00:00:00.000000000",
          "2008-09-01T00:00:00.000000000",
          "2008-10-01T00:00:00.000000000",
          "2008-11-01T00:00:00.000000000",
          "2008-12-01T00:00:00.000000000",
          "2009-01-01T00:00:00.000000000",
          "2009-02-01T00:00:00.000000000",
          "2009-03-01T00:00:00.000000000",
          "2009-04-01T00:00:00.000000000",
          "2009-05-01T00:00:00.000000000",
          "2009-06-01T00:00:00.000000000",
          "2009-07-01T00:00:00.000000000",
          "2009-08-01T00:00:00.000000000",
          "2009-09-01T00:00:00.000000000",
          "2009-10-01T00:00:00.000000000",
          "2009-11-01T00:00:00.000000000",
          "2009-12-01T00:00:00.000000000",
          "2010-01-01T00:00:00.000000000",
          "2010-02-01T00:00:00.000000000",
          "2010-03-01T00:00:00.000000000",
          "2010-04-01T00:00:00.000000000",
          "2010-05-01T00:00:00.000000000",
          "2010-06-01T00:00:00.000000000",
          "2010-07-01T00:00:00.000000000",
          "2010-08-01T00:00:00.000000000",
          "2010-09-01T00:00:00.000000000",
          "2010-10-01T00:00:00.000000000",
          "2010-11-01T00:00:00.000000000",
          "2010-12-01T00:00:00.000000000",
          "2011-01-01T00:00:00.000000000",
          "2011-02-01T00:00:00.000000000",
          "2011-03-01T00:00:00.000000000",
          "2011-04-01T00:00:00.000000000",
          "2011-05-01T00:00:00.000000000",
          "2011-06-01T00:00:00.000000000",
          "2011-07-01T00:00:00.000000000",
          "2011-08-01T00:00:00.000000000",
          "2011-09-01T00:00:00.000000000",
          "2011-10-01T00:00:00.000000000",
          "2011-11-01T00:00:00.000000000",
          "2011-12-01T00:00:00.000000000",
          "2012-01-01T00:00:00.000000000",
          "2012-02-01T00:00:00.000000000",
          "2012-03-01T00:00:00.000000000",
          "2012-04-01T00:00:00.000000000",
          "2012-05-01T00:00:00.000000000",
          "2012-06-01T00:00:00.000000000",
          "2012-07-01T00:00:00.000000000",
          "2012-08-01T00:00:00.000000000",
          "2012-09-01T00:00:00.000000000",
          "2012-10-01T00:00:00.000000000",
          "2012-11-01T00:00:00.000000000",
          "2012-12-01T00:00:00.000000000",
          "2013-01-01T00:00:00.000000000",
          "2013-02-01T00:00:00.000000000",
          "2013-03-01T00:00:00.000000000",
          "2013-04-01T00:00:00.000000000",
          "2013-05-01T00:00:00.000000000",
          "2013-06-01T00:00:00.000000000",
          "2013-07-01T00:00:00.000000000",
          "2013-08-01T00:00:00.000000000",
          "2013-09-01T00:00:00.000000000",
          "2013-10-01T00:00:00.000000000",
          "2013-11-01T00:00:00.000000000",
          "2013-12-01T00:00:00.000000000",
          "2014-01-01T00:00:00.000000000",
          "2014-02-01T00:00:00.000000000",
          "2014-03-01T00:00:00.000000000",
          "2014-04-01T00:00:00.000000000",
          "2014-05-01T00:00:00.000000000",
          "2014-06-01T00:00:00.000000000",
          "2014-07-01T00:00:00.000000000",
          "2014-08-01T00:00:00.000000000",
          "2014-09-01T00:00:00.000000000",
          "2014-10-01T00:00:00.000000000",
          "2014-11-01T00:00:00.000000000",
          "2014-12-01T00:00:00.000000000",
          "2015-01-01T00:00:00.000000000",
          "2015-02-01T00:00:00.000000000",
          "2015-03-01T00:00:00.000000000",
          "2015-04-01T00:00:00.000000000",
          "2015-05-01T00:00:00.000000000",
          "2015-06-01T00:00:00.000000000",
          "2015-07-01T00:00:00.000000000",
          "2015-08-01T00:00:00.000000000",
          "2015-09-01T00:00:00.000000000",
          "2015-10-01T00:00:00.000000000",
          "2015-11-01T00:00:00.000000000",
          "2015-12-01T00:00:00.000000000",
          "2016-01-01T00:00:00.000000000",
          "2016-02-01T00:00:00.000000000",
          "2016-03-01T00:00:00.000000000",
          "2016-04-01T00:00:00.000000000",
          "2016-05-01T00:00:00.000000000",
          "2016-06-01T00:00:00.000000000",
          "2016-07-01T00:00:00.000000000",
          "2016-08-01T00:00:00.000000000",
          "2016-09-01T00:00:00.000000000",
          "2016-10-01T00:00:00.000000000",
          "2016-11-01T00:00:00.000000000",
          "2016-12-01T00:00:00.000000000",
          "2017-01-01T00:00:00.000000000",
          "2017-02-01T00:00:00.000000000",
          "2017-03-01T00:00:00.000000000",
          "2017-04-01T00:00:00.000000000",
          "2017-05-01T00:00:00.000000000",
          "2017-06-01T00:00:00.000000000",
          "2017-07-01T00:00:00.000000000",
          "2017-08-01T00:00:00.000000000",
          "2017-09-01T00:00:00.000000000",
          "2017-10-01T00:00:00.000000000",
          "2017-11-01T00:00:00.000000000",
          "2017-12-01T00:00:00.000000000",
          "2018-01-01T00:00:00.000000000",
          "2018-02-01T00:00:00.000000000",
          "2018-03-01T00:00:00.000000000",
          "2018-04-01T00:00:00.000000000",
          "2018-05-01T00:00:00.000000000",
          "2018-06-01T00:00:00.000000000",
          "2018-07-01T00:00:00.000000000",
          "2018-08-01T00:00:00.000000000",
          "2018-09-01T00:00:00.000000000",
          "2018-10-01T00:00:00.000000000",
          "2018-11-01T00:00:00.000000000",
          "2018-12-01T00:00:00.000000000",
          "2019-01-01T00:00:00.000000000",
          "2019-02-01T00:00:00.000000000",
          "2019-03-01T00:00:00.000000000",
          "2019-04-01T00:00:00.000000000",
          "2019-05-01T00:00:00.000000000",
          "2019-06-01T00:00:00.000000000",
          "2019-07-01T00:00:00.000000000",
          "2019-08-01T00:00:00.000000000",
          "2019-09-01T00:00:00.000000000",
          "2019-10-01T00:00:00.000000000",
          "2019-11-01T00:00:00.000000000",
          "2019-12-01T00:00:00.000000000",
          "2020-01-01T00:00:00.000000000",
          "2020-02-01T00:00:00.000000000",
          "2020-03-01T00:00:00.000000000",
          "2020-04-01T00:00:00.000000000",
          "2020-05-01T00:00:00.000000000",
          "2020-06-01T00:00:00.000000000",
          "2020-07-01T00:00:00.000000000",
          "2020-08-01T00:00:00.000000000",
          "2020-09-01T00:00:00.000000000",
          "2020-10-01T00:00:00.000000000",
          "2020-11-01T00:00:00.000000000",
          "2020-12-01T00:00:00.000000000",
          "2021-01-01T00:00:00.000000000",
          "2021-02-01T00:00:00.000000000",
          "2021-03-01T00:00:00.000000000",
          "2021-04-01T00:00:00.000000000",
          "2021-05-01T00:00:00.000000000",
          "2021-06-01T00:00:00.000000000",
          "2021-07-01T00:00:00.000000000",
          "2021-08-01T00:00:00.000000000",
          "2021-09-01T00:00:00.000000000",
          "2021-10-01T00:00:00.000000000",
          "2021-11-01T00:00:00.000000000",
          "2021-12-01T00:00:00.000000000",
          "2022-01-01T00:00:00.000000000",
          "2022-02-01T00:00:00.000000000",
          "2022-03-01T00:00:00.000000000",
          "2022-04-01T00:00:00.000000000",
          "2022-05-01T00:00:00.000000000",
          "2022-06-01T00:00:00.000000000",
          "2022-07-01T00:00:00.000000000",
          "2022-08-01T00:00:00.000000000",
          "2022-09-01T00:00:00.000000000",
          "2022-10-01T00:00:00.000000000",
          "2022-11-01T00:00:00.000000000",
          "2022-12-01T00:00:00.000000000",
          "2023-01-01T00:00:00.000000000",
          "2023-02-01T00:00:00.000000000",
          "2023-03-01T00:00:00.000000000",
          "2023-04-01T00:00:00.000000000",
          "2023-05-01T00:00:00.000000000",
          "2023-06-01T00:00:00.000000000",
          "2023-07-01T00:00:00.000000000",
          "2023-08-01T00:00:00.000000000",
          "2023-09-01T00:00:00.000000000",
          "2023-10-01T00:00:00.000000000",
          "2023-11-01T00:00:00.000000000",
          "2023-12-01T00:00:00.000000000",
          "2024-01-01T00:00:00.000000000",
          "2024-02-01T00:00:00.000000000",
          "2024-03-01T00:00:00.000000000",
          "2024-04-01T00:00:00.000000000",
          "2024-05-01T00:00:00.000000000",
          "2024-06-01T00:00:00.000000000",
          "2024-07-01T00:00:00.000000000",
          "2024-08-01T00:00:00.000000000",
          "2024-09-01T00:00:00.000000000",
          "2024-10-01T00:00:00.000000000",
          "2024-11-01T00:00:00.000000000",
          "2024-12-01T00:00:00.000000000"
         ],
         "y": {
          "bdata": "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",
          "dtype": "f8"
         }
        }
       ],
       "layout": {
        "legend": {
         "x": 0.02,
         "y": 0.98
        },
        "template": {
         "data": {
          "bar": [
           {
            "error_x": {
             "color": "#2a3f5f"
            },
            "error_y": {
             "color": "#2a3f5f"
            },
            "marker": {
             "line": {
              "color": "white",
              "width": 0.5
             },
             "pattern": {
              "fillmode": "overlay",
              "size": 10,
              "solidity": 0.2
             }
            },
            "type": "bar"
           }
          ],
          "barpolar": [
           {
            "marker": {
             "line": {
              "color": "white",
              "width": 0.5
             },
             "pattern": {
              "fillmode": "overlay",
              "size": 10,
              "solidity": 0.2
             }
            },
            "type": "barpolar"
           }
          ],
          "carpet": [
           {
            "aaxis": {
             "endlinecolor": "#2a3f5f",
             "gridcolor": "#C8D4E3",
             "linecolor": "#C8D4E3",
             "minorgridcolor": "#C8D4E3",
             "startlinecolor": "#2a3f5f"
            },
            "baxis": {
             "endlinecolor": "#2a3f5f",
             "gridcolor": "#C8D4E3",
             "linecolor": "#C8D4E3",
             "minorgridcolor": "#C8D4E3",
             "startlinecolor": "#2a3f5f"
            },
            "type": "carpet"
           }
          ],
          "choropleth": [
           {
            "colorbar": {
             "outlinewidth": 0,
             "ticks": ""
            },
            "type": "choropleth"
           }
          ],
          "contour": [
           {
            "colorbar": {
             "outlinewidth": 0,
             "ticks": ""
            },
            "colorscale": [
             [
              0,
              "#0d0887"
             ],
             [
              0.1111111111111111,
              "#46039f"
             ],
             [
              0.2222222222222222,
              "#7201a8"
             ],
             [
              0.3333333333333333,
              "#9c179e"
             ],
             [
              0.4444444444444444,
              "#bd3786"
             ],
             [
              0.5555555555555556,
              "#d8576b"
             ],
             [
              0.6666666666666666,
              "#ed7953"
             ],
             [
              0.7777777777777778,
              "#fb9f3a"
             ],
             [
              0.8888888888888888,
              "#fdca26"
             ],
             [
              1,
              "#f0f921"
             ]
            ],
            "type": "contour"
           }
          ],
          "contourcarpet": [
           {
            "colorbar": {
             "outlinewidth": 0,
             "ticks": ""
            },
            "type": "contourcarpet"
           }
          ],
          "heatmap": [
           {
            "colorbar": {
             "outlinewidth": 0,
             "ticks": ""
            },
            "colorscale": [
             [
              0,
              "#0d0887"
             ],
             [
              0.1111111111111111,
              "#46039f"
             ],
             [
              0.2222222222222222,
              "#7201a8"
             ],
             [
              0.3333333333333333,
              "#9c179e"
             ],
             [
              0.4444444444444444,
              "#bd3786"
             ],
             [
              0.5555555555555556,
              "#d8576b"
             ],
             [
              0.6666666666666666,
              "#ed7953"
             ],
             [
              0.7777777777777778,
              "#fb9f3a"
             ],
             [
              0.8888888888888888,
              "#fdca26"
             ],
             [
              1,
              "#f0f921"
             ]
            ],
            "type": "heatmap"
           }
          ],
          "histogram": [
           {
            "marker": {
             "pattern": {
              "fillmode": "overlay",
              "size": 10,
              "solidity": 0.2
             }
            },
            "type": "histogram"
           }
          ],
          "histogram2d": [
           {
            "colorbar": {
             "outlinewidth": 0,
             "ticks": ""
            },
            "colorscale": [
             [
              0,
              "#0d0887"
             ],
             [
              0.1111111111111111,
              "#46039f"
             ],
             [
              0.2222222222222222,
              "#7201a8"
             ],
             [
              0.3333333333333333,
              "#9c179e"
             ],
             [
              0.4444444444444444,
              "#bd3786"
             ],
             [
              0.5555555555555556,
              "#d8576b"
             ],
             [
              0.6666666666666666,
              "#ed7953"
             ],
             [
              0.7777777777777778,
              "#fb9f3a"
             ],
             [
              0.8888888888888888,
              "#fdca26"
             ],
             [
              1,
              "#f0f921"
             ]
            ],
            "type": "histogram2d"
           }
          ],
          "histogram2dcontour": [
           {
            "colorbar": {
             "outlinewidth": 0,
             "ticks": ""
            },
            "colorscale": [
             [
              0,
              "#0d0887"
             ],
             [
              0.1111111111111111,
              "#46039f"
             ],
             [
              0.2222222222222222,
              "#7201a8"
             ],
             [
              0.3333333333333333,
              "#9c179e"
             ],
             [
              0.4444444444444444,
              "#bd3786"
             ],
             [
              0.5555555555555556,
              "#d8576b"
             ],
             [
              0.6666666666666666,
              "#ed7953"
             ],
             [
              0.7777777777777778,
              "#fb9f3a"
             ],
             [
              0.8888888888888888,
              "#fdca26"
             ],
             [
              1,
              "#f0f921"
             ]
            ],
            "type": "histogram2dcontour"
           }
          ],
          "mesh3d": [
           {
            "colorbar": {
             "outlinewidth": 0,
             "ticks": ""
            },
            "type": "mesh3d"
           }
          ],
          "parcoords": [
           {
            "line": {
             "colorbar": {
              "outlinewidth": 0,
              "ticks": ""
             }
            },
            "type": "parcoords"
           }
          ],
          "pie": [
           {
            "automargin": true,
            "type": "pie"
           }
          ],
          "scatter": [
           {
            "fillpattern": {
             "fillmode": "overlay",
             "size": 10,
             "solidity": 0.2
            },
            "type": "scatter"
           }
          ],
          "scatter3d": [
           {
            "line": {
             "colorbar": {
              "outlinewidth": 0,
              "ticks": ""
             }
            },
            "marker": {
             "colorbar": {
              "outlinewidth": 0,
              "ticks": ""
             }
            },
            "type": "scatter3d"
           }
          ],
          "scattercarpet": [
           {
            "marker": {
             "colorbar": {
              "outlinewidth": 0,
              "ticks": ""
             }
            },
            "type": "scattercarpet"
           }
          ],
          "scattergeo": [
           {
            "marker": {
             "colorbar": {
              "outlinewidth": 0,
              "ticks": ""
             }
            },
            "type": "scattergeo"
           }
          ],
          "scattergl": [
           {
            "marker": {
             "colorbar": {
              "outlinewidth": 0,
              "ticks": ""
             }
            },
            "type": "scattergl"
           }
          ],
          "scattermap": [
           {
            "marker": {
             "colorbar": {
              "outlinewidth": 0,
              "ticks": ""
             }
            },
            "type": "scattermap"
           }
          ],
          "scattermapbox": [
           {
            "marker": {
             "colorbar": {
              "outlinewidth": 0,
              "ticks": ""
             }
            },
            "type": "scattermapbox"
           }
          ],
          "scatterpolar": [
           {
            "marker": {
             "colorbar": {
              "outlinewidth": 0,
              "ticks": ""
             }
            },
            "type": "scatterpolar"
           }
          ],
          "scatterpolargl": [
           {
            "marker": {
             "colorbar": {
              "outlinewidth": 0,
              "ticks": ""
             }
            },
            "type": "scatterpolargl"
           }
          ],
          "scatterternary": [
           {
            "marker": {
             "colorbar": {
              "outlinewidth": 0,
              "ticks": ""
             }
            },
            "type": "scatterternary"
           }
          ],
          "surface": [
           {
            "colorbar": {
             "outlinewidth": 0,
             "ticks": ""
            },
            "colorscale": [
             [
              0,
              "#0d0887"
             ],
             [
              0.1111111111111111,
              "#46039f"
             ],
             [
              0.2222222222222222,
              "#7201a8"
             ],
             [
              0.3333333333333333,
              "#9c179e"
             ],
             [
              0.4444444444444444,
              "#bd3786"
             ],
             [
              0.5555555555555556,
              "#d8576b"
             ],
             [
              0.6666666666666666,
              "#ed7953"
             ],
             [
              0.7777777777777778,
              "#fb9f3a"
             ],
             [
              0.8888888888888888,
              "#fdca26"
             ],
             [
              1,
              "#f0f921"
             ]
            ],
            "type": "surface"
           }
          ],
          "table": [
           {
            "cells": {
             "fill": {
              "color": "#EBF0F8"
             },
             "line": {
              "color": "white"
             }
            },
            "header": {
             "fill": {
              "color": "#C8D4E3"
             },
             "line": {
              "color": "white"
             }
            },
            "type": "table"
           }
          ]
         },
         "layout": {
          "annotationdefaults": {
           "arrowcolor": "#2a3f5f",
           "arrowhead": 0,
           "arrowwidth": 1
          },
          "autotypenumbers": "strict",
          "coloraxis": {
           "colorbar": {
            "outlinewidth": 0,
            "ticks": ""
           }
          },
          "colorscale": {
           "diverging": [
            [
             0,
             "#8e0152"
            ],
            [
             0.1,
             "#c51b7d"
            ],
            [
             0.2,
             "#de77ae"
            ],
            [
             0.3,
             "#f1b6da"
            ],
            [
             0.4,
             "#fde0ef"
            ],
            [
             0.5,
             "#f7f7f7"
            ],
            [
             0.6,
             "#e6f5d0"
            ],
            [
             0.7,
             "#b8e186"
            ],
            [
             0.8,
             "#7fbc41"
            ],
            [
             0.9,
             "#4d9221"
            ],
            [
             1,
             "#276419"
            ]
           ],
           "sequential": [
            [
             0,
             "#0d0887"
            ],
            [
             0.1111111111111111,
             "#46039f"
            ],
            [
             0.2222222222222222,
             "#7201a8"
            ],
            [
             0.3333333333333333,
             "#9c179e"
            ],
            [
             0.4444444444444444,
             "#bd3786"
            ],
            [
             0.5555555555555556,
             "#d8576b"
            ],
            [
             0.6666666666666666,
             "#ed7953"
            ],
            [
             0.7777777777777778,
             "#fb9f3a"
            ],
            [
             0.8888888888888888,
             "#fdca26"
            ],
            [
             1,
             "#f0f921"
            ]
           ],
           "sequentialminus": [
            [
             0,
             "#0d0887"
            ],
            [
             0.1111111111111111,
             "#46039f"
            ],
            [
             0.2222222222222222,
             "#7201a8"
            ],
            [
             0.3333333333333333,
             "#9c179e"
            ],
            [
             0.4444444444444444,
             "#bd3786"
            ],
            [
             0.5555555555555556,
             "#d8576b"
            ],
            [
             0.6666666666666666,
             "#ed7953"
            ],
            [
             0.7777777777777778,
             "#fb9f3a"
            ],
            [
             0.8888888888888888,
             "#fdca26"
            ],
            [
             1,
             "#f0f921"
            ]
           ]
          },
          "colorway": [
           "#636efa",
           "#EF553B",
           "#00cc96",
           "#ab63fa",
           "#FFA15A",
           "#19d3f3",
           "#FF6692",
           "#B6E880",
           "#FF97FF",
           "#FECB52"
          ],
          "font": {
           "color": "#2a3f5f"
          },
          "geo": {
           "bgcolor": "white",
           "lakecolor": "white",
           "landcolor": "white",
           "showlakes": true,
           "showland": true,
           "subunitcolor": "#C8D4E3"
          },
          "hoverlabel": {
           "align": "left"
          },
          "hovermode": "closest",
          "mapbox": {
           "style": "light"
          },
          "paper_bgcolor": "white",
          "plot_bgcolor": "white",
          "polar": {
           "angularaxis": {
            "gridcolor": "#EBF0F8",
            "linecolor": "#EBF0F8",
            "ticks": ""
           },
           "bgcolor": "white",
           "radialaxis": {
            "gridcolor": "#EBF0F8",
            "linecolor": "#EBF0F8",
            "ticks": ""
           }
          },
          "scene": {
           "xaxis": {
            "backgroundcolor": "white",
            "gridcolor": "#DFE8F3",
            "gridwidth": 2,
            "linecolor": "#EBF0F8",
            "showbackground": true,
            "ticks": "",
            "zerolinecolor": "#EBF0F8"
           },
           "yaxis": {
            "backgroundcolor": "white",
            "gridcolor": "#DFE8F3",
            "gridwidth": 2,
            "linecolor": "#EBF0F8",
            "showbackground": true,
            "ticks": "",
            "zerolinecolor": "#EBF0F8"
           },
           "zaxis": {
            "backgroundcolor": "white",
            "gridcolor": "#DFE8F3",
            "gridwidth": 2,
            "linecolor": "#EBF0F8",
            "showbackground": true,
            "ticks": "",
            "zerolinecolor": "#EBF0F8"
           }
          },
          "shapedefaults": {
           "line": {
            "color": "#2a3f5f"
           }
          },
          "ternary": {
           "aaxis": {
            "gridcolor": "#DFE8F3",
            "linecolor": "#A2B1C6",
            "ticks": ""
           },
           "baxis": {
            "gridcolor": "#DFE8F3",
            "linecolor": "#A2B1C6",
            "ticks": ""
           },
           "bgcolor": "white",
           "caxis": {
            "gridcolor": "#DFE8F3",
            "linecolor": "#A2B1C6",
            "ticks": ""
           }
          },
          "title": {
           "x": 0.05
          },
          "xaxis": {
           "automargin": true,
           "gridcolor": "#EBF0F8",
           "linecolor": "#EBF0F8",
           "ticks": "",
           "title": {
            "standoff": 15
           },
           "zerolinecolor": "#EBF0F8",
           "zerolinewidth": 2
          },
          "yaxis": {
           "automargin": true,
           "gridcolor": "#EBF0F8",
           "linecolor": "#EBF0F8",
           "ticks": "",
           "title": {
            "standoff": 15
           },
           "zerolinecolor": "#EBF0F8",
           "zerolinewidth": 2
          }
         }
        },
        "title": {
         "text": "U.S. Gasoline Prices: Nominal vs Inflation-Adjusted (2024 Dollars)",
         "x": 0.5
        },
        "xaxis": {
         "title": {
          "text": "Year"
         }
        },
        "yaxis": {
         "title": {
          "text": "Price (USD per Gallon)"
         }
        }
       }
      }
     },
     "metadata": {},
     "output_type": "display_data"
    }
   ],
   "source": [
    "''' Plot Nominal vs Inflation-Adjusted Gasoline Prices '''\n",
    "# Fetch CPI data from FRED to adjust prices for inflation\n",
    "\n",
    "# set start and end dates for data retrieval\n",
    "start = datetime(1993, 1, 1)\n",
    "end = datetime(2025, 1, 1)\n",
    "\n",
    "# Fetch CPI data from FRED (All Urban Consumers, base period 1982-84=100)\n",
    "cpi = web.DataReader('CPIAUCNS', 'fred', start, end)\n",
    "\n",
    "# Reset index for merging\n",
    "cpi.reset_index(inplace=True)\n",
    "cpi.columns = ['Date', 'CPI']\n",
    "\n",
    "# Merge based on month\n",
    "prices_adj = pd.merge(prices, cpi, on='Date', how='inner')\n",
    "\n",
    "latest_cpi = prices_adj['CPI'].iloc[-1]  # CPI for most recent month\n",
    "\n",
    "prices_adj['Real_Price_2024USD'] = prices_adj['Dollars_Per_Gallon'] * (latest_cpi / prices_adj['CPI'])\n",
    "\n",
    "# ----------------------------------------------------------- #\n",
    "# Create line plot comparing nominal and inflation-adjusted prices\n",
    "\n",
    "# Create line plot\n",
    "fig = go.Figure()\n",
    "\n",
    "# Nominal Prices\n",
    "fig.add_trace(go.Scatter(\n",
    "    x=prices_adj[\"Date\"],\n",
    "    y=prices_adj[\"Dollars_Per_Gallon\"],\n",
    "    name=\"Nominal Price (USD)\",\n",
    "    line=dict(color=\"firebrick\", width=2, dash=\"dot\")\n",
    "))\n",
    "\n",
    "# Inflation-Adjusted Prices\n",
    "fig.add_trace(go.Scatter(\n",
    "    x=prices_adj[\"Date\"],\n",
    "    y=prices_adj[\"Real_Price_2024USD\"],\n",
    "    name=\"Inflation-Adjusted Price (2024 USD)\",\n",
    "    line=dict(color=\"darkblue\", width=3)\n",
    "))\n",
    "\n",
    "# Layout customization\n",
    "fig.update_layout(\n",
    "    title=\"U.S. Gasoline Prices: Nominal vs Inflation-Adjusted (2024 Dollars)\",\n",
    "    xaxis_title=\"Year\",\n",
    "    yaxis_title=\"Price (USD per Gallon)\",\n",
    "    template=\"plotly_white\",\n",
    "    title_x=0.5,\n",
    "    legend=dict(x=0.02, y=0.98)\n",
    ")\n",
    "\n",
    "fig.show()"
   ]
  },
  {
   "cell_type": "markdown",
   "id": "40c5dae1",
   "metadata": {},
   "source": [
    "------------------------------------------------------------------------------------------------------------"
   ]
  },
  {
   "cell_type": "markdown",
   "id": "3d5a1e46",
   "metadata": {},
   "source": [
    "# Merging Datasets"
   ]
  },
  {
   "cell_type": "code",
   "execution_count": 463,
   "id": "5445aec4",
   "metadata": {},
   "outputs": [
    {
     "data": {
      "application/vnd.microsoft.datawrangler.viewer.v0+json": {
       "columns": [
        {
         "name": "index",
         "rawType": "int64",
         "type": "integer"
        },
        {
         "name": "Date",
         "rawType": "datetime64[ns]",
         "type": "datetime"
        },
        {
         "name": "Dollars_Per_Gallon",
         "rawType": "float64",
         "type": "float"
        },
        {
         "name": "Gasoline_Consumption(Millions of Gallons)",
         "rawType": "float64",
         "type": "float"
        },
        {
         "name": "Year",
         "rawType": "int32",
         "type": "integer"
        },
        {
         "name": "Month",
         "rawType": "object",
         "type": "string"
        }
       ],
       "ref": "2ed32dac-be8d-4f10-9ce6-100b8f512291",
       "rows": [
        [
         "0",
         "1993-04-01 00:00:00",
         "1.078",
         "9367.638",
         "1993",
         "April"
        ],
        [
         "1",
         "1993-05-01 00:00:00",
         "1.1",
         "9876.09",
         "1993",
         "May"
        ],
        [
         "2",
         "1993-06-01 00:00:00",
         "1.097",
         "9702.0",
         "1993",
         "June"
        ],
        [
         "3",
         "1993-07-01 00:00:00",
         "1.078",
         "10135.65",
         "1993",
         "July"
        ],
        [
         "4",
         "1993-08-01 00:00:00",
         "1.062",
         "10238.676",
         "1993",
         "August"
        ],
        [
         "5",
         "1993-09-01 00:00:00",
         "1.05",
         "9585.198",
         "1993",
         "September"
        ],
        [
         "6",
         "1993-10-01 00:00:00",
         "1.092",
         "9611.616",
         "1993",
         "October"
        ],
        [
         "7",
         "1993-11-01 00:00:00",
         "1.066",
         "9491.244",
         "1993",
         "November"
        ],
        [
         "8",
         "1993-12-01 00:00:00",
         "1.014",
         "9975.168",
         "1993",
         "December"
        ],
        [
         "9",
         "1994-01-01 00:00:00",
         "0.998",
         "9088.044",
         "1994",
         "January"
        ]
       ],
       "shape": {
        "columns": 5,
        "rows": 10
       }
      },
      "text/html": [
       "<div>\n",
       "<style scoped>\n",
       "    .dataframe tbody tr th:only-of-type {\n",
       "        vertical-align: middle;\n",
       "    }\n",
       "\n",
       "    .dataframe tbody tr th {\n",
       "        vertical-align: top;\n",
       "    }\n",
       "\n",
       "    .dataframe thead th {\n",
       "        text-align: right;\n",
       "    }\n",
       "</style>\n",
       "<table border=\"1\" class=\"dataframe\">\n",
       "  <thead>\n",
       "    <tr style=\"text-align: right;\">\n",
       "      <th></th>\n",
       "      <th>Date</th>\n",
       "      <th>Dollars_Per_Gallon</th>\n",
       "      <th>Gasoline_Consumption(Millions of Gallons)</th>\n",
       "      <th>Year</th>\n",
       "      <th>Month</th>\n",
       "    </tr>\n",
       "  </thead>\n",
       "  <tbody>\n",
       "    <tr>\n",
       "      <th>0</th>\n",
       "      <td>1993-04-01</td>\n",
       "      <td>1.078</td>\n",
       "      <td>9367.638</td>\n",
       "      <td>1993</td>\n",
       "      <td>April</td>\n",
       "    </tr>\n",
       "    <tr>\n",
       "      <th>1</th>\n",
       "      <td>1993-05-01</td>\n",
       "      <td>1.100</td>\n",
       "      <td>9876.090</td>\n",
       "      <td>1993</td>\n",
       "      <td>May</td>\n",
       "    </tr>\n",
       "    <tr>\n",
       "      <th>2</th>\n",
       "      <td>1993-06-01</td>\n",
       "      <td>1.097</td>\n",
       "      <td>9702.000</td>\n",
       "      <td>1993</td>\n",
       "      <td>June</td>\n",
       "    </tr>\n",
       "    <tr>\n",
       "      <th>3</th>\n",
       "      <td>1993-07-01</td>\n",
       "      <td>1.078</td>\n",
       "      <td>10135.650</td>\n",
       "      <td>1993</td>\n",
       "      <td>July</td>\n",
       "    </tr>\n",
       "    <tr>\n",
       "      <th>4</th>\n",
       "      <td>1993-08-01</td>\n",
       "      <td>1.062</td>\n",
       "      <td>10238.676</td>\n",
       "      <td>1993</td>\n",
       "      <td>August</td>\n",
       "    </tr>\n",
       "    <tr>\n",
       "      <th>5</th>\n",
       "      <td>1993-09-01</td>\n",
       "      <td>1.050</td>\n",
       "      <td>9585.198</td>\n",
       "      <td>1993</td>\n",
       "      <td>September</td>\n",
       "    </tr>\n",
       "    <tr>\n",
       "      <th>6</th>\n",
       "      <td>1993-10-01</td>\n",
       "      <td>1.092</td>\n",
       "      <td>9611.616</td>\n",
       "      <td>1993</td>\n",
       "      <td>October</td>\n",
       "    </tr>\n",
       "    <tr>\n",
       "      <th>7</th>\n",
       "      <td>1993-11-01</td>\n",
       "      <td>1.066</td>\n",
       "      <td>9491.244</td>\n",
       "      <td>1993</td>\n",
       "      <td>November</td>\n",
       "    </tr>\n",
       "    <tr>\n",
       "      <th>8</th>\n",
       "      <td>1993-12-01</td>\n",
       "      <td>1.014</td>\n",
       "      <td>9975.168</td>\n",
       "      <td>1993</td>\n",
       "      <td>December</td>\n",
       "    </tr>\n",
       "    <tr>\n",
       "      <th>9</th>\n",
       "      <td>1994-01-01</td>\n",
       "      <td>0.998</td>\n",
       "      <td>9088.044</td>\n",
       "      <td>1994</td>\n",
       "      <td>January</td>\n",
       "    </tr>\n",
       "  </tbody>\n",
       "</table>\n",
       "</div>"
      ],
      "text/plain": [
       "        Date  Dollars_Per_Gallon  Gasoline_Consumption(Millions of Gallons)  \\\n",
       "0 1993-04-01               1.078                                   9367.638   \n",
       "1 1993-05-01               1.100                                   9876.090   \n",
       "2 1993-06-01               1.097                                   9702.000   \n",
       "3 1993-07-01               1.078                                  10135.650   \n",
       "4 1993-08-01               1.062                                  10238.676   \n",
       "5 1993-09-01               1.050                                   9585.198   \n",
       "6 1993-10-01               1.092                                   9611.616   \n",
       "7 1993-11-01               1.066                                   9491.244   \n",
       "8 1993-12-01               1.014                                   9975.168   \n",
       "9 1994-01-01               0.998                                   9088.044   \n",
       "\n",
       "   Year      Month  \n",
       "0  1993      April  \n",
       "1  1993        May  \n",
       "2  1993       June  \n",
       "3  1993       July  \n",
       "4  1993     August  \n",
       "5  1993  September  \n",
       "6  1993    October  \n",
       "7  1993   November  \n",
       "8  1993   December  \n",
       "9  1994    January  "
      ]
     },
     "execution_count": 463,
     "metadata": {},
     "output_type": "execute_result"
    }
   ],
   "source": [
    "''' Merge consumption and prices data on Date '''\n",
    "\n",
    "# Merge the consumption and prices dataframes on the \"Date\" column\n",
    "merged_df = pd.merge(consumption, prices, on=\"Date\", how=\"inner\")\n",
    "\n",
    "# Keep only relevant columns\n",
    "merged_df = merged_df[[\n",
    "    \"Date\",\n",
    "    \"Dollars_Per_Gallon\",\n",
    "    \"Gasoline_Consumption(Millions of Gallons)\"\n",
    "\n",
    "]]\n",
    "\n",
    "# Add Year and Month columns for easier analysis\n",
    "merged_df[\"Year\"] = merged_df[\"Date\"].dt.year\n",
    "merged_df[\"Month\"] = merged_df[\"Date\"].dt.month_name()\n",
    "\n",
    "merged_df.head(10)"
   ]
  },
  {
   "cell_type": "code",
   "execution_count": 464,
   "id": "34bf8ef6",
   "metadata": {},
   "outputs": [],
   "source": [
    "merged_df[[\"Dollars_Per_Gallon\", \"Gasoline_Consumption(Millions of Gallons)\"]].skew()\n",
    "merged_df[[\"Dollars_Per_Gallon\", \"Gasoline_Consumption(Millions of Gallons)\"]].kurtosis()\n",
    "\n",
    "merged_df[\"Log_Price\"] = np.log(merged_df[\"Dollars_Per_Gallon\"])\n",
    "merged_df[\"Log_Consumption\"] = np.log(merged_df[\"Gasoline_Consumption(Millions of Gallons)\"])"
   ]
  },
  {
   "cell_type": "code",
   "execution_count": 465,
   "id": "b8d7ba06",
   "metadata": {},
   "outputs": [
    {
     "data": {
      "text/plain": [
       "<Axes: xlabel='Dollars_Per_Gallon', ylabel='Density'>"
      ]
     },
     "execution_count": 465,
     "metadata": {},
     "output_type": "execute_result"
    },
    {
     "data": {
      "image/png": "[encoded data removed]",
      "text/plain": [
       "<Figure size 640x480 with 1 Axes>"
      ]
     },
     "metadata": {},
     "output_type": "display_data"
    }
   ],
   "source": [
    "import seaborn as sns\n",
    "sns.kdeplot(merged_df[\"Dollars_Per_Gallon\"], fill=True)\n",
    "sns.kdeplot(merged_df[\"Gasoline_Consumption(Millions of Gallons)\"], fill=True)"
   ]
  },
  {
   "cell_type": "markdown",
   "id": "3862da72",
   "metadata": {},
   "source": [
    "## Visualizing Merged Datasets"
   ]
  },
  {
   "cell_type": "code",
   "execution_count": 466,
   "id": "25c60f56",
   "metadata": {},
   "outputs": [
    {
     "data": {
      "application/vnd.plotly.v1+json": {
       "config": {
        "plotlyServerURL": "https://plot.ly"
       },
       "data": [
        {
         "line": {
          "color": "firebrick",
          "dash": "dot",
          "width": 2
         },
         "name": "Nominal Price (USD)",
         "type": "scatter",
         "x": [
          "1993-04-01T00:00:00.000000000",
          "1993-05-01T00:00:00.000000000",
          "1993-06-01T00:00:00.000000000",
          "1993-07-01T00:00:00.000000000",
          "1993-08-01T00:00:00.000000000",
          "1993-09-01T00:00:00.000000000",
          "1993-10-01T00:00:00.000000000",
          "1993-11-01T00:00:00.000000000",
          "1993-12-01T00:00:00.000000000",
          "1994-01-01T00:00:00.000000000",
          "1994-02-01T00:00:00.000000000",
          "1994-03-01T00:00:00.000000000",
          "1994-04-01T00:00:00.000000000",
          "1994-05-01T00:00:00.000000000",
          "1994-06-01T00:00:00.000000000",
          "1994-07-01T00:00:00.000000000",
          "1994-08-01T00:00:00.000000000",
          "1994-09-01T00:00:00.000000000",
          "1994-10-01T00:00:00.000000000",
          "1994-11-01T00:00:00.000000000",
          "1994-12-01T00:00:00.000000000",
          "1995-01-01T00:00:00.000000000",
          "1995-02-01T00:00:00.000000000",
          "1995-03-01T00:00:00.000000000",
          "1995-04-01T00:00:00.000000000",
          "1995-05-01T00:00:00.000000000",
          "1995-06-01T00:00:00.000000000",
          "1995-07-01T00:00:00.000000000",
          "1995-08-01T00:00:00.000000000",
          "1995-09-01T00:00:00.000000000",
          "1995-10-01T00:00:00.000000000",
          "1995-11-01T00:00:00.000000000",
          "1995-12-01T00:00:00.000000000",
          "1996-01-01T00:00:00.000000000",
          "1996-02-01T00:00:00.000000000",
          "1996-03-01T00:00:00.000000000",
          "1996-04-01T00:00:00.000000000",
          "1996-05-01T00:00:00.000000000",
          "1996-06-01T00:00:00.000000000",
          "1996-07-01T00:00:00.000000000",
          "1996-08-01T00:00:00.000000000",
          "1996-09-01T00:00:00.000000000",
          "1996-10-01T00:00:00.000000000",
          "1996-11-01T00:00:00.000000000",
          "1996-12-01T00:00:00.000000000",
          "1997-01-01T00:00:00.000000000",
          "1997-02-01T00:00:00.000000000",
          "1997-03-01T00:00:00.000000000",
          "1997-04-01T00:00:00.000000000",
          "1997-05-01T00:00:00.000000000",
          "1997-06-01T00:00:00.000000000",
          "1997-07-01T00:00:00.000000000",
          "1997-08-01T00:00:00.000000000",
          "1997-09-01T00:00:00.000000000",
          "1997-10-01T00:00:00.000000000",
          "1997-11-01T00:00:00.000000000",
          "1997-12-01T00:00:00.000000000",
          "1998-01-01T00:00:00.000000000",
          "1998-02-01T00:00:00.000000000",
          "1998-03-01T00:00:00.000000000",
          "1998-04-01T00:00:00.000000000",
          "1998-05-01T00:00:00.000000000",
          "1998-06-01T00:00:00.000000000",
          "1998-07-01T00:00:00.000000000",
          "1998-08-01T00:00:00.000000000",
          "1998-09-01T00:00:00.000000000",
          "1998-10-01T00:00:00.000000000",
          "1998-11-01T00:00:00.000000000",
          "1998-12-01T00:00:00.000000000",
          "1999-01-01T00:00:00.000000000",
          "1999-02-01T00:00:00.000000000",
          "1999-03-01T00:00:00.000000000",
          "1999-04-01T00:00:00.000000000",
          "1999-05-01T00:00:00.000000000",
          "1999-06-01T00:00:00.000000000",
          "1999-07-01T00:00:00.000000000",
          "1999-08-01T00:00:00.000000000",
          "1999-09-01T00:00:00.000000000",
          "1999-10-01T00:00:00.000000000",
          "1999-11-01T00:00:00.000000000",
          "1999-12-01T00:00:00.000000000",
          "2000-01-01T00:00:00.000000000",
          "2000-02-01T00:00:00.000000000",
          "2000-03-01T00:00:00.000000000",
          "2000-04-01T00:00:00.000000000",
          "2000-05-01T00:00:00.000000000",
          "2000-06-01T00:00:00.000000000",
          "2000-07-01T00:00:00.000000000",
          "2000-08-01T00:00:00.000000000",
          "2000-09-01T00:00:00.000000000",
          "2000-10-01T00:00:00.000000000",
          "2000-11-01T00:00:00.000000000",
          "2000-12-01T00:00:00.000000000",
          "2001-01-01T00:00:00.000000000",
          "2001-02-01T00:00:00.000000000",
          "2001-03-01T00:00:00.000000000",
          "2001-04-01T00:00:00.000000000",
          "2001-05-01T00:00:00.000000000",
          "2001-06-01T00:00:00.000000000",
          "2001-07-01T00:00:00.000000000",
          "2001-08-01T00:00:00.000000000",
          "2001-09-01T00:00:00.000000000",
          "2001-10-01T00:00:00.000000000",
          "2001-11-01T00:00:00.000000000",
          "2001-12-01T00:00:00.000000000",
          "2002-01-01T00:00:00.000000000",
          "2002-02-01T00:00:00.000000000",
          "2002-03-01T00:00:00.000000000",
          "2002-04-01T00:00:00.000000000",
          "2002-05-01T00:00:00.000000000",
          "2002-06-01T00:00:00.000000000",
          "2002-07-01T00:00:00.000000000",
          "2002-08-01T00:00:00.000000000",
          "2002-09-01T00:00:00.000000000",
          "2002-10-01T00:00:00.000000000",
          "2002-11-01T00:00:00.000000000",
          "2002-12-01T00:00:00.000000000",
          "2003-01-01T00:00:00.000000000",
          "2003-02-01T00:00:00.000000000",
          "2003-03-01T00:00:00.000000000",
          "2003-04-01T00:00:00.000000000",
          "2003-05-01T00:00:00.000000000",
          "2003-06-01T00:00:00.000000000",
          "2003-07-01T00:00:00.000000000",
          "2003-08-01T00:00:00.000000000",
          "2003-09-01T00:00:00.000000000",
          "2003-10-01T00:00:00.000000000",
          "2003-11-01T00:00:00.000000000",
          "2003-12-01T00:00:00.000000000",
          "2004-01-01T00:00:00.000000000",
          "2004-02-01T00:00:00.000000000",
          "2004-03-01T00:00:00.000000000",
          "2004-04-01T00:00:00.000000000",
          "2004-05-01T00:00:00.000000000",
          "2004-06-01T00:00:00.000000000",
          "2004-07-01T00:00:00.000000000",
          "2004-08-01T00:00:00.000000000",
          "2004-09-01T00:00:00.000000000",
          "2004-10-01T00:00:00.000000000",
          "2004-11-01T00:00:00.000000000",
          "2004-12-01T00:00:00.000000000",
          "2005-01-01T00:00:00.000000000",
          "2005-02-01T00:00:00.000000000",
          "2005-03-01T00:00:00.000000000",
          "2005-04-01T00:00:00.000000000",
          "2005-05-01T00:00:00.000000000",
          "2005-06-01T00:00:00.000000000",
          "2005-07-01T00:00:00.000000000",
          "2005-08-01T00:00:00.000000000",
          "2005-09-01T00:00:00.000000000",
          "2005-10-01T00:00:00.000000000",
          "2005-11-01T00:00:00.000000000",
          "2005-12-01T00:00:00.000000000",
          "2006-01-01T00:00:00.000000000",
          "2006-02-01T00:00:00.000000000",
          "2006-03-01T00:00:00.000000000",
          "2006-04-01T00:00:00.000000000",
          "2006-05-01T00:00:00.000000000",
          "2006-06-01T00:00:00.000000000",
          "2006-07-01T00:00:00.000000000",
          "2006-08-01T00:00:00.000000000",
          "2006-09-01T00:00:00.000000000",
          "2006-10-01T00:00:00.000000000",
          "2006-11-01T00:00:00.000000000",
          "2006-12-01T00:00:00.000000000",
          "2007-01-01T00:00:00.000000000",
          "2007-02-01T00:00:00.000000000",
          "2007-03-01T00:00:00.000000000",
          "2007-04-01T00:00:00.000000000",
          "2007-05-01T00:00:00.000000000",
          "2007-06-01T00:00:00.000000000",
          "2007-07-01T00:00:00.000000000",
          "2007-08-01T00:00:00.000000000",
          "2007-09-01T00:00:00.000000000",
          "2007-10-01T00:00:00.000000000",
          "2007-11-01T00:00:00.000000000",
          "2007-12-01T00:00:00.000000000",
          "2008-01-01T00:00:00.000000000",
          "2008-02-01T00:00:00.000000000",
          "2008-03-01T00:00:00.000000000",
          "2008-04-01T00:00:00.000000000",
          "2008-05-01T00:00:00.000000000",
          "2008-06-01T00:00:00.000000000",
          "2008-07-01T00:00:00.000000000",
          "2008-08-01T00:00:00.000000000",
          "2008-09-01T00:00:00.000000000",
          "2008-10-01T00:00:00.000000000",
          "2008-11-01T00:00:00.000000000",
          "2008-12-01T00:00:00.000000000",
          "2009-01-01T00:00:00.000000000",
          "2009-02-01T00:00:00.000000000",
          "2009-03-01T00:00:00.000000000",
          "2009-04-01T00:00:00.000000000",
          "2009-05-01T00:00:00.000000000",
          "2009-06-01T00:00:00.000000000",
          "2009-07-01T00:00:00.000000000",
          "2009-08-01T00:00:00.000000000",
          "2009-09-01T00:00:00.000000000",
          "2009-10-01T00:00:00.000000000",
          "2009-11-01T00:00:00.000000000",
          "2009-12-01T00:00:00.000000000",
          "2010-01-01T00:00:00.000000000",
          "2010-02-01T00:00:00.000000000",
          "2010-03-01T00:00:00.000000000",
          "2010-04-01T00:00:00.000000000",
          "2010-05-01T00:00:00.000000000",
          "2010-06-01T00:00:00.000000000",
          "2010-07-01T00:00:00.000000000",
          "2010-08-01T00:00:00.000000000",
          "2010-09-01T00:00:00.000000000",
          "2010-10-01T00:00:00.000000000",
          "2010-11-01T00:00:00.000000000",
          "2010-12-01T00:00:00.000000000",
          "2011-01-01T00:00:00.000000000",
          "2011-02-01T00:00:00.000000000",
          "2011-03-01T00:00:00.000000000",
          "2011-04-01T00:00:00.000000000",
          "2011-05-01T00:00:00.000000000",
          "2011-06-01T00:00:00.000000000",
          "2011-07-01T00:00:00.000000000",
          "2011-08-01T00:00:00.000000000",
          "2011-09-01T00:00:00.000000000",
          "2011-10-01T00:00:00.000000000",
          "2011-11-01T00:00:00.000000000",
          "2011-12-01T00:00:00.000000000",
          "2012-01-01T00:00:00.000000000",
          "2012-02-01T00:00:00.000000000",
          "2012-03-01T00:00:00.000000000",
          "2012-04-01T00:00:00.000000000",
          "2012-05-01T00:00:00.000000000",
          "2012-06-01T00:00:00.000000000",
          "2012-07-01T00:00:00.000000000",
          "2012-08-01T00:00:00.000000000",
          "2012-09-01T00:00:00.000000000",
          "2012-10-01T00:00:00.000000000",
          "2012-11-01T00:00:00.000000000",
          "2012-12-01T00:00:00.000000000",
          "2013-01-01T00:00:00.000000000",
          "2013-02-01T00:00:00.000000000",
          "2013-03-01T00:00:00.000000000",
          "2013-04-01T00:00:00.000000000",
          "2013-05-01T00:00:00.000000000",
          "2013-06-01T00:00:00.000000000",
          "2013-07-01T00:00:00.000000000",
          "2013-08-01T00:00:00.000000000",
          "2013-09-01T00:00:00.000000000",
          "2013-10-01T00:00:00.000000000",
          "2013-11-01T00:00:00.000000000",
          "2013-12-01T00:00:00.000000000",
          "2014-01-01T00:00:00.000000000",
          "2014-02-01T00:00:00.000000000",
          "2014-03-01T00:00:00.000000000",
          "2014-04-01T00:00:00.000000000",
          "2014-05-01T00:00:00.000000000",
          "2014-06-01T00:00:00.000000000",
          "2014-07-01T00:00:00.000000000",
          "2014-08-01T00:00:00.000000000",
          "2014-09-01T00:00:00.000000000",
          "2014-10-01T00:00:00.000000000",
          "2014-11-01T00:00:00.000000000",
          "2014-12-01T00:00:00.000000000",
          "2015-01-01T00:00:00.000000000",
          "2015-02-01T00:00:00.000000000",
          "2015-03-01T00:00:00.000000000",
          "2015-04-01T00:00:00.000000000",
          "2015-05-01T00:00:00.000000000",
          "2015-06-01T00:00:00.000000000",
          "2015-07-01T00:00:00.000000000",
          "2015-08-01T00:00:00.000000000",
          "2015-09-01T00:00:00.000000000",
          "2015-10-01T00:00:00.000000000",
          "2015-11-01T00:00:00.000000000",
          "2015-12-01T00:00:00.000000000",
          "2016-01-01T00:00:00.000000000",
          "2016-02-01T00:00:00.000000000",
          "2016-03-01T00:00:00.000000000",
          "2016-04-01T00:00:00.000000000",
          "2016-05-01T00:00:00.000000000",
          "2016-06-01T00:00:00.000000000",
          "2016-07-01T00:00:00.000000000",
          "2016-08-01T00:00:00.000000000",
          "2016-09-01T00:00:00.000000000",
          "2016-10-01T00:00:00.000000000",
          "2016-11-01T00:00:00.000000000",
          "2016-12-01T00:00:00.000000000",
          "2017-01-01T00:00:00.000000000",
          "2017-02-01T00:00:00.000000000",
          "2017-03-01T00:00:00.000000000",
          "2017-04-01T00:00:00.000000000",
          "2017-05-01T00:00:00.000000000",
          "2017-06-01T00:00:00.000000000",
          "2017-07-01T00:00:00.000000000",
          "2017-08-01T00:00:00.000000000",
          "2017-09-01T00:00:00.000000000",
          "2017-10-01T00:00:00.000000000",
          "2017-11-01T00:00:00.000000000",
          "2017-12-01T00:00:00.000000000",
          "2018-01-01T00:00:00.000000000",
          "2018-02-01T00:00:00.000000000",
          "2018-03-01T00:00:00.000000000",
          "2018-04-01T00:00:00.000000000",
          "2018-05-01T00:00:00.000000000",
          "2018-06-01T00:00:00.000000000",
          "2018-07-01T00:00:00.000000000",
          "2018-08-01T00:00:00.000000000",
          "2018-09-01T00:00:00.000000000",
          "2018-10-01T00:00:00.000000000",
          "2018-11-01T00:00:00.000000000",
          "2018-12-01T00:00:00.000000000",
          "2019-01-01T00:00:00.000000000",
          "2019-02-01T00:00:00.000000000",
          "2019-03-01T00:00:00.000000000",
          "2019-04-01T00:00:00.000000000",
          "2019-05-01T00:00:00.000000000",
          "2019-06-01T00:00:00.000000000",
          "2019-07-01T00:00:00.000000000",
          "2019-08-01T00:00:00.000000000",
          "2019-09-01T00:00:00.000000000",
          "2019-10-01T00:00:00.000000000",
          "2019-11-01T00:00:00.000000000",
          "2019-12-01T00:00:00.000000000",
          "2020-01-01T00:00:00.000000000",
          "2020-02-01T00:00:00.000000000",
          "2020-03-01T00:00:00.000000000",
          "2020-04-01T00:00:00.000000000",
          "2020-05-01T00:00:00.000000000",
          "2020-06-01T00:00:00.000000000",
          "2020-07-01T00:00:00.000000000",
          "2020-08-01T00:00:00.000000000",
          "2020-09-01T00:00:00.000000000",
          "2020-10-01T00:00:00.000000000",
          "2020-11-01T00:00:00.000000000",
          "2020-12-01T00:00:00.000000000",
          "2021-01-01T00:00:00.000000000",
          "2021-02-01T00:00:00.000000000",
          "2021-03-01T00:00:00.000000000",
          "2021-04-01T00:00:00.000000000",
          "2021-05-01T00:00:00.000000000",
          "2021-06-01T00:00:00.000000000",
          "2021-07-01T00:00:00.000000000",
          "2021-08-01T00:00:00.000000000",
          "2021-09-01T00:00:00.000000000",
          "2021-10-01T00:00:00.000000000",
          "2021-11-01T00:00:00.000000000",
          "2021-12-01T00:00:00.000000000",
          "2022-01-01T00:00:00.000000000",
          "2022-02-01T00:00:00.000000000",
          "2022-03-01T00:00:00.000000000",
          "2022-04-01T00:00:00.000000000",
          "2022-05-01T00:00:00.000000000",
          "2022-06-01T00:00:00.000000000",
          "2022-07-01T00:00:00.000000000",
          "2022-08-01T00:00:00.000000000",
          "2022-09-01T00:00:00.000000000",
          "2022-10-01T00:00:00.000000000",
          "2022-11-01T00:00:00.000000000",
          "2022-12-01T00:00:00.000000000",
          "2023-01-01T00:00:00.000000000",
          "2023-02-01T00:00:00.000000000",
          "2023-03-01T00:00:00.000000000",
          "2023-04-01T00:00:00.000000000",
          "2023-05-01T00:00:00.000000000",
          "2023-06-01T00:00:00.000000000",
          "2023-07-01T00:00:00.000000000",
          "2023-08-01T00:00:00.000000000",
          "2023-09-01T00:00:00.000000000",
          "2023-10-01T00:00:00.000000000",
          "2023-11-01T00:00:00.000000000",
          "2023-12-01T00:00:00.000000000",
          "2024-01-01T00:00:00.000000000",
          "2024-02-01T00:00:00.000000000",
          "2024-03-01T00:00:00.000000000",
          "2024-04-01T00:00:00.000000000",
          "2024-05-01T00:00:00.000000000",
          "2024-06-01T00:00:00.000000000",
          "2024-07-01T00:00:00.000000000",
          "2024-08-01T00:00:00.000000000",
          "2024-09-01T00:00:00.000000000",
          "2024-10-01T00:00:00.000000000",
          "2024-11-01T00:00:00.000000000",
          "2024-12-01T00:00:00.000000000"
         ],
         "y": {
          "bdata": "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",
          "dtype": "f8"
         }
        },
        {
         "line": {
          "color": "darkblue",
          "width": 3
         },
         "name": "Inflation-Adjusted Price (2024 USD)",
         "type": "scatter",
         "x": [
          "1993-04-01T00:00:00.000000000",
          "1993-05-01T00:00:00.000000000",
          "1993-06-01T00:00:00.000000000",
          "1993-07-01T00:00:00.000000000",
          "1993-08-01T00:00:00.000000000",
          "1993-09-01T00:00:00.000000000",
          "1993-10-01T00:00:00.000000000",
          "1993-11-01T00:00:00.000000000",
          "1993-12-01T00:00:00.000000000",
          "1994-01-01T00:00:00.000000000",
          "1994-02-01T00:00:00.000000000",
          "1994-03-01T00:00:00.000000000",
          "1994-04-01T00:00:00.000000000",
          "1994-05-01T00:00:00.000000000",
          "1994-06-01T00:00:00.000000000",
          "1994-07-01T00:00:00.000000000",
          "1994-08-01T00:00:00.000000000",
          "1994-09-01T00:00:00.000000000",
          "1994-10-01T00:00:00.000000000",
          "1994-11-01T00:00:00.000000000",
          "1994-12-01T00:00:00.000000000",
          "1995-01-01T00:00:00.000000000",
          "1995-02-01T00:00:00.000000000",
          "1995-03-01T00:00:00.000000000",
          "1995-04-01T00:00:00.000000000",
          "1995-05-01T00:00:00.000000000",
          "1995-06-01T00:00:00.000000000",
          "1995-07-01T00:00:00.000000000",
          "1995-08-01T00:00:00.000000000",
          "1995-09-01T00:00:00.000000000",
          "1995-10-01T00:00:00.000000000",
          "1995-11-01T00:00:00.000000000",
          "1995-12-01T00:00:00.000000000",
          "1996-01-01T00:00:00.000000000",
          "1996-02-01T00:00:00.000000000",
          "1996-03-01T00:00:00.000000000",
          "1996-04-01T00:00:00.000000000",
          "1996-05-01T00:00:00.000000000",
          "1996-06-01T00:00:00.000000000",
          "1996-07-01T00:00:00.000000000",
          "1996-08-01T00:00:00.000000000",
          "1996-09-01T00:00:00.000000000",
          "1996-10-01T00:00:00.000000000",
          "1996-11-01T00:00:00.000000000",
          "1996-12-01T00:00:00.000000000",
          "1997-01-01T00:00:00.000000000",
          "1997-02-01T00:00:00.000000000",
          "1997-03-01T00:00:00.000000000",
          "1997-04-01T00:00:00.000000000",
          "1997-05-01T00:00:00.000000000",
          "1997-06-01T00:00:00.000000000",
          "1997-07-01T00:00:00.000000000",
          "1997-08-01T00:00:00.000000000",
          "1997-09-01T00:00:00.000000000",
          "1997-10-01T00:00:00.000000000",
          "1997-11-01T00:00:00.000000000",
          "1997-12-01T00:00:00.000000000",
          "1998-01-01T00:00:00.000000000",
          "1998-02-01T00:00:00.000000000",
          "1998-03-01T00:00:00.000000000",
          "1998-04-01T00:00:00.000000000",
          "1998-05-01T00:00:00.000000000",
          "1998-06-01T00:00:00.000000000",
          "1998-07-01T00:00:00.000000000",
          "1998-08-01T00:00:00.000000000",
          "1998-09-01T00:00:00.000000000",
          "1998-10-01T00:00:00.000000000",
          "1998-11-01T00:00:00.000000000",
          "1998-12-01T00:00:00.000000000",
          "1999-01-01T00:00:00.000000000",
          "1999-02-01T00:00:00.000000000",
          "1999-03-01T00:00:00.000000000",
          "1999-04-01T00:00:00.000000000",
          "1999-05-01T00:00:00.000000000",
          "1999-06-01T00:00:00.000000000",
          "1999-07-01T00:00:00.000000000",
          "1999-08-01T00:00:00.000000000",
          "1999-09-01T00:00:00.000000000",
          "1999-10-01T00:00:00.000000000",
          "1999-11-01T00:00:00.000000000",
          "1999-12-01T00:00:00.000000000",
          "2000-01-01T00:00:00.000000000",
          "2000-02-01T00:00:00.000000000",
          "2000-03-01T00:00:00.000000000",
          "2000-04-01T00:00:00.000000000",
          "2000-05-01T00:00:00.000000000",
          "2000-06-01T00:00:00.000000000",
          "2000-07-01T00:00:00.000000000",
          "2000-08-01T00:00:00.000000000",
          "2000-09-01T00:00:00.000000000",
          "2000-10-01T00:00:00.000000000",
          "2000-11-01T00:00:00.000000000",
          "2000-12-01T00:00:00.000000000",
          "2001-01-01T00:00:00.000000000",
          "2001-02-01T00:00:00.000000000",
          "2001-03-01T00:00:00.000000000",
          "2001-04-01T00:00:00.000000000",
          "2001-05-01T00:00:00.000000000",
          "2001-06-01T00:00:00.000000000",
          "2001-07-01T00:00:00.000000000",
          "2001-08-01T00:00:00.000000000",
          "2001-09-01T00:00:00.000000000",
          "2001-10-01T00:00:00.000000000",
          "2001-11-01T00:00:00.000000000",
          "2001-12-01T00:00:00.000000000",
          "2002-01-01T00:00:00.000000000",
          "2002-02-01T00:00:00.000000000",
          "2002-03-01T00:00:00.000000000",
          "2002-04-01T00:00:00.000000000",
          "2002-05-01T00:00:00.000000000",
          "2002-06-01T00:00:00.000000000",
          "2002-07-01T00:00:00.000000000",
          "2002-08-01T00:00:00.000000000",
          "2002-09-01T00:00:00.000000000",
          "2002-10-01T00:00:00.000000000",
          "2002-11-01T00:00:00.000000000",
          "2002-12-01T00:00:00.000000000",
          "2003-01-01T00:00:00.000000000",
          "2003-02-01T00:00:00.000000000",
          "2003-03-01T00:00:00.000000000",
          "2003-04-01T00:00:00.000000000",
          "2003-05-01T00:00:00.000000000",
          "2003-06-01T00:00:00.000000000",
          "2003-07-01T00:00:00.000000000",
          "2003-08-01T00:00:00.000000000",
          "2003-09-01T00:00:00.000000000",
          "2003-10-01T00:00:00.000000000",
          "2003-11-01T00:00:00.000000000",
          "2003-12-01T00:00:00.000000000",
          "2004-01-01T00:00:00.000000000",
          "2004-02-01T00:00:00.000000000",
          "2004-03-01T00:00:00.000000000",
          "2004-04-01T00:00:00.000000000",
          "2004-05-01T00:00:00.000000000",
          "2004-06-01T00:00:00.000000000",
          "2004-07-01T00:00:00.000000000",
          "2004-08-01T00:00:00.000000000",
          "2004-09-01T00:00:00.000000000",
          "2004-10-01T00:00:00.000000000",
          "2004-11-01T00:00:00.000000000",
          "2004-12-01T00:00:00.000000000",
          "2005-01-01T00:00:00.000000000",
          "2005-02-01T00:00:00.000000000",
          "2005-03-01T00:00:00.000000000",
          "2005-04-01T00:00:00.000000000",
          "2005-05-01T00:00:00.000000000",
          "2005-06-01T00:00:00.000000000",
          "2005-07-01T00:00:00.000000000",
          "2005-08-01T00:00:00.000000000",
          "2005-09-01T00:00:00.000000000",
          "2005-10-01T00:00:00.000000000",
          "2005-11-01T00:00:00.000000000",
          "2005-12-01T00:00:00.000000000",
          "2006-01-01T00:00:00.000000000",
          "2006-02-01T00:00:00.000000000",
          "2006-03-01T00:00:00.000000000",
          "2006-04-01T00:00:00.000000000",
          "2006-05-01T00:00:00.000000000",
          "2006-06-01T00:00:00.000000000",
          "2006-07-01T00:00:00.000000000",
          "2006-08-01T00:00:00.000000000",
          "2006-09-01T00:00:00.000000000",
          "2006-10-01T00:00:00.000000000",
          "2006-11-01T00:00:00.000000000",
          "2006-12-01T00:00:00.000000000",
          "2007-01-01T00:00:00.000000000",
          "2007-02-01T00:00:00.000000000",
          "2007-03-01T00:00:00.000000000",
          "2007-04-01T00:00:00.000000000",
          "2007-05-01T00:00:00.000000000",
          "2007-06-01T00:00:00.000000000",
          "2007-07-01T00:00:00.000000000",
          "2007-08-01T00:00:00.000000000",
          "2007-09-01T00:00:00.000000000",
          "2007-10-01T00:00:00.000000000",
          "2007-11-01T00:00:00.000000000",
          "2007-12-01T00:00:00.000000000",
          "2008-01-01T00:00:00.000000000",
          "2008-02-01T00:00:00.000000000",
          "2008-03-01T00:00:00.000000000",
          "2008-04-01T00:00:00.000000000",
          "2008-05-01T00:00:00.000000000",
          "2008-06-01T00:00:00.000000000",
          "2008-07-01T00:00:00.000000000",
          "2008-08-01T00:00:00.000000000",
          "2008-09-01T00:00:00.000000000",
          "2008-10-01T00:00:00.000000000",
          "2008-11-01T00:00:00.000000000",
          "2008-12-01T00:00:00.000000000",
          "2009-01-01T00:00:00.000000000",
          "2009-02-01T00:00:00.000000000",
          "2009-03-01T00:00:00.000000000",
          "2009-04-01T00:00:00.000000000",
          "2009-05-01T00:00:00.000000000",
          "2009-06-01T00:00:00.000000000",
          "2009-07-01T00:00:00.000000000",
          "2009-08-01T00:00:00.000000000",
          "2009-09-01T00:00:00.000000000",
          "2009-10-01T00:00:00.000000000",
          "2009-11-01T00:00:00.000000000",
          "2009-12-01T00:00:00.000000000",
          "2010-01-01T00:00:00.000000000",
          "2010-02-01T00:00:00.000000000",
          "2010-03-01T00:00:00.000000000",
          "2010-04-01T00:00:00.000000000",
          "2010-05-01T00:00:00.000000000",
          "2010-06-01T00:00:00.000000000",
          "2010-07-01T00:00:00.000000000",
          "2010-08-01T00:00:00.000000000",
          "2010-09-01T00:00:00.000000000",
          "2010-10-01T00:00:00.000000000",
          "2010-11-01T00:00:00.000000000",
          "2010-12-01T00:00:00.000000000",
          "2011-01-01T00:00:00.000000000",
          "2011-02-01T00:00:00.000000000",
          "2011-03-01T00:00:00.000000000",
          "2011-04-01T00:00:00.000000000",
          "2011-05-01T00:00:00.000000000",
          "2011-06-01T00:00:00.000000000",
          "2011-07-01T00:00:00.000000000",
          "2011-08-01T00:00:00.000000000",
          "2011-09-01T00:00:00.000000000",
          "2011-10-01T00:00:00.000000000",
          "2011-11-01T00:00:00.000000000",
          "2011-12-01T00:00:00.000000000",
          "2012-01-01T00:00:00.000000000",
          "2012-02-01T00:00:00.000000000",
          "2012-03-01T00:00:00.000000000",
          "2012-04-01T00:00:00.000000000",
          "2012-05-01T00:00:00.000000000",
          "2012-06-01T00:00:00.000000000",
          "2012-07-01T00:00:00.000000000",
          "2012-08-01T00:00:00.000000000",
          "2012-09-01T00:00:00.000000000",
          "2012-10-01T00:00:00.000000000",
          "2012-11-01T00:00:00.000000000",
          "2012-12-01T00:00:00.000000000",
          "2013-01-01T00:00:00.000000000",
          "2013-02-01T00:00:00.000000000",
          "2013-03-01T00:00:00.000000000",
          "2013-04-01T00:00:00.000000000",
          "2013-05-01T00:00:00.000000000",
          "2013-06-01T00:00:00.000000000",
          "2013-07-01T00:00:00.000000000",
          "2013-08-01T00:00:00.000000000",
          "2013-09-01T00:00:00.000000000",
          "2013-10-01T00:00:00.000000000",
          "2013-11-01T00:00:00.000000000",
          "2013-12-01T00:00:00.000000000",
          "2014-01-01T00:00:00.000000000",
          "2014-02-01T00:00:00.000000000",
          "2014-03-01T00:00:00.000000000",
          "2014-04-01T00:00:00.000000000",
          "2014-05-01T00:00:00.000000000",
          "2014-06-01T00:00:00.000000000",
          "2014-07-01T00:00:00.000000000",
          "2014-08-01T00:00:00.000000000",
          "2014-09-01T00:00:00.000000000",
          "2014-10-01T00:00:00.000000000",
          "2014-11-01T00:00:00.000000000",
          "2014-12-01T00:00:00.000000000",
          "2015-01-01T00:00:00.000000000",
          "2015-02-01T00:00:00.000000000",
          "2015-03-01T00:00:00.000000000",
          "2015-04-01T00:00:00.000000000",
          "2015-05-01T00:00:00.000000000",
          "2015-06-01T00:00:00.000000000",
          "2015-07-01T00:00:00.000000000",
          "2015-08-01T00:00:00.000000000",
          "2015-09-01T00:00:00.000000000",
          "2015-10-01T00:00:00.000000000",
          "2015-11-01T00:00:00.000000000",
          "2015-12-01T00:00:00.000000000",
          "2016-01-01T00:00:00.000000000",
          "2016-02-01T00:00:00.000000000",
          "2016-03-01T00:00:00.000000000",
          "2016-04-01T00:00:00.000000000",
          "2016-05-01T00:00:00.000000000",
          "2016-06-01T00:00:00.000000000",
          "2016-07-01T00:00:00.000000000",
          "2016-08-01T00:00:00.000000000",
          "2016-09-01T00:00:00.000000000",
          "2016-10-01T00:00:00.000000000",
          "2016-11-01T00:00:00.000000000",
          "2016-12-01T00:00:00.000000000",
          "2017-01-01T00:00:00.000000000",
          "2017-02-01T00:00:00.000000000",
          "2017-03-01T00:00:00.000000000",
          "2017-04-01T00:00:00.000000000",
          "2017-05-01T00:00:00.000000000",
          "2017-06-01T00:00:00.000000000",
          "2017-07-01T00:00:00.000000000",
          "2017-08-01T00:00:00.000000000",
          "2017-09-01T00:00:00.000000000",
          "2017-10-01T00:00:00.000000000",
          "2017-11-01T00:00:00.000000000",
          "2017-12-01T00:00:00.000000000",
          "2018-01-01T00:00:00.000000000",
          "2018-02-01T00:00:00.000000000",
          "2018-03-01T00:00:00.000000000",
          "2018-04-01T00:00:00.000000000",
          "2018-05-01T00:00:00.000000000",
          "2018-06-01T00:00:00.000000000",
          "2018-07-01T00:00:00.000000000",
          "2018-08-01T00:00:00.000000000",
          "2018-09-01T00:00:00.000000000",
          "2018-10-01T00:00:00.000000000",
          "2018-11-01T00:00:00.000000000",
          "2018-12-01T00:00:00.000000000",
          "2019-01-01T00:00:00.000000000",
          "2019-02-01T00:00:00.000000000",
          "2019-03-01T00:00:00.000000000",
          "2019-04-01T00:00:00.000000000",
          "2019-05-01T00:00:00.000000000",
          "2019-06-01T00:00:00.000000000",
          "2019-07-01T00:00:00.000000000",
          "2019-08-01T00:00:00.000000000",
          "2019-09-01T00:00:00.000000000",
          "2019-10-01T00:00:00.000000000",
          "2019-11-01T00:00:00.000000000",
          "2019-12-01T00:00:00.000000000",
          "2020-01-01T00:00:00.000000000",
          "2020-02-01T00:00:00.000000000",
          "2020-03-01T00:00:00.000000000",
          "2020-04-01T00:00:00.000000000",
          "2020-05-01T00:00:00.000000000",
          "2020-06-01T00:00:00.000000000",
          "2020-07-01T00:00:00.000000000",
          "2020-08-01T00:00:00.000000000",
          "2020-09-01T00:00:00.000000000",
          "2020-10-01T00:00:00.000000000",
          "2020-11-01T00:00:00.000000000",
          "2020-12-01T00:00:00.000000000",
          "2021-01-01T00:00:00.000000000",
          "2021-02-01T00:00:00.000000000",
          "2021-03-01T00:00:00.000000000",
          "2021-04-01T00:00:00.000000000",
          "2021-05-01T00:00:00.000000000",
          "2021-06-01T00:00:00.000000000",
          "2021-07-01T00:00:00.000000000",
          "2021-08-01T00:00:00.000000000",
          "2021-09-01T00:00:00.000000000",
          "2021-10-01T00:00:00.000000000",
          "2021-11-01T00:00:00.000000000",
          "2021-12-01T00:00:00.000000000",
          "2022-01-01T00:00:00.000000000",
          "2022-02-01T00:00:00.000000000",
          "2022-03-01T00:00:00.000000000",
          "2022-04-01T00:00:00.000000000",
          "2022-05-01T00:00:00.000000000",
          "2022-06-01T00:00:00.000000000",
          "2022-07-01T00:00:00.000000000",
          "2022-08-01T00:00:00.000000000",
          "2022-09-01T00:00:00.000000000",
          "2022-10-01T00:00:00.000000000",
          "2022-11-01T00:00:00.000000000",
          "2022-12-01T00:00:00.000000000",
          "2023-01-01T00:00:00.000000000",
          "2023-02-01T00:00:00.000000000",
          "2023-03-01T00:00:00.000000000",
          "2023-04-01T00:00:00.000000000",
          "2023-05-01T00:00:00.000000000",
          "2023-06-01T00:00:00.000000000",
          "2023-07-01T00:00:00.000000000",
          "2023-08-01T00:00:00.000000000",
          "2023-09-01T00:00:00.000000000",
          "2023-10-01T00:00:00.000000000",
          "2023-11-01T00:00:00.000000000",
          "2023-12-01T00:00:00.000000000",
          "2024-01-01T00:00:00.000000000",
          "2024-02-01T00:00:00.000000000",
          "2024-03-01T00:00:00.000000000",
          "2024-04-01T00:00:00.000000000",
          "2024-05-01T00:00:00.000000000",
          "2024-06-01T00:00:00.000000000",
          "2024-07-01T00:00:00.000000000",
          "2024-08-01T00:00:00.000000000",
          "2024-09-01T00:00:00.000000000",
          "2024-10-01T00:00:00.000000000",
          "2024-11-01T00:00:00.000000000",
          "2024-12-01T00:00:00.000000000"
         ],
         "y": {
          "bdata": "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",
          "dtype": "f8"
         }
        }
       ],
       "layout": {
        "height": 600,
        "legend": {
         "bgcolor": "rgba(255,255,255,0.8)",
         "x": 0.01,
         "y": 0.99
        },
        "template": {
         "data": {
          "bar": [
           {
            "error_x": {
             "color": "#2a3f5f"
            },
            "error_y": {
             "color": "#2a3f5f"
            },
            "marker": {
             "line": {
              "color": "white",
              "width": 0.5
             },
             "pattern": {
              "fillmode": "overlay",
              "size": 10,
              "solidity": 0.2
             }
            },
            "type": "bar"
           }
          ],
          "barpolar": [
           {
            "marker": {
             "line": {
              "color": "white",
              "width": 0.5
             },
             "pattern": {
              "fillmode": "overlay",
              "size": 10,
              "solidity": 0.2
             }
            },
            "type": "barpolar"
           }
          ],
          "carpet": [
           {
            "aaxis": {
             "endlinecolor": "#2a3f5f",
             "gridcolor": "#C8D4E3",
             "linecolor": "#C8D4E3",
             "minorgridcolor": "#C8D4E3",
             "startlinecolor": "#2a3f5f"
            },
            "baxis": {
             "endlinecolor": "#2a3f5f",
             "gridcolor": "#C8D4E3",
             "linecolor": "#C8D4E3",
             "minorgridcolor": "#C8D4E3",
             "startlinecolor": "#2a3f5f"
            },
            "type": "carpet"
           }
          ],
          "choropleth": [
           {
            "colorbar": {
             "outlinewidth": 0,
             "ticks": ""
            },
            "type": "choropleth"
           }
          ],
          "contour": [
           {
            "colorbar": {
             "outlinewidth": 0,
             "ticks": ""
            },
            "colorscale": [
             [
              0,
              "#0d0887"
             ],
             [
              0.1111111111111111,
              "#46039f"
             ],
             [
              0.2222222222222222,
              "#7201a8"
             ],
             [
              0.3333333333333333,
              "#9c179e"
             ],
             [
              0.4444444444444444,
              "#bd3786"
             ],
             [
              0.5555555555555556,
              "#d8576b"
             ],
             [
              0.6666666666666666,
              "#ed7953"
             ],
             [
              0.7777777777777778,
              "#fb9f3a"
             ],
             [
              0.8888888888888888,
              "#fdca26"
             ],
             [
              1,
              "#f0f921"
             ]
            ],
            "type": "contour"
           }
          ],
          "contourcarpet": [
           {
            "colorbar": {
             "outlinewidth": 0,
             "ticks": ""
            },
            "type": "contourcarpet"
           }
          ],
          "heatmap": [
           {
            "colorbar": {
             "outlinewidth": 0,
             "ticks": ""
            },
            "colorscale": [
             [
              0,
              "#0d0887"
             ],
             [
              0.1111111111111111,
              "#46039f"
             ],
             [
              0.2222222222222222,
              "#7201a8"
             ],
             [
              0.3333333333333333,
              "#9c179e"
             ],
             [
              0.4444444444444444,
              "#bd3786"
             ],
             [
              0.5555555555555556,
              "#d8576b"
             ],
             [
              0.6666666666666666,
              "#ed7953"
             ],
             [
              0.7777777777777778,
              "#fb9f3a"
             ],
             [
              0.8888888888888888,
              "#fdca26"
             ],
             [
              1,
              "#f0f921"
             ]
            ],
            "type": "heatmap"
           }
          ],
          "histogram": [
           {
            "marker": {
             "pattern": {
              "fillmode": "overlay",
              "size": 10,
              "solidity": 0.2
             }
            },
            "type": "histogram"
           }
          ],
          "histogram2d": [
           {
            "colorbar": {
             "outlinewidth": 0,
             "ticks": ""
            },
            "colorscale": [
             [
              0,
              "#0d0887"
             ],
             [
              0.1111111111111111,
              "#46039f"
             ],
             [
              0.2222222222222222,
              "#7201a8"
             ],
             [
              0.3333333333333333,
              "#9c179e"
             ],
             [
              0.4444444444444444,
              "#bd3786"
             ],
             [
              0.5555555555555556,
              "#d8576b"
             ],
             [
              0.6666666666666666,
              "#ed7953"
             ],
             [
              0.7777777777777778,
              "#fb9f3a"
             ],
             [
              0.8888888888888888,
              "#fdca26"
             ],
             [
              1,
              "#f0f921"
             ]
            ],
            "type": "histogram2d"
           }
          ],
          "histogram2dcontour": [
           {
            "colorbar": {
             "outlinewidth": 0,
             "ticks": ""
            },
            "colorscale": [
             [
              0,
              "#0d0887"
             ],
             [
              0.1111111111111111,
              "#46039f"
             ],
             [
              0.2222222222222222,
              "#7201a8"
             ],
             [
              0.3333333333333333,
              "#9c179e"
             ],
             [
              0.4444444444444444,
              "#bd3786"
             ],
             [
              0.5555555555555556,
              "#d8576b"
             ],
             [
              0.6666666666666666,
              "#ed7953"
             ],
             [
              0.7777777777777778,
              "#fb9f3a"
             ],
             [
              0.8888888888888888,
              "#fdca26"
             ],
             [
              1,
              "#f0f921"
             ]
            ],
            "type": "histogram2dcontour"
           }
          ],
          "mesh3d": [
           {
            "colorbar": {
             "outlinewidth": 0,
             "ticks": ""
            },
            "type": "mesh3d"
           }
          ],
          "parcoords": [
           {
            "line": {
             "colorbar": {
              "outlinewidth": 0,
              "ticks": ""
             }
            },
            "type": "parcoords"
           }
          ],
          "pie": [
           {
            "automargin": true,
            "type": "pie"
           }
          ],
          "scatter": [
           {
            "fillpattern": {
             "fillmode": "overlay",
             "size": 10,
             "solidity": 0.2
            },
            "type": "scatter"
           }
          ],
          "scatter3d": [
           {
            "line": {
             "colorbar": {
              "outlinewidth": 0,
              "ticks": ""
             }
            },
            "marker": {
             "colorbar": {
              "outlinewidth": 0,
              "ticks": ""
             }
            },
            "type": "scatter3d"
           }
          ],
          "scattercarpet": [
           {
            "marker": {
             "colorbar": {
              "outlinewidth": 0,
              "ticks": ""
             }
            },
            "type": "scattercarpet"
           }
          ],
          "scattergeo": [
           {
            "marker": {
             "colorbar": {
              "outlinewidth": 0,
              "ticks": ""
             }
            },
            "type": "scattergeo"
           }
          ],
          "scattergl": [
           {
            "marker": {
             "colorbar": {
              "outlinewidth": 0,
              "ticks": ""
             }
            },
            "type": "scattergl"
           }
          ],
          "scattermap": [
           {
            "marker": {
             "colorbar": {
              "outlinewidth": 0,
              "ticks": ""
             }
            },
            "type": "scattermap"
           }
          ],
          "scattermapbox": [
           {
            "marker": {
             "colorbar": {
              "outlinewidth": 0,
              "ticks": ""
             }
            },
            "type": "scattermapbox"
           }
          ],
          "scatterpolar": [
           {
            "marker": {
             "colorbar": {
              "outlinewidth": 0,
              "ticks": ""
             }
            },
            "type": "scatterpolar"
           }
          ],
          "scatterpolargl": [
           {
            "marker": {
             "colorbar": {
              "outlinewidth": 0,
              "ticks": ""
             }
            },
            "type": "scatterpolargl"
           }
          ],
          "scatterternary": [
           {
            "marker": {
             "colorbar": {
              "outlinewidth": 0,
              "ticks": ""
             }
            },
            "type": "scatterternary"
           }
          ],
          "surface": [
           {
            "colorbar": {
             "outlinewidth": 0,
             "ticks": ""
            },
            "colorscale": [
             [
              0,
              "#0d0887"
             ],
             [
              0.1111111111111111,
              "#46039f"
             ],
             [
              0.2222222222222222,
              "#7201a8"
             ],
             [
              0.3333333333333333,
              "#9c179e"
             ],
             [
              0.4444444444444444,
              "#bd3786"
             ],
             [
              0.5555555555555556,
              "#d8576b"
             ],
             [
              0.6666666666666666,
              "#ed7953"
             ],
             [
              0.7777777777777778,
              "#fb9f3a"
             ],
             [
              0.8888888888888888,
              "#fdca26"
             ],
             [
              1,
              "#f0f921"
             ]
            ],
            "type": "surface"
           }
          ],
          "table": [
           {
            "cells": {
             "fill": {
              "color": "#EBF0F8"
             },
             "line": {
              "color": "white"
             }
            },
            "header": {
             "fill": {
              "color": "#C8D4E3"
             },
             "line": {
              "color": "white"
             }
            },
            "type": "table"
           }
          ]
         },
         "layout": {
          "annotationdefaults": {
           "arrowcolor": "#2a3f5f",
           "arrowhead": 0,
           "arrowwidth": 1
          },
          "autotypenumbers": "strict",
          "coloraxis": {
           "colorbar": {
            "outlinewidth": 0,
            "ticks": ""
           }
          },
          "colorscale": {
           "diverging": [
            [
             0,
             "#8e0152"
            ],
            [
             0.1,
             "#c51b7d"
            ],
            [
             0.2,
             "#de77ae"
            ],
            [
             0.3,
             "#f1b6da"
            ],
            [
             0.4,
             "#fde0ef"
            ],
            [
             0.5,
             "#f7f7f7"
            ],
            [
             0.6,
             "#e6f5d0"
            ],
            [
             0.7,
             "#b8e186"
            ],
            [
             0.8,
             "#7fbc41"
            ],
            [
             0.9,
             "#4d9221"
            ],
            [
             1,
             "#276419"
            ]
           ],
           "sequential": [
            [
             0,
             "#0d0887"
            ],
            [
             0.1111111111111111,
             "#46039f"
            ],
            [
             0.2222222222222222,
             "#7201a8"
            ],
            [
             0.3333333333333333,
             "#9c179e"
            ],
            [
             0.4444444444444444,
             "#bd3786"
            ],
            [
             0.5555555555555556,
             "#d8576b"
            ],
            [
             0.6666666666666666,
             "#ed7953"
            ],
            [
             0.7777777777777778,
             "#fb9f3a"
            ],
            [
             0.8888888888888888,
             "#fdca26"
            ],
            [
             1,
             "#f0f921"
            ]
           ],
           "sequentialminus": [
            [
             0,
             "#0d0887"
            ],
            [
             0.1111111111111111,
             "#46039f"
            ],
            [
             0.2222222222222222,
             "#7201a8"
            ],
            [
             0.3333333333333333,
             "#9c179e"
            ],
            [
             0.4444444444444444,
             "#bd3786"
            ],
            [
             0.5555555555555556,
             "#d8576b"
            ],
            [
             0.6666666666666666,
             "#ed7953"
            ],
            [
             0.7777777777777778,
             "#fb9f3a"
            ],
            [
             0.8888888888888888,
             "#fdca26"
            ],
            [
             1,
             "#f0f921"
            ]
           ]
          },
          "colorway": [
           "#636efa",
           "#EF553B",
           "#00cc96",
           "#ab63fa",
           "#FFA15A",
           "#19d3f3",
           "#FF6692",
           "#B6E880",
           "#FF97FF",
           "#FECB52"
          ],
          "font": {
           "color": "#2a3f5f"
          },
          "geo": {
           "bgcolor": "white",
           "lakecolor": "white",
           "landcolor": "white",
           "showlakes": true,
           "showland": true,
           "subunitcolor": "#C8D4E3"
          },
          "hoverlabel": {
           "align": "left"
          },
          "hovermode": "closest",
          "mapbox": {
           "style": "light"
          },
          "paper_bgcolor": "white",
          "plot_bgcolor": "white",
          "polar": {
           "angularaxis": {
            "gridcolor": "#EBF0F8",
            "linecolor": "#EBF0F8",
            "ticks": ""
           },
           "bgcolor": "white",
           "radialaxis": {
            "gridcolor": "#EBF0F8",
            "linecolor": "#EBF0F8",
            "ticks": ""
           }
          },
          "scene": {
           "xaxis": {
            "backgroundcolor": "white",
            "gridcolor": "#DFE8F3",
            "gridwidth": 2,
            "linecolor": "#EBF0F8",
            "showbackground": true,
            "ticks": "",
            "zerolinecolor": "#EBF0F8"
           },
           "yaxis": {
            "backgroundcolor": "white",
            "gridcolor": "#DFE8F3",
            "gridwidth": 2,
            "linecolor": "#EBF0F8",
            "showbackground": true,
            "ticks": "",
            "zerolinecolor": "#EBF0F8"
           },
           "zaxis": {
            "backgroundcolor": "white",
            "gridcolor": "#DFE8F3",
            "gridwidth": 2,
            "linecolor": "#EBF0F8",
            "showbackground": true,
            "ticks": "",
            "zerolinecolor": "#EBF0F8"
           }
          },
          "shapedefaults": {
           "line": {
            "color": "#2a3f5f"
           }
          },
          "ternary": {
           "aaxis": {
            "gridcolor": "#DFE8F3",
            "linecolor": "#A2B1C6",
            "ticks": ""
           },
           "baxis": {
            "gridcolor": "#DFE8F3",
            "linecolor": "#A2B1C6",
            "ticks": ""
           },
           "bgcolor": "white",
           "caxis": {
            "gridcolor": "#DFE8F3",
            "linecolor": "#A2B1C6",
            "ticks": ""
           }
          },
          "title": {
           "x": 0.05
          },
          "xaxis": {
           "automargin": true,
           "gridcolor": "#EBF0F8",
           "linecolor": "#EBF0F8",
           "ticks": "",
           "title": {
            "standoff": 15
           },
           "zerolinecolor": "#EBF0F8",
           "zerolinewidth": 2
          },
          "yaxis": {
           "automargin": true,
           "gridcolor": "#EBF0F8",
           "linecolor": "#EBF0F8",
           "ticks": "",
           "title": {
            "standoff": 15
           },
           "zerolinecolor": "#EBF0F8",
           "zerolinewidth": 2
          }
         }
        },
        "title": {
         "text": "U.S. Gasoline Consumption vs Price (Nominal, 1993-2024)"
        },
        "xaxis": {
         "title": {
          "text": "Year"
         }
        },
        "yaxis": {
         "tickfont": {
          "color": "steelblue"
         },
         "title": {
          "font": {
           "color": "steelblue"
          },
          "text": "Gasoline Consumption (Millions of Gallons)"
         }
        },
        "yaxis2": {
         "overlaying": "y",
         "side": "right",
         "tickfont": {
          "color": "firebrick"
         },
         "title": {
          "font": {
           "color": "firebrick"
          },
          "text": "Gasoline Price (USD per Gallon)"
         }
        }
       }
      }
     },
     "metadata": {},
     "output_type": "display_data"
    }
   ],
   "source": [
    "''' Create dual-axis line plot for consumption and price '''\n",
    "\n",
    "# Create figure with secondary y-axis\n",
    "fig.update_layout(\n",
    "    title=\"U.S. Gasoline Consumption vs Price (Nominal, 1993-2024)\",\n",
    "    xaxis=dict(title=\"Year\"),\n",
    "    yaxis=dict(\n",
    "        title=dict(\n",
    "            text=\"Gasoline Consumption (Millions of Gallons)\",\n",
    "            font=dict(color=\"steelblue\")\n",
    "        ),\n",
    "        tickfont=dict(color=\"steelblue\")\n",
    "    ),\n",
    "    yaxis2=dict(\n",
    "        title=dict(\n",
    "            text=\"Gasoline Price (USD per Gallon)\",\n",
    "            font=dict(color=\"firebrick\")\n",
    "        ),\n",
    "        tickfont=dict(color=\"firebrick\"),\n",
    "        overlaying=\"y\",\n",
    "        side=\"right\"\n",
    "    ),\n",
    "    template=\"plotly_white\",\n",
    "    legend=dict(x=0.01, y=0.99, bgcolor=\"rgba(255,255,255,0.8)\"),\n",
    "    title_x=0.5,\n",
    "    height=600\n",
    ")"
   ]
  },
  {
   "cell_type": "markdown",
   "id": "2807fdd7",
   "metadata": {},
   "source": [
    "if using the extra data, efficiency go up over time which could mean increased destination but reduced or constant consumption"
   ]
  }
 ],
 "metadata": {
  "kernelspec": {
   "display_name": "py38",
   "language": "python",
   "name": "python3"
  },
  "language_info": {
   "codemirror_mode": {
    "name": "ipython",
    "version": 3
   },
   "file_extension": ".py",
   "mimetype": "text/x-python",
   "name": "python",
   "nbconvert_exporter": "python",
   "pygments_lexer": "ipython3",
   "version": "3.12.4"
  }
 },
 "nbformat": 4,
 "nbformat_minor": 5
}
